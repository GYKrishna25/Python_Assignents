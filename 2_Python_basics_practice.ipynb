{
  "nbformat": 4,
  "nbformat_minor": 0,
  "metadata": {
    "colab": {
      "provenance": [],
      "toc_visible": true
    },
    "kernelspec": {
      "name": "python3",
      "display_name": "Python 3"
    },
    "language_info": {
      "name": "python"
    }
  },
  "cells": [
    {
      "cell_type": "markdown",
      "source": [
        "# String Based Assignment Problem"
      ],
      "metadata": {
        "id": "R3vrQ3ucwo7u"
      }
    },
    {
      "cell_type": "markdown",
      "source": [
        "1. Write a program to reverse a string."
      ],
      "metadata": {
        "id": "QKl2wc1dwvKl"
      }
    },
    {
      "cell_type": "code",
      "execution_count": null,
      "metadata": {
        "colab": {
          "base_uri": "https://localhost:8080/"
        },
        "id": "yK2KFIXPuzm3",
        "outputId": "babba538-288c-4cca-c431-464169ce5b00"
      },
      "outputs": [
        {
          "output_type": "stream",
          "name": "stdout",
          "text": [
            "Enter a string: Krishna\n",
            "The reversed string is: anhsirK\n"
          ]
        }
      ],
      "source": [
        "# Take a string as input from the user\n",
        "user_input = input(\"Enter a string: \")\n",
        "\n",
        "# Reverse the string using string slicing\n",
        "reversed_string = user_input[::-1]\n",
        "\n",
        "# Print the reversed string\n",
        "print(f\"The reversed string is: {reversed_string}\")"
      ]
    },
    {
      "cell_type": "markdown",
      "source": [
        "2. Check if a string is a palindrome."
      ],
      "metadata": {
        "id": "NEbSB6PBxPFs"
      }
    },
    {
      "cell_type": "code",
      "source": [
        "def is_palindrome(string):\n",
        "    # Convert the string to lowercase to make the check case insensitive\n",
        "    string = string.lower()\n",
        "    # Reverse the string and compare it with the original\n",
        "    rev_string = string[::-1]\n",
        "    return string == rev_string\n",
        "\n",
        "# Take a string as input from the user\n",
        "user_input = input(\"Enter a string: \")\n",
        "\n",
        "# Check if the input string is a palindrome\n",
        "if is_palindrome(user_input):\n",
        "    print(\"The entered string is a palindrome.\")\n",
        "else:\n",
        "    print(\"The entered string is not a palindrome.\")\n"
      ],
      "metadata": {
        "colab": {
          "base_uri": "https://localhost:8080/"
        },
        "id": "a6vTNnf2xHkq",
        "outputId": "b2e48a3e-b523-49c3-b3a6-a6b1ca4f7dcb"
      },
      "execution_count": null,
      "outputs": [
        {
          "output_type": "stream",
          "name": "stdout",
          "text": [
            "Enter a string: MooooOOM\n",
            "The entered string is a palindrome.\n"
          ]
        }
      ]
    },
    {
      "cell_type": "markdown",
      "source": [
        "3. Convert a string to uppercase."
      ],
      "metadata": {
        "id": "w_dIVr_Ax3P5"
      }
    },
    {
      "cell_type": "code",
      "source": [
        "# Take a string as input from the user\n",
        "user_input = input(\"Enter a string: \")\n",
        "\n",
        "# Convert the string to uppercase\n",
        "uppercase_string = user_input.upper()\n",
        "\n",
        "# Print the converted string\n",
        "print(f\"The string in uppercase is: {uppercase_string}\")\n"
      ],
      "metadata": {
        "colab": {
          "base_uri": "https://localhost:8080/"
        },
        "id": "YqK59R1Hxtoh",
        "outputId": "7577c208-501a-40c7-c836-a0d32d6485c3"
      },
      "execution_count": null,
      "outputs": [
        {
          "output_type": "stream",
          "name": "stdout",
          "text": [
            "Enter a string: krishna\n",
            "The string in uppercase is: KRISHNA\n"
          ]
        }
      ]
    },
    {
      "cell_type": "markdown",
      "source": [
        "4. Convert a string to lowercase."
      ],
      "metadata": {
        "id": "GrvX_iOayTT3"
      }
    },
    {
      "cell_type": "code",
      "source": [
        "# Take a string as input from the user\n",
        "user_input = input(\"Enter a string: \")\n",
        "\n",
        "# Convert the string to lowercase\n",
        "lowercase_string = user_input.lower()\n",
        "\n",
        "# Print the converted string\n",
        "print(f\"The string in lowercase is: {lowercase_string}\")\n"
      ],
      "metadata": {
        "colab": {
          "base_uri": "https://localhost:8080/"
        },
        "id": "J2LKXo_jyNgs",
        "outputId": "fe0657aa-1abc-49c3-8656-db8fb67b7f32"
      },
      "execution_count": null,
      "outputs": [
        {
          "output_type": "stream",
          "name": "stdout",
          "text": [
            "Enter a string: KRISHNA\n",
            "The string in lowercase is: krishna\n"
          ]
        }
      ]
    },
    {
      "cell_type": "markdown",
      "source": [
        "5. Count the number of vowels in a string."
      ],
      "metadata": {
        "id": "g41CGIway0iQ"
      }
    },
    {
      "cell_type": "code",
      "source": [
        "def count_vowels(string):\n",
        "    vowels = \"aeiouAEIOU\"\n",
        "    count = 0\n",
        "    for char in string:\n",
        "        if char in vowels:\n",
        "            count += 1\n",
        "    return count\n",
        "\n",
        "# Take a string as input from the user\n",
        "user_input = input(\"Enter a string: \")\n",
        "\n",
        "# Count the number of vowels in the input string\n",
        "vowel_count = count_vowels(user_input)\n",
        "\n",
        "# Print the number of vowels\n",
        "print(f\"The number of vowels in the entered string is: {vowel_count}\")\n"
      ],
      "metadata": {
        "colab": {
          "base_uri": "https://localhost:8080/"
        },
        "id": "Rsm5pZVyydfU",
        "outputId": "f3966ab2-4c3f-4320-e92b-24dc8db7b30a"
      },
      "execution_count": null,
      "outputs": [
        {
          "output_type": "stream",
          "name": "stdout",
          "text": [
            "Enter a string: Krishna is good Boy\n",
            "The number of vowels in the entered string is: 6\n"
          ]
        }
      ]
    },
    {
      "cell_type": "markdown",
      "source": [
        "6. Count the number of consonants in a string."
      ],
      "metadata": {
        "id": "UUSi-srOzKat"
      }
    },
    {
      "cell_type": "code",
      "source": [
        "def count_consonants(string):\n",
        "    vowels = \"aeiouAEIOU\"\n",
        "    consonant_count = 0\n",
        "    for char in string:\n",
        "        if char not in vowels:\n",
        "            consonant_count += 1\n",
        "    return consonant_count\n",
        "\n",
        "# Take a string as input from the user\n",
        "user_input = input(\"Enter a string: \")\n",
        "\n",
        "# Count the number of consonants in the input string\n",
        "consonant_count = count_consonants(user_input)\n",
        "\n",
        "# Print the number of consonants\n",
        "print(f\"The number of consonants in the entered string is: {consonant_count}\")\n"
      ],
      "metadata": {
        "colab": {
          "base_uri": "https://localhost:8080/"
        },
        "id": "Q-vrG0-By3HT",
        "outputId": "9dfea2e3-cd0c-4989-fb08-d47b9e6bbd15"
      },
      "execution_count": null,
      "outputs": [
        {
          "output_type": "stream",
          "name": "stdout",
          "text": [
            "Enter a string: Krishna is good boy\n",
            "The number of consonants in the entered string is: 13\n"
          ]
        }
      ]
    },
    {
      "cell_type": "markdown",
      "source": [
        "7. Remove all whitespaces from a string."
      ],
      "metadata": {
        "id": "upAb6s-o1Kzk"
      }
    },
    {
      "cell_type": "code",
      "source": [
        "def remove_whitespace(string):\n",
        "    # Replace all whitespaces with an empty string\n",
        "    return string.replace(\" \", \"\").replace(\"\\t\", \"\").replace(\"\\n\", \"\")\n",
        "\n",
        "# Take a string as input from the user\n",
        "user_input = input(\"Enter a string: \")\n",
        "\n",
        "# Remove all whitespaces from the input string\n",
        "modified_string = remove_whitespace(user_input)\n",
        "\n",
        "# Print the modified string without whitespaces\n",
        "print(f\"The string without whitespaces is: {modified_string}\")"
      ],
      "metadata": {
        "colab": {
          "base_uri": "https://localhost:8080/"
        },
        "id": "0Cgw4xDfzx0t",
        "outputId": "6235a0ba-0d30-4ca1-b471-d2edc35fa6bf"
      },
      "execution_count": null,
      "outputs": [
        {
          "output_type": "stream",
          "name": "stdout",
          "text": [
            "Enter a string: Krishna is          good boy\n",
            "The string without whitespaces is: Krishnaisgoodboy\n"
          ]
        }
      ]
    },
    {
      "cell_type": "markdown",
      "source": [
        "8. Find the length of a string without using the `len()` function."
      ],
      "metadata": {
        "id": "K90CMKGW1mYe"
      }
    },
    {
      "cell_type": "code",
      "source": [
        "def string_length(string):\n",
        "    count = 0\n",
        "    for char in string:\n",
        "        count += 1\n",
        "    return count\n",
        "\n",
        "# Take a string as input from the user\n",
        "user_input = input(\"Enter a string: \")\n",
        "\n",
        "# Find the length of the string without using len()\n",
        "length = string_length(user_input)\n",
        "\n",
        "# Print the length of the string\n",
        "print(f\"The length of the string is: {length}\")"
      ],
      "metadata": {
        "colab": {
          "base_uri": "https://localhost:8080/"
        },
        "id": "nWoCkhrw0xAD",
        "outputId": "52c28e28-a21e-480a-b3d2-1d1d9f3f0df5"
      },
      "execution_count": null,
      "outputs": [
        {
          "output_type": "stream",
          "name": "stdout",
          "text": [
            "Enter a string: Krishna\n",
            "The length of the string is: 7\n"
          ]
        }
      ]
    },
    {
      "cell_type": "markdown",
      "source": [
        "9. Check if a string contains a specific word."
      ],
      "metadata": {
        "id": "9Cdnilk92ZQD"
      }
    },
    {
      "cell_type": "code",
      "source": [
        "def contains_word(string, word):\n",
        "    # Split the string into words\n",
        "    words = string.split()\n",
        "    # Check if the word is in the list of words\n",
        "    return word in words\n",
        "\n",
        "# Take a string and a word as input from the user\n",
        "user_string = input(\"Enter a string: \")\n",
        "search_word = input(\"Enter the word to search for: \")\n",
        "\n",
        "# Check if the string contains the specified word\n",
        "if contains_word(user_string, search_word):\n",
        "    print(f\"The string contains the word '{search_word}'.\")\n",
        "else:\n",
        "    print(f\"The string does not contain the word '{search_word}'.\")\n"
      ],
      "metadata": {
        "colab": {
          "base_uri": "https://localhost:8080/"
        },
        "id": "vYO41blU2Qfa",
        "outputId": "d65905c1-4250-47eb-e7db-43ac02af8384"
      },
      "execution_count": null,
      "outputs": [
        {
          "output_type": "stream",
          "name": "stdout",
          "text": [
            "Enter a string: Krisha is Good Boy\n",
            "Enter the word to search for: good\n",
            "The string does not contain the word 'good'.\n"
          ]
        }
      ]
    },
    {
      "cell_type": "markdown",
      "source": [
        "10. Replace a word in a string with another word."
      ],
      "metadata": {
        "id": "_xQ0_9hG44LO"
      }
    },
    {
      "cell_type": "code",
      "source": [
        "def replace_word(string, old_word, new_word):\n",
        "    # Replace the old word with the new word\n",
        "    return string.replace(old_word, new_word)\n",
        "\n",
        "# Take a string and two words as input from the user\n",
        "user_string = input(\"Enter a string: \")\n",
        "old_word = input(\"Enter the word to replace: \")\n",
        "new_word = input(\"Enter the new word: \")\n",
        "\n",
        "# Replace the old word with the new word in the string\n",
        "modified_string = replace_word(user_string, old_word, new_word)\n",
        "\n",
        "# Print the modified string\n",
        "print(f\"The modified string is: {modified_string}\")"
      ],
      "metadata": {
        "colab": {
          "base_uri": "https://localhost:8080/"
        },
        "id": "cFGumQ8O4pcU",
        "outputId": "223606d5-375f-4764-80bb-3d5eba74659e"
      },
      "execution_count": null,
      "outputs": [
        {
          "output_type": "stream",
          "name": "stdout",
          "text": [
            "Enter a string: Krishna Kittu\n",
            "Enter the word to replace: Krishna\n",
            "Enter the new word: Krrish\n",
            "The modified string is: Krrish Kittu\n"
          ]
        }
      ]
    },
    {
      "cell_type": "markdown",
      "source": [
        "11. Count the occurrences of a word in a string."
      ],
      "metadata": {
        "id": "2SsdyC71-n-l"
      }
    },
    {
      "cell_type": "code",
      "source": [
        "def count_occurrences(string, word):\n",
        "    # Split the string into words\n",
        "    words = string.split()\n",
        "    # Initialize a count variable\n",
        "    count = 0\n",
        "    # Iterate through the words and count occurrences of the specified word\n",
        "    for w in words:\n",
        "        if w == word:\n",
        "            count += 1\n",
        "    return count\n",
        "\n",
        "# Take a string and a word as input from the user\n",
        "user_string = input(\"Enter a string: \")\n",
        "search_word = input(\"Enter the word to count occurrences for: \")\n",
        "\n",
        "# Count the occurrences of the specified word in the string\n",
        "occurrences = count_occurrences(user_string, search_word)\n",
        "\n",
        "# Print the number of occurrences\n",
        "print(f\"The word '{search_word}' occurs {occurrences} times in the string.\")"
      ],
      "metadata": {
        "colab": {
          "base_uri": "https://localhost:8080/"
        },
        "id": "RSaG1L9e-a_q",
        "outputId": "751cef12-6f0e-41d8-b628-80f08b19a32a"
      },
      "execution_count": null,
      "outputs": [
        {
          "output_type": "stream",
          "name": "stdout",
          "text": [
            "Enter a string: krishna is a good boy and smart boy\n",
            "Enter the word to count occurrences for: boy\n",
            "The word 'boy' occurs 2 times in the string.\n"
          ]
        }
      ]
    },
    {
      "cell_type": "markdown",
      "source": [
        "12. Find the first occurrence of a word in a string."
      ],
      "metadata": {
        "id": "j9XZSegACHuL"
      }
    },
    {
      "cell_type": "code",
      "source": [
        "# Take a string and a word as input from the user\n",
        "user_string = input(\"Enter a string: \")\n",
        "print(user_string[0])"
      ],
      "metadata": {
        "colab": {
          "base_uri": "https://localhost:8080/"
        },
        "id": "NLccH4gJzAHr",
        "outputId": "79ee2109-46a4-44fe-f3c6-e9ade3bb6818"
      },
      "execution_count": null,
      "outputs": [
        {
          "output_type": "stream",
          "name": "stdout",
          "text": [
            "Enter a string: krishna\n",
            "k\n"
          ]
        }
      ]
    },
    {
      "cell_type": "code",
      "source": [
        "def find_first_occurrence(string, word):\n",
        "    # Split the string into words\n",
        "    words = string.split()\n",
        "    # Iterate through the words and find the index of the first occurrence of the specified word\n",
        "    for i, w in enumerate(words):\n",
        "        if w == word:\n",
        "            return i\n",
        "\n",
        "# Take a string and a word as input from the user\n",
        "user_string = input(\"Enter a string: \")\n",
        "search_word = input(\"Enter the word to find the first occurrence for: \")\n",
        "\n",
        "# Find the index of the first occurrence of the specified word in the string\n",
        "first_occurrence_index = find_first_occurrence(user_string, search_word)\n",
        "\n",
        "# Print the index of the first occurrence\n",
        "if first_occurrence_index is not None:\n",
        "    print(f\"The word '{search_word}' first occurs at index '{first_occurrence_index}'\")\n",
        "else:\n",
        "    print(f\"The word '{search_word}' is not found in the string.\")\n"
      ],
      "metadata": {
        "colab": {
          "base_uri": "https://localhost:8080/"
        },
        "id": "CTh8UtR6Bc7Q",
        "outputId": "dacecbdd-9747-4380-953f-ded6d20577cf"
      },
      "execution_count": null,
      "outputs": [
        {
          "output_type": "stream",
          "name": "stdout",
          "text": [
            "Enter a string: is s is s is\n",
            "Enter the word to find the first occurrence for: is\n",
            "The word 'is' first occurs at index '0'\n"
          ]
        }
      ]
    },
    {
      "cell_type": "markdown",
      "source": [
        "13. Find the last occurrence of a word in a string."
      ],
      "metadata": {
        "id": "3vSBjygsbSUJ"
      }
    },
    {
      "cell_type": "code",
      "source": [
        "# Take a string and a word as input from the user\n",
        "user_string = input(\"Enter a string: \")\n",
        "print(user_string[-1])"
      ],
      "metadata": {
        "colab": {
          "base_uri": "https://localhost:8080/"
        },
        "id": "7mY9HF-_0hrR",
        "outputId": "dba8c20b-dcd4-4a78-b58b-d9285efd3cac"
      },
      "execution_count": null,
      "outputs": [
        {
          "output_type": "stream",
          "name": "stdout",
          "text": [
            "Enter a string: krishna\n",
            "a\n"
          ]
        }
      ]
    },
    {
      "cell_type": "code",
      "source": [
        "def find_last_occurrence(string, word):\n",
        "    # Split the string into words\n",
        "    words = string.split()\n",
        "    # Iterate through the words and find the index of the first occurrence of the specified word\n",
        "    return words.index(word, -1)\n",
        "\n",
        "# Take a string and a word as input from the user\n",
        "user_string = input(\"Enter a string: \")\n",
        "search_word = input(\"Enter the word to find the last occurrence for: \")\n",
        "\n",
        "# Find the index of the first occurrence of the specified word in the string\n",
        "last_occurrence_index = find_last_occurrence(user_string, search_word)\n",
        "\n",
        "# Print the index of the first occurrence\n",
        "if last_occurrence_index is not None:\n",
        "    print(f\"The word '{search_word}' last occurs at index '{last_occurrence_index}'\")\n",
        "else:\n",
        "    print(f\"The word '{search_word}' is not found in the string.\")"
      ],
      "metadata": {
        "id": "xJ11kGwebTUC",
        "colab": {
          "base_uri": "https://localhost:8080/"
        },
        "outputId": "31663a27-d69a-4e08-ee0d-d12d4abd4c51"
      },
      "execution_count": null,
      "outputs": [
        {
          "output_type": "stream",
          "name": "stdout",
          "text": [
            "Enter a string: i am good and smart boy\n",
            "Enter the word to find the last occurrence for: boy\n",
            "The word 'boy' last occurs at index '5'\n"
          ]
        }
      ]
    },
    {
      "cell_type": "markdown",
      "source": [
        "14. Split a string into a list of words."
      ],
      "metadata": {
        "id": "14dXD_NL09H4"
      }
    },
    {
      "cell_type": "code",
      "source": [
        "# Take a string as input from the user and spliting it\n",
        "user_string = input(\"Enter a string: \")\n",
        "print(user_string.split())"
      ],
      "metadata": {
        "colab": {
          "base_uri": "https://localhost:8080/"
        },
        "id": "Pm4o4pfS08ED",
        "outputId": "5701b54e-f008-41da-8493-e32c02285240"
      },
      "execution_count": null,
      "outputs": [
        {
          "output_type": "stream",
          "name": "stdout",
          "text": [
            "Enter a string: Krishna is good boy\n",
            "['Krishna', 'is', 'good', 'boy']\n"
          ]
        }
      ]
    },
    {
      "cell_type": "markdown",
      "source": [
        "15. Join a list of words into a string."
      ],
      "metadata": {
        "id": "f3c3gnwY1VC9"
      }
    },
    {
      "cell_type": "code",
      "source": [
        "def join_words(words):\n",
        "    # Join the list of words into a single string with spaces in between\n",
        "    return ' '.join(words)\n",
        "\n",
        "# Take a list of words as input from the user\n",
        "user_input = input(\"Enter a list of words separated by spaces: \")\n",
        "\n",
        "# Split the input string into a list of words\n",
        "word_list = user_input.split()\n",
        "\n",
        "# Join the list of words into a single string\n",
        "joined_string = join_words(word_list)\n",
        "\n",
        "# Print the joined string\n",
        "print(f\"The joined string is: '{joined_string}'\")\n"
      ],
      "metadata": {
        "colab": {
          "base_uri": "https://localhost:8080/"
        },
        "id": "7_LOk4tJ1MTj",
        "outputId": "b4f11ec3-1ecf-4891-9235-b35f3ceb2c11"
      },
      "execution_count": null,
      "outputs": [
        {
          "output_type": "stream",
          "name": "stdout",
          "text": [
            "Enter a list of words separated by spaces: Krishna is good boy\n",
            "The joined string is: 'Krishna is good boy'\n"
          ]
        }
      ]
    },
    {
      "cell_type": "markdown",
      "source": [
        "16. Convert a string where words are separated by spaces to one where words are separated by underscores."
      ],
      "metadata": {
        "id": "ufPkQumt4Zld"
      }
    },
    {
      "cell_type": "code",
      "source": [
        "def convert_spaces_to_underscores(string):\n",
        "    # Replace spaces with underscores\n",
        "    return string.replace(' ', '_')\n",
        "\n",
        "# Take a string as input from the user\n",
        "user_string = input(\"Enter a string: \")\n",
        "\n",
        "# Convert spaces to underscores in the string\n",
        "modified_string = convert_spaces_to_underscores(user_string)\n",
        "\n",
        "# Print the modified string\n",
        "print(f\"The modified string is: {modified_string}\")\n"
      ],
      "metadata": {
        "colab": {
          "base_uri": "https://localhost:8080/"
        },
        "id": "0wJuJSnW4XXn",
        "outputId": "25a51276-be38-4307-9314-1093d9fbc45f"
      },
      "execution_count": null,
      "outputs": [
        {
          "output_type": "stream",
          "name": "stdout",
          "text": [
            "Enter a string: Krishna is good boy\n",
            "The modified string is: Krishna_is_good_boy\n"
          ]
        }
      ]
    },
    {
      "cell_type": "markdown",
      "source": [
        "17. Check if a string starts with a specific word or phrase."
      ],
      "metadata": {
        "id": "6MhNQC-t5NvQ"
      }
    },
    {
      "cell_type": "code",
      "source": [
        "def starts_with(string, phrase):\n",
        "    # Check if the string starts with the specified phrase\n",
        "    return string.startswith(phrase)\n",
        "\n",
        "# Take a string and a phrase as input from the user\n",
        "user_string = input(\"Enter a string: \")\n",
        "search_phrase = input(\"Enter the word or phrase to check: \")\n",
        "\n",
        "# Check if the string starts with the specified phrase\n",
        "if starts_with(user_string, search_phrase):\n",
        "    print(f\"The string starts with '{search_phrase}'.\")\n",
        "else:\n",
        "    print(f\"The string does not start with '{search_phrase}'.\")\n"
      ],
      "metadata": {
        "colab": {
          "base_uri": "https://localhost:8080/"
        },
        "id": "mvgB9fC15RwO",
        "outputId": "97979618-985d-46f2-c5de-4ca4c5cb2470"
      },
      "execution_count": null,
      "outputs": [
        {
          "output_type": "stream",
          "name": "stdout",
          "text": [
            "Enter a string: kri\n",
            "Enter the word or phrase to check: k\n",
            "The string starts with 'k'.\n"
          ]
        }
      ]
    },
    {
      "cell_type": "markdown",
      "source": [
        "18. Check if a string ends with a specific word or phrase."
      ],
      "metadata": {
        "id": "7jIlI00D6YcW"
      }
    },
    {
      "cell_type": "code",
      "source": [
        "def ends_with(string, phrase):\n",
        "    # Check if the string ends with the specified phrase\n",
        "    return string.endswith(phrase)\n",
        "\n",
        "# Take a string and a phrase as input from the user\n",
        "user_string = input(\"Enter a string: \")\n",
        "search_phrase = input(\"Enter the word or phrase to check: \")\n",
        "\n",
        "# Check if the string ends with the specified phrase\n",
        "if ends_with(user_string, search_phrase):\n",
        "    print(f\"The string ends with '{search_phrase}'.\")\n",
        "else:\n",
        "    print(f\"The string does not end with '{search_phrase}'.\")\n"
      ],
      "metadata": {
        "colab": {
          "base_uri": "https://localhost:8080/"
        },
        "id": "mXHv9r0G5pLo",
        "outputId": "902e800c-7e29-4091-f9fa-14b1ec52f603"
      },
      "execution_count": null,
      "outputs": [
        {
          "output_type": "stream",
          "name": "stdout",
          "text": [
            "Enter a string: krishna\n",
            "Enter the word or phrase to check: a\n",
            "The string ends with 'a'.\n"
          ]
        }
      ]
    },
    {
      "cell_type": "markdown",
      "source": [
        "19. Convert a string to title case (e.g., \"hello world\" to \"Hello World\")."
      ],
      "metadata": {
        "id": "SpG2DIgK6x6F"
      }
    },
    {
      "cell_type": "code",
      "source": [
        "# Take a string and a phrase as input from the user\n",
        "user_string = input(\"Enter a string: \")\n",
        "\n",
        "#converting input into title case\n",
        "print(user_string.title())"
      ],
      "metadata": {
        "colab": {
          "base_uri": "https://localhost:8080/"
        },
        "id": "oPNQpOEX5xgr",
        "outputId": "19be3489-3cc9-4291-f4fc-ff0251bd52f6"
      },
      "execution_count": null,
      "outputs": [
        {
          "output_type": "stream",
          "name": "stdout",
          "text": [
            "Enter a string: krishna is good boy\n",
            "Krishna Is Good Boy\n"
          ]
        }
      ]
    },
    {
      "cell_type": "markdown",
      "source": [
        "20. Find the longest word in a string."
      ],
      "metadata": {
        "id": "aAbaZPAA7BUP"
      }
    },
    {
      "cell_type": "code",
      "source": [
        "def find_largest_word(string):\n",
        "  #split the string\n",
        "  words = string.split()\n",
        "\n",
        "  # checking whether string is empty or not\n",
        "  if not words:\n",
        "    return \"\"\n",
        "\n",
        "  # checking the largest word when string not empty\n",
        "  largest_word = words[0]\n",
        "  for word in words:\n",
        "    if len(word) > len(largest_word):\n",
        "      largest_word = word\n",
        "  return largest_word\n",
        "\n",
        "# Take a string and a phrase as input from the user\n",
        "user_string = input(\"Enter a string: \")\n",
        "\n",
        "# call the function and storing in the varibale\n",
        "largest_word = find_largest_word(user_string)\n",
        "\n",
        "# printing the largest word\n",
        "print(f'The largest word in the string is : {largest_word}')"
      ],
      "metadata": {
        "colab": {
          "base_uri": "https://localhost:8080/"
        },
        "id": "2j-m904q5zkG",
        "outputId": "fb35e82c-1f53-4084-d6f1-a260c121598d"
      },
      "execution_count": null,
      "outputs": [
        {
          "output_type": "stream",
          "name": "stdout",
          "text": [
            "Enter a string: Krishna is good boy\n",
            "The largest word in the string is : Krishna\n"
          ]
        }
      ]
    },
    {
      "cell_type": "markdown",
      "source": [
        "21. Find the shortest word in a string."
      ],
      "metadata": {
        "id": "Zwzax41rRKKU"
      }
    },
    {
      "cell_type": "code",
      "source": [
        "def find_shortest_word(string):\n",
        "    # Split the string into words\n",
        "    words = string.split()\n",
        "    # Initialize the shortest word as the first word in the list\n",
        "    if not words:\n",
        "        return \"\"\n",
        "    shortest_word = words[0]\n",
        "    # Iterate through the words to find the shortest one\n",
        "    for word in words:\n",
        "        if len(word) < len(shortest_word):\n",
        "            shortest_word = word\n",
        "    return shortest_word\n",
        "\n",
        "# Take a string as input from the user\n",
        "user_string = input(\"Enter a string: \")\n",
        "\n",
        "# Find the shortest word in the string\n",
        "shortest_word = find_shortest_word(user_string)\n",
        "\n",
        "# Print the shortest word\n",
        "print(f\"The shortest word is: '{shortest_word}'\")\n"
      ],
      "metadata": {
        "colab": {
          "base_uri": "https://localhost:8080/"
        },
        "id": "nGumF-fN7Hyj",
        "outputId": "1032aa2f-eaf8-4467-aaa1-a13611e3a959"
      },
      "execution_count": null,
      "outputs": [
        {
          "output_type": "stream",
          "name": "stdout",
          "text": [
            "Enter a string: krishna is boy\n",
            "The shortest word is: 'is'\n"
          ]
        }
      ]
    },
    {
      "cell_type": "markdown",
      "source": [
        "22. Reverse the order of words in a string."
      ],
      "metadata": {
        "id": "CxYusBLa6xsq"
      }
    },
    {
      "cell_type": "code",
      "source": [
        "# Take a string as input from the user\n",
        "user_string = input(\"Enter a string: \")\n",
        "\n",
        "# spliting the string and iterating through loop and reversing each word\n",
        "reversed_string = \"\"\n",
        "for word in user_string.split():\n",
        "  s = word[::-1]\n",
        "  reversed_string = reversed_string + s +\" \"\n",
        "\n",
        "# printing the reversed words in a given string)\n",
        "print(reversed_string.strip())"
      ],
      "metadata": {
        "colab": {
          "base_uri": "https://localhost:8080/"
        },
        "id": "5ey7HgXe6w5m",
        "outputId": "e6a8b055-fd7e-404e-fdd2-910702032589"
      },
      "execution_count": null,
      "outputs": [
        {
          "output_type": "stream",
          "name": "stdout",
          "text": [
            "Enter a string: Krishna is good boy\n",
            "anhsirK si doog yob\n"
          ]
        }
      ]
    },
    {
      "cell_type": "markdown",
      "source": [
        "23. Check if a string is alphanumeric."
      ],
      "metadata": {
        "id": "6xR4UC5QAvq5"
      }
    },
    {
      "cell_type": "code",
      "source": [
        "def check_isalphanum(string):\n",
        "  return string.isalnum()\n",
        "\n",
        "# Take a string as input from the user\n",
        "user_string = input(\"Enter a string: \")\n",
        "\n",
        "#checking the input string contains letters and numbers\n",
        "if check_isalphanum(user_string):\n",
        "  print(\"The given string is alpha numeric\")\n",
        "else :\n",
        "  print(\"The given string not alpha numeric\")"
      ],
      "metadata": {
        "colab": {
          "base_uri": "https://localhost:8080/"
        },
        "id": "GFhEsIMpAub0",
        "outputId": "ad43d364-9924-4d88-d1de-658262645b8e"
      },
      "execution_count": null,
      "outputs": [
        {
          "output_type": "stream",
          "name": "stdout",
          "text": [
            "Enter a string: krishna123\n",
            "The given string is alpha numeric\n"
          ]
        }
      ]
    },
    {
      "cell_type": "markdown",
      "source": [
        "24. Extract all digits from a string."
      ],
      "metadata": {
        "id": "hWVEDL0oB1WD"
      }
    },
    {
      "cell_type": "code",
      "source": [
        "def extracting_digits(string):\n",
        "\n",
        "  if string.isalpha():\n",
        "    return string\n",
        "\n",
        "  digits = ''\n",
        "  #iterating string\n",
        "  for i in string:\n",
        "    #checking if the current char is digit or not\n",
        "    if i.isdigit():\n",
        "      digits += i\n",
        "\n",
        "  return digits\n",
        "\n",
        "# Take a string as input from the user\n",
        "user_string = input(\"Enter a string: \")\n",
        "\n",
        "# extracting digits\n",
        "extract_digit = extracting_digits(user_string)\n",
        "\n",
        "if extract_digit.isdigit():\n",
        "  print(f'These are digits extracted from the given string :{extract_digit}')\n",
        "else:\n",
        "  print(f\"this string does not contains digits : {extract_digit}\")\n"
      ],
      "metadata": {
        "colab": {
          "base_uri": "https://localhost:8080/"
        },
        "id": "swN-3l_Q7z5w",
        "outputId": "441e0106-deae-45ce-9fdd-b87c6117a580"
      },
      "execution_count": null,
      "outputs": [
        {
          "output_type": "stream",
          "name": "stdout",
          "text": [
            "Enter a string: krishna\n",
            "this string does not contains digits : krishna\n"
          ]
        }
      ]
    },
    {
      "cell_type": "markdown",
      "source": [
        "25. Extract all alphabets from a string."
      ],
      "metadata": {
        "id": "F3OM_BOLT00r"
      }
    },
    {
      "cell_type": "code",
      "source": [
        "def extracting_alphabets(string):\n",
        "\n",
        "  alphabets = ''\n",
        "  #iterating string\n",
        "  for i in string:\n",
        "    #checking if the current char is digit or not\n",
        "    if i.isalpha():\n",
        "      alphabets += i\n",
        "  return alphabets\n",
        "\n",
        "# Take a string as input from the user\n",
        "user_string = input(\"Enter a string: \")\n",
        "\n",
        "# extracting digits\n",
        "extract_alphabets = extracting_alphabets(user_string)\n",
        "\n",
        "if extract_alphabets:\n",
        "  print(f'These are alphabets extracted from the given string :{extract_alphabets}')\n",
        "else:\n",
        "  print(f\"this string does not contains alphabets : {user_string}\")\n"
      ],
      "metadata": {
        "colab": {
          "base_uri": "https://localhost:8080/"
        },
        "id": "dOSWI-ytBDXI",
        "outputId": "62abc0af-2df4-466e-e86f-d6f9383eca06"
      },
      "execution_count": null,
      "outputs": [
        {
          "output_type": "stream",
          "name": "stdout",
          "text": [
            "Enter a string: krishna123\n",
            "These are alphabets extracted from the given string :krishna\n"
          ]
        }
      ]
    },
    {
      "cell_type": "markdown",
      "source": [
        "26. Count the number of uppercase letters in a string."
      ],
      "metadata": {
        "id": "3qp5u3ppZJiD"
      }
    },
    {
      "cell_type": "code",
      "source": [
        "def find_uppercase(string):\n",
        "  upper = 0\n",
        "  for letter in string:\n",
        "    if letter.isupper():\n",
        "      upper += 1\n",
        "  return upper\n",
        "\n",
        "\n",
        "# Take a string as input from the user\n",
        "user_string = input(\"Enter a string: \")\n",
        "\n",
        "# finding count of uppercase\n",
        "upper_case = find_uppercase(user_string)\n",
        "\n",
        "if upper_case:\n",
        "  print(f\"The string contains {upper_case} uppercase letters\")\n",
        "else:\n",
        "  print('given string does not contains uppercase')\n"
      ],
      "metadata": {
        "colab": {
          "base_uri": "https://localhost:8080/"
        },
        "id": "BYR7XBtRWEZ-",
        "outputId": "eb19966d-db3b-46f4-9897-34658fcd8771"
      },
      "execution_count": null,
      "outputs": [
        {
          "output_type": "stream",
          "name": "stdout",
          "text": [
            "Enter a string: KRISHNA kittu\n",
            "The string contains 7 uppercase letters\n"
          ]
        }
      ]
    },
    {
      "cell_type": "markdown",
      "source": [
        "27. Count the number of lowercase letters in a string."
      ],
      "metadata": {
        "id": "r5-5rc0ubOKb"
      }
    },
    {
      "cell_type": "code",
      "source": [
        "def find_lowercase(string):\n",
        "  lower = 0\n",
        "  for letter in string:\n",
        "    if letter.islower():\n",
        "      lower += 1\n",
        "  return lower\n",
        "\n",
        "\n",
        "# Take a string as input from the user\n",
        "user_string = input(\"Enter a string: \")\n",
        "\n",
        "# finding count of uppercase\n",
        "lower_case = find_lowercase(user_string)\n",
        "\n",
        "if lower_case:\n",
        "  print(f\"The string contains {lower_case} lowercase letters\")\n",
        "else:\n",
        "  print('given string does not contains uppercase')"
      ],
      "metadata": {
        "colab": {
          "base_uri": "https://localhost:8080/"
        },
        "id": "3Pn7etLObNou",
        "outputId": "f7f188ac-e0ba-418b-bba9-d0f21e930f99"
      },
      "execution_count": null,
      "outputs": [
        {
          "output_type": "stream",
          "name": "stdout",
          "text": [
            "Enter a string: Krishna\n",
            "The string contains 6 uppercase letters\n"
          ]
        }
      ]
    },
    {
      "cell_type": "markdown",
      "source": [
        "28. Swap the case of each character in a string."
      ],
      "metadata": {
        "id": "21pjACBhbnK0"
      }
    },
    {
      "cell_type": "code",
      "source": [
        "# Take a string as input from the user\n",
        "user_string = input(\"Enter a string: \")\n",
        "\n",
        "#swaping the string\n",
        "print(user_string.swapcase())"
      ],
      "metadata": {
        "colab": {
          "base_uri": "https://localhost:8080/"
        },
        "id": "NTJtY5vybp0-",
        "outputId": "b5b6ffd2-15bd-461a-e941-24e3c1b7f345"
      },
      "execution_count": null,
      "outputs": [
        {
          "output_type": "stream",
          "name": "stdout",
          "text": [
            "Enter a string: Krishna is good boy\n",
            "kRISHNA IS GOOD BOY\n"
          ]
        }
      ]
    },
    {
      "cell_type": "markdown",
      "source": [
        "29. Remove a specific word from a string."
      ],
      "metadata": {
        "id": "IEzT24lMm1ga"
      }
    },
    {
      "cell_type": "code",
      "source": [
        "# Take a string as input from the user\n",
        "user_string = input(\"Enter a string: \")\n",
        "word_remove = input(\"Enter a word you would like to remove: \")\n",
        "\n",
        "#removing specific word\n",
        "final_string = user_string.replace(word_remove, '')\n",
        "print(' '.join(final_string.split()))"
      ],
      "metadata": {
        "colab": {
          "base_uri": "https://localhost:8080/"
        },
        "id": "5tn25R4hmz-m",
        "outputId": "5f88c2f1-1adb-472b-d15a-44954058ca99"
      },
      "execution_count": null,
      "outputs": [
        {
          "output_type": "stream",
          "name": "stdout",
          "text": [
            "Enter a string: Krishna kittu is good boy\n",
            "Enter a word you would like to remove: kittu\n",
            "Krishna is good boy\n"
          ]
        }
      ]
    },
    {
      "cell_type": "markdown",
      "source": [
        "30. Check if a string is a valid email address."
      ],
      "metadata": {
        "id": "7VXv2BawptL7"
      }
    },
    {
      "cell_type": "code",
      "source": [
        "# Take a string as input from the user\n",
        "user_string = input(\"Enter you gmail: \")\n",
        "\n",
        "#checking email is valid or nor\n",
        "print(user_string.endswith(\"@gmail.com\"))"
      ],
      "metadata": {
        "colab": {
          "base_uri": "https://localhost:8080/"
        },
        "id": "7T6mmI8gpxvL",
        "outputId": "698e23da-41bb-48c6-aafc-2db1662b8a3a"
      },
      "execution_count": null,
      "outputs": [
        {
          "output_type": "stream",
          "name": "stdout",
          "text": [
            "Enter a string: krishna@gmail.com\n",
            "True\n"
          ]
        }
      ]
    },
    {
      "cell_type": "code",
      "source": [
        "string = \"krishna@gmail.com\"\n",
        "domain = [\"gmail\", \"yahoo\",\"email\"]\n",
        "for i in domain:\n",
        "  if string.endswith(f\"@{i}.com\"):\n",
        "    print(\"Valid\")\n",
        "    break\n",
        "  else:\n",
        "    print(\"not valid\")\n",
        "    break"
      ],
      "metadata": {
        "colab": {
          "base_uri": "https://localhost:8080/"
        },
        "id": "N0hHllHlqZTr",
        "outputId": "b6cdb6e9-6200-4411-fec9-2dd2de12c088"
      },
      "execution_count": null,
      "outputs": [
        {
          "output_type": "stream",
          "name": "stdout",
          "text": [
            "Valid\n",
            "completed\n"
          ]
        }
      ]
    },
    {
      "cell_type": "markdown",
      "source": [
        "31. Extract the username from an email address string."
      ],
      "metadata": {
        "id": "GPLp8PSctXnr"
      }
    },
    {
      "cell_type": "code",
      "source": [
        "# Take a string as input from the user\n",
        "user_string = input(\"Enter your gamil: \")\n",
        "\n",
        "#extracting username from gmail\n",
        "print(user_string.split(\"@\")[0])\n"
      ],
      "metadata": {
        "colab": {
          "base_uri": "https://localhost:8080/"
        },
        "id": "X2kdFRw5tSZV",
        "outputId": "29a1155b-5c9d-4410-8b86-70a19e6e6c02"
      },
      "execution_count": null,
      "outputs": [
        {
          "output_type": "stream",
          "name": "stdout",
          "text": [
            "Enter your gamil: Krishna@gmail.com\n",
            "Krishna\n"
          ]
        }
      ]
    },
    {
      "cell_type": "markdown",
      "source": [
        "32. Extract the domain name from an email address string."
      ],
      "metadata": {
        "id": "SJAwCbiWt9N3"
      }
    },
    {
      "cell_type": "code",
      "source": [
        "# Take a string as input from the user\n",
        "user_string = input(\"Enter your gamil: \")\n",
        "\n",
        "#extracting username from gmail\n",
        "print(user_string.split(\"@\")[1].split(\".\")[0])\n"
      ],
      "metadata": {
        "colab": {
          "base_uri": "https://localhost:8080/"
        },
        "id": "mv7IYg3ht85S",
        "outputId": "df61c043-2214-4406-d41e-07be630d881c"
      },
      "execution_count": null,
      "outputs": [
        {
          "output_type": "stream",
          "name": "stdout",
          "text": [
            "Enter your gamil: Krishna@gmail.com\n",
            "gmail\n"
          ]
        }
      ]
    },
    {
      "cell_type": "markdown",
      "source": [
        "33. Replace multiple spaces in a string with a single space."
      ],
      "metadata": {
        "id": "aD-WejQsub49"
      }
    },
    {
      "cell_type": "code",
      "source": [
        "# Take a string as input from the user\n",
        "user_string = input(\"Enter a string: \")\n",
        "\n",
        "print(' '.join(user_string.split()))"
      ],
      "metadata": {
        "colab": {
          "base_uri": "https://localhost:8080/"
        },
        "id": "Hs-BA5_wuUVp",
        "outputId": "125b8759-dba2-459a-deae-16b66722c639"
      },
      "execution_count": null,
      "outputs": [
        {
          "output_type": "stream",
          "name": "stdout",
          "text": [
            "Enter a string: Krishna     is good boy\n",
            "Krishna is good boy\n"
          ]
        }
      ]
    },
    {
      "cell_type": "markdown",
      "source": [
        "34. Check if a string is a valid URL."
      ],
      "metadata": {
        "id": "aUqndQ231RkE"
      }
    },
    {
      "cell_type": "code",
      "source": [
        "from urllib.parse import urlparse\n",
        "\n",
        "def is_valid_url(url):\n",
        "    try:\n",
        "        # Parse the URL\n",
        "        result = urlparse(url)\n",
        "        # Check if the URL has a valid scheme and netloc\n",
        "        return all([result.scheme, result.netloc])\n",
        "    except ValueError:\n",
        "        # If urlparse raises a ValueError, the URL is not valid\n",
        "        return False\n",
        "\n",
        "# Take a URL as input from the user\n",
        "user_url = input(\"Enter a URL: \")\n",
        "\n",
        "# Check if the input is a valid URL\n",
        "if is_valid_url(user_url):\n",
        "    print(\"The entered URL is valid.\")\n",
        "else:\n",
        "    print(\"The entered URL is not valid.\")\n"
      ],
      "metadata": {
        "id": "ojhv5ottuhRJ",
        "colab": {
          "base_uri": "https://localhost:8080/"
        },
        "outputId": "b4968731-fb45-47ad-c886-44bc7d1d7335"
      },
      "execution_count": null,
      "outputs": [
        {
          "output_type": "stream",
          "name": "stdout",
          "text": [
            "Enter a URL: http://www.example.com\n",
            "The entered URL is valid.\n"
          ]
        }
      ]
    },
    {
      "cell_type": "markdown",
      "source": [
        "35. Extract the protocol (http or https) from a URL string."
      ],
      "metadata": {
        "id": "jAxoVrn7AUqY"
      }
    },
    {
      "cell_type": "code",
      "source": [
        "def extract_protocol(url):\n",
        "    # Find the index of the first occurrence of \"://\"\n",
        "    protocol_end = url.find(\"://\")\n",
        "\n",
        "    # Check if \"://\" was found\n",
        "    if protocol_end != -1:\n",
        "        # Extract the protocol from the URL\n",
        "        protocol = url[:protocol_end]\n",
        "        return protocol\n",
        "    else:\n",
        "        return f'Not a valid url'\n",
        "\n",
        "# Example URL strings\n",
        "url1 = \"https://www.example.com\"\n",
        "url2 = \"http://google.com\"\n",
        "url3 = \"ftp://ftp.example.com\"\n",
        "url4 = \"www.example.com\"  # No protocol\n",
        "\n",
        "# Extract protocols\n",
        "protocol1 = extract_protocol(url1)  # \"https\"\n",
        "protocol2 = extract_protocol(url2)  # \"http\"\n",
        "protocol3 = extract_protocol(url3)  # \"ftp\"\n",
        "protocol4 = extract_protocol(url4)  # None\n",
        "\n",
        "# Print extracted protocols\n",
        "print(\"Protocol 1:\", protocol1)  # Output: Protocol 1: https\n",
        "print(\"Protocol 2:\", protocol2)  # Output: Protocol 2: http\n",
        "print(\"Protocol 3:\", protocol3)  # Output: Protocol 3: ftp\n",
        "print(\"Protocol 4:\", protocol4)  # Output: Protocol 4: None\n"
      ],
      "metadata": {
        "colab": {
          "base_uri": "https://localhost:8080/"
        },
        "id": "Z6dhtCfj9Yx6",
        "outputId": "80cc52e8-db92-4bf7-ebf2-347806510fd9"
      },
      "execution_count": null,
      "outputs": [
        {
          "output_type": "stream",
          "name": "stdout",
          "text": [
            "Protocol 1: https\n",
            "Protocol 2: http\n",
            "Protocol 3: ftp\n",
            "Protocol 4: Not a valid url\n"
          ]
        }
      ]
    },
    {
      "cell_type": "markdown",
      "source": [
        "37. Remove all punctuation from a string."
      ],
      "metadata": {
        "id": "2bDwSSHsMewr"
      }
    },
    {
      "cell_type": "code",
      "source": [
        "def remove_punctuation(string):\n",
        "\n",
        "  without_punct = ''\n",
        "  for i in string:\n",
        "    #checking whether the iterated character is letter or digit\n",
        "    if i.isalnum():\n",
        "      without_punct += i\n",
        "  return without_punct\n",
        "\n",
        "input = \"sdfghjh!@#$\"\n",
        "\n",
        "string_without_punctuations = remove_punctuation(input)\n",
        "\n",
        "if string_without_punctuations:\n",
        "  print(f\"in {string_without_punctuations}\")\n",
        "else :\n",
        "  print(\"String is empty\")\n"
      ],
      "metadata": {
        "colab": {
          "base_uri": "https://localhost:8080/"
        },
        "id": "bFD7jpDDMfUn",
        "outputId": "d72391bd-44c2-4230-9258-c9f9ce13a31b"
      },
      "execution_count": null,
      "outputs": [
        {
          "output_type": "stream",
          "name": "stdout",
          "text": [
            "in sdfghjh\n"
          ]
        }
      ]
    },
    {
      "cell_type": "markdown",
      "source": [
        "38. Check if a string contains only digits."
      ],
      "metadata": {
        "id": "P14ZFo_roOaR"
      }
    },
    {
      "cell_type": "code",
      "source": [
        "def check_isdigit(string):\n",
        "  return string.isdigit()\n",
        "\n",
        "# input\n",
        "string1 = check_isdigit(\"123456\")\n",
        "string2 = check_isdigit(\"Krishna1234\")\n",
        "string3 = check_isdigit(\"123456dfghj#$5678\")\n",
        "\n",
        "#print the statement\n",
        "print(f'String1 : {string1}')\n",
        "print(f'String2 : {string2}')\n",
        "print(f'String3 : {string3}')"
      ],
      "metadata": {
        "colab": {
          "base_uri": "https://localhost:8080/"
        },
        "id": "QE6-POGwoOHV",
        "outputId": "1b183a3a-316a-4b31-fa58-bb26918d4cd6"
      },
      "execution_count": null,
      "outputs": [
        {
          "output_type": "stream",
          "name": "stdout",
          "text": [
            "String1 : True\n",
            "String2 : False\n",
            "String3 : False\n"
          ]
        }
      ]
    },
    {
      "cell_type": "markdown",
      "source": [
        "39. Check if a string contains only alphabets."
      ],
      "metadata": {
        "id": "g2KGs8g2pQsR"
      }
    },
    {
      "cell_type": "code",
      "source": [
        "def check_isalpha(string):\n",
        "  return string.isalpha()\n",
        "\n",
        "# input from user\n",
        "input_string = input(\"Enter the string: \")\n",
        "\n",
        "#checking given string contains alphabets are not\n",
        "check_isalpha(input_string)"
      ],
      "metadata": {
        "colab": {
          "base_uri": "https://localhost:8080/"
        },
        "id": "1JACEJNElxED",
        "outputId": "13dabef5-21ef-4098-8bbd-84bdb6bde19b"
      },
      "execution_count": null,
      "outputs": [
        {
          "name": "stdout",
          "output_type": "stream",
          "text": [
            "Enter the string: Krishna123\n"
          ]
        },
        {
          "output_type": "execute_result",
          "data": {
            "text/plain": [
              "False"
            ]
          },
          "metadata": {},
          "execution_count": 3
        }
      ]
    },
    {
      "cell_type": "markdown",
      "source": [
        "40. Convert a string to a list of characters."
      ],
      "metadata": {
        "id": "7DMWVvCnryXR"
      }
    },
    {
      "cell_type": "code",
      "source": [
        "def string_to_list(input_string):\n",
        "    # Use list() constructor to convert the string to a list of characters\n",
        "    char_list = list(input_string)\n",
        "    return char_list\n",
        "\n",
        "# input from user\n",
        "input_str = input(\"Enter the string: \")\n",
        "\n",
        "# Convert the string to a list of characters\n",
        "char_list = string_to_list(input_str)\n",
        "\n",
        "# Print the list of characters\n",
        "print(\"Original string:\", input_str)\n",
        "print(\"List of characters:\", char_list)"
      ],
      "metadata": {
        "colab": {
          "base_uri": "https://localhost:8080/"
        },
        "id": "gPy57bdYrzoJ",
        "outputId": "f0521048-835c-4388-92ed-1ee1ff9d8ec0"
      },
      "execution_count": null,
      "outputs": [
        {
          "output_type": "stream",
          "name": "stdout",
          "text": [
            "Enter the string: Krishna\n",
            "Original string: Krishna\n",
            "List of characters: ['K', 'r', 'i', 's', 'h', 'n', 'a']\n"
          ]
        }
      ]
    },
    {
      "cell_type": "markdown",
      "source": [
        "41. Check if two strings are anagrams."
      ],
      "metadata": {
        "id": "Hyp40Ke5tK6F"
      }
    },
    {
      "cell_type": "code",
      "source": [
        "def check_anagram(string1, string2):\n",
        "  if sorted(string1) == sorted(string2):\n",
        "    return True\n",
        "\n",
        "# input from user\n",
        "user_input1 = input(\"Enter string1: \")\n",
        "user_input2 = input(\"Enter string2: \")\n",
        "\n",
        "is_check_anagram = check_anagram(user_input1, user_input2)\n",
        "\n",
        "if is_check_anagram:\n",
        "  print(\"It is anagram\")\n",
        "else:\n",
        "  print(\"Its not anagram\")"
      ],
      "metadata": {
        "colab": {
          "base_uri": "https://localhost:8080/"
        },
        "id": "aqqJ19x8tMVI",
        "outputId": "99b2932f-54a8-41e1-8ad0-1115808990a0"
      },
      "execution_count": null,
      "outputs": [
        {
          "output_type": "stream",
          "name": "stdout",
          "text": [
            "Enter string1: cat\n",
            "Enter string2: tac\n",
            "It is anagram\n"
          ]
        }
      ]
    },
    {
      "cell_type": "markdown",
      "source": [
        "42. Encode a string using a Caesar cipher."
      ],
      "metadata": {
        "id": "y0Gd0okzJafI"
      }
    },
    {
      "cell_type": "code",
      "source": [
        "def caesar_cipher_encode(text, shift):\n",
        "    result = \"\"\n",
        "    for char in text:\n",
        "        if char.isupper():\n",
        "            char_index = ord(char) - ord('A')\n",
        "            shifted_index = (char_index + shift) % 26\n",
        "            shifted_char = chr(shifted_index + ord('A'))\n",
        "            result += shifted_char\n",
        "        elif char.islower():\n",
        "            char_index = ord(char) - ord('a')\n",
        "            shifted_index = (char_index + shift) % 26\n",
        "            shifted_char = chr(shifted_index + ord('a'))\n",
        "            result += shifted_char\n",
        "        elif char.isdigit():\n",
        "            char_index = ord(char) - ord('0')\n",
        "            shifted_index = (char_index + shift) % 10\n",
        "            shifted_char = chr(shifted_index + ord('0'))\n",
        "            result += shifted_char\n",
        "        else:\n",
        "            result += char\n",
        "    return result\n",
        "\n",
        "\n",
        "# Take a string and shift value as input from the user\n",
        "user_text = input(\"Enter a string: \")\n",
        "shift_value = int(input(\"Enter the shift value: \"))\n",
        "\n",
        "# Encode the string using the Caesar cipher\n",
        "encoded_text = caesar_cipher_encode(user_text, shift_value)\n",
        "print(\"Encoded string:\", encoded_text)\n"
      ],
      "metadata": {
        "id": "KtM9_2PKvcqA",
        "colab": {
          "base_uri": "https://localhost:8080/",
          "height": 91
        },
        "outputId": "37a92f84-6e08-46ae-90e8-d15f4f946ee3"
      },
      "execution_count": null,
      "outputs": [
        {
          "output_type": "stream",
          "name": "stdout",
          "text": [
            "A <class 'str'>\n",
            "a <class 'str'>\n",
            "0 <class 'str'>\n"
          ]
        },
        {
          "output_type": "execute_result",
          "data": {
            "text/plain": [
              "'Aa0@'"
            ],
            "application/vnd.google.colaboratory.intrinsic+json": {
              "type": "string"
            }
          },
          "metadata": {},
          "execution_count": 34
        }
      ]
    },
    {
      "cell_type": "markdown",
      "source": [
        "43. Decode a Caesar cipher encoded string."
      ],
      "metadata": {
        "id": "FajN_1RDQlUV"
      }
    },
    {
      "cell_type": "code",
      "source": [
        "def caesar_cipher_decode(text, shift):\n",
        "    result = \"\"\n",
        "    for char in text:\n",
        "        if char.isupper():\n",
        "            char_index = ord(char) - ord('A')\n",
        "            shifted_index = (char_index - shift) % 26\n",
        "            shifted_char = chr(shifted_index + ord('A'))\n",
        "            result += shifted_char\n",
        "        elif char.islower():\n",
        "            char_index = ord(char) - ord('a')\n",
        "            shifted_index = (char_index - shift) % 26\n",
        "            shifted_char = chr(shifted_index + ord('a'))\n",
        "            result += shifted_char\n",
        "        elif char.isdigit():\n",
        "            char_index = ord(char) - ord('0')\n",
        "            shifted_index = (char_index - shift) % 10\n",
        "            shifted_char = chr(shifted_index + ord('0'))\n",
        "            result += shifted_char\n",
        "        else:\n",
        "            result += char\n",
        "    return result\n",
        "\n",
        "# Example usage:\n",
        "encoded_text = \"Aa@09\"\n",
        "shift_value = 3\n",
        "\n",
        "# Decode the string using the Caesar cipher\n",
        "decoded_text = caesar_cipher_decode(encoded_text, shift_value)\n",
        "print(\"Decoded string:\", decoded_text)"
      ],
      "metadata": {
        "colab": {
          "base_uri": "https://localhost:8080/"
        },
        "id": "fx5wu53Km8QH",
        "outputId": "45da809a-4e65-438e-ac7c-ed79454c08d5"
      },
      "execution_count": null,
      "outputs": [
        {
          "output_type": "stream",
          "name": "stdout",
          "text": [
            "Decoded string: Xx@76\n"
          ]
        }
      ]
    },
    {
      "cell_type": "markdown",
      "source": [
        "44. Find the most frequent word in a string."
      ],
      "metadata": {
        "id": "ELPUIAKdQnw0"
      }
    },
    {
      "cell_type": "code",
      "source": [
        "def check_frequent_word(string):\n",
        "  # spliting the string\n",
        "  string = string.split()\n",
        "  frequent = 1\n",
        "  freq_word = ''\n",
        "  #Iterating each word whether it is repeating or not\n",
        "  for word in string:\n",
        "    if string.count(word) > frequent :\n",
        "      frequent = string.count(word)\n",
        "      freq_word = word\n",
        "  return freq_word, frequent\n",
        "\n",
        "# input from user\n",
        "user_string = input(\"Enter the string: \")\n",
        "\n",
        "# checking the frequent word\n",
        "frequent_word = check_frequent_word(user_string)\n",
        "\n",
        "if frequent_word[0]:\n",
        "  print(f'frequent word in a string is {frequent_word[0]} and count is {frequent_word[1]}')\n",
        "else :\n",
        "  print(f'There is no frequent word')\n",
        "\n"
      ],
      "metadata": {
        "colab": {
          "base_uri": "https://localhost:8080/"
        },
        "id": "bqv9y254Qwhi",
        "outputId": "9f15d40e-feef-42ec-f335-3c0b66994934"
      },
      "execution_count": null,
      "outputs": [
        {
          "output_type": "stream",
          "name": "stdout",
          "text": [
            "Enter the string: is and\n",
            "There is no frequent word\n"
          ]
        }
      ]
    },
    {
      "cell_type": "markdown",
      "source": [
        "45. Find all unique words in a string."
      ],
      "metadata": {
        "id": "85Z2yOufvCaj"
      }
    },
    {
      "cell_type": "code",
      "source": [
        "def check_unique_word(string):\n",
        "  # spliting the string\n",
        "  string = string.split()\n",
        "  unique_word = []\n",
        "  #Iterating each word and storing unique word\n",
        "  for word in string:\n",
        "    if string.count(word) == 1:\n",
        "      unique_word.append(word)\n",
        "  return unique_word\n",
        "\n",
        "# input from user\n",
        "user_string = input(\"Enter the string: \")\n",
        "\n",
        "# checking the frequent word\n",
        "unique_words = check_unique_word(user_string)\n",
        "\n",
        "if unique_words:\n",
        "  print(f'Unique word in a string are {unique_words}')\n",
        "else :\n",
        "  print(f'There is no frequent word')\n"
      ],
      "metadata": {
        "colab": {
          "base_uri": "https://localhost:8080/"
        },
        "id": "YRVf15rmhCAD",
        "outputId": "46e68b7f-e268-412d-d088-506d3d6c26c5"
      },
      "execution_count": null,
      "outputs": [
        {
          "output_type": "stream",
          "name": "stdout",
          "text": [
            "Enter the string: is and is and is a ajal kd fk fk\n",
            "Unique word in a string are ['a', 'ajal', 'kd']\n"
          ]
        }
      ]
    },
    {
      "cell_type": "markdown",
      "source": [
        "46. Count the number of syllables in a string."
      ],
      "metadata": {
        "id": "GKRzpgEfyPKS"
      }
    },
    {
      "cell_type": "code",
      "source": [
        "word = \"gym\"\n",
        "count_vowels = 0\n",
        "for vowels in word:\n",
        "  if vowels in \"aeiouy\":\n",
        "    count_vowels += 1\n",
        "if word.endswith(\"e\") :\n",
        "  count_vowels -= 1\n",
        "\n",
        "for i in range(1, len(word)):\n",
        "  if word[i] in \"aeiou\" and word[i-1] in \"aeiou\":\n",
        "    count_vowels -= 1\n",
        "\n",
        "count_vowels\n"
      ],
      "metadata": {
        "colab": {
          "base_uri": "https://localhost:8080/"
        },
        "id": "83XcMkNoDGQY",
        "outputId": "2f5b7933-e299-493d-b3f8-95177d3c2034"
      },
      "execution_count": null,
      "outputs": [
        {
          "output_type": "execute_result",
          "data": {
            "text/plain": [
              "1"
            ]
          },
          "metadata": {},
          "execution_count": 31
        }
      ]
    },
    {
      "cell_type": "code",
      "source": [
        "import re\n",
        "def check_syllables(word):\n",
        "  syllable_count = 0\n",
        "  for i in word.split():\n",
        "    check_syllable_count = re.findall(r'[aeiouy]+', i, re.IGNORECASE)\n",
        "    syllable_count += len(check_syllable_count)\n",
        "\n",
        "  return syllable_count\n",
        "\n",
        "# input from user\n",
        "user_input = input(\"Enter string: \")\n",
        "\n",
        "print(f'The syllable count is {check_syllables(user_input)}')\n",
        "\n"
      ],
      "metadata": {
        "colab": {
          "base_uri": "https://localhost:8080/"
        },
        "id": "4ljIjYlzHAZR",
        "outputId": "a180d3f8-4900-4a2a-9570-fc18ac084e7e"
      },
      "execution_count": null,
      "outputs": [
        {
          "output_type": "stream",
          "name": "stdout",
          "text": [
            "Enter string: this is an example\n",
            "['i']\n",
            "['i']\n",
            "['a']\n",
            "['e', 'a', 'e']\n",
            "The syllable count is 6\n"
          ]
        }
      ]
    },
    {
      "cell_type": "markdown",
      "source": [
        "47. Check if a string contains any special characters."
      ],
      "metadata": {
        "id": "i4PKIEaiN-sr"
      }
    },
    {
      "cell_type": "code",
      "source": [
        "def check_special_character(string):\n",
        "  for i in string.split():\n",
        "    if not i.isalnum():\n",
        "      return True\n",
        "\n",
        "# user input\n",
        "user_string = input(\"Enter the string: \")\n",
        "\n",
        "if check_special_character(user_string):\n",
        "  print(\"The sentence have special charcater\")\n",
        "else :\n",
        "  print(\"The string does not contains any special characters\")"
      ],
      "metadata": {
        "colab": {
          "base_uri": "https://localhost:8080/"
        },
        "id": "D-pvY_33N_iS",
        "outputId": "c9f9a43e-d12e-45b9-c5c1-95c09db7a259"
      },
      "execution_count": null,
      "outputs": [
        {
          "output_type": "stream",
          "name": "stdout",
          "text": [
            "Enter the string: this is@\n",
            "The sentence have special charcater\n"
          ]
        }
      ]
    },
    {
      "cell_type": "markdown",
      "source": [
        "48. Remove the nth word from a string."
      ],
      "metadata": {
        "id": "wggCs2ZjS-pq"
      }
    },
    {
      "cell_type": "code",
      "source": [
        "def remove_nth_word(string, word_remove):\n",
        "  string = string.split()\n",
        "  if word_remove <= len(string):\n",
        "    string.pop(word_remove - 1)\n",
        "    updated_string = \" \".join(string)\n",
        "  return updated_string\n",
        "\n",
        "# input from user\n",
        "user_input = input(\"Enter the string: \")\n",
        "word_remove = int(input(\"Enter the number to remove the word: \"))\n",
        "\n",
        "check_nth_word = remove_nth_word(user_input, word_remove)\n",
        "if check_nth_word:\n",
        "  print(f\"This is the string after removing mentioned word : '{check_nth_word}'\")\n",
        "else:\n",
        "  print(\"The mentioned word is present in the string\")"
      ],
      "metadata": {
        "colab": {
          "base_uri": "https://localhost:8080/"
        },
        "id": "VgwOUi5pS_0q",
        "outputId": "2ca95355-306a-4b83-c2bd-9da9fb71c076"
      },
      "execution_count": null,
      "outputs": [
        {
          "output_type": "stream",
          "name": "stdout",
          "text": [
            "Enter the string: This is an example string\n",
            "Enter the number to remove the word: 4\n",
            "This is the string after removing mentioned word : 'This is an string'\n"
          ]
        }
      ]
    },
    {
      "cell_type": "markdown",
      "source": [
        "49. Insert a word at the nth position in a string."
      ],
      "metadata": {
        "id": "MRTOlblMl6Zw"
      }
    },
    {
      "cell_type": "code",
      "source": [
        "def insert_word_at_n(input_string, word_to_insert, n):\n",
        "  string = input_string.split()\n",
        "  string.insert(n-1, word_to_insert)\n",
        "  updated_string = \" \".join(string)\n",
        "  return updated_string\n",
        "\n",
        "# input from user\n",
        "user_input = input(\"Enter the string: \")\n",
        "word_to_insert = input(\"Enter a word to insert: \")\n",
        "n = int(input(\"Enter the position to insert the word: \"))\n",
        "\n",
        "inserting_word = insert_word_at_n(user_input, word_to_insert, n)\n",
        "\n",
        "print(f\"This is the string after inserting mentioned word : '{inserting_word}'\")\n"
      ],
      "metadata": {
        "colab": {
          "base_uri": "https://localhost:8080/"
        },
        "id": "MHXBFgohl69f",
        "outputId": "2f753c2f-a280-48ca-dc7f-83f7dc93d685"
      },
      "execution_count": null,
      "outputs": [
        {
          "output_type": "stream",
          "name": "stdout",
          "text": [
            "Enter the string: This is an string\n",
            "Enter a word to insert: example\n",
            "Enter the position to insert the word: 4\n",
            "This is the string after inserting mentioned word : 'This is an example string'\n"
          ]
        }
      ]
    },
    {
      "cell_type": "markdown",
      "source": [
        "50. Convert a CSV string to a list of lists."
      ],
      "metadata": {
        "id": "D5DE0aqiuS6T"
      }
    },
    {
      "cell_type": "code",
      "source": [
        "import pandas as pd\n",
        "\n",
        "def csv_string_to_list(csv_file):\n",
        "  df = pd.read_csv(csv_file)\n",
        "  con_list = df.values.tolist()\n",
        "  print(con_list)\n",
        "\n",
        "csv_string_to_list(\"/content/testcsv.txt\")\n"
      ],
      "metadata": {
        "colab": {
          "base_uri": "https://localhost:8080/"
        },
        "id": "gFNuDQn9mGBD",
        "outputId": "cd8f9d6d-099a-4b01-deef-d1fbc2e1d6c3"
      },
      "execution_count": null,
      "outputs": [
        {
          "output_type": "stream",
          "name": "stdout",
          "text": [
            "[['krishna', 24, ' vizag'], ['vimal', 22, ' Vijayawada'], ['Akshat', 24, ' Ahm']]\n"
          ]
        }
      ]
    },
    {
      "cell_type": "markdown",
      "source": [
        "# List Based Practice Problem"
      ],
      "metadata": {
        "id": "BsP0VPTgDnee"
      }
    },
    {
      "cell_type": "markdown",
      "source": [
        "1. Create a list with integers from 1 to 10."
      ],
      "metadata": {
        "id": "ggjAMCCb6ADE"
      }
    },
    {
      "cell_type": "code",
      "source": [
        "list10 = list(range(1,11))\n",
        "print(list10)"
      ],
      "metadata": {
        "colab": {
          "base_uri": "https://localhost:8080/"
        },
        "id": "fcsnEvlH5_st",
        "outputId": "895c1c94-110b-4375-a5cf-6b162d22454d"
      },
      "execution_count": null,
      "outputs": [
        {
          "output_type": "stream",
          "name": "stdout",
          "text": [
            "[1, 2, 3, 4, 5, 6, 7, 8, 9, 10]\n"
          ]
        }
      ]
    },
    {
      "cell_type": "markdown",
      "source": [
        "2. Find the length of a list without using the `len()` function."
      ],
      "metadata": {
        "id": "0g1SrTGp64X5"
      }
    },
    {
      "cell_type": "code",
      "source": [
        "def check_len(input_list):\n",
        "  count_len = 0\n",
        "  for i in input_list:\n",
        "    count_len += 1\n",
        "  return count_len\n",
        "\n",
        "# input from user\n",
        "user_list = list(map(eval, input(\"Enter the data with spaces: \").split()))\n",
        "\n",
        "# finding length of input string\n",
        "length_of_list = check_len(user_list)\n",
        "print(f\"The length of input list is : {length_of_list}\")"
      ],
      "metadata": {
        "colab": {
          "base_uri": "https://localhost:8080/"
        },
        "id": "e3LXKePHmS6t",
        "outputId": "ec7dca0b-a05d-4045-ff5b-29700fe37fc6"
      },
      "execution_count": null,
      "outputs": [
        {
          "output_type": "stream",
          "name": "stdout",
          "text": [
            "Enter the data with spaces: 1 2.5 True 10+20j\n",
            "The length of input list is : 4\n"
          ]
        }
      ]
    },
    {
      "cell_type": "markdown",
      "source": [
        "3. Append an element to the end of a list."
      ],
      "metadata": {
        "id": "I-3q8C3x8qVE"
      }
    },
    {
      "cell_type": "code",
      "source": [
        "def add_element(user_list, value):\n",
        "  user_list.append(value)\n",
        "  return user_list\n",
        "\n",
        "# input from user\n",
        "user_list = list(map(int, input(\"Enter the data with spaces: \").split()))\n",
        "add_value = int(input(\"Enter the value: \"))\n",
        "print(f\"Before adding element at end: {user_list}\")\n",
        "print(f\"After adding element at the end : {add_element(user_list, add_value)}\")\n"
      ],
      "metadata": {
        "colab": {
          "base_uri": "https://localhost:8080/"
        },
        "id": "BhFMEAzrma9M",
        "outputId": "430b9ecc-c5f6-479c-c5b1-fba63a4cc7bf"
      },
      "execution_count": null,
      "outputs": [
        {
          "output_type": "stream",
          "name": "stdout",
          "text": [
            "Enter the data with spaces: 1 2\n",
            "Enter the value: 3\n",
            "Before adding element at end: [1, 2]\n",
            "After adding element at the end : [1, 2, 3]\n"
          ]
        }
      ]
    },
    {
      "cell_type": "markdown",
      "source": [
        "4. Insert an element at a specific index in a list."
      ],
      "metadata": {
        "id": "1I-_w7yHRG0c"
      }
    },
    {
      "cell_type": "code",
      "source": [
        "#input list\n",
        "input_list = [1,2,3,4,5,7]\n",
        "print(f\"Before inserting element: {input_list}\")\n",
        "\n",
        "# index to insert\n",
        "index_to_insert = 5\n",
        "\n",
        "# value to insert\n",
        "element_to_add = 6\n",
        "\n",
        "#inserting the element at required location\n",
        "input_list.insert(index_to_insert, element_to_add)\n",
        "print(f\"After inserting element: {input_list}\")"
      ],
      "metadata": {
        "colab": {
          "base_uri": "https://localhost:8080/"
        },
        "id": "VaxZ1Aoh5YjH",
        "outputId": "3db6d380-dad9-4398-fbab-22f1c1821ae1"
      },
      "execution_count": null,
      "outputs": [
        {
          "output_type": "stream",
          "name": "stdout",
          "text": [
            "Before inserting element: [1, 2, 3, 4, 5, 7]\n",
            "After inserting element: [1, 2, 3, 4, 5, 6, 7]\n"
          ]
        }
      ]
    },
    {
      "cell_type": "markdown",
      "source": [
        "5. Remove an element from a list by its value."
      ],
      "metadata": {
        "id": "qQZmCenmBYGM"
      }
    },
    {
      "cell_type": "code",
      "source": [
        "#input list\n",
        "input_list = [10, 20, 30, 40, 50]\n",
        "print(f\"Before removing element: {input_list}\")\n",
        "\n",
        "# Removing element by its value\n",
        "value_to_remove = 30\n",
        "input_list.remove(value_to_remove)\n",
        "\n",
        "# final list\n",
        "print(f\"After removing element: {input_list}\")\n"
      ],
      "metadata": {
        "colab": {
          "base_uri": "https://localhost:8080/"
        },
        "id": "M2kAMIFW7lJt",
        "outputId": "7e8cebc2-546b-479b-943c-d65b2490e778"
      },
      "execution_count": null,
      "outputs": [
        {
          "output_type": "stream",
          "name": "stdout",
          "text": [
            "Before removing element: [10, 20, 30, 40, 50]\n",
            "After removing element: [10, 20, 40, 50]\n"
          ]
        }
      ]
    },
    {
      "cell_type": "markdown",
      "source": [
        "6. Remove an element from a list by its index."
      ],
      "metadata": {
        "id": "SgPXvSQNH0Gs"
      }
    },
    {
      "cell_type": "code",
      "source": [
        "#input list\n",
        "input_list = [10, 20, 30, 40, 50]\n",
        "print(f\"Before removing element: {input_list}\")\n",
        "\n",
        "# Removing element by its value\n",
        "value_to_remove_by_index = 2\n",
        "input_list.pop(value_to_remove_by_index)\n",
        "\n",
        "# final list\n",
        "print(f\"After removing element: {input_list}\")\n"
      ],
      "metadata": {
        "colab": {
          "base_uri": "https://localhost:8080/"
        },
        "id": "OZedpKaxRNJG",
        "outputId": "c58173b3-17ed-4118-f506-118fe3231ff6"
      },
      "execution_count": null,
      "outputs": [
        {
          "output_type": "stream",
          "name": "stdout",
          "text": [
            "Before removing element: [10, 20, 30, 40, 50]\n",
            "After removing element: [10, 20, 40, 50]\n"
          ]
        }
      ]
    },
    {
      "cell_type": "markdown",
      "source": [
        "7. Check if an element exists in a list."
      ],
      "metadata": {
        "id": "s7pGEHLpKhzB"
      }
    },
    {
      "cell_type": "code",
      "source": [
        "#input list\n",
        "input_list = [10, 20, 30, 40, 50]\n",
        "\n",
        "value_to_check = 30\n",
        "if value_to_check in input_list:\n",
        "  print(f\"The value '{value_to_check}' is present in the input list\")\n",
        "else :\n",
        "  print(f\"The value '{value_to_check}' is not present\")"
      ],
      "metadata": {
        "colab": {
          "base_uri": "https://localhost:8080/"
        },
        "id": "IWOnpoRiKjcL",
        "outputId": "55d2ef2c-242c-4ef8-e499-4bbe14d62979"
      },
      "execution_count": null,
      "outputs": [
        {
          "output_type": "stream",
          "name": "stdout",
          "text": [
            "The value '30' is present in the input list\n"
          ]
        }
      ]
    },
    {
      "cell_type": "markdown",
      "source": [
        "8. Find the index of the first occurrence of an element in a list."
      ],
      "metadata": {
        "id": "hc39bdrmLGZI"
      }
    },
    {
      "cell_type": "code",
      "source": [
        "#input list\n",
        "input_list = [10, 20, 30, 40, 50, 30, 20]\n",
        "\n",
        "element_to_remove = 30\n",
        "# finding the 1st occurance of the element\n",
        "input_list.index(element_to_remove)\n",
        "\n",
        "print(f\"the 1st occurance of value '{element_to_remove}' is {input_list.index(element_to_remove)}\")\n"
      ],
      "metadata": {
        "colab": {
          "base_uri": "https://localhost:8080/"
        },
        "id": "Yl_-0hPxKjNI",
        "outputId": "565e717f-29ab-46d0-9c3b-d5e258c39f83"
      },
      "execution_count": null,
      "outputs": [
        {
          "output_type": "stream",
          "name": "stdout",
          "text": [
            "the 1st occurance of value '30' is 2\n"
          ]
        }
      ]
    },
    {
      "cell_type": "markdown",
      "source": [
        "9. Count the occurrences of an element in a list."
      ],
      "metadata": {
        "id": "8fgTy3O0pJWs"
      }
    },
    {
      "cell_type": "code",
      "source": [
        "#input list\n",
        "input_list = [10, 20, 30, 40, 50, 30, 20]\n",
        "element_to_count = 20\n",
        "print(f\"The occurance of {element_to_count} is {input_list.count(element_to_count)}\")"
      ],
      "metadata": {
        "colab": {
          "base_uri": "https://localhost:8080/"
        },
        "id": "Owb79h0MpIus",
        "outputId": "9e714e29-babb-431d-bc3e-296d14592b35"
      },
      "execution_count": null,
      "outputs": [
        {
          "output_type": "stream",
          "name": "stdout",
          "text": [
            "The occurance of 20 is 2\n"
          ]
        }
      ]
    },
    {
      "cell_type": "markdown",
      "source": [
        "10. Reverse the order of elements in a list."
      ],
      "metadata": {
        "id": "kMDdW0XNpznp"
      }
    },
    {
      "cell_type": "code",
      "source": [
        "#input list\n",
        "input_list = [10, 20, 30, 40, 50, 30, 20]\n",
        "print(f\"Before reversing: {input_list}\")\n",
        "input_list.reverse()\n",
        "print(f\"After reversing: {input_list}\")"
      ],
      "metadata": {
        "colab": {
          "base_uri": "https://localhost:8080/"
        },
        "id": "lhFi1rvLGeft",
        "outputId": "4a49d019-3e15-4b7f-94cd-40fe65d72d26"
      },
      "execution_count": null,
      "outputs": [
        {
          "output_type": "stream",
          "name": "stdout",
          "text": [
            "Before reversing: [10, 20, 30, 40, 50, 30, 20]\n",
            "After reversing: [20, 30, 50, 40, 30, 20, 10]\n"
          ]
        }
      ]
    },
    {
      "cell_type": "markdown",
      "source": [
        "11. Sort a list in ascending order."
      ],
      "metadata": {
        "id": "LwRORMrecPUM"
      }
    },
    {
      "cell_type": "code",
      "source": [
        "#input list\n",
        "input_list = [10, 20, 30, 40, 50, 30, 20]\n",
        "print(f\"Before ordering: {input_list}\")\n",
        "input_list.sort()\n",
        "print(f\"After reversing: {input_list}\")"
      ],
      "metadata": {
        "colab": {
          "base_uri": "https://localhost:8080/"
        },
        "id": "ofTbeAR5baDX",
        "outputId": "c97c059f-5147-4499-890b-ae1691bf74ca"
      },
      "execution_count": null,
      "outputs": [
        {
          "output_type": "stream",
          "name": "stdout",
          "text": [
            "Before ordering: [10, 20, 30, 40, 50, 30, 20]\n",
            "After reversing: [10, 20, 20, 30, 30, 40, 50]\n"
          ]
        }
      ]
    },
    {
      "cell_type": "markdown",
      "source": [
        "12. Sort a list in descending order."
      ],
      "metadata": {
        "id": "YvBS6su3choM"
      }
    },
    {
      "cell_type": "code",
      "source": [
        "#input list\n",
        "input_list = [10, 20, 30, 40, 50, 30, 20]\n",
        "print(f\"Before sorting order: {input_list}\")\n",
        "input_list.sort(reverse=True)\n",
        "print(f\"After ordering in descending: {input_list}\")"
      ],
      "metadata": {
        "colab": {
          "base_uri": "https://localhost:8080/"
        },
        "id": "_zJJPVi_mwav",
        "outputId": "a8c097a9-6dfa-4391-dfe2-389bfa3ef7ca"
      },
      "execution_count": null,
      "outputs": [
        {
          "output_type": "stream",
          "name": "stdout",
          "text": [
            "Before sorting order: [10, 20, 30, 40, 50, 30, 20]\n",
            "After ordering in descending: [50, 40, 30, 30, 20, 20, 10]\n"
          ]
        }
      ]
    },
    {
      "cell_type": "markdown",
      "source": [
        "13. Create a list of even numbers from 1 to 20."
      ],
      "metadata": {
        "id": "Ioj4Ovafcy3r"
      }
    },
    {
      "cell_type": "code",
      "source": [
        "even_numbers = [x for x in range(1,21) if x%2==0]\n",
        "print(f\"Even numbers from 1 to 20: {even_numbers}\")"
      ],
      "metadata": {
        "colab": {
          "base_uri": "https://localhost:8080/"
        },
        "id": "2HN43UE7m0yb",
        "outputId": "808741a1-c96b-45eb-bab8-2c3e1753a07b"
      },
      "execution_count": null,
      "outputs": [
        {
          "output_type": "stream",
          "name": "stdout",
          "text": [
            "Even numbers from 1 to 20: [2, 4, 6, 8, 10, 12, 14, 16, 18, 20]\n"
          ]
        }
      ]
    },
    {
      "cell_type": "markdown",
      "source": [
        "14. Create a list of odd numbers from 1 to 20."
      ],
      "metadata": {
        "id": "fuGNnsSgdt7S"
      }
    },
    {
      "cell_type": "code",
      "source": [
        "odd_numbers = [x for x in range(1,21) if x%2 != 0]\n",
        "print(f\"odd numbers from 1 to 20: {odd_numbers}\")"
      ],
      "metadata": {
        "colab": {
          "base_uri": "https://localhost:8080/"
        },
        "id": "VWzax7EupQ-6",
        "outputId": "b95fe5df-724d-49d1-b934-897695f33efa"
      },
      "execution_count": null,
      "outputs": [
        {
          "output_type": "stream",
          "name": "stdout",
          "text": [
            "odd numbers from 1 to 20: [1, 3, 5, 7, 9, 11, 13, 15, 17, 19]\n"
          ]
        }
      ]
    },
    {
      "cell_type": "markdown",
      "source": [
        "15. Find the sum of all elements in a list."
      ],
      "metadata": {
        "id": "GtyvfSaLd6cf"
      }
    },
    {
      "cell_type": "code",
      "source": [
        "#input list\n",
        "input_list = [10, 20, 30, 40, 50]\n",
        "print(f\"The sum of all elements in list: {sum(input_list)}\")"
      ],
      "metadata": {
        "colab": {
          "base_uri": "https://localhost:8080/"
        },
        "id": "KEO65dfrdChX",
        "outputId": "3b25f750-69f2-4217-be90-433bcaad7bd4"
      },
      "execution_count": null,
      "outputs": [
        {
          "output_type": "stream",
          "name": "stdout",
          "text": [
            "The sum of all elements in list: 150\n"
          ]
        }
      ]
    },
    {
      "cell_type": "markdown",
      "source": [
        "16. Find the maximum value in a list."
      ],
      "metadata": {
        "id": "9WG5TYQNeK-2"
      }
    },
    {
      "cell_type": "code",
      "source": [
        "#input list\n",
        "input_list = [10, 20, 30, 40, 50]\n",
        "print(f\"The maximum value in list: {max(input_list)}\")"
      ],
      "metadata": {
        "colab": {
          "base_uri": "https://localhost:8080/"
        },
        "id": "HST0iP_0eAZL",
        "outputId": "d7d27538-c28f-47f7-947b-6d411d38fbea"
      },
      "execution_count": null,
      "outputs": [
        {
          "output_type": "stream",
          "name": "stdout",
          "text": [
            "The maximum value in list: 50\n"
          ]
        }
      ]
    },
    {
      "cell_type": "markdown",
      "source": [
        "17. Find the minimum value in a list."
      ],
      "metadata": {
        "id": "S34XtgDFeYpX"
      }
    },
    {
      "cell_type": "code",
      "source": [
        "#input list\n",
        "input_list = [10, 20, 30, 40, 50]\n",
        "print(f\"The mninimum value in list: {min(input_list)}\")"
      ],
      "metadata": {
        "colab": {
          "base_uri": "https://localhost:8080/"
        },
        "id": "MJfmrLhOeVhL",
        "outputId": "6bf8a1ab-e0c6-4b0a-aa82-e1002d21fa01"
      },
      "execution_count": null,
      "outputs": [
        {
          "output_type": "stream",
          "name": "stdout",
          "text": [
            "The mninimum value in list: 10\n"
          ]
        }
      ]
    },
    {
      "cell_type": "markdown",
      "source": [
        "18. Create a list of squares of numbers from 1 to 10."
      ],
      "metadata": {
        "id": "PcbLwq9DelGf"
      }
    },
    {
      "cell_type": "code",
      "source": [
        "input_list = list(range(1, 11))\n",
        "print(f\"Before squaring : {input_list}\")\n",
        "square_list = [x**2 for x in input_list]\n",
        "print(f\"After squaring: {square_list}\")"
      ],
      "metadata": {
        "colab": {
          "base_uri": "https://localhost:8080/"
        },
        "id": "ScbUUQ1pehGJ",
        "outputId": "0a8a2b1e-86bc-4291-9359-4f54f2c93288"
      },
      "execution_count": null,
      "outputs": [
        {
          "output_type": "stream",
          "name": "stdout",
          "text": [
            "Before squaring : [1, 2, 3, 4, 5, 6, 7, 8, 9, 10]\n",
            "After squaring: [1, 4, 9, 16, 25, 36, 49, 64, 81, 100]\n"
          ]
        }
      ]
    },
    {
      "cell_type": "markdown",
      "source": [
        "19. Create a list of random numbers."
      ],
      "metadata": {
        "id": "jJAC4ohvfZCC"
      }
    },
    {
      "cell_type": "code",
      "source": [
        "import random as rd\n",
        "random_number = [rd.randrange(1,100) for i in range(1,11)]\n",
        "\n",
        "# Print the list of random integers\n",
        "print(\"List of random integers:\", random_number)"
      ],
      "metadata": {
        "colab": {
          "base_uri": "https://localhost:8080/"
        },
        "id": "_6-aDQa1e-A2",
        "outputId": "5f30dd1e-d0eb-49ff-d1e1-82d429df2eb7"
      },
      "execution_count": null,
      "outputs": [
        {
          "output_type": "stream",
          "name": "stdout",
          "text": [
            "List of random integers: [28, 73, 45, 65, 57, 87, 76, 34, 36, 69]\n"
          ]
        }
      ]
    },
    {
      "cell_type": "markdown",
      "source": [
        "20. Remove duplicates from a list."
      ],
      "metadata": {
        "id": "_uYEZ-gPHYhl"
      }
    },
    {
      "cell_type": "code",
      "source": [
        "#input list\n",
        "input_list = [10, 20, 30, 40, 50, 20, 40, 50]\n",
        "print(f\"before removing duplicates: {input_list}\")\n",
        "# converting into set and then back to list\n",
        "input_list = list(set(input_list))\n",
        "print(f\"After removing duplicates: {input_list}\")"
      ],
      "metadata": {
        "colab": {
          "base_uri": "https://localhost:8080/"
        },
        "id": "uS7YgLovHZKE",
        "outputId": "23c62c01-aa15-4150-f735-dfeb8be9b3f0"
      },
      "execution_count": null,
      "outputs": [
        {
          "output_type": "stream",
          "name": "stdout",
          "text": [
            "before removing duplicates: [10, 20, 30, 40, 50, 20, 40, 50]\n",
            "After removing duplicates: [40, 10, 50, 20, 30]\n"
          ]
        }
      ]
    },
    {
      "cell_type": "markdown",
      "source": [
        "21. Find the common elements between two lists."
      ],
      "metadata": {
        "id": "zRHJFTENRhEM"
      }
    },
    {
      "cell_type": "code",
      "source": [
        "def check_longer_smaller_list(lista,listb):\n",
        "  if len(list1) > len(list2):\n",
        "      longer_list = list1\n",
        "      smaller_list = list2\n",
        "  else:\n",
        "      smaller_list = list1\n",
        "      longer_list = list2\n",
        "\n",
        "  common_ele = []\n",
        "  for i in smaller_list:\n",
        "    if i in longer_list:\n",
        "      common_ele.append(i)\n",
        "  return common_ele\n",
        "\n",
        "\n",
        "list1 = [10,20,30,40,50]\n",
        "list2 = [20,10,50,60,70,80]\n",
        "\n",
        "common_elements = check_longer_smaller_list(list1, list2)\n",
        "print(f\"The common elements from both 'list1 and listb: '{common_elements}'\")"
      ],
      "metadata": {
        "colab": {
          "base_uri": "https://localhost:8080/"
        },
        "id": "63HvhJeBe9M4",
        "outputId": "df8a0bf0-b943-4bf7-9438-98e6011d9108"
      },
      "execution_count": null,
      "outputs": [
        {
          "output_type": "stream",
          "name": "stdout",
          "text": [
            "The common elements from both 'list1 and listb: '[10, 20, 50]'\n"
          ]
        }
      ]
    },
    {
      "cell_type": "markdown",
      "source": [
        "22. Find the difference between two lists."
      ],
      "metadata": {
        "id": "SwAYKo7zX3Wp"
      }
    },
    {
      "cell_type": "code",
      "source": [
        "def check_longer_smaller_list(lista,listb):\n",
        "  if len(list1) > len(list2):\n",
        "      longer_list = list1\n",
        "      smaller_list = list2\n",
        "  else:\n",
        "      longer_list = list1\n",
        "      smaller_list = list2\n",
        "\n",
        "  diff_ele = []\n",
        "  for i in smaller_list:\n",
        "    if i not in longer_list:\n",
        "      diff_ele.append(i)\n",
        "  return diff_ele\n",
        "\n",
        "\n",
        "list1 = [10,20,30,40,50]\n",
        "list2 = [20,10,50,60,70,80]\n",
        "\n",
        "difference_elements = check_longer_smaller_list(list1, list2)\n",
        "print(f\"The common elements from both 'list1 and listb: '{difference_elements}'\")"
      ],
      "metadata": {
        "id": "K7AkO79sfbYD",
        "colab": {
          "base_uri": "https://localhost:8080/"
        },
        "outputId": "63d0353a-d4fb-4242-e4c2-a41a5b43ac34"
      },
      "execution_count": null,
      "outputs": [
        {
          "output_type": "stream",
          "name": "stdout",
          "text": [
            "The common elements from both 'list1 and listb: '[60, 70, 80]'\n"
          ]
        }
      ]
    },
    {
      "cell_type": "markdown",
      "source": [
        "23. Merge two lists."
      ],
      "metadata": {
        "id": "LqztNeaKYjYz"
      }
    },
    {
      "cell_type": "code",
      "source": [
        "list1 = [10,20,30,40,50]\n",
        "list2 = [20,10,50,60,70,80]\n",
        "\n",
        "merge_list = list1 + list2\n",
        "print(f\"After merging both lists: {merge_list}\")"
      ],
      "metadata": {
        "colab": {
          "base_uri": "https://localhost:8080/"
        },
        "id": "ITsgyL1jXV-6",
        "outputId": "56aab360-ec56-4ccd-b571-82860c7ef108"
      },
      "execution_count": null,
      "outputs": [
        {
          "output_type": "stream",
          "name": "stdout",
          "text": [
            "After merging both lists: [10, 20, 30, 40, 50, 20, 10, 50, 60, 70, 80]\n"
          ]
        }
      ]
    },
    {
      "cell_type": "markdown",
      "source": [
        "24. Multiply all elements in a list by 2."
      ],
      "metadata": {
        "id": "o-4v_uwaZEUf"
      }
    },
    {
      "cell_type": "code",
      "source": [
        "#input list\n",
        "input_list = [10, 20, 30, 40, 50, 20, 40, 50]\n",
        "print(f\"before Adding by 2: {input_list}\")\n",
        "adding_2 = [i*2 for i in input_list]\n",
        "print(f\"before Adding by 2: {adding_2}\")"
      ],
      "metadata": {
        "colab": {
          "base_uri": "https://localhost:8080/"
        },
        "id": "4jEB6gXiYwRK",
        "outputId": "2882001c-761f-45be-c5f5-aa3ef340ceff"
      },
      "execution_count": null,
      "outputs": [
        {
          "output_type": "stream",
          "name": "stdout",
          "text": [
            "before Adding by 2: [10, 20, 30, 40, 50, 20, 40, 50]\n",
            "before Adding by 2: [20, 40, 60, 80, 100, 40, 80, 100]\n"
          ]
        }
      ]
    },
    {
      "cell_type": "markdown",
      "source": [
        "25. Filter out all even numbers from a list."
      ],
      "metadata": {
        "id": "LkCHAz7qZvhx"
      }
    },
    {
      "cell_type": "code",
      "source": [
        "#input list\n",
        "input_list = list(range(1,11))\n",
        "print(\"Input list :\", input_list)\n",
        "\n",
        "print(f\"after filtering even numbers : {[x for x in input_list if x%2 == 0]}\")"
      ],
      "metadata": {
        "colab": {
          "base_uri": "https://localhost:8080/"
        },
        "id": "XGb6hE7cZX0N",
        "outputId": "cfd0c72f-646a-45a2-a039-cbb99bfd11c4"
      },
      "execution_count": null,
      "outputs": [
        {
          "output_type": "stream",
          "name": "stdout",
          "text": [
            "Input list : [1, 2, 3, 4, 5, 6, 7, 8, 9, 10]\n",
            "after filtering even numbers : [2, 4, 6, 8, 10]\n"
          ]
        }
      ]
    },
    {
      "cell_type": "code",
      "source": [
        "# list of strings\n",
        "str_list = [\"10\", \"20\", \"30\", \"40\", \"50\"]\n",
        "print(f\"Before converting: {str_list}\")\n",
        "\n",
        "# Convert list of strings to list of integers using a list comprehension\n",
        "integer_list = [int(x) for x in str_list]\n",
        "print(\"List of integers:\", integer_list)"
      ],
      "metadata": {
        "colab": {
          "base_uri": "https://localhost:8080/"
        },
        "id": "sMmJZ2kLaQCw",
        "outputId": "223fd7ea-6b11-48c8-dfd8-6f5d4ef6fd96"
      },
      "execution_count": null,
      "outputs": [
        {
          "output_type": "stream",
          "name": "stdout",
          "text": [
            "Before converting: ['10', '20', '30', '40', '50']\n",
            "List of integers: [10, 20, 30, 40, 50]\n"
          ]
        }
      ]
    },
    {
      "cell_type": "markdown",
      "source": [
        "27. Convert a list of integers to a list of strings."
      ],
      "metadata": {
        "id": "JE_GZzZ_aloR"
      }
    },
    {
      "cell_type": "code",
      "source": [
        "# list of integers\n",
        "int_list = [10, 20, 30, 40, 50]\n",
        "print(f\"Before converting: {int_list}\")\n",
        "\n",
        "# Convert list of integers to list of strings using a list comprehension\n",
        "string_list = [str(x) for x in int_list]\n",
        "print(\"List of strings:\", string_list)"
      ],
      "metadata": {
        "colab": {
          "base_uri": "https://localhost:8080/"
        },
        "id": "CYFabAY8ac_b",
        "outputId": "29d3f374-e966-40be-fd33-3f85ff7160c9"
      },
      "execution_count": null,
      "outputs": [
        {
          "output_type": "stream",
          "name": "stdout",
          "text": [
            "Before converting: [10, 20, 30, 40, 50]\n",
            "List of strings: ['10', '20', '30', '40', '50']\n"
          ]
        }
      ]
    },
    {
      "cell_type": "markdown",
      "source": [
        "28. Flatten a nested list."
      ],
      "metadata": {
        "id": "g_oC0zloZ6V4"
      }
    },
    {
      "cell_type": "code",
      "source": [
        "def flatten(nested_list):\n",
        "    flat_list = []\n",
        "    for item in nested_list:\n",
        "        if isinstance(item, list):\n",
        "            flat_list.extend(flatten(item))\n",
        "        else:\n",
        "            flat_list.append(item)\n",
        "    return flat_list\n",
        "    print(flat_list)\n",
        "\n",
        "\n",
        "nested_list = [1, [2, 3], [4, [5, 6]], 7]\n",
        "flattened_list = flatten(nested_list)\n",
        "print(flattened_list)"
      ],
      "metadata": {
        "colab": {
          "base_uri": "https://localhost:8080/"
        },
        "id": "aSXj7pdobDg5",
        "outputId": "0f3cd69a-0c6d-4158-d2d3-4b4c838c64d7"
      },
      "execution_count": null,
      "outputs": [
        {
          "output_type": "stream",
          "name": "stdout",
          "text": [
            "[1, 2, 3, 4, 5, 6, 7]\n"
          ]
        }
      ]
    },
    {
      "cell_type": "markdown",
      "source": [
        "29. Create a list of the first 10 Fibonacci numbers."
      ],
      "metadata": {
        "id": "MxymBe4wA3NZ"
      }
    },
    {
      "cell_type": "code",
      "source": [
        "def fabonacci(n):\n",
        "  a, b = 0, 1\n",
        "  for i in range(n):\n",
        "    yield b\n",
        "    a,b = b, a + b\n",
        "\n",
        "print(list(fabonacci(5)))"
      ],
      "metadata": {
        "colab": {
          "base_uri": "https://localhost:8080/"
        },
        "id": "zRZcye8T3eRc",
        "outputId": "0ab66aeb-3edc-43dd-d0d4-54a30c1e302a"
      },
      "execution_count": null,
      "outputs": [
        {
          "output_type": "stream",
          "name": "stdout",
          "text": [
            "[1, 1, 2, 3, 5]\n"
          ]
        }
      ]
    },
    {
      "cell_type": "markdown",
      "source": [
        "30. Check if a list is sorted."
      ],
      "metadata": {
        "id": "RaUM9bk0Kpql"
      }
    },
    {
      "cell_type": "code",
      "source": [
        "def check_list_sorted(list):\n",
        "  if list == sorted(list):\n",
        "    return True\n",
        "\n",
        "list1 = [10,20,30,40,50]\n",
        "list2 = [20,10,50,60,70,80]\n",
        "\n",
        "sorted_function = check_list_sorted(list2)\n",
        "\n",
        "if sorted_function:\n",
        "  print(f\"The list is sorted\")\n",
        "else :\n",
        "  print(\"Not sorted\")"
      ],
      "metadata": {
        "colab": {
          "base_uri": "https://localhost:8080/"
        },
        "id": "aXN1M02-3ilc",
        "outputId": "ecd123de-ec33-4c5c-a497-24412426fe3c"
      },
      "execution_count": null,
      "outputs": [
        {
          "output_type": "stream",
          "name": "stdout",
          "text": [
            "Not sorted\n"
          ]
        }
      ]
    },
    {
      "cell_type": "markdown",
      "source": [
        "31. Rotate a list to the left by `n` positions."
      ],
      "metadata": {
        "id": "boyJW7nWe8kz"
      }
    },
    {
      "cell_type": "code",
      "source": [
        "def left_list_to_n(list, n):\n",
        "  new_list = []\n",
        "  if len(list) > n:\n",
        "      for i in list:\n",
        "          index_value = list.index(i)\n",
        "          new_list.insert((index_value - (n)), i)\n",
        "      new_list.insert(-n, new_list[-1])\n",
        "      new_list.pop()\n",
        "      print(new_list)\n",
        "  elif len(list) == n:\n",
        "      print(list)\n",
        "  else:\n",
        "      print(\"it shouldn't greaten than list\")\n",
        "\n",
        "list = [10,20,30,40,50]\n",
        "n = 4\n",
        "left_list_to_n(list, n)"
      ],
      "metadata": {
        "colab": {
          "base_uri": "https://localhost:8080/"
        },
        "id": "8imzOF5R3qOL",
        "outputId": "3d2fed62-16ae-4e14-dc77-9b8589f82941"
      },
      "execution_count": null,
      "outputs": [
        {
          "output_type": "stream",
          "name": "stdout",
          "text": [
            "[50, 10, 30, 20, 40]\n"
          ]
        }
      ]
    },
    {
      "cell_type": "code",
      "source": [
        "list = [10,20,30,40,50]\n",
        "n = 4\n",
        "\n",
        "mod_list = list[n:] + list[:n]\n",
        "print(mod_list)"
      ],
      "metadata": {
        "colab": {
          "base_uri": "https://localhost:8080/"
        },
        "id": "3Z5ISVo9XroF",
        "outputId": "fd0c0c42-ff4d-485d-e54b-1c3744822735"
      },
      "execution_count": null,
      "outputs": [
        {
          "output_type": "stream",
          "name": "stdout",
          "text": [
            "[50, 10, 20, 30, 40]\n"
          ]
        }
      ]
    },
    {
      "cell_type": "markdown",
      "source": [
        "32. Rotate a list to the right by `n` positions."
      ],
      "metadata": {
        "id": "ReD49ASRYdhq"
      }
    },
    {
      "cell_type": "code",
      "source": [
        "list = [10,20,30,40,50]\n",
        "n = 4\n",
        "\n",
        "mod_list = list[-n:] + list[:-n]\n",
        "print(mod_list)"
      ],
      "metadata": {
        "colab": {
          "base_uri": "https://localhost:8080/"
        },
        "id": "h8y63A_YU34S",
        "outputId": "68fa8807-0124-4e39-d308-2fd8f32c68ae"
      },
      "execution_count": null,
      "outputs": [
        {
          "output_type": "stream",
          "name": "stdout",
          "text": [
            "[20, 30, 40, 50, 10]\n"
          ]
        }
      ]
    },
    {
      "cell_type": "markdown",
      "source": [
        "33. Create a list of prime numbers up to 50."
      ],
      "metadata": {
        "id": "Ct1TsijwYnyu"
      }
    },
    {
      "cell_type": "code",
      "source": [
        "prime = []\n",
        "for i in range(2, 51):\n",
        "  for j in range(2, i):\n",
        "    if i % j == 0:\n",
        "      break\n",
        "  else:\n",
        "    prime.append(i)\n",
        "print(prime)"
      ],
      "metadata": {
        "id": "bGaQ8ye9YoU7"
      },
      "execution_count": null,
      "outputs": []
    },
    {
      "cell_type": "markdown",
      "source": [
        "34. Split a list into chunks of size `n`."
      ],
      "metadata": {
        "id": "OMIiFw-OOi2-"
      }
    },
    {
      "cell_type": "code",
      "source": [
        "list = [10,20,30,40,50,60,70,80,90,100]\n",
        "n = 3\n",
        "chunk_list = []\n",
        "for i in range(0, len(list),n):\n",
        "  chunk_list.append(list[i:i+n])\n",
        "\n",
        "print(chunk_list)"
      ],
      "metadata": {
        "colab": {
          "base_uri": "https://localhost:8080/"
        },
        "id": "iVe1gdw6OiW0",
        "outputId": "48fd6255-aaf5-4898-b7e0-4c867133ff8c"
      },
      "execution_count": null,
      "outputs": [
        {
          "output_type": "stream",
          "name": "stdout",
          "text": [
            "[[10, 20, 30], [40, 50, 60], [70, 80, 90], [100]]\n"
          ]
        }
      ]
    },
    {
      "cell_type": "markdown",
      "source": [
        "35. Find the second largest number in a list."
      ],
      "metadata": {
        "id": "BkayXWEfh6ko"
      }
    },
    {
      "cell_type": "code",
      "source": [
        "list_ele = [10, 20, 30, 50, 40, 60, 90, 70,90]\n",
        "unique_list = set(list_ele)\n",
        "# print(unique_list)\n",
        "print(sorted(list(unique_list))[-2])"
      ],
      "metadata": {
        "colab": {
          "base_uri": "https://localhost:8080/"
        },
        "id": "z3Lta9Ilh6PM",
        "outputId": "2a5dcd04-026a-48c9-ed89-9390a40e1366"
      },
      "execution_count": null,
      "outputs": [
        {
          "output_type": "stream",
          "name": "stdout",
          "text": [
            "{70, 40, 10, 50, 20, 90, 60, 30}\n",
            "70\n"
          ]
        }
      ]
    },
    {
      "cell_type": "markdown",
      "source": [
        "36. Replace every element in a list with its square."
      ],
      "metadata": {
        "id": "WQrhu_HDEsd1"
      }
    },
    {
      "cell_type": "code",
      "source": [
        "list_ele = list(range(1,11))\n",
        "print(list_ele)\n",
        "print((lambda collection : [i*i for i in collection])(list_ele))"
      ],
      "metadata": {
        "id": "3_Bx4YfEgM3k",
        "colab": {
          "base_uri": "https://localhost:8080/"
        },
        "outputId": "69117e5b-f08f-4b1c-ab69-3c5442cc19f2"
      },
      "execution_count": null,
      "outputs": [
        {
          "output_type": "stream",
          "name": "stdout",
          "text": [
            "[1, 2, 3, 4, 5, 6, 7, 8, 9, 10]\n",
            "[1, 4, 9, 16, 25, 36, 49, 64, 81, 100]\n"
          ]
        }
      ]
    },
    {
      "cell_type": "markdown",
      "source": [
        "37. Convert a list to a dictionary where list elements become keys and their\n",
        "indices become values."
      ],
      "metadata": {
        "id": "L3JaSGOjvbg5"
      }
    },
    {
      "cell_type": "code",
      "source": [
        "list_coll = [\"a\", \"b\", \"c\", \"d\"]\n",
        "dicti = {}\n",
        "for i, j in enumerate(list_coll):\n",
        "  dicti[j] = i\n",
        "print(dicti)"
      ],
      "metadata": {
        "id": "rVk1TXluFTkp",
        "colab": {
          "base_uri": "https://localhost:8080/"
        },
        "outputId": "728537fa-1f5f-41a0-a837-bcbce8b2b8b0"
      },
      "execution_count": null,
      "outputs": [
        {
          "output_type": "stream",
          "name": "stdout",
          "text": [
            "{'a': 0, 'b': 1, 'c': 2, 'd': 3}\n"
          ]
        }
      ]
    },
    {
      "cell_type": "markdown",
      "source": [
        "38. Shuffle the elements of a list randomly."
      ],
      "metadata": {
        "id": "tBHyb4sRdaoa"
      }
    },
    {
      "cell_type": "code",
      "source": [
        "import random as re\n",
        "list_ele = list(range(1, 11))\n",
        "re.shuffle(list_ele)\n",
        "print(list_ele)"
      ],
      "metadata": {
        "colab": {
          "base_uri": "https://localhost:8080/"
        },
        "id": "TxrzkpS-Fv30",
        "outputId": "f6050017-5754-4406-8a5b-323c93c56bf4"
      },
      "execution_count": null,
      "outputs": [
        {
          "output_type": "stream",
          "name": "stdout",
          "text": [
            "[6, 5, 9, 7, 1, 8, 4, 3, 2, 10]\n"
          ]
        }
      ]
    },
    {
      "cell_type": "markdown",
      "source": [
        "39. Create a list of the first 10 factorial numbers."
      ],
      "metadata": {
        "id": "yRNsE7hShWS9"
      }
    },
    {
      "cell_type": "code",
      "source": [
        "import math\n",
        "list_ele = list(range(1,11))\n",
        "fact_list = []\n",
        "for i in list_ele:\n",
        "  fact_list.append(math.factorial(i))\n",
        "print(fact_list)"
      ],
      "metadata": {
        "colab": {
          "base_uri": "https://localhost:8080/"
        },
        "id": "nSuoD5YSg-dR",
        "outputId": "65fb47a5-4244-49dc-c943-9de5f32fb06f"
      },
      "execution_count": null,
      "outputs": [
        {
          "output_type": "stream",
          "name": "stdout",
          "text": [
            "[1, 2, 6, 24, 120, 720, 5040, 40320, 362880, 3628800]\n"
          ]
        }
      ]
    },
    {
      "cell_type": "code",
      "source": [
        "def fact(n):\n",
        "  if n == 0:\n",
        "    return 1\n",
        "  else :\n",
        "    return n * fact(n-1)\n",
        "\n",
        "list(map(fact, list(range(1, 11))))"
      ],
      "metadata": {
        "colab": {
          "base_uri": "https://localhost:8080/"
        },
        "id": "rirMyOiXhn_9",
        "outputId": "fcff21a7-2203-4f8f-b340-f4345c2c10c8"
      },
      "execution_count": null,
      "outputs": [
        {
          "output_type": "execute_result",
          "data": {
            "text/plain": [
              "[1, 2, 6, 24, 120, 720, 5040, 40320, 362880, 3628800]"
            ]
          },
          "metadata": {},
          "execution_count": 67
        }
      ]
    },
    {
      "cell_type": "markdown",
      "source": [
        "40. Check if two lists have at least one element in common."
      ],
      "metadata": {
        "id": "KRT-FWq3t4Ge"
      }
    },
    {
      "cell_type": "code",
      "source": [
        "list_a = [1,2,3]\n",
        "list_b = [3,4,5]\n",
        "\n",
        "# converting into set\n",
        "list_a = set(list_a)\n",
        "list_b = set(list_b)\n",
        "\n",
        "if list_a.isdisjoint(list_b):\n",
        "  print(\"False\")\n",
        "else :\n",
        "  print(\"True\")\n"
      ],
      "metadata": {
        "colab": {
          "base_uri": "https://localhost:8080/"
        },
        "id": "zyPFfDGJrVnV",
        "outputId": "e85e2bf0-76ab-4000-b380-038e3c019ee9"
      },
      "execution_count": null,
      "outputs": [
        {
          "output_type": "stream",
          "name": "stdout",
          "text": [
            "True\n"
          ]
        }
      ]
    },
    {
      "cell_type": "markdown",
      "source": [
        "41. Remove all elements from a list."
      ],
      "metadata": {
        "id": "UEDCEQCvwS3K"
      }
    },
    {
      "cell_type": "code",
      "source": [
        "list_ele = [10, 20, 30, 50, 40, 60, 90, 70,90]\n",
        "print(\"before clearing :\", list_ele)\n",
        "\n",
        "list_ele.clear()\n",
        "print(\"after clearning list :\", list_ele)"
      ],
      "metadata": {
        "colab": {
          "base_uri": "https://localhost:8080/"
        },
        "id": "mAsnHO8Nrc_l",
        "outputId": "a126e25e-85d6-49d9-dad2-7d13bc4452a5"
      },
      "execution_count": null,
      "outputs": [
        {
          "output_type": "stream",
          "name": "stdout",
          "text": [
            "before clearing : [10, 20, 30, 50, 40, 60, 90, 70, 90]\n",
            "after clearning list : []\n"
          ]
        }
      ]
    },
    {
      "cell_type": "markdown",
      "source": [
        "42. Replace negative numbers in a list with 0."
      ],
      "metadata": {
        "id": "LX60bAaNw4-t"
      }
    },
    {
      "cell_type": "code",
      "source": [
        "list_ele = [10,11,-55,32,46,54,10,-7]\n",
        "print(\"Before updating list: \", list_ele)\n",
        "for i in range(len(list_ele)):\n",
        "  if list_ele[i] < 0:\n",
        "    list_ele[i] = 0\n",
        "\n",
        "print(\"After updaing list: \", list_ele)"
      ],
      "metadata": {
        "colab": {
          "base_uri": "https://localhost:8080/"
        },
        "id": "454nj6XmwW64",
        "outputId": "15806cab-8b0c-40f2-e8a1-fe389ad5c777"
      },
      "execution_count": null,
      "outputs": [
        {
          "output_type": "stream",
          "name": "stdout",
          "text": [
            "Before updating list:  [10, 11, -55, 32, 46, 54, 10, -7]\n",
            "After updaing list:  [10, 11, 0, 32, 46, 54, 10, 0]\n"
          ]
        }
      ]
    },
    {
      "cell_type": "markdown",
      "source": [
        "43. Convert a string into a list of words."
      ],
      "metadata": {
        "id": "m4hd5o-5-66f"
      }
    },
    {
      "cell_type": "code",
      "source": [
        "string = \"krishna is a good boy\"\n",
        "print(\"Before converting into list of word: \", string)\n",
        "word_string= string.split()\n",
        "print(\"After converting into list of word: \",word_string)"
      ],
      "metadata": {
        "colab": {
          "base_uri": "https://localhost:8080/"
        },
        "id": "KE86WfUwxekT",
        "outputId": "54666558-70c0-4fa2-c229-6726282f74c3"
      },
      "execution_count": null,
      "outputs": [
        {
          "output_type": "stream",
          "name": "stdout",
          "text": [
            "Before converting into list of word:  krishna is a good boy\n",
            "After converting into list of word:  ['krishna', 'is', 'a', 'good', 'boy']\n"
          ]
        }
      ]
    },
    {
      "cell_type": "markdown",
      "source": [
        "44. Convert a list of words into a string."
      ],
      "metadata": {
        "id": "AAbNYNy4FB8r"
      }
    },
    {
      "cell_type": "code",
      "source": [
        "word_string = ['krishna', 'is', 'a', 'good', 'boy']\n",
        "print(\"Before converting into string: \", word_string)\n",
        "com_string = \" \".join(word_string)\n",
        "print(\"After converting into string: \", com_string)"
      ],
      "metadata": {
        "colab": {
          "base_uri": "https://localhost:8080/"
        },
        "id": "ovJqH9Pg_Fa_",
        "outputId": "29b3d39c-47ba-42c8-f6d2-7b6869802cf0"
      },
      "execution_count": null,
      "outputs": [
        {
          "output_type": "stream",
          "name": "stdout",
          "text": [
            "Before converting into string:  ['krishna', 'is', 'a', 'good', 'boy']\n",
            "After converting into string:  krishna is a good boy\n"
          ]
        }
      ]
    },
    {
      "cell_type": "markdown",
      "source": [
        "45. Create a list of the first `n` powers of 2."
      ],
      "metadata": {
        "id": "d2vVxrb0GtOh"
      }
    },
    {
      "cell_type": "code",
      "source": [
        "first_n_list = lambda n : [i**2 for i in range(1, n+1)]\n",
        "n = 5\n",
        "# Print the list of powers of 2\n",
        "print(\"List of the first\", n, \"powers of 2:\", first_n_list(n))"
      ],
      "metadata": {
        "colab": {
          "base_uri": "https://localhost:8080/"
        },
        "id": "bgBrYZ2LF9RB",
        "outputId": "f8e2a161-4c44-4fd1-93d7-7c1a348a1983"
      },
      "execution_count": null,
      "outputs": [
        {
          "output_type": "stream",
          "name": "stdout",
          "text": [
            "List of the first 5 powers of 2: [1, 4, 9, 16, 25]\n"
          ]
        }
      ]
    },
    {
      "cell_type": "markdown",
      "source": [
        "46. Find the longest string in a list of strings."
      ],
      "metadata": {
        "id": "lOpYKgmpL0v-"
      }
    },
    {
      "cell_type": "code",
      "source": [
        "# Example list of strings\n",
        "string_list = [\"apple\", \"banana\", \"cherry\", \"fghjknnn\"]\n",
        "\n",
        "# Find the longest string in the list\n",
        "longest_string = \"\"\n",
        "for s in string_list:\n",
        "    if len(s) > len(longest_string):\n",
        "        longest_string = s\n",
        "    # if length is same then checking with max ascii value\n",
        "    elif len(s) == len(longest_string):\n",
        "        longest_string = max(s, longest_string)\n",
        "\n",
        "# Print the longest string\n",
        "print(\"Longest string:\", longest_string)"
      ],
      "metadata": {
        "colab": {
          "base_uri": "https://localhost:8080/"
        },
        "id": "QzASVcz1G8Gl",
        "outputId": "51e5d5a7-f082-481f-fa94-1a30b58b93d2"
      },
      "execution_count": null,
      "outputs": [
        {
          "output_type": "stream",
          "name": "stdout",
          "text": [
            "Longest string: fghjknnn\n"
          ]
        }
      ]
    },
    {
      "cell_type": "markdown",
      "source": [
        "47. Find the shortest string in a list of strings."
      ],
      "metadata": {
        "id": "jdoV6iQqN-u9"
      }
    },
    {
      "cell_type": "code",
      "source": [
        "# Example list of strings\n",
        "string_list = [\"apple\", \"banana\", \"cherry\", \"date\", \"data\",\"elderberry\"]\n",
        "\n",
        "# Find the shortest string in the list\n",
        "shortest_string = string_list[0]  # Initialize with the first string\n",
        "for s in string_list:\n",
        "    if len(s) < len(shortest_string):\n",
        "        shortest_string = s\n",
        "    elif len(s) == len(shortest_string):\n",
        "        small_string = min(s, shortest_string)\n",
        "\n",
        "# Print the shortest string\n",
        "print(\"Shortest string:\", shortest_string)"
      ],
      "metadata": {
        "colab": {
          "base_uri": "https://localhost:8080/"
        },
        "id": "sA_UMzHkMlku",
        "outputId": "5924c20f-8e94-4e1d-f653-7431a7e7037e"
      },
      "execution_count": null,
      "outputs": [
        {
          "output_type": "stream",
          "name": "stdout",
          "text": [
            "Shortest string: date\n"
          ]
        }
      ]
    },
    {
      "cell_type": "markdown",
      "source": [
        "48. Create a list of the first `n` triangular numbers."
      ],
      "metadata": {
        "id": "O_gvcoqVRiD5"
      }
    },
    {
      "cell_type": "code",
      "source": [
        "n = 5\n",
        "first_n_tri_num = [(i * (i+1))//2 for i in range(1, n+1)]\n",
        "print(\"List of the first\", n, \"triangular numbers:\", first_n_tri_num)"
      ],
      "metadata": {
        "colab": {
          "base_uri": "https://localhost:8080/"
        },
        "id": "vol0-lMfNCh6",
        "outputId": "e6fde469-c223-4cf8-e9c7-1a93928295d4"
      },
      "execution_count": null,
      "outputs": [
        {
          "output_type": "stream",
          "name": "stdout",
          "text": [
            "List of the first 5 triangular numbers: [1, 3, 6, 10, 15]\n"
          ]
        }
      ]
    },
    {
      "cell_type": "code",
      "source": [
        "def is_subsequence(main_list, sub_list):\n",
        "    \"\"\"Check if sub_list is a subsequence of main_list.\"\"\"\n",
        "    it = iter(main_list)\n",
        "    return all(element in it for element in sub_list)\n",
        "\n",
        "main_list = [1, 2, 3, 4, 5, 6]\n",
        "sub_list = [2, 4, 5]\n",
        "\n",
        "# Check if sub_list is a subsequence of main_list\n",
        "result = is_subsequence(main_list, sub_list)\n",
        "print(f\"Is the sub_list {sub_list} a subsequence of the main_list {main_list}? {result}\")"
      ],
      "metadata": {
        "colab": {
          "base_uri": "https://localhost:8080/"
        },
        "id": "T6IajpKWVVpF",
        "outputId": "96464151-c1f4-41da-e660-251ca7db43fd"
      },
      "execution_count": null,
      "outputs": [
        {
          "output_type": "stream",
          "name": "stdout",
          "text": [
            "Is the sub_list [2, 4, 5] a subsequence of the main_list [1, 2, 3, 4, 5, 6]? True\n"
          ]
        }
      ]
    },
    {
      "cell_type": "markdown",
      "source": [
        "50. Swap two elements in a list by their indices."
      ],
      "metadata": {
        "id": "EyzAqhrzCli0"
      }
    },
    {
      "cell_type": "code",
      "source": [
        "def swap_elements(lst, index1, index2):\n",
        "    \"\"\"Swap elements at index1 and index2 in the list lst.\"\"\"\n",
        "    if index1 >= 0 and index1 < len(lst) and index2 >= 0 and index2 < len(lst):\n",
        "        lst[index1], lst[index2] = lst[index2], lst[index1]\n",
        "    else:\n",
        "        print(\"Error: One or both indices are out of range.\")\n",
        "\n",
        "example_list = [10, 20, 30, 40, 50]\n",
        "\n",
        "# Indices to swap\n",
        "index1 = 1\n",
        "index2 = 3\n",
        "\n",
        "\n",
        "print(f\"Before swapping: {example_list}\")\n",
        "swap_elements(example_list, index1, index2)\n",
        "print(f\"After swapping: {example_list}\")"
      ],
      "metadata": {
        "colab": {
          "base_uri": "https://localhost:8080/"
        },
        "id": "9173oXiaVVe1",
        "outputId": "4d26da54-9ca4-499e-d68c-e646d5f29970"
      },
      "execution_count": null,
      "outputs": [
        {
          "output_type": "stream",
          "name": "stdout",
          "text": [
            "Before swapping: [10, 20, 30, 40, 50]\n",
            "After swapping: [10, 40, 30, 20, 50]\n"
          ]
        }
      ]
    },
    {
      "cell_type": "markdown",
      "source": [],
      "metadata": {
        "id": "0NcZereUdfzn"
      }
    },
    {
      "cell_type": "markdown",
      "source": [
        "# Tuple Based Practice Problem"
      ],
      "metadata": {
        "id": "53aEWfbwdgmI"
      }
    },
    {
      "cell_type": "markdown",
      "source": [
        "1. Create a tuple with integers from 1 to 5."
      ],
      "metadata": {
        "id": "VSOQwIOzdnPm"
      }
    },
    {
      "cell_type": "code",
      "source": [
        "# creating tuple\n",
        "t = tuple(range(1,6))\n",
        "print(\"tuple with integers from 1 to 5.: \",t)"
      ],
      "metadata": {
        "colab": {
          "base_uri": "https://localhost:8080/"
        },
        "id": "vbmZvY2LdnbL",
        "outputId": "f05051a5-0701-43ae-eb50-55104123464c"
      },
      "execution_count": null,
      "outputs": [
        {
          "output_type": "stream",
          "name": "stdout",
          "text": [
            "tuple with integers from 1 to 5.:  (1, 2, 3, 4, 5)\n"
          ]
        }
      ]
    },
    {
      "cell_type": "markdown",
      "source": [
        "2. Access the third element of a tuple."
      ],
      "metadata": {
        "id": "8In271eDd2YO"
      }
    },
    {
      "cell_type": "code",
      "source": [
        "tup = (10,20,30,40)\n",
        "print(\"Accessing the third element: \", tup[2])"
      ],
      "metadata": {
        "colab": {
          "base_uri": "https://localhost:8080/"
        },
        "id": "Ot0ylS-Bdrlf",
        "outputId": "f4e0a2a8-e9ae-4574-a274-4239a10ddccf"
      },
      "execution_count": null,
      "outputs": [
        {
          "output_type": "stream",
          "name": "stdout",
          "text": [
            "Accessing the third element:  30\n"
          ]
        }
      ]
    },
    {
      "cell_type": "markdown",
      "source": [
        "3. Find the length of a tuple without using the `len()` function."
      ],
      "metadata": {
        "id": "VO5YhQNHoOfI"
      }
    },
    {
      "cell_type": "code",
      "source": [
        "tup = (1,2,3,4,5,6,7,8,9,10)\n",
        "counter = 0\n",
        "for _ in tup:\n",
        "  counter += 1\n",
        "\n",
        "print(\"the length of tup is: \", counter)"
      ],
      "metadata": {
        "colab": {
          "base_uri": "https://localhost:8080/"
        },
        "id": "JgMjArUioJ0m",
        "outputId": "bb5a4ab0-4dd9-4c44-aa56-bf8be845b13b"
      },
      "execution_count": null,
      "outputs": [
        {
          "output_type": "stream",
          "name": "stdout",
          "text": [
            "the length of tup is:  10\n"
          ]
        }
      ]
    },
    {
      "cell_type": "markdown",
      "source": [
        "4. Count the occurrences of an element in a tuple."
      ],
      "metadata": {
        "id": "HRnjAK9movnG"
      }
    },
    {
      "cell_type": "code",
      "source": [
        "tup = (1,2,3,4,5,6,7,8,9,1, 2, 5, 20, 2)\n",
        "\n",
        "# which element want to find\n",
        "n = 2\n",
        "print(f\"the value '{n}' is occured '{tup.count(n)}'times ina tuple\")"
      ],
      "metadata": {
        "colab": {
          "base_uri": "https://localhost:8080/"
        },
        "id": "0SkAWQmfokFi",
        "outputId": "bc7dde83-1986-4160-e0f5-c70a0b6daffe"
      },
      "execution_count": null,
      "outputs": [
        {
          "output_type": "stream",
          "name": "stdout",
          "text": [
            "the value '2' is occured '3'times ina tuple\n"
          ]
        }
      ]
    },
    {
      "cell_type": "markdown",
      "source": [
        "5. Find the index of the first occurrence of an element in a tuple."
      ],
      "metadata": {
        "id": "1AbZ-9t6pdG2"
      }
    },
    {
      "cell_type": "code",
      "source": [
        "tup = (1,2,3,4,5,6,7,8,9,1, 2, 5, 20, 2)\n",
        "\n",
        "# element to find the index\n",
        "n = 2\n",
        "print(f\"the value '{n}' of first occuranced index is '{tup.index(n)}'\")"
      ],
      "metadata": {
        "colab": {
          "base_uri": "https://localhost:8080/"
        },
        "id": "CGowbw5-o5tA",
        "outputId": "d042ce0a-975f-479a-b7f9-139dc1915fa1"
      },
      "execution_count": null,
      "outputs": [
        {
          "output_type": "stream",
          "name": "stdout",
          "text": [
            "the value '2' of first occuranced index is '1'\n"
          ]
        }
      ]
    },
    {
      "cell_type": "markdown",
      "source": [
        "6. Check if an element exists in a tuple."
      ],
      "metadata": {
        "id": "qeokkgw3p70E"
      }
    },
    {
      "cell_type": "code",
      "source": [
        "tup = (1,2,3,4,5,6,7,8,9,1, 2, 5, 20, 2)\n",
        "\n",
        "# element to find\n",
        "n = 100\n",
        "\n",
        "if n in tup:\n",
        "  print(f\"The element '{n}' is exist\")\n",
        "else :\n",
        "  print(f\"The element '{n}' is not exist\")"
      ],
      "metadata": {
        "colab": {
          "base_uri": "https://localhost:8080/"
        },
        "id": "tvwD8GdrpzOU",
        "outputId": "2d54a5ef-d745-4295-dcf0-66d48bcf4283"
      },
      "execution_count": null,
      "outputs": [
        {
          "output_type": "stream",
          "name": "stdout",
          "text": [
            "The element '100' is not exist\n"
          ]
        }
      ]
    },
    {
      "cell_type": "markdown",
      "source": [
        "7. Convert a tuple to a list."
      ],
      "metadata": {
        "id": "mhecpIz3qWXm"
      }
    },
    {
      "cell_type": "code",
      "source": [
        "tup = (1,2,3,4,5,6,7,8,9,1, 2, 5, 20, 2)\n",
        "print(\"Before converting: \", type(tup), \":\", tup)\n",
        "\n",
        "con_list = list(tup)\n",
        "print(\"After converting: \", type(con_list), \":\", con_list)"
      ],
      "metadata": {
        "colab": {
          "base_uri": "https://localhost:8080/"
        },
        "id": "4iL9_J6-qByH",
        "outputId": "aa362112-0e02-4bc0-a705-e4edd9e043c9"
      },
      "execution_count": null,
      "outputs": [
        {
          "output_type": "stream",
          "name": "stdout",
          "text": [
            "Before converting:  <class 'tuple'> : (1, 2, 3, 4, 5, 6, 7, 8, 9, 1, 2, 5, 20, 2)\n",
            "After converting:  <class 'list'> : [1, 2, 3, 4, 5, 6, 7, 8, 9, 1, 2, 5, 20, 2]\n"
          ]
        }
      ]
    },
    {
      "cell_type": "markdown",
      "source": [
        "8. Convert a list to a tuple."
      ],
      "metadata": {
        "id": "gIH_ndc-qs9y"
      }
    },
    {
      "cell_type": "code",
      "source": [
        "print(\"Before converting: \", type(con_list), \":\", con_list)\n",
        "\n",
        "con_tup = tuple(con_list)\n",
        "print(\"After converting: \", type(con_tup), \":\", con_tup)"
      ],
      "metadata": {
        "colab": {
          "base_uri": "https://localhost:8080/"
        },
        "id": "VD4Eon7rqkY8",
        "outputId": "5fc9ef28-b017-4835-db49-65fb6d8dcb61"
      },
      "execution_count": null,
      "outputs": [
        {
          "output_type": "stream",
          "name": "stdout",
          "text": [
            "Before converting:  <class 'list'> : [1, 2, 3, 4, 5, 6, 7, 8, 9, 1, 2, 5, 20, 2]\n",
            "After converting:  <class 'tuple'> : (1, 2, 3, 4, 5, 6, 7, 8, 9, 1, 2, 5, 20, 2)\n"
          ]
        }
      ]
    },
    {
      "cell_type": "markdown",
      "source": [
        "9. Unpack the elements of a tuple into variables."
      ],
      "metadata": {
        "id": "DxqapKI7rY2N"
      }
    },
    {
      "cell_type": "code",
      "source": [
        "tup = (10, 20, 30)\n",
        "print(\"Before packing: \", tup)\n",
        "tup1, tup2, tup3 = tup\n",
        "print(\"After unpacking: \", tup1, tup2, tup3, sep=\"\\n\")"
      ],
      "metadata": {
        "colab": {
          "base_uri": "https://localhost:8080/"
        },
        "id": "HLONIWkkrZCW",
        "outputId": "683aa930-5ce5-48e1-f3f6-3b62179a495b"
      },
      "execution_count": null,
      "outputs": [
        {
          "output_type": "stream",
          "name": "stdout",
          "text": [
            "Before packing:  (10, 20, 30)\n",
            "After unpacking: \n",
            "10\n",
            "20\n",
            "30\n"
          ]
        }
      ]
    },
    {
      "cell_type": "markdown",
      "source": [
        "10. Create a tuple of even numbers from 1 to 10."
      ],
      "metadata": {
        "id": "NXjmRyjcG277"
      }
    },
    {
      "cell_type": "code",
      "source": [
        "tup = tuple(range(1, 11))\n",
        "print(\"Before filtering: \", tup)\n",
        "print(\"After filtering even numbers\", tuple([i for i in tup if i%2 == 0]))"
      ],
      "metadata": {
        "colab": {
          "base_uri": "https://localhost:8080/"
        },
        "id": "cO3NcxLWGxPF",
        "outputId": "60ba9111-0362-4628-a356-fe3f6465868b"
      },
      "execution_count": null,
      "outputs": [
        {
          "output_type": "stream",
          "name": "stdout",
          "text": [
            "Before filtering:  (1, 2, 3, 4, 5, 6, 7, 8, 9, 10)\n",
            "After filtering even numbers (2, 4, 6, 8, 10)\n"
          ]
        }
      ]
    },
    {
      "cell_type": "markdown",
      "source": [
        "11. Create a tuple of odd numbers from 1 to 10."
      ],
      "metadata": {
        "id": "Pt6XuQixIPEP"
      }
    },
    {
      "cell_type": "code",
      "source": [
        "tup = tuple(range(1, 11))\n",
        "print(\"Before filtering: \", tup)\n",
        "print(\"After filtering odd numbers\", tuple([i for i in tup if i%2 != 0]))"
      ],
      "metadata": {
        "colab": {
          "base_uri": "https://localhost:8080/"
        },
        "id": "Bfb6aAkEISiR",
        "outputId": "4f30acee-3d9f-46f9-9bdf-6e9258de1eed"
      },
      "execution_count": null,
      "outputs": [
        {
          "output_type": "stream",
          "name": "stdout",
          "text": [
            "Before filtering:  (1, 2, 3, 4, 5, 6, 7, 8, 9, 10)\n",
            "After filtering odd numbers (1, 3, 5, 7, 9)\n"
          ]
        }
      ]
    },
    {
      "cell_type": "markdown",
      "source": [
        "12. Concatenate two tuples."
      ],
      "metadata": {
        "id": "3mT10mMpIp2t"
      }
    },
    {
      "cell_type": "code",
      "source": [
        "tup1 = (1,2,3)\n",
        "tup2 = (4,5,6)\n",
        "con_tup = tup1 + tup2\n",
        "print(\"after concatenating 2 tuples: \", con_tup)"
      ],
      "metadata": {
        "colab": {
          "base_uri": "https://localhost:8080/"
        },
        "id": "3ZGUs5SvIWTx",
        "outputId": "ef951ba8-1d7a-41db-e0b6-fd27cc48d200"
      },
      "execution_count": null,
      "outputs": [
        {
          "output_type": "stream",
          "name": "stdout",
          "text": [
            "after concatenating 2 tuples:  (1, 2, 3, 4, 5, 6)\n"
          ]
        }
      ]
    },
    {
      "cell_type": "markdown",
      "source": [
        "13. Repeat a tuple three times."
      ],
      "metadata": {
        "id": "goXLQaROJJMq"
      }
    },
    {
      "cell_type": "code",
      "source": [
        "tup = (1,2,3)\n",
        "print(\"before repeating tuple: \", tup)\n",
        "print(\"after repeating 3 times: \", tup*3)"
      ],
      "metadata": {
        "colab": {
          "base_uri": "https://localhost:8080/"
        },
        "id": "6Tc59IwzI4RO",
        "outputId": "6cbb60c3-3952-4a7d-826e-b0c43849a0d8"
      },
      "execution_count": null,
      "outputs": [
        {
          "output_type": "stream",
          "name": "stdout",
          "text": [
            "before repeating tuple:  (1, 2, 3)\n",
            "after repeating 3 times:  (1, 2, 3, 1, 2, 3, 1, 2, 3)\n"
          ]
        }
      ]
    },
    {
      "cell_type": "markdown",
      "source": [
        "14. Check if a tuple is empty."
      ],
      "metadata": {
        "id": "LcFlR9eUJbLV"
      }
    },
    {
      "cell_type": "code",
      "source": [
        "tup = ()\n",
        "if tup:\n",
        "  print(\"It not empty\")\n",
        "else :\n",
        "  print(\"it is empty\")"
      ],
      "metadata": {
        "colab": {
          "base_uri": "https://localhost:8080/"
        },
        "id": "FwUSoPBDJVdk",
        "outputId": "e7d5a5aa-11e6-4bd2-ace4-0ed4cae5a02e"
      },
      "execution_count": null,
      "outputs": [
        {
          "output_type": "stream",
          "name": "stdout",
          "text": [
            "it is empty\n"
          ]
        }
      ]
    },
    {
      "cell_type": "markdown",
      "source": [
        "15. Create a nested tuple."
      ],
      "metadata": {
        "id": "7fS66ZOk_YG8"
      }
    },
    {
      "cell_type": "code",
      "source": [
        "# Step 1: Create a nested tuple\n",
        "nested_tuple = ((1, 2, 3), ('a', 'b', 'c'), (True, False))\n",
        "\n",
        "# Step 2: Print the nested tuple\n",
        "print(\"Nested tuple:\", nested_tuple)"
      ],
      "metadata": {
        "colab": {
          "base_uri": "https://localhost:8080/"
        },
        "id": "w3RHZXEhJnOt",
        "outputId": "954f6cea-5c59-4c9a-d7a4-8331d34a595e"
      },
      "execution_count": null,
      "outputs": [
        {
          "output_type": "stream",
          "name": "stdout",
          "text": [
            "Nested tuple: ((1, 2, 3), ('a', 'b', 'c'), (True, False))\n"
          ]
        }
      ]
    },
    {
      "cell_type": "markdown",
      "source": [
        "16. Access the first element of a nested tuple."
      ],
      "metadata": {
        "id": "sYCO7uW9_pZS"
      }
    },
    {
      "cell_type": "code",
      "source": [
        "# Step 1: Create a nested tuple\n",
        "nested_tuple = ((1, 2, 3), ('a', 'b', 'c'), (True, False))\n",
        "\n",
        "# Step 2: Access the first element of the nested tuple\n",
        "first_element = nested_tuple[0]\n",
        "\n",
        "# Step 3: Print the first element\n",
        "print(\"First element of the nested tuple:\", first_element)"
      ],
      "metadata": {
        "colab": {
          "base_uri": "https://localhost:8080/"
        },
        "id": "XHmUJQqcJqxG",
        "outputId": "c774f25f-0da0-4f17-bd83-2a697bcabe67"
      },
      "execution_count": null,
      "outputs": [
        {
          "output_type": "stream",
          "name": "stdout",
          "text": [
            "First element of the nested tuple: (1, 2, 3)\n"
          ]
        }
      ]
    },
    {
      "cell_type": "markdown",
      "source": [
        "17. Create a tuple with a single element."
      ],
      "metadata": {
        "id": "x9Za6sG1_u8T"
      }
    },
    {
      "cell_type": "code",
      "source": [
        "# Step 1: Create a tuple with a single element\n",
        "single_element_tuple = (42,)  # Note the trailing comma\n",
        "\n",
        "# Step 2: Print the single element tuple\n",
        "print(\"Single element tuple:\", single_element_tuple)"
      ],
      "metadata": {
        "colab": {
          "base_uri": "https://localhost:8080/"
        },
        "id": "SmMWFpIS_sJ9",
        "outputId": "5bfb23fe-1dcc-4464-b71f-6cf5bfbd4172"
      },
      "execution_count": null,
      "outputs": [
        {
          "output_type": "stream",
          "name": "stdout",
          "text": [
            "Single element tuple: (42,)\n"
          ]
        }
      ]
    },
    {
      "cell_type": "markdown",
      "source": [
        "18. Compare two tuples."
      ],
      "metadata": {
        "id": "g0PoGnJX_zJy"
      }
    },
    {
      "cell_type": "code",
      "source": [
        "# Step 1: Create two tuples\n",
        "tuple1 = (1, 2, 3)\n",
        "tuple2 = (1, 2, 4)\n",
        "\n",
        "# Step 2: Compare the two tuples using comparison operators\n",
        "print(\"tuple1 == tuple2:\", tuple1 == tuple2)  # Equality check\n",
        "print(\"tuple1 != tuple2:\", tuple1 != tuple2)  # Inequality check\n",
        "print(\"tuple1 < tuple2:\", tuple1 < tuple2)    # Less than check\n",
        "print(\"tuple1 <= tuple2:\", tuple1 <= tuple2)  # Less than or equal to check\n",
        "print(\"tuple1 > tuple2:\", tuple1 > tuple2)    # Greater than check\n",
        "print(\"tuple1 >= tuple2:\", tuple1 >= tuple2)  # Greater than or equal to check"
      ],
      "metadata": {
        "colab": {
          "base_uri": "https://localhost:8080/"
        },
        "id": "EANFs9iK_xHD",
        "outputId": "61afaab2-f713-4245-9033-bc707af77408"
      },
      "execution_count": null,
      "outputs": [
        {
          "output_type": "stream",
          "name": "stdout",
          "text": [
            "tuple1 == tuple2: False\n",
            "tuple1 != tuple2: True\n",
            "tuple1 < tuple2: True\n",
            "tuple1 <= tuple2: True\n",
            "tuple1 > tuple2: False\n",
            "tuple1 >= tuple2: False\n"
          ]
        }
      ]
    },
    {
      "cell_type": "markdown",
      "source": [
        "19. Delete a tuple."
      ],
      "metadata": {
        "id": "VhBtEYXTAUI9"
      }
    },
    {
      "cell_type": "code",
      "source": [
        "# Step 1: Create a tuple\n",
        "my_tuple = (1, 2, 3, 4, 5)\n",
        "\n",
        "# Step 2: Delete the tuple using the 'del' statement\n",
        "del my_tuple\n",
        "\n",
        "# Step 3: Try to access the tuple (will raise a NameError)\n",
        "print(my_tuple)"
      ],
      "metadata": {
        "colab": {
          "base_uri": "https://localhost:8080/",
          "height": 176
        },
        "id": "mtgzQFCxANhE",
        "outputId": "b23e44a6-e3a1-4ade-d43f-bc9696af86c0"
      },
      "execution_count": null,
      "outputs": [
        {
          "output_type": "error",
          "ename": "NameError",
          "evalue": "name 'my_tuple' is not defined",
          "traceback": [
            "\u001b[0;31m---------------------------------------------------------------------------\u001b[0m",
            "\u001b[0;31mNameError\u001b[0m                                 Traceback (most recent call last)",
            "\u001b[0;32m<ipython-input-8-c1d45cd25891>\u001b[0m in \u001b[0;36m<cell line: 8>\u001b[0;34m()\u001b[0m\n\u001b[1;32m      6\u001b[0m \u001b[0;34m\u001b[0m\u001b[0m\n\u001b[1;32m      7\u001b[0m \u001b[0;31m# Step 3: Try to access the tuple (will raise a NameError)\u001b[0m\u001b[0;34m\u001b[0m\u001b[0;34m\u001b[0m\u001b[0m\n\u001b[0;32m----> 8\u001b[0;31m \u001b[0mprint\u001b[0m\u001b[0;34m(\u001b[0m\u001b[0mmy_tuple\u001b[0m\u001b[0;34m)\u001b[0m\u001b[0;34m\u001b[0m\u001b[0;34m\u001b[0m\u001b[0m\n\u001b[0m",
            "\u001b[0;31mNameError\u001b[0m: name 'my_tuple' is not defined"
          ]
        }
      ]
    },
    {
      "cell_type": "markdown",
      "source": [
        "20. Slice a tuple."
      ],
      "metadata": {
        "id": "SH-eskAgAe5i"
      }
    },
    {
      "cell_type": "code",
      "source": [
        "# Step 1: Create a tuple\n",
        "my_tuple = (1, 2, 3, 4, 5, 6, 7, 8, 9, 10)\n",
        "\n",
        "# Step 2: Slice the tuple to get a portion of it\n",
        "sliced_tuple = my_tuple[2:6]  # Elements from index 2 to 5 (end index is exclusive)\n",
        "\n",
        "# Step 3: Print the sliced tuple\n",
        "print(\"Sliced tuple:\", sliced_tuple)"
      ],
      "metadata": {
        "colab": {
          "base_uri": "https://localhost:8080/"
        },
        "id": "x5Y1UrhrAb3B",
        "outputId": "a3aa7d03-0eea-48c4-c1e6-c46947058b31"
      },
      "execution_count": null,
      "outputs": [
        {
          "output_type": "stream",
          "name": "stdout",
          "text": [
            "Sliced tuple: (3, 4, 5, 6)\n"
          ]
        }
      ]
    },
    {
      "cell_type": "markdown",
      "source": [
        "21. Find the maximum value in a tuple."
      ],
      "metadata": {
        "id": "9FD00fPuAkls"
      }
    },
    {
      "cell_type": "code",
      "source": [
        "# Step 1: Create a tuple\n",
        "my_tuple = (10, 20, 5, 45, 30)\n",
        "\n",
        "# Step 2: Find the maximum value in the tuple using the 'max()' function\n",
        "max_value = max(my_tuple)\n",
        "\n",
        "# Step 3: Print the maximum value\n",
        "print(\"Maximum value:\", max_value)"
      ],
      "metadata": {
        "colab": {
          "base_uri": "https://localhost:8080/"
        },
        "id": "fM_AHIuiAiO8",
        "outputId": "f3e2fb09-8fab-486a-e08f-f621780f2818"
      },
      "execution_count": null,
      "outputs": [
        {
          "output_type": "stream",
          "name": "stdout",
          "text": [
            "Maximum value: 45\n"
          ]
        }
      ]
    },
    {
      "cell_type": "markdown",
      "source": [
        "22. Find the minimum value in a tuple."
      ],
      "metadata": {
        "id": "3h_MvrsyAo6O"
      }
    },
    {
      "cell_type": "code",
      "source": [
        "# Step 1: Create a tuple\n",
        "my_tuple = (10, 20, 5, 45, 30)\n",
        "\n",
        "# Step 2: Find the minimum value in the tuple using the 'min()' function\n",
        "min_value = min(my_tuple)\n",
        "\n",
        "# Step 3: Print the minimum value\n",
        "print(\"Minimum value:\", min_value)"
      ],
      "metadata": {
        "colab": {
          "base_uri": "https://localhost:8080/"
        },
        "id": "WLcZ2M_qAmvF",
        "outputId": "57f97fbf-5e72-4836-e59c-71c6822faedf"
      },
      "execution_count": null,
      "outputs": [
        {
          "output_type": "stream",
          "name": "stdout",
          "text": [
            "Minimum value: 5\n"
          ]
        }
      ]
    },
    {
      "cell_type": "markdown",
      "source": [
        "23. Convert a string to a tuple of characters."
      ],
      "metadata": {
        "id": "DXnsvKpkAu1M"
      }
    },
    {
      "cell_type": "code",
      "source": [
        "# Step 1: Create a string\n",
        "my_string = \"Hello, World!\"\n",
        "\n",
        "# Step 2: Convert the string to a tuple of characters\n",
        "tuple_of_characters = tuple(my_string)\n",
        "\n",
        "# Step 3: Print the tuple of characters\n",
        "print(\"Tuple of characters:\", tuple_of_characters)"
      ],
      "metadata": {
        "colab": {
          "base_uri": "https://localhost:8080/"
        },
        "id": "9ixr_eaAArJV",
        "outputId": "fe318b28-6f25-4d26-e99f-48153888c336"
      },
      "execution_count": null,
      "outputs": [
        {
          "output_type": "stream",
          "name": "stdout",
          "text": [
            "Tuple of characters: ('H', 'e', 'l', 'l', 'o', ',', ' ', 'W', 'o', 'r', 'l', 'd', '!')\n"
          ]
        }
      ]
    },
    {
      "cell_type": "markdown",
      "source": [
        "24. Convert a tuple of characters to a string."
      ],
      "metadata": {
        "id": "tQaOJKifBIEf"
      }
    },
    {
      "cell_type": "code",
      "source": [
        "# Step 1: Create a tuple of characters\n",
        "tuple_of_characters = ('H', 'e', 'l', 'l', 'o', ' ', 'W', 'o', 'r', 'l', 'd', '!')\n",
        "\n",
        "# Step 2: Convert the tuple of characters to a string using the 'join()' method\n",
        "string_from_tuple = ''.join(tuple_of_characters)\n",
        "\n",
        "# Step 3: Print the resulting string\n",
        "print(\"String from tuple:\", string_from_tuple)"
      ],
      "metadata": {
        "colab": {
          "base_uri": "https://localhost:8080/"
        },
        "id": "5P2jFsP6A8bL",
        "outputId": "2bd2d2d6-c47c-414c-b9a1-7fc25434d9cb"
      },
      "execution_count": null,
      "outputs": [
        {
          "output_type": "stream",
          "name": "stdout",
          "text": [
            "String from tuple: Hello World!\n"
          ]
        }
      ]
    },
    {
      "cell_type": "markdown",
      "source": [
        "25. Create a tuple from multiple data types."
      ],
      "metadata": {
        "id": "F6cGZDNFBio5"
      }
    },
    {
      "cell_type": "code",
      "source": [
        "# Creating a tuple with elements of different data types\n",
        "mixed_tuple = (1, \"hello\", 3.14, True)\n",
        "\n",
        "# Printing the tuple\n",
        "print(mixed_tuple)"
      ],
      "metadata": {
        "colab": {
          "base_uri": "https://localhost:8080/"
        },
        "id": "w3ZTxkRXA_Cn",
        "outputId": "9aa1fc3f-3171-47ca-8f6e-47383471180b"
      },
      "execution_count": null,
      "outputs": [
        {
          "output_type": "stream",
          "name": "stdout",
          "text": [
            "(1, 'hello', 3.14, True)\n"
          ]
        }
      ]
    },
    {
      "cell_type": "markdown",
      "source": [
        "26. Check if two tuples are identical."
      ],
      "metadata": {
        "id": "sL7Wfw3YBidR"
      }
    },
    {
      "cell_type": "code",
      "source": [
        "# Step 1: Create two tuples\n",
        "tuple1 = (1, 2, 3)\n",
        "tuple2 = (1, 2, 3)\n",
        "tuple3 = (4, 5, 6)\n",
        "\n",
        "# Step 2: Compare the tuples for identity using the equality operator\n",
        "are_identical1 = tuple1 == tuple2\n",
        "are_identical2 = tuple1 == tuple3\n",
        "\n",
        "# Step 3: Print the results\n",
        "print(\"tuple1 and tuple2 are identical:\", are_identical1)\n",
        "print(\"tuple1 and tuple3 are identical:\", are_identical2)"
      ],
      "metadata": {
        "colab": {
          "base_uri": "https://localhost:8080/"
        },
        "id": "xfSgjrzvA_Lf",
        "outputId": "e99a647b-2e97-4e92-f4e5-6cbf502394ea"
      },
      "execution_count": null,
      "outputs": [
        {
          "output_type": "stream",
          "name": "stdout",
          "text": [
            "tuple1 and tuple2 are identical: True\n",
            "tuple1 and tuple3 are identical: False\n"
          ]
        }
      ]
    },
    {
      "cell_type": "markdown",
      "source": [
        "27. Sort the elements of a tuple."
      ],
      "metadata": {
        "id": "iVSd16GsB0_j"
      }
    },
    {
      "cell_type": "code",
      "source": [
        "# Step 1: Create a tuple\n",
        "my_tuple = (5, 2, 8, 1, 3)\n",
        "\n",
        "# Step 2: Convert the tuple to a list, sort the list, and convert it back to a tuple\n",
        "sorted_tuple = tuple(sorted(my_tuple))\n",
        "\n",
        "# Step 3: Print the sorted tuple\n",
        "print(\"Sorted tuple:\", sorted_tuple)"
      ],
      "metadata": {
        "colab": {
          "base_uri": "https://localhost:8080/"
        },
        "id": "zNOKwaXsBvrw",
        "outputId": "ce61d713-e2e2-404f-99ef-23c46bb790a9"
      },
      "execution_count": null,
      "outputs": [
        {
          "output_type": "stream",
          "name": "stdout",
          "text": [
            "Sorted tuple: (1, 2, 3, 5, 8)\n"
          ]
        }
      ]
    },
    {
      "cell_type": "markdown",
      "source": [
        "28. Convert a tuple of integers to a tuple of strings."
      ],
      "metadata": {
        "id": "mhjhFfutCGu6"
      }
    },
    {
      "cell_type": "code",
      "source": [
        "# Step 1: Create a tuple of integers\n",
        "tuple_of_integers = (1, 2, 3, 4, 5)\n",
        "\n",
        "# Step 2: Convert the tuple of integers to a tuple of strings using a list comprehension\n",
        "tuple_of_strings = tuple(str(ele) for ele in tuple_of_integers)\n",
        "\n",
        "# Step 3: Print the tuple of strings\n",
        "print(\"Tuple of strings:\", tuple_of_strings)"
      ],
      "metadata": {
        "colab": {
          "base_uri": "https://localhost:8080/"
        },
        "id": "JdyMkJyOB7M7",
        "outputId": "2a118f9e-739f-4b9c-a10b-4da3c3015ac9"
      },
      "execution_count": null,
      "outputs": [
        {
          "output_type": "stream",
          "name": "stdout",
          "text": [
            "Tuple of strings: ('1', '2', '3', '4', '5')\n"
          ]
        }
      ]
    },
    {
      "cell_type": "markdown",
      "source": [
        "29. Convert a tuple of strings to a tuple of integers."
      ],
      "metadata": {
        "id": "-zosIMKSCsWG"
      }
    },
    {
      "cell_type": "code",
      "source": [
        "# Step 1: Create a tuple of strings\n",
        "tuple_of_strings = ('10', '20', '30', '40', '50')\n",
        "\n",
        "# Step 2: Convert the tuple of strings to a tuple of integers using a list comprehension\n",
        "tuple_of_integers = tuple(int(item) for item in tuple_of_strings)\n",
        "\n",
        "# Step 3: Print the tuple of integers\n",
        "print(\"Tuple of integers:\", tuple_of_integers)"
      ],
      "metadata": {
        "colab": {
          "base_uri": "https://localhost:8080/"
        },
        "id": "aqM72z3ZCWzB",
        "outputId": "71aa66ed-45a3-4f40-ab9b-aee2782ec634"
      },
      "execution_count": null,
      "outputs": [
        {
          "output_type": "stream",
          "name": "stdout",
          "text": [
            "Tuple of integers: (10, 20, 30, 40, 50)\n"
          ]
        }
      ]
    },
    {
      "cell_type": "markdown",
      "source": [
        "30. Merge two tuples."
      ],
      "metadata": {
        "id": "9x752Zt2Crv6"
      }
    },
    {
      "cell_type": "code",
      "source": [
        "# Step 1: Create two tuples\n",
        "tuple1 = (1, 2, 3)\n",
        "tuple2 = (4, 5, 6)\n",
        "\n",
        "# Step 2: Merge the two tuples using the '+' operator\n",
        "merged_tuple = tuple1 + tuple2\n",
        "\n",
        "# Step 3: Print the merged tuple\n",
        "print(\"Merged tuple:\", merged_tuple)"
      ],
      "metadata": {
        "colab": {
          "base_uri": "https://localhost:8080/"
        },
        "id": "gE1MpRSPC4h7",
        "outputId": "4382ee83-3493-43e0-ed6f-a64a5d855e1c"
      },
      "execution_count": null,
      "outputs": [
        {
          "output_type": "stream",
          "name": "stdout",
          "text": [
            "Merged tuple: (1, 2, 3, 4, 5, 6)\n"
          ]
        }
      ]
    },
    {
      "cell_type": "markdown",
      "source": [
        "31. Flatten a nested tuple."
      ],
      "metadata": {
        "id": "zXDiZF29C9kX"
      }
    },
    {
      "cell_type": "code",
      "source": [
        "# nested tuple\n",
        "nested_tuple = (1, 2, (3, (4, 5)))\n",
        "\n",
        "def flatten_tuple(nested_tuple):\n",
        "  flat_tuple = []\n",
        "  nested_tuple = list(nested_tuple)\n",
        "  for ele in nested_tuple:\n",
        "    if isinstance(ele, tuple):\n",
        "      flat_tuple.extend(flatten_tuple(ele))\n",
        "    else:\n",
        "      flat_tuple.append(ele)\n",
        "  flat_tuple = tuple(flat_tuple)\n",
        "  return flat_tuple\n",
        "\n",
        "flatten_tuple(nested_tuple)"
      ],
      "metadata": {
        "colab": {
          "base_uri": "https://localhost:8080/"
        },
        "id": "d_2HYiGqC6eP",
        "outputId": "37e7f3d3-f0d1-4143-e35c-c207391587fd"
      },
      "execution_count": null,
      "outputs": [
        {
          "output_type": "execute_result",
          "data": {
            "text/plain": [
              "(1, 2, 3, 4, 5)"
            ]
          },
          "metadata": {},
          "execution_count": 5
        }
      ]
    },
    {
      "cell_type": "markdown",
      "source": [
        "32. Create a tuple of the first 5 prime numbers."
      ],
      "metadata": {
        "id": "fi5f1jUQWMaB"
      }
    },
    {
      "cell_type": "code",
      "source": [
        "prime = []\n",
        "for i in range(2, 100):\n",
        "  for j in range(2, i):\n",
        "    if i%j == 0:\n",
        "      break\n",
        "  else:\n",
        "    prime.append(i)\n",
        "    if len(prime) == 5:\n",
        "      break\n",
        "\n",
        "prime"
      ],
      "metadata": {
        "colab": {
          "base_uri": "https://localhost:8080/"
        },
        "id": "qsAMv8tzFAhD",
        "outputId": "c19e7ffe-b0f8-4b7d-a9d4-32382c234d66"
      },
      "execution_count": null,
      "outputs": [
        {
          "output_type": "execute_result",
          "data": {
            "text/plain": [
              "[2, 3, 5, 7, 11]"
            ]
          },
          "metadata": {},
          "execution_count": 9
        }
      ]
    },
    {
      "cell_type": "markdown",
      "source": [
        "33. Check if a tuple is a palindrome."
      ],
      "metadata": {
        "id": "nVHNyvgJDt0M"
      }
    },
    {
      "cell_type": "code",
      "source": [
        "# Function to check if a tuple is a palindrome\n",
        "def is_palindrome(tup):\n",
        "    return tup == tup[::-1]\n",
        "\n",
        "# Create tuples for testing\n",
        "palindrome_tuple = (1, 2, 3, 2, 1)\n",
        "non_palindrome_tuple = (1, 2, 3, 4, 5)\n",
        "\n",
        "# Check if the tuples are palindromes\n",
        "is_palindrome1 = is_palindrome(palindrome_tuple)\n",
        "is_palindrome2 = is_palindrome(non_palindrome_tuple)\n",
        "\n",
        "# Print the results\n",
        "print(\"palindrome_tuple is a palindrome:\", is_palindrome1)\n",
        "print(\"non_palindrome_tuple is a palindrome:\", is_palindrome2)"
      ],
      "metadata": {
        "id": "whLBDWiTHi4F"
      },
      "execution_count": null,
      "outputs": []
    },
    {
      "cell_type": "markdown",
      "source": [
        "34. Create a tuple of squares of numbers from 1 to 5."
      ],
      "metadata": {
        "id": "KvfblXOrIgLh"
      }
    },
    {
      "cell_type": "code",
      "source": [
        "# Create a tuple of squares using a list comprehension\n",
        "squares_tuple = tuple(x ** 2 for x in range(1, 6))\n",
        "\n",
        "# Print the tuple of squares\n",
        "print(\"Tuple of squares:\", squares_tuple)"
      ],
      "metadata": {
        "colab": {
          "base_uri": "https://localhost:8080/"
        },
        "id": "M779FVLPHzaa",
        "outputId": "fea5d275-4c4d-49b7-9ac1-b1fa5514b969"
      },
      "execution_count": null,
      "outputs": [
        {
          "output_type": "stream",
          "name": "stdout",
          "text": [
            "Tuple of squares: (1, 4, 9, 16, 25)\n"
          ]
        }
      ]
    },
    {
      "cell_type": "markdown",
      "source": [
        "35. Filter out all even numbers from a tuple."
      ],
      "metadata": {
        "id": "9A3FXPG4Ins3"
      }
    },
    {
      "cell_type": "code",
      "source": [
        "original_tuple = (1, 2, 3, 4, 5, 6, 7, 8, 9, 10)\n",
        "print(\"Filtered even numbers: \",tuple(filter(lambda i : i%2==0, original_tuple)))"
      ],
      "metadata": {
        "colab": {
          "base_uri": "https://localhost:8080/"
        },
        "id": "oY5-Oa8KH1sA",
        "outputId": "8536804c-ed3f-49d8-ac47-8f727f538180"
      },
      "execution_count": null,
      "outputs": [
        {
          "output_type": "stream",
          "name": "stdout",
          "text": [
            "Filtered even numbers:  (2, 4, 6, 8, 10)\n"
          ]
        }
      ]
    },
    {
      "cell_type": "markdown",
      "source": [
        "36. Multiply all elements in a tuple by 2."
      ],
      "metadata": {
        "id": "s_NJuf0uKUwr"
      }
    },
    {
      "cell_type": "code",
      "source": [
        "# Create a tuple\n",
        "original_tuple = (1, 2, 3, 4, 5)\n",
        "\n",
        "# Multiply all elements by 2 using a list comprehension and convert to a tuple\n",
        "doubled_tuple = tuple(num * 2 for num in original_tuple)\n",
        "\n",
        "# Print the doubled tuple\n",
        "print(\"Doubled tuple:\", doubled_tuple)"
      ],
      "metadata": {
        "colab": {
          "base_uri": "https://localhost:8080/"
        },
        "id": "nwfvc1dcH3W8",
        "outputId": "8786621c-1bd9-483a-bd6d-1c6591f2ff64"
      },
      "execution_count": null,
      "outputs": [
        {
          "output_type": "stream",
          "name": "stdout",
          "text": [
            "Doubled tuple: (2, 4, 6, 8, 10)\n"
          ]
        }
      ]
    },
    {
      "cell_type": "markdown",
      "source": [
        "37. Create a tuple of random numbers."
      ],
      "metadata": {
        "id": "twQQ8g50KemE"
      }
    },
    {
      "cell_type": "code",
      "source": [
        "import random as re\n",
        "\n",
        "# Create a tuple of random numbers using a list comprehension\n",
        "random_tuple = tuple(re.randint(1, 100) for _ in range(10))  # Generating 10 random numbers between 1 and 100\n",
        "\n",
        "# Print the tuple of random numbers\n",
        "print(\"Random tuple:\", random_tuple)"
      ],
      "metadata": {
        "colab": {
          "base_uri": "https://localhost:8080/"
        },
        "id": "9Van9cTvKaIw",
        "outputId": "6dd2fc50-7043-46c5-b45e-f7a4f89cc5f2"
      },
      "execution_count": null,
      "outputs": [
        {
          "output_type": "stream",
          "name": "stdout",
          "text": [
            "Random tuple: (87, 24, 58, 12, 96, 28, 21, 76, 50, 86)\n"
          ]
        }
      ]
    },
    {
      "cell_type": "markdown",
      "source": [
        "38. Check if a tuple is sorted."
      ],
      "metadata": {
        "id": "ANQpSz5ZKsLm"
      }
    },
    {
      "cell_type": "code",
      "source": [
        "# Function to check if a tuple is sorted\n",
        "def is_sorted(tup):\n",
        "  if tup == tuple(sorted(tup)):\n",
        "    return True\n",
        "  else :\n",
        "    return False\n",
        "\n",
        "# Create tuples for testing\n",
        "sorted_tuple = (1, 2, 3, 4, 6)\n",
        "unsorted_tuple = (5, 3, 1, 4, 2)\n",
        "\n",
        "# Check if the tuples are sorted\n",
        "is_sorted1 = is_sorted(sorted_tuple)\n",
        "is_sorted2 = is_sorted(unsorted_tuple)\n",
        "\n",
        "# Print the results\n",
        "print(\"sorted_tuple is sorted:\", is_sorted1)\n",
        "print(\"unsorted_tuple is sorted:\", is_sorted2)"
      ],
      "metadata": {
        "colab": {
          "base_uri": "https://localhost:8080/"
        },
        "id": "hpTYO0Q9Koot",
        "outputId": "29cfaac0-85dd-4c52-876c-91e6b21610ac"
      },
      "execution_count": null,
      "outputs": [
        {
          "output_type": "stream",
          "name": "stdout",
          "text": [
            "sorted_tuple is sorted: True\n",
            "unsorted_tuple is sorted: False\n"
          ]
        }
      ]
    },
    {
      "cell_type": "markdown",
      "source": [
        "39. Rotate a tuple to the left by n positions."
      ],
      "metadata": {
        "id": "lAzBSV1RLmec"
      }
    },
    {
      "cell_type": "code",
      "source": [
        "tup = (10,20,30,40,50)\n",
        "n = 2\n",
        "tup[n:]+tup[:n]"
      ],
      "metadata": {
        "colab": {
          "base_uri": "https://localhost:8080/"
        },
        "id": "gukjyXFoLPqb",
        "outputId": "07be9a27-6d97-4444-e804-b4a8433ddfc8"
      },
      "execution_count": null,
      "outputs": [
        {
          "output_type": "execute_result",
          "data": {
            "text/plain": [
              "(30, 40, 50, 10, 20)"
            ]
          },
          "metadata": {},
          "execution_count": 19
        }
      ]
    },
    {
      "cell_type": "markdown",
      "source": [
        "40. Rotate a tuple to the right by n positions."
      ],
      "metadata": {
        "id": "3pgegPNfN49C"
      }
    },
    {
      "cell_type": "code",
      "source": [
        "tup = (10,20,30,40,50)\n",
        "n = 3\n",
        "tup[-n:]+tup[:-n]"
      ],
      "metadata": {
        "id": "AdAZHFhgLeNv",
        "colab": {
          "base_uri": "https://localhost:8080/"
        },
        "outputId": "292b1513-86d8-41f1-f74b-7d02b25ba7de"
      },
      "execution_count": null,
      "outputs": [
        {
          "output_type": "execute_result",
          "data": {
            "text/plain": [
              "(30, 40, 50, 10, 20)"
            ]
          },
          "metadata": {},
          "execution_count": 33
        }
      ]
    },
    {
      "cell_type": "markdown",
      "source": [
        "41. Create a tuple of the first 5 Fibonacci numbers."
      ],
      "metadata": {
        "id": "K20Q_QlNO7Rg"
      }
    },
    {
      "cell_type": "code",
      "source": [
        "def fab(num):\n",
        "  a, b = 0, 1\n",
        "  for i in range(num):\n",
        "    yield b\n",
        "    a, b = b, a+b\n",
        "\n",
        "print(\"The first 5 fibonacci numbers: \", tuple(fab(5)))"
      ],
      "metadata": {
        "colab": {
          "base_uri": "https://localhost:8080/"
        },
        "id": "R1JYVYbdOA8s",
        "outputId": "4b8662df-0f42-40dc-fe03-7b11bc1807bf"
      },
      "execution_count": null,
      "outputs": [
        {
          "output_type": "stream",
          "name": "stdout",
          "text": [
            "The first 5 fibonacci numbers:  (1, 1, 2, 3, 5)\n"
          ]
        }
      ]
    },
    {
      "cell_type": "markdown",
      "source": [
        "42. Create a tuple from user input."
      ],
      "metadata": {
        "id": "MccmK8Cfligq"
      }
    },
    {
      "cell_type": "code",
      "source": [
        "# Taking user input for creating a tuple\n",
        "input_tuple = tuple(map(eval, input(\"Enter elements separated by commas: \").split(\",\")))\n",
        "\n",
        "print(\"User input tuple:\", input_tuple)"
      ],
      "metadata": {
        "colab": {
          "base_uri": "https://localhost:8080/"
        },
        "id": "twgc7zQcPjtM",
        "outputId": "d39a666f-43b2-46cc-8081-fceb99fb9028"
      },
      "execution_count": null,
      "outputs": [
        {
          "output_type": "stream",
          "name": "stdout",
          "text": [
            "Enter elements separated by commas: 1,2,\"3\"\n",
            "User input tuple: (1, 2, '3')\n"
          ]
        }
      ]
    },
    {
      "cell_type": "markdown",
      "source": [
        "43. Swap two elements in a tuple."
      ],
      "metadata": {
        "id": "lzBhJUmEnTrt"
      }
    },
    {
      "cell_type": "code",
      "source": [
        "def swap_elements(tup, index1, index2):\n",
        "    \"\"\"Swap elements at index1 and index2 in the list lst.\"\"\"\n",
        "    if index1 >= 0 and index1 < len(tup) and index2 >= 0 and index2 < len(tup):\n",
        "        lst = list(tup)\n",
        "        lst[index1], lst[index2] = lst[index2], lst[index1]\n",
        "        tup = tuple(lst)\n",
        "    else:\n",
        "        print(\"Error: One or both indices are out of range.\")\n",
        "\n",
        "example_tuple = (10, 20, 30, 40, 50)\n",
        "\n",
        "# Indices to swap\n",
        "index1 = 1\n",
        "index2 = 3\n",
        "\n",
        "\n",
        "print(f\"Before swapping: {example_tuple}\")\n",
        "swap_elements(example_tuple, index1, index2)\n",
        "print(f\"After swapping: {example_tuple}\")"
      ],
      "metadata": {
        "colab": {
          "base_uri": "https://localhost:8080/"
        },
        "id": "sDFLcveePl-V",
        "outputId": "0ee0316b-e669-43b7-b891-584932747081"
      },
      "execution_count": null,
      "outputs": [
        {
          "output_type": "stream",
          "name": "stdout",
          "text": [
            "Before swapping: (10, 20, 30, 40, 50)\n",
            "After swapping: (10, 20, 30, 40, 50)\n"
          ]
        }
      ]
    },
    {
      "cell_type": "markdown",
      "source": [
        "44. Reverse the elements of a tuple."
      ],
      "metadata": {
        "id": "93by53cKzTgP"
      }
    },
    {
      "cell_type": "code",
      "source": [
        "# Create a tuple\n",
        "my_tuple = (1, 2, 3, 4, 5)\n",
        "\n",
        "# Reverse the elements using slicing\n",
        "reversed_tuple = my_tuple[::-1]\n",
        "\n",
        "# Print the reversed tuple\n",
        "print(\"Reversed tuple:\", reversed_tuple)"
      ],
      "metadata": {
        "id": "z9Rd9HMDoht3",
        "colab": {
          "base_uri": "https://localhost:8080/"
        },
        "outputId": "44cbdaeb-246f-45a2-a771-40f2b5273900"
      },
      "execution_count": null,
      "outputs": [
        {
          "output_type": "stream",
          "name": "stdout",
          "text": [
            "Reversed tuple: (5, 4, 3, 2, 1)\n"
          ]
        }
      ]
    },
    {
      "cell_type": "markdown",
      "source": [
        "45. Create a tuple of the first n powers of 2."
      ],
      "metadata": {
        "id": "KG9NxX00zepB"
      }
    },
    {
      "cell_type": "code",
      "source": [
        "# Define the value of n\n",
        "n = 5\n",
        "\n",
        "# Create a tuple of the first n powers of 2 using a list comprehension\n",
        "powers_of_2_tuple = tuple(2 ** i for i in range(n))\n",
        "\n",
        "# Print the tuple of powers of 2\n",
        "print(\"Tuple of the first\", n, \"powers of 2:\", powers_of_2_tuple)"
      ],
      "metadata": {
        "colab": {
          "base_uri": "https://localhost:8080/"
        },
        "id": "dkNdti0wza_x",
        "outputId": "6bcbdf36-52cd-4921-ecd3-005e254311c8"
      },
      "execution_count": null,
      "outputs": [
        {
          "output_type": "stream",
          "name": "stdout",
          "text": [
            "Tuple of the first 5 powers of 2: (1, 2, 4, 8, 16)\n"
          ]
        }
      ]
    },
    {
      "cell_type": "markdown",
      "source": [
        "46. Find the longest string in a tuple of strings.\n"
      ],
      "metadata": {
        "id": "Kh1D7kyKzmFF"
      }
    },
    {
      "cell_type": "code",
      "source": [
        "# Create a tuple of strings\n",
        "string_tuple = (\"apple\", \"banana\", \"grape\", \"kiwi\", \"watermelon\")\n",
        "\n",
        "# Find the longest string in the tuple\n",
        "longest_string = max(string_tuple, key=len)\n",
        "\n",
        "# Print the longest string\n",
        "print(\"Longest string:\", longest_string)"
      ],
      "metadata": {
        "colab": {
          "base_uri": "https://localhost:8080/"
        },
        "id": "qAXjQreozglh",
        "outputId": "97353a98-c62b-427b-fb30-6a6962d80ab2"
      },
      "execution_count": null,
      "outputs": [
        {
          "output_type": "stream",
          "name": "stdout",
          "text": [
            "Longest string: watermelon\n"
          ]
        }
      ]
    },
    {
      "cell_type": "markdown",
      "source": [
        "47. Find the shortest string in a tuple of strings."
      ],
      "metadata": {
        "id": "ltZhLZvU0AB2"
      }
    },
    {
      "cell_type": "code",
      "source": [
        "# Create a tuple of strings\n",
        "string_tuple = (\"apple\", \"banana\", \"grape\", \"kiwi\",\"date\", \"watermelon\")\n",
        "\n",
        "# Find the shortest string in the tuple\n",
        "shortest_string = min(string_tuple, key=len)\n",
        "\n",
        "# Print the shortest string\n",
        "print(\"Shortest string:\", shortest_string)"
      ],
      "metadata": {
        "colab": {
          "base_uri": "https://localhost:8080/"
        },
        "id": "qLSRGi5yz9lQ",
        "outputId": "f8aa3767-5bb1-45a1-a58a-2b886e2cd50b"
      },
      "execution_count": null,
      "outputs": [
        {
          "output_type": "stream",
          "name": "stdout",
          "text": [
            "Shortest string: kiwi\n"
          ]
        }
      ]
    },
    {
      "cell_type": "markdown",
      "source": [
        "48. Create a tuple of the first n triangular numbers."
      ],
      "metadata": {
        "id": "WIXK1VKp1msZ"
      }
    },
    {
      "cell_type": "code",
      "source": [
        "# Define the value of n\n",
        "n = 5\n",
        "\n",
        "# Create a tuple of the first n triangular numbers using a list comprehension\n",
        "triangular_numbers_tuple = tuple((i * (i + 1)) // 2 for i in range(1, n + 1))\n",
        "\n",
        "# Print the tuple of triangular numbers\n",
        "print(\"Tuple of the first\", n, \"triangular numbers:\", triangular_numbers_tuple)"
      ],
      "metadata": {
        "colab": {
          "base_uri": "https://localhost:8080/"
        },
        "id": "N_DLSst70vgS",
        "outputId": "1ab1d0d9-ae1f-4533-fbaf-b45814335816"
      },
      "execution_count": null,
      "outputs": [
        {
          "output_type": "stream",
          "name": "stdout",
          "text": [
            "Tuple of the first 5 triangular numbers: (1, 3, 6, 10, 15)\n"
          ]
        }
      ]
    },
    {
      "cell_type": "markdown",
      "source": [
        "49. Check if a tuple contains another tuple as a subsequence."
      ],
      "metadata": {
        "id": "FQarf6bBSGzD"
      }
    },
    {
      "cell_type": "code",
      "source": [
        "main_list = [1,2,3,4,5,6,3]\n",
        "sub_list = [2, 4, 5, 3]\n",
        "\n",
        "iter_main = iter(main_list)\n",
        "\n",
        "if all([ele in iter_main for ele in sub_list]):\n",
        "  print(\"tuple contains another tuple as a subsequence\")\n",
        "else:\n",
        "  print(\"tuple not contains another tuple as a subsequence\")"
      ],
      "metadata": {
        "id": "mK9LJdrs1VD4",
        "colab": {
          "base_uri": "https://localhost:8080/"
        },
        "outputId": "1f4322b2-2d53-4be5-ce07-b219c5d4cfb8"
      },
      "execution_count": null,
      "outputs": [
        {
          "output_type": "stream",
          "name": "stdout",
          "text": [
            "tuple contains another tuple as a subsequence\n"
          ]
        }
      ]
    },
    {
      "cell_type": "markdown",
      "source": [
        "50. Create a tuple of alternating 1s and 0s of length `n`."
      ],
      "metadata": {
        "id": "awfIyyu68CPn"
      }
    },
    {
      "cell_type": "code",
      "source": [
        "# Define the value of n\n",
        "n = 10\n",
        "\n",
        "# Create a tuple of alternating 1s and 0s using a list comprehension\n",
        "alternating_tuple = tuple(i % 2 for i in range(n))\n",
        "\n",
        "# Print the tuple of alternating 1s and 0s\n",
        "print(\"Tuple of alternating 1s and 0s:\", alternating_tuple)"
      ],
      "metadata": {
        "colab": {
          "base_uri": "https://localhost:8080/"
        },
        "id": "S_dcYCBM7_RA",
        "outputId": "ee34bc2f-0d87-4b7e-fd66-931d6fcb6222"
      },
      "execution_count": null,
      "outputs": [
        {
          "output_type": "stream",
          "name": "stdout",
          "text": [
            "Tuple of alternating 1s and 0s: (0, 1, 0, 1, 0, 1, 0, 1, 0, 1)\n"
          ]
        }
      ]
    },
    {
      "cell_type": "markdown",
      "source": [
        "# Set Based Practice Problems"
      ],
      "metadata": {
        "id": "GYyh688X8JXi"
      }
    },
    {
      "cell_type": "markdown",
      "source": [
        "1. Create a set with integers from 1 to 5"
      ],
      "metadata": {
        "id": "OzKaDAqP8mvB"
      }
    },
    {
      "cell_type": "code",
      "source": [
        "set_var = set(range(1,6))\n",
        "print(f\"The set consists of {set_var}\")"
      ],
      "metadata": {
        "colab": {
          "base_uri": "https://localhost:8080/"
        },
        "id": "W4lPA3-H7_kA",
        "outputId": "8b5a2711-cfe4-4773-d8e0-40cefdfa67b6"
      },
      "execution_count": null,
      "outputs": [
        {
          "output_type": "stream",
          "name": "stdout",
          "text": [
            "The set consists of {1, 2, 3, 4, 5}\n"
          ]
        }
      ]
    },
    {
      "cell_type": "markdown",
      "source": [
        "2. Add an element to a set"
      ],
      "metadata": {
        "id": "SJI8MiVi9qNp"
      }
    },
    {
      "cell_type": "code",
      "source": [
        "# Adding an element\n",
        "n = 6\n",
        "print(\"Before adding\", set_var)\n",
        "set_var.add(n)\n",
        "print(\"After adding\", set_var)"
      ],
      "metadata": {
        "colab": {
          "base_uri": "https://localhost:8080/"
        },
        "id": "cYVEL9Ih9H5V",
        "outputId": "c1f371a5-d2a0-448e-d6c0-11db1989acaa"
      },
      "execution_count": null,
      "outputs": [
        {
          "output_type": "stream",
          "name": "stdout",
          "text": [
            "Before adding {1, 2, 3, 4, 5}\n",
            "After adding {1, 2, 3, 4, 5, 6}\n"
          ]
        }
      ]
    },
    {
      "cell_type": "markdown",
      "source": [
        "3. Remove an element from a set."
      ],
      "metadata": {
        "id": "lFP6lK2G-E_2"
      }
    },
    {
      "cell_type": "code",
      "source": [
        "# Step 1: Create a set with some elements\n",
        "my_set = {1, 2, 3, 4, 5}\n",
        "\n",
        "# Step 2: Print the original set\n",
        "print(\"Original Set:\", my_set)\n",
        "\n",
        "# Step 3: Choose an element to remove\n",
        "element_to_remove = 3\n",
        "\n",
        "# Step 4: Use the remove() method to remove the chosen element\n",
        "# Note: If the element is not present in the set, remove() raises a KeyError.\n",
        "my_set.remove(element_to_remove)\n",
        "\n",
        "# Step 5: Print the modified set after removal\n",
        "print(\"Set after removing\", element_to_remove, \":\", my_set)"
      ],
      "metadata": {
        "colab": {
          "base_uri": "https://localhost:8080/"
        },
        "id": "6-JUJu9y9_Mx",
        "outputId": "3c620663-b379-40d4-b0ad-6997d8d99ec7"
      },
      "execution_count": null,
      "outputs": [
        {
          "output_type": "stream",
          "name": "stdout",
          "text": [
            "Original Set: {1, 2, 3, 4, 5}\n",
            "Set after removing 3 : {1, 2, 4, 5}\n"
          ]
        }
      ]
    },
    {
      "cell_type": "markdown",
      "source": [
        " 4. Check if an element exists in a set."
      ],
      "metadata": {
        "id": "8eeEohwl_WrM"
      }
    },
    {
      "cell_type": "code",
      "source": [
        "# Step 1: Create a set with some elements\n",
        "my_set = {1, 3, 5, 7, 9}\n",
        "\n",
        "# Step 2: Ask the user for the element they want to check\n",
        "element_to_check = int(input(\"Enter the element to check: \"))\n",
        "\n",
        "# Step 3: Use the \"in\" keyword to check if the element exists in the set\n",
        "if element_to_check in my_set:\n",
        "    # Step 4: If the element exists in the set, print a message\n",
        "    print(f\"{element_to_check} exists in the set.\")\n",
        "else:\n",
        "    # Step 5: If the element does not exist in the set, print a message\n",
        "    print(f\"{element_to_check} does not exist in the set.\")"
      ],
      "metadata": {
        "colab": {
          "base_uri": "https://localhost:8080/"
        },
        "id": "6ovI-hMx-_63",
        "outputId": "4776a68b-cadd-412a-adef-4090669589f4"
      },
      "execution_count": null,
      "outputs": [
        {
          "output_type": "stream",
          "name": "stdout",
          "text": [
            "Enter the element to check: 3\n",
            "3 exists in the set.\n"
          ]
        }
      ]
    },
    {
      "cell_type": "markdown",
      "source": [
        "5. Find the length of a set without using the len() function"
      ],
      "metadata": {
        "id": "47D55Rah_o7X"
      }
    },
    {
      "cell_type": "code",
      "source": [
        "# Create a set with some elements\n",
        "my_set = {1, 2, 3, 4, 5}\n",
        "\n",
        "# Initialize a variable to count the elements in the set\n",
        "count = 0\n",
        "\n",
        "# Iterate through each element in the set\n",
        "for _ in my_set:\n",
        "    # Increase the count by 1 for each element\n",
        "    count += 1\n",
        "\n",
        "# Print the count, which is the length of the set\n",
        "print(\"Length of the set:\", count)"
      ],
      "metadata": {
        "colab": {
          "base_uri": "https://localhost:8080/"
        },
        "id": "i4lLMh68_bEl",
        "outputId": "0adae876-00ff-4494-d5af-7923ce583031"
      },
      "execution_count": null,
      "outputs": [
        {
          "output_type": "stream",
          "name": "stdout",
          "text": [
            "Length of the set: 5\n"
          ]
        }
      ]
    },
    {
      "cell_type": "markdown",
      "source": [
        "6. Clear all elements from a set."
      ],
      "metadata": {
        "id": "1b0SsYv719Jk"
      }
    },
    {
      "cell_type": "code",
      "source": [
        "# Step 1: Create a set with some elements\n",
        "my_set = {1, 2, 3, 4, 5}\n",
        "\n",
        "# Step 2: Display the original set\n",
        "print(\"Original set:\", my_set)\n",
        "\n",
        "# Step 3: Clear all elements from the set using the clear() method\n",
        "my_set.clear()\n",
        "\n",
        "# Step 4: Display the set after clearing\n",
        "print(\"Set after clearing:\", my_set)"
      ],
      "metadata": {
        "id": "eD8aiMAg_rK_",
        "colab": {
          "base_uri": "https://localhost:8080/"
        },
        "outputId": "b0c66357-9f39-48f6-fdde-57d78b744262"
      },
      "execution_count": null,
      "outputs": [
        {
          "output_type": "stream",
          "name": "stdout",
          "text": [
            "Original set: {1, 2, 3, 4, 5}\n",
            "Set after clearing: set()\n"
          ]
        }
      ]
    },
    {
      "cell_type": "markdown",
      "source": [
        " 7. Create a set of even numbers from 1 to 10"
      ],
      "metadata": {
        "id": "ZrrU2Rnc2DKn"
      }
    },
    {
      "cell_type": "code",
      "source": [
        "# Step 1: Initialize an empty set\n",
        "even_numbers_set = set()\n",
        "\n",
        "# Step 2: Iterate through numbers from 1 to 10\n",
        "even_numbers_set = set([num for num in range(1, 11) if num % 2 == 0])\n",
        "\n",
        "print(even_numbers_set)"
      ],
      "metadata": {
        "colab": {
          "base_uri": "https://localhost:8080/"
        },
        "id": "FaNfeugX1_IH",
        "outputId": "58cd0d5e-567a-4e78-f348-961a16edf273"
      },
      "execution_count": null,
      "outputs": [
        {
          "output_type": "stream",
          "name": "stdout",
          "text": [
            "{2, 4, 6, 8, 10}\n"
          ]
        }
      ]
    },
    {
      "cell_type": "markdown",
      "source": [
        "8. Create a set of odd numbers from 1 to 10"
      ],
      "metadata": {
        "id": "KSdHnZBH36eq"
      }
    },
    {
      "cell_type": "code",
      "source": [
        "# Step 1: Initialize an empty set\n",
        "odd_numbers_set = set()\n",
        "\n",
        "# Step 2: Iterate through numbers from 1 to 10\n",
        "odd_numbers_set = set([num for num in range(1, 11) if num % 2 != 0])\n",
        "\n",
        "print(odd_numbers_set)"
      ],
      "metadata": {
        "colab": {
          "base_uri": "https://localhost:8080/"
        },
        "id": "TsZiUkf93cAT",
        "outputId": "78331103-a4fa-428c-d3f8-879e2868baa1"
      },
      "execution_count": null,
      "outputs": [
        {
          "output_type": "stream",
          "name": "stdout",
          "text": [
            "{1, 3, 5, 7, 9}\n"
          ]
        }
      ]
    },
    {
      "cell_type": "markdown",
      "source": [
        "9. Find the union of two sets"
      ],
      "metadata": {
        "id": "2s6aUMLI4De9"
      }
    },
    {
      "cell_type": "code",
      "source": [
        "# Define two sets\n",
        "set1 = {1, 2, 3, 4, 5}\n",
        "set2 = {4, 5, 6, 7, 8}\n",
        "\n",
        "# Find the union of the two sets using the `union()` method\n",
        "union_result = set1.union(set2)\n",
        "\n",
        "# Print the original sets and their union\n",
        "print(\"Set 1:\", set1)\n",
        "print(\"Set 2:\", set2)\n",
        "print(\"Union of Set 1 and Set 2:\", union_result)"
      ],
      "metadata": {
        "id": "ifCN7WRm3_D1",
        "colab": {
          "base_uri": "https://localhost:8080/"
        },
        "outputId": "da70e70d-0305-4982-a84c-55870991f03e"
      },
      "execution_count": 7,
      "outputs": [
        {
          "output_type": "stream",
          "name": "stdout",
          "text": [
            "Set 1: {1, 2, 3, 4, 5}\n",
            "Set 2: {4, 5, 6, 7, 8}\n",
            "Union of Set 1 and Set 2: {1, 2, 3, 4, 5, 6, 7, 8}\n"
          ]
        }
      ]
    },
    {
      "cell_type": "markdown",
      "source": [
        "10. Find the intersection of two sets"
      ],
      "metadata": {
        "id": "6KehoSFU7Dvd"
      }
    },
    {
      "cell_type": "code",
      "source": [
        "# Create two sets\n",
        "set1 = {1, 2, 3, 4, 5}\n",
        "set2 = {3, 4, 5, 6, 7}\n",
        "\n",
        "# Find the intersection using the intersection() method\n",
        "intersection_result = set1.intersection(set2)\n",
        "\n",
        "# Print the original sets and the intersection\n",
        "print(\"Set 1:\", set1)\n",
        "print(\"Set 2:\", set2)\n",
        "print(\"Intersection:\", intersection_result)"
      ],
      "metadata": {
        "colab": {
          "base_uri": "https://localhost:8080/"
        },
        "id": "mRaWknAd6w8b",
        "outputId": "2255f7e3-9007-46b7-f97e-4c238b7ff6cf"
      },
      "execution_count": 9,
      "outputs": [
        {
          "output_type": "stream",
          "name": "stdout",
          "text": [
            "Set 1: {1, 2, 3, 4, 5}\n",
            "Set 2: {3, 4, 5, 6, 7}\n",
            "Intersection: {3, 4, 5}\n"
          ]
        }
      ]
    },
    {
      "cell_type": "markdown",
      "source": [
        "11. Find the difference between two sets."
      ],
      "metadata": {
        "id": "Dyju9jbE8dg-"
      }
    },
    {
      "cell_type": "code",
      "source": [
        "# Create two sets\n",
        "set1 = {1, 2, 3, 4, 5}\n",
        "set2 = {3, 4, 5, 6, 7}\n",
        "\n",
        "# Find the difference between the sets using the difference() method\n",
        "difference_set = set1.difference(set2)\n",
        "\n",
        "# Print the original sets and the difference set\n",
        "print(\"Set 1:\", set1)\n",
        "print(\"Set 2:\", set2)\n",
        "print(\"Difference:\", difference_set)"
      ],
      "metadata": {
        "colab": {
          "base_uri": "https://localhost:8080/"
        },
        "id": "iFehHUiq7F_7",
        "outputId": "69da9e8e-f46b-4d8c-b33e-2a4b74dc1b06"
      },
      "execution_count": 10,
      "outputs": [
        {
          "output_type": "stream",
          "name": "stdout",
          "text": [
            "Set 1: {1, 2, 3, 4, 5}\n",
            "Set 2: {3, 4, 5, 6, 7}\n",
            "Difference: {1, 2}\n"
          ]
        }
      ]
    },
    {
      "cell_type": "markdown",
      "source": [
        "12. Check if a set is a subset of another set."
      ],
      "metadata": {
        "id": "otJ5aaPz8iOT"
      }
    },
    {
      "cell_type": "code",
      "source": [
        "# Define the two sets\n",
        "set1 = {1, 2, 3}\n",
        "set2 = {1, 2, 3, 4, 5}\n",
        "\n",
        "# Use the \"issubset()\" method to check if set1 is a subset of set2\n",
        "is_subset = set1.issubset(set2)\n",
        "\n",
        "# Print the result\n",
        "print(\"Is set1 a subset of set2:\", is_subset)"
      ],
      "metadata": {
        "colab": {
          "base_uri": "https://localhost:8080/"
        },
        "id": "Ef0zkulO8fPU",
        "outputId": "55ca8e34-360e-4adc-a1f6-c7e8f761305d"
      },
      "execution_count": 11,
      "outputs": [
        {
          "output_type": "stream",
          "name": "stdout",
          "text": [
            "Is set1 a subset of set2: True\n"
          ]
        }
      ]
    },
    {
      "cell_type": "markdown",
      "source": [
        "13. Check if a set is a superset of another set."
      ],
      "metadata": {
        "id": "iA1V5TsC8ntJ"
      }
    },
    {
      "cell_type": "code",
      "source": [
        "# Create two sets\n",
        "set1 = {1, 2, 3, 4, 5, 6}\n",
        "set2 = {3, 4}\n",
        "\n",
        "# Check if set1 is a superset of set2\n",
        "is_superset = set1.issuperset(set2)\n",
        "\n",
        "# Print the result\n",
        "if is_superset:\n",
        "    print(\"set1 is a superset of set2\")\n",
        "else:\n",
        "    print(\"set1 is not a superset of set2\")"
      ],
      "metadata": {
        "colab": {
          "base_uri": "https://localhost:8080/"
        },
        "id": "8Jpw0poJ8lE4",
        "outputId": "a60c0d13-1829-404e-879e-baa224aa694a"
      },
      "execution_count": 12,
      "outputs": [
        {
          "output_type": "stream",
          "name": "stdout",
          "text": [
            "set1 is a superset of set2\n"
          ]
        }
      ]
    },
    {
      "cell_type": "markdown",
      "source": [
        "14. Create a set from a list"
      ],
      "metadata": {
        "id": "j4pR3N6j8vNE"
      }
    },
    {
      "cell_type": "code",
      "source": [
        "# Step 1: Create a list of elements\n",
        "my_list = [2, 4, 1, 4, 3, 2, 5]\n",
        "\n",
        "# Step 2: Use the set() constructor to convert the list into a set\n",
        "# This automatically removes duplicates and creates a set with unique elements\n",
        "my_set = set(my_list)\n",
        "\n",
        "# Step 3: Print the original list and the resulting set\n",
        "print(\"Original List:\", my_list)\n",
        "print(\"Set from List:\", my_set)"
      ],
      "metadata": {
        "colab": {
          "base_uri": "https://localhost:8080/"
        },
        "id": "uQPhAd-38piE",
        "outputId": "66c4fe41-ac65-4476-ea1b-93e56b21f7a9"
      },
      "execution_count": 13,
      "outputs": [
        {
          "output_type": "stream",
          "name": "stdout",
          "text": [
            "Original List: [2, 4, 1, 4, 3, 2, 5]\n",
            "Set from List: {1, 2, 3, 4, 5}\n"
          ]
        }
      ]
    },
    {
      "cell_type": "markdown",
      "source": [
        "15. Convert a set to a list."
      ],
      "metadata": {
        "id": "M-Xx1iTm80Hv"
      }
    },
    {
      "cell_type": "code",
      "source": [
        "# Step 1: Create a set with some elements\n",
        "my_set = {3, 1, 4, 1, 5, 9, 2, 6, 5}\n",
        "\n",
        "# Step 2: Convert the set to a list using the list() function\n",
        "my_list = list(my_set)\n",
        "\n",
        "# Now, my_list contains the elements from my_set in list format\n",
        "\n",
        "# Step 3: Print the original set and the converted list\n",
        "print(\"Original Set:\", my_set)\n",
        "print(\"Converted List:\", my_list)"
      ],
      "metadata": {
        "colab": {
          "base_uri": "https://localhost:8080/"
        },
        "id": "rsLm15tZ8xgL",
        "outputId": "435bcfea-dda6-4f86-a723-71c4d6209a49"
      },
      "execution_count": 14,
      "outputs": [
        {
          "output_type": "stream",
          "name": "stdout",
          "text": [
            "Original Set: {1, 2, 3, 4, 5, 6, 9}\n",
            "Converted List: [1, 2, 3, 4, 5, 6, 9]\n"
          ]
        }
      ]
    },
    {
      "cell_type": "code",
      "source": [
        "import random  # Import the random module\n",
        "\n",
        "# Create a set with some elements\n",
        "my_set = {1, 2, 3, 4, 5}\n",
        "\n",
        "# Display the original set\n",
        "print(\"Original set:\", my_set)\n",
        "\n",
        "# Choose a random element from the set using the random.choice() function\n",
        "random_element = random.choice(list(my_set))\n",
        "print(\"Random element :\", random_element)\n",
        "\n",
        "# Remove the chosen random element from the set using the remove() method\n",
        "my_set.remove(random_element)\n",
        "\n",
        "# Display the updated set after removing the random element\n",
        "print(\"Updated set after removing\", random_element, \":\", my_set)"
      ],
      "metadata": {
        "colab": {
          "base_uri": "https://localhost:8080/"
        },
        "id": "Nc2DwM8r82EK",
        "outputId": "c93e1ea4-86de-40f3-cc28-56c7699cc6b1"
      },
      "execution_count": 16,
      "outputs": [
        {
          "output_type": "stream",
          "name": "stdout",
          "text": [
            "Original set: {1, 2, 3, 4, 5}\n",
            "Random element : 3\n",
            "Updated set after removing 3 : {1, 2, 4, 5}\n"
          ]
        }
      ]
    },
    {
      "cell_type": "markdown",
      "source": [
        "17. Pop an element from a set."
      ],
      "metadata": {
        "id": "G4iQmEpC-fwb"
      }
    },
    {
      "cell_type": "code",
      "source": [
        "# Create a set with some elements\n",
        "my_set = {1, 2, 3, 4, 5}\n",
        "\n",
        "# Print the original set\n",
        "print(\"Original set:\", my_set)\n",
        "\n",
        "# Pop an element from the set using the pop() method\n",
        "popped_element = my_set.pop()\n",
        "\n",
        "# Print the element that was popped\n",
        "print(\"Popped element:\", popped_element)\n",
        "\n",
        "# Print the set after popping an element\n",
        "print(\"Set after popping:\", my_set)"
      ],
      "metadata": {
        "colab": {
          "base_uri": "https://localhost:8080/"
        },
        "id": "pGPr-9RT-Rrs",
        "outputId": "beb97f72-e987-4ae7-ab64-5c866b895adf"
      },
      "execution_count": 17,
      "outputs": [
        {
          "output_type": "stream",
          "name": "stdout",
          "text": [
            "Original set: {1, 2, 3, 4, 5}\n",
            "Popped element: 1\n",
            "Set after popping: {2, 3, 4, 5}\n"
          ]
        }
      ]
    },
    {
      "cell_type": "markdown",
      "source": [
        "18. Check if two sets have no elements in common."
      ],
      "metadata": {
        "id": "2YDFUGOq_C_D"
      }
    },
    {
      "cell_type": "code",
      "source": [
        "# Step 1: Define two sets\n",
        "set1 = {1, 2, 3, 4, 5}\n",
        "set2 = {5, 6, 7, 8}\n",
        "\n",
        "# Step 2: Check if the intersection of the two sets is empty\n",
        "# The intersection is the set of elements that are common to both sets\n",
        "# print(common_elements)\n",
        "# Step 3: Check if the common_elements set is empty\n",
        "if set1.isdisjoint(set2):\n",
        "    print(\"The two sets have no elements in common.\")\n",
        "else:\n",
        "    print(\"The two sets have common elements\")"
      ],
      "metadata": {
        "colab": {
          "base_uri": "https://localhost:8080/"
        },
        "id": "GfP4AIXO-4j4",
        "outputId": "b3376c35-d905-4a6a-e78e-b4f411dbc472"
      },
      "execution_count": 30,
      "outputs": [
        {
          "output_type": "stream",
          "name": "stdout",
          "text": [
            "The two sets have common elements\n"
          ]
        }
      ]
    },
    {
      "cell_type": "markdown",
      "source": [
        "19. Find the symmetric difference between two sets."
      ],
      "metadata": {
        "id": "yrkbUbonBBfl"
      }
    },
    {
      "cell_type": "code",
      "source": [
        "# Define two sets\n",
        "set1 = {1, 2, 3, 4, 5}\n",
        "set2 = {4, 5, 6, 7, 8}\n",
        "\n",
        "# Calculate the symmetric difference using the ^ operator\n",
        "symmetric_difference = set1.symmetric_difference(set2)\n",
        "\n",
        "# Print the symmetric difference\n",
        "print(\"Symmetric Difference:\", symmetric_difference)"
      ],
      "metadata": {
        "colab": {
          "base_uri": "https://localhost:8080/"
        },
        "id": "gyiW1ZuD_Hex",
        "outputId": "b777329f-a224-4c82-8c95-7957f29321e3"
      },
      "execution_count": 31,
      "outputs": [
        {
          "output_type": "stream",
          "name": "stdout",
          "text": [
            "Symmetric Difference: {1, 2, 3, 6, 7, 8}\n"
          ]
        }
      ]
    },
    {
      "cell_type": "markdown",
      "source": [
        "20. Update a set with elements from another set."
      ],
      "metadata": {
        "id": "jPKuSjxDBNh7"
      }
    },
    {
      "cell_type": "code",
      "source": [
        "# Create the first set\n",
        "set1 = {1, 2, 3}\n",
        "print(\"Set 1:\", set1)\n",
        "\n",
        "# Create the second set\n",
        "set2 = {3, 4, 5}\n",
        "print(\"Set 2:\", set2)\n",
        "\n",
        "# Update set1 with elements from set2\n",
        "set1.update(set2)\n",
        "print(\"Updated Set 1:\", set1)"
      ],
      "metadata": {
        "colab": {
          "base_uri": "https://localhost:8080/"
        },
        "id": "uzWFoG5B_yDV",
        "outputId": "dee37757-126c-4e61-ce02-97ce6f5a15fd"
      },
      "execution_count": 32,
      "outputs": [
        {
          "output_type": "stream",
          "name": "stdout",
          "text": [
            "Set 1: {1, 2, 3}\n",
            "Set 2: {3, 4, 5}\n",
            "Updated Set 1: {1, 2, 3, 4, 5}\n"
          ]
        }
      ]
    },
    {
      "cell_type": "markdown",
      "source": [
        "21. Create a set of the first 5 prime numbers."
      ],
      "metadata": {
        "id": "2WDb2EC2EYBt"
      }
    },
    {
      "cell_type": "code",
      "source": [
        "prime_set = set()\n",
        "counter = 2\n",
        "while True:\n",
        "  for i in range(2, counter):\n",
        "    if counter%i == 0:\n",
        "      break\n",
        "  else:\n",
        "    prime_set.add(counter)\n",
        "    if len(prime_set)==5:\n",
        "      break\n",
        "  counter += 1\n",
        "\n",
        "prime_set"
      ],
      "metadata": {
        "colab": {
          "base_uri": "https://localhost:8080/"
        },
        "id": "E1oeJtKbEAsp",
        "outputId": "d2381604-0312-43cc-da82-7d6be6421d23"
      },
      "execution_count": 60,
      "outputs": [
        {
          "output_type": "execute_result",
          "data": {
            "text/plain": [
              "{2, 3, 5, 7, 11}"
            ]
          },
          "metadata": {},
          "execution_count": 60
        }
      ]
    },
    {
      "cell_type": "markdown",
      "source": [
        "22. Check if two sets are identical."
      ],
      "metadata": {
        "id": "5PHrG92dI7qE"
      }
    },
    {
      "cell_type": "code",
      "source": [
        "# Step 1: Define two sets\n",
        "set1 = {1, 2, 3, 4, 5}\n",
        "set2 = {3, 1, 5, 2, 4}  # The order of elements doesn't matter in sets\n",
        "\n",
        "# Step 2: Check if the sets are identical using the `==` operator\n",
        "# Sets are unordered collections, so the order of elements doesn't matter.\n",
        "# The `==` operator compares the content of the sets.\n",
        "if set1 == set2:\n",
        "    print(\"The sets are identical.\")\n",
        "else:\n",
        "    print(\"The sets are not identical.\")"
      ],
      "metadata": {
        "colab": {
          "base_uri": "https://localhost:8080/"
        },
        "id": "tzsrRQzMExGn",
        "outputId": "e1c87c8d-42fe-487d-f252-8fec996955f0"
      },
      "execution_count": 50,
      "outputs": [
        {
          "output_type": "stream",
          "name": "stdout",
          "text": [
            "The sets are identical.\n"
          ]
        }
      ]
    },
    {
      "cell_type": "markdown",
      "source": [
        "23. Create a frozen set"
      ],
      "metadata": {
        "id": "alte5Z22b_Cx"
      }
    },
    {
      "cell_type": "code",
      "source": [
        "# Step 2: Define a list of elements that you want to include in the frozen set\n",
        "elements = [1, 2, 3, 4, 5]\n",
        "\n",
        "# Step 3: Create a frozen set using the 'frozenset' constructor and passing the list of elements\n",
        "my_frozen_set = frozenset(elements)\n",
        "\n",
        "# Step 4: Print the frozen set\n",
        "print(\"Frozen Set:\", my_frozen_set)"
      ],
      "metadata": {
        "colab": {
          "base_uri": "https://localhost:8080/"
        },
        "id": "jHjNQyj-EyiL",
        "outputId": "ebd393bb-50df-40f3-ddad-83e2815d2ac6"
      },
      "execution_count": 61,
      "outputs": [
        {
          "output_type": "stream",
          "name": "stdout",
          "text": [
            "Frozen Set: frozenset({1, 2, 3, 4, 5})\n"
          ]
        }
      ]
    },
    {
      "cell_type": "markdown",
      "source": [
        "24. Check if a set is disjoint with another set."
      ],
      "metadata": {
        "id": "chijIl13cD3X"
      }
    },
    {
      "cell_type": "code",
      "source": [
        "# Step 1: Define the two sets you want to check for disjointness\n",
        "set1 = {1, 2, 3, 4}\n",
        "set2 = {5, 6, 7, 8}\n",
        "\n",
        "# Step 2: Use the `isdisjoint()` method to check if the sets are disjoint\n",
        "# The `isdisjoint()` method returns True if the sets have no common elements,\n",
        "# and False if they have at least one common element.\n",
        "disjoint_status = set1.isdisjoint(set2)\n",
        "\n",
        "# Step 3: Print the result\n",
        "print(\"Are the sets disjoint?\", disjoint_status)"
      ],
      "metadata": {
        "colab": {
          "base_uri": "https://localhost:8080/"
        },
        "id": "cCuEy2cJEzl3",
        "outputId": "008a4980-78c5-4504-947c-444d2d87fc7e"
      },
      "execution_count": 62,
      "outputs": [
        {
          "output_type": "stream",
          "name": "stdout",
          "text": [
            "Are the sets disjoint? True\n"
          ]
        }
      ]
    },
    {
      "cell_type": "markdown",
      "source": [
        "25. Create a set of squares of numbers from 1 to 5."
      ],
      "metadata": {
        "id": "NF9tjt0RcPjL"
      }
    },
    {
      "cell_type": "code",
      "source": [
        "# Step 1: Create an empty set to store the squares of numbers\n",
        "squares_set = set()\n",
        "\n",
        "# Step 2: Use a loop to iterate through numbers from 1 to 5\n",
        "for num in range(1, 6):\n",
        "    # Step 3: Calculate the square of the current number\n",
        "    square = num ** 2\n",
        "\n",
        "    # Step 4: Add the square to the set\n",
        "    squares_set.add(square)\n",
        "\n",
        "# Step 5: Print the set of squares\n",
        "print(squares_set)"
      ],
      "metadata": {
        "colab": {
          "base_uri": "https://localhost:8080/"
        },
        "id": "WUee8_aeE1Ax",
        "outputId": "6b7b01e3-ad01-442e-dd00-116c22ce9db4"
      },
      "execution_count": 64,
      "outputs": [
        {
          "output_type": "stream",
          "name": "stdout",
          "text": [
            "{1, 4, 9, 16, 25}\n"
          ]
        }
      ]
    },
    {
      "cell_type": "markdown",
      "source": [
        "26. Filter out all even numbers from a set."
      ],
      "metadata": {
        "id": "px7W2n_Qciun"
      }
    },
    {
      "cell_type": "code",
      "source": [
        "set_value = set(range(1, 11))\n",
        "print(\"The values in a set :\", set_value)\n",
        "print(\"Even numbers in a set: \", set(filter(lambda i : i%2 == 0, set_value)))"
      ],
      "metadata": {
        "colab": {
          "base_uri": "https://localhost:8080/"
        },
        "id": "yPMq7MEecand",
        "outputId": "4a99a26b-779d-44f6-e86a-cabf973ca7de"
      },
      "execution_count": 68,
      "outputs": [
        {
          "output_type": "stream",
          "name": "stdout",
          "text": [
            "The values in a set : {1, 2, 3, 4, 5, 6, 7, 8, 9, 10}\n",
            "Even numbers in a set:  {2, 4, 6, 8, 10}\n"
          ]
        }
      ]
    },
    {
      "cell_type": "markdown",
      "source": [
        "27. Multiply all elements in a set by 2."
      ],
      "metadata": {
        "id": "oQCXqfu_fApA"
      }
    },
    {
      "cell_type": "code",
      "source": [
        "# Create a set with integers from 1 to 5\n",
        "original_set = {1, 2, 3, 4, 5}\n",
        "\n",
        "# Initialize an empty set to store the multiplied elements\n",
        "multiplied_set = set()\n",
        "\n",
        "# Loop through each element in the original set\n",
        "for num in original_set:\n",
        "    # Multiply the current element by 2\n",
        "    multiplied_num = num * 2\n",
        "\n",
        "    # Add the multiplied element to the multiplied_set\n",
        "    multiplied_set.add(multiplied_num)\n",
        "\n",
        "# The original_set remains unchanged\n",
        "print(\"Original Set:\", original_set)\n",
        "\n",
        "# Display the set with elements multiplied by 2\n",
        "print(\"Multiplied Set:\", multiplied_set)"
      ],
      "metadata": {
        "colab": {
          "base_uri": "https://localhost:8080/"
        },
        "id": "NjjLpCeqdKr3",
        "outputId": "fca11ed7-0796-4998-e2d0-d62a4ca3195a"
      },
      "execution_count": 69,
      "outputs": [
        {
          "output_type": "stream",
          "name": "stdout",
          "text": [
            "Original Set: {1, 2, 3, 4, 5}\n",
            "Multiplied Set: {2, 4, 6, 8, 10}\n"
          ]
        }
      ]
    },
    {
      "cell_type": "markdown",
      "source": [
        "28. Create a set of random numbers."
      ],
      "metadata": {
        "id": "m92rCIUyfGcv"
      }
    },
    {
      "cell_type": "code",
      "source": [
        "# Step 1: Import the `random` module to generate random numbers\n",
        "import random\n",
        "\n",
        "# Step 2: Define the number of random numbers you want in the set\n",
        "num_random_numbers = 5\n",
        "\n",
        "# Step 3: Initialize an empty set to store the random numbers\n",
        "random_number_set = set()\n",
        "\n",
        "# Step 4: Use a loop to generate random numbers and add them to the set\n",
        "for _ in range(num_random_numbers):\n",
        "    # Generate a random integer using the `randint` function from the `random` module\n",
        "    random_num = random.randint(1, 100)  # Generate a random number between 1 and 100\n",
        "    # Add the random number to the set\n",
        "    random_number_set.add(random_num)\n",
        "\n",
        "# Step 5: Print the generated set of random numbers\n",
        "print(\"Generated set of random numbers:\", random_number_set)"
      ],
      "metadata": {
        "colab": {
          "base_uri": "https://localhost:8080/"
        },
        "id": "8VJ2uhWwfCZ2",
        "outputId": "a68f6890-4a1e-4864-8a6b-860505e1bd5a"
      },
      "execution_count": 70,
      "outputs": [
        {
          "output_type": "stream",
          "name": "stdout",
          "text": [
            "Generated set of random numbers: {36, 8, 41, 82, 31}\n"
          ]
        }
      ]
    },
    {
      "cell_type": "markdown",
      "source": [
        "29. Check if a set is empty."
      ],
      "metadata": {
        "id": "pK25rWB1fKl7"
      }
    },
    {
      "cell_type": "code",
      "source": [
        "# Step 1: Create a set (you can replace this with your own set)\n",
        "my_set = set()\n",
        "\n",
        "# Step 2: Check if the set is empty using the 'if' statement\n",
        "if not my_set:\n",
        "    print(\"The set is empty.\")\n",
        "else:\n",
        "    print(\"The set is not empty.\")"
      ],
      "metadata": {
        "colab": {
          "base_uri": "https://localhost:8080/"
        },
        "id": "hpFErmJofIST",
        "outputId": "fda98d8b-fd11-4f25-9a63-7ce5803e8df5"
      },
      "execution_count": 71,
      "outputs": [
        {
          "output_type": "stream",
          "name": "stdout",
          "text": [
            "The set is empty.\n"
          ]
        }
      ]
    },
    {
      "cell_type": "markdown",
      "source": [
        "30. Create a nested set (hint: use frozenset)."
      ],
      "metadata": {
        "id": "29GVWyxdfP5y"
      }
    },
    {
      "cell_type": "code",
      "source": [
        "# Step 1: Create the inner sets\n",
        "set1 = {1, 2, 3, 4, 5}\n",
        "set2 = {6, 7, 8, 9, 10}\n",
        "\n",
        "# Step 2: Create frozensets from the inner sets\n",
        "frozen_set1 = frozenset(set1)\n",
        "frozen_set2 = frozenset(set2)\n",
        "\n",
        "# Step 3: Create the nested set using the frozensets\n",
        "nested_set = {frozen_set1, frozen_set2}\n",
        "\n",
        "# Print the nested set\n",
        "print(\"Nested Set:\", nested_set)"
      ],
      "metadata": {
        "colab": {
          "base_uri": "https://localhost:8080/"
        },
        "id": "oqWUmsX2fL51",
        "outputId": "e6afd65e-bb81-4a93-ab9c-42c8cf9281a0"
      },
      "execution_count": 75,
      "outputs": [
        {
          "output_type": "stream",
          "name": "stdout",
          "text": [
            "Nested Set: {frozenset({1, 2, 3, 4, 5}), frozenset({6, 7, 8, 9, 10})}\n"
          ]
        }
      ]
    },
    {
      "cell_type": "markdown",
      "source": [
        "31. Remove an element from a set using the discard method."
      ],
      "metadata": {
        "id": "WJ3pVc9pgoIB"
      }
    },
    {
      "cell_type": "code",
      "source": [
        "# Create a set with some elements\n",
        "my_set = {1, 2, 3, 4, 5}\n",
        "\n",
        "# Display the initial set\n",
        "print(\"Initial set:\", my_set)\n",
        "\n",
        "# Define the element to be removed\n",
        "element_to_remove = 5\n",
        "\n",
        "# Use the discard() method to remove the element from the set\n",
        "# If the element is not present in the set, discard() won't raise an error\n",
        "my_set.discard(element_to_remove)\n",
        "\n",
        "# Display the set after removing the element\n",
        "print(\"Set after removing\", element_to_remove, \":\", my_set)"
      ],
      "metadata": {
        "colab": {
          "base_uri": "https://localhost:8080/"
        },
        "id": "hLLkzXNHfReX",
        "outputId": "e59c1a19-a0fd-4c3b-e87c-7ac4ec1801a6"
      },
      "execution_count": 78,
      "outputs": [
        {
          "output_type": "stream",
          "name": "stdout",
          "text": [
            "Initial set: {1, 2, 3, 4, 5}\n",
            "Set after removing 5 : {1, 2, 3, 4}\n"
          ]
        }
      ]
    },
    {
      "cell_type": "markdown",
      "source": [
        "32. Compare two sets."
      ],
      "metadata": {
        "id": "bGlHLmzPg0pH"
      }
    },
    {
      "cell_type": "code",
      "source": [
        "# Step 1: Define two sets\n",
        "set1 = {1, 2, 3, 4, 5}\n",
        "set2 = {4, 5, 6, 7, 8}\n",
        "\n",
        "# Step 2: Use set operations to compare the sets\n",
        "# Check if set1 is a subset of set2\n",
        "is_subset = set1.issubset(set2)\n",
        "\n",
        "# Check if set2 is a subset of set1\n",
        "is_superset = set1.issuperset(set2)\n",
        "\n",
        "# Find the intersection of the sets\n",
        "intersection = set1.intersection(set2)\n",
        "\n",
        "# Find the union of the sets\n",
        "union = set1.union(set2)\n",
        "\n",
        "# Find the elements that are in set1 but not in set2\n",
        "difference1 = set1.difference(set2)\n",
        "\n",
        "# Find the elements that are in set2 but not in set1\n",
        "difference2 = set2.difference(set1)\n",
        "\n",
        "# Step 3: Print the results\n",
        "print(\"Set 1:\", set1)\n",
        "print(\"Set 2:\", set2)\n",
        "print(\"Is set1 a subset of set2?\", is_subset)\n",
        "print(\"Is set2 a subset of set1?\", is_superset)\n",
        "print(\"Intersection:\", intersection)\n",
        "print(\"Union:\", union)\n",
        "print(\"Elements in set1 but not in set2:\", difference1)\n",
        "print(\"Elements in set2 but not in set1:\", difference2)"
      ],
      "metadata": {
        "colab": {
          "base_uri": "https://localhost:8080/"
        },
        "id": "yMzMPCzjgrZN",
        "outputId": "bc61b766-115c-4a5b-c3c1-c645a55909f2"
      },
      "execution_count": 79,
      "outputs": [
        {
          "output_type": "stream",
          "name": "stdout",
          "text": [
            "Set 1: {1, 2, 3, 4, 5}\n",
            "Set 2: {4, 5, 6, 7, 8}\n",
            "Is set1 a subset of set2? False\n",
            "Is set2 a subset of set1? False\n",
            "Intersection: {4, 5}\n",
            "Union: {1, 2, 3, 4, 5, 6, 7, 8}\n",
            "Elements in set1 but not in set2: {1, 2, 3}\n",
            "Elements in set2 but not in set1: {8, 6, 7}\n"
          ]
        }
      ]
    },
    {
      "cell_type": "markdown",
      "source": [
        "33. Create a set from a string."
      ],
      "metadata": {
        "id": "kowdqudBhD9V"
      }
    },
    {
      "cell_type": "code",
      "source": [
        "# Step 1: Define the input string\n",
        "input_string = \"hello\"\n",
        "\n",
        "# Step 2: Use the set() constructor to create a set from the characters in the string\n",
        "char_set = set(input_string)\n",
        "\n",
        "# Step 3: Print the resulting set\n",
        "print(char_set)"
      ],
      "metadata": {
        "colab": {
          "base_uri": "https://localhost:8080/"
        },
        "id": "Xd1gmpWWg3Yp",
        "outputId": "87dafd6d-3e14-4c6f-abb4-2b899152bbe3"
      },
      "execution_count": 80,
      "outputs": [
        {
          "output_type": "stream",
          "name": "stdout",
          "text": [
            "{'e', 'l', 'o', 'h'}\n"
          ]
        }
      ]
    },
    {
      "cell_type": "markdown",
      "source": [
        "34. Convert a set of strings to a set of integers."
      ],
      "metadata": {
        "id": "veFRmdZfhH5O"
      }
    },
    {
      "cell_type": "code",
      "source": [
        "# Step 1: Create a set of strings\n",
        "string_set = {\"123\", \"456\", \"789\"}\n",
        "\n",
        "# Step 2: Initialize an empty set to store integers\n",
        "integer_set = set()\n",
        "\n",
        "# Step 3: Iterate through each string in the string set\n",
        "for string in string_set:\n",
        "    # Step 4: Convert the string to an integer using the int() function\n",
        "    integer_value = int(string)\n",
        "\n",
        "    # Step 5: Add the integer to the integer set\n",
        "    integer_set.add(integer_value)\n",
        "\n",
        "# Step 6: Print the original string set and the converted integer set\n",
        "print(\"Original String Set:\", string_set)\n",
        "print(\"Converted Integer Set:\", integer_set)"
      ],
      "metadata": {
        "colab": {
          "base_uri": "https://localhost:8080/"
        },
        "id": "jzHA30gVhF28",
        "outputId": "1afa6fb5-57a4-410d-a206-7de55b9ad484"
      },
      "execution_count": 81,
      "outputs": [
        {
          "output_type": "stream",
          "name": "stdout",
          "text": [
            "Original String Set: {'789', '456', '123'}\n",
            "Converted Integer Set: {456, 123, 789}\n"
          ]
        }
      ]
    },
    {
      "cell_type": "markdown",
      "source": [
        "35. Convert a set of integers to a set of strings."
      ],
      "metadata": {
        "id": "Rsf5r3TkhPqt"
      }
    },
    {
      "cell_type": "code",
      "source": [
        "# Step 1: Create a set of integers\n",
        "integers_set = {1, 2, 3, 4, 5}\n",
        "\n",
        "# Step 2: Initialize an empty set to store the strings\n",
        "strings_set = set()\n",
        "\n",
        "# Step 3: Iterate through each integer in the integers_set\n",
        "for num in integers_set:\n",
        "    # Step 4: Convert the integer to a string using the str() function\n",
        "    num_str = str(num)\n",
        "\n",
        "    # Step 5: Add the string representation to the strings_set\n",
        "    strings_set.add(num_str)\n",
        "\n",
        "# Step 6: Print the original integers_set and the converted strings_set\n",
        "print(\"Original integers_set:\", integers_set)\n",
        "print(\"Converted strings_set:\", strings_set)"
      ],
      "metadata": {
        "colab": {
          "base_uri": "https://localhost:8080/"
        },
        "id": "GT8zf9u6hMnt",
        "outputId": "3d1efa94-5123-472c-a0e5-84b82632ef2b"
      },
      "execution_count": 82,
      "outputs": [
        {
          "output_type": "stream",
          "name": "stdout",
          "text": [
            "Original integers_set: {1, 2, 3, 4, 5}\n",
            "Converted strings_set: {'4', '1', '5', '2', '3'}\n"
          ]
        }
      ]
    },
    {
      "cell_type": "markdown",
      "source": [
        "36. Create a set from a tuple."
      ],
      "metadata": {
        "id": "SWzjsESThUL3"
      }
    },
    {
      "cell_type": "code",
      "source": [
        "# Given tuple\n",
        "input_tuple = (1, 2, 3, 2, 4, 5, 1)\n",
        "\n",
        "# Step 1: Convert the tuple to a set\n",
        "output_set = set(input_tuple)\n",
        "# At this point, the set() function is used to convert the elements of the tuple into a set.\n",
        "# Since sets only contain unique elements, duplicate values are automatically removed.\n",
        "\n",
        "# Step 2: Print the resulting set\n",
        "print(output_set)\n",
        "# The set is now printed, and it will only contain the unique elements from the original tuple."
      ],
      "metadata": {
        "id": "rTl80kOAhRxp"
      },
      "execution_count": 83,
      "outputs": []
    },
    {
      "cell_type": "markdown",
      "source": [
        "37. Convert a set to a tuple."
      ],
      "metadata": {
        "id": "Tt57mDydhYTA"
      }
    },
    {
      "cell_type": "code",
      "source": [
        "# Step 1: Create a set\n",
        "input_set = {1, 2, 3, 4, 5}\n",
        "\n",
        "# Step 2: Convert the set to a tuple\n",
        "output_tuple = tuple(input_set)\n",
        "\n",
        "# Step 3: Print the original set and the converted tuple\n",
        "print(\"Original set:\", input_set)\n",
        "print(\"Converted tuple:\", output_tuple)"
      ],
      "metadata": {
        "colab": {
          "base_uri": "https://localhost:8080/"
        },
        "id": "Fc2kABp3hYae",
        "outputId": "1c9cdd09-d664-466a-d09a-eb85e95dafb5"
      },
      "execution_count": 84,
      "outputs": [
        {
          "output_type": "stream",
          "name": "stdout",
          "text": [
            "Original set: {1, 2, 3, 4, 5}\n",
            "Converted tuple: (1, 2, 3, 4, 5)\n"
          ]
        }
      ]
    },
    {
      "cell_type": "markdown",
      "source": [
        "38. Find the maximum value in a set."
      ],
      "metadata": {
        "id": "Wxu3bzoshd8e"
      }
    },
    {
      "cell_type": "code",
      "source": [
        "# Define a set with some values\n",
        "my_set = {15, 7, 22, 13, 8}\n",
        "\n",
        "# Initialize a variable to store the maximum value\n",
        "max_value = None\n",
        "\n",
        "# Iterate through each element in the set\n",
        "for num in my_set:\n",
        "    # Check if max_value is None (first iteration) or if the current number is greater than max_value\n",
        "    if max_value is None or num > max_value:\n",
        "        max_value = num  # Update max_value with the current number if it's greater\n",
        "\n",
        "# Print the maximum value\n",
        "print(\"Maximum value:\", max_value)"
      ],
      "metadata": {
        "colab": {
          "base_uri": "https://localhost:8080/"
        },
        "id": "8EUjzdXShaMQ",
        "outputId": "370e21bd-ff4c-494b-dbb7-fd4607b1efed"
      },
      "execution_count": 86,
      "outputs": [
        {
          "output_type": "stream",
          "name": "stdout",
          "text": [
            "Maximum value: 22\n"
          ]
        }
      ]
    },
    {
      "cell_type": "markdown",
      "source": [
        "39. Find the minimum value in a set."
      ],
      "metadata": {
        "id": "qCRfT0r5hq39"
      }
    },
    {
      "cell_type": "code",
      "source": [
        "# Create a sample set of numbers\n",
        "number_set = {15, 8, 23, 4, 42, 11}\n",
        "\n",
        "# Initialize a variable to store the minimum value\n",
        "min_value = None\n",
        "\n",
        "# Iterate through each element in the set\n",
        "for num in number_set:\n",
        "    # Check if min_value is None (first iteration) or if num is smaller than the current min_value\n",
        "    if min_value is None or num < min_value:\n",
        "        # Update min_value to the current num since it's smaller\n",
        "        min_value = num\n",
        "\n",
        "# Print the minimum value found in the set\n",
        "print(\"The minimum value in the set is:\", min_value)"
      ],
      "metadata": {
        "colab": {
          "base_uri": "https://localhost:8080/"
        },
        "id": "sx-oMbqXhdJx",
        "outputId": "212b0a55-14b9-4210-f88a-59a5e002d2bc"
      },
      "execution_count": 89,
      "outputs": [
        {
          "output_type": "stream",
          "name": "stdout",
          "text": [
            "The minimum value in the set is: 4\n"
          ]
        }
      ]
    },
    {
      "cell_type": "markdown",
      "source": [
        "40. Create a set from user input."
      ],
      "metadata": {
        "id": "I3R-MSihh20y"
      }
    },
    {
      "cell_type": "code",
      "source": [
        "# Step 1: Initialize an empty set\n",
        "user_set = set()\n",
        "\n",
        "# Step 2: Get input from the user\n",
        "print(\"Enter elements for the set (type 'done' to finish):\")\n",
        "while True:\n",
        "    user_input = input(\"> \")  # Get input from the user\n",
        "\n",
        "    if user_input.lower() == 'done':\n",
        "        break  # Exit the loop if the user enters 'done'\n",
        "\n",
        "    # Step 3: Add the user input to the set\n",
        "    user_set.add(user_input)\n",
        "\n",
        "# Step 4: Display the final set created from user input\n",
        "print(\"Final set:\", user_set)"
      ],
      "metadata": {
        "colab": {
          "base_uri": "https://localhost:8080/"
        },
        "id": "grNMhYG7hh-L",
        "outputId": "5b3d44d6-cacd-4b91-ee90-3779821c32ac"
      },
      "execution_count": 91,
      "outputs": [
        {
          "output_type": "stream",
          "name": "stdout",
          "text": [
            "Enter elements for the set (type 'done' to finish):\n",
            "> k\n",
            "> d\n",
            "> done\n",
            "Final set: {'k', 'd'}\n"
          ]
        }
      ]
    },
    {
      "cell_type": "markdown",
      "source": [
        "41. Check if the intersection of two sets is empty."
      ],
      "metadata": {
        "id": "ZyMTZJkOig3P"
      }
    },
    {
      "cell_type": "code",
      "source": [
        "# Step 1: Define two sets\n",
        "set1 = {1, 2, 3, 4, 5}\n",
        "set2 = {4, 5, 6, 7, 8}\n",
        "\n",
        "# Step 2: Find the intersection of the two sets using the `intersection()` method\n",
        "intersection_result = set1.intersection(set2)\n",
        "\n",
        "# Step 3: Check if the intersection result is empty\n",
        "if not intersection_result:\n",
        "    print(\"The intersection of the two sets is empty.\")\n",
        "else:\n",
        "    print(\"The intersection of the two sets is not empty.\")"
      ],
      "metadata": {
        "colab": {
          "base_uri": "https://localhost:8080/"
        },
        "id": "rkThyHXMh4d2",
        "outputId": "0fd0241d-3cd2-4596-e5e4-7887d33d0846"
      },
      "execution_count": 92,
      "outputs": [
        {
          "output_type": "stream",
          "name": "stdout",
          "text": [
            "The intersection of the two sets is not empty.\n"
          ]
        }
      ]
    },
    {
      "cell_type": "markdown",
      "source": [
        "42. Create a set of the first 5 Fibonacci numbers."
      ],
      "metadata": {
        "id": "q4_G1uTJirgF"
      }
    },
    {
      "cell_type": "code",
      "source": [
        "def fab(n):\n",
        "  a, b = 0, 1\n",
        "  for i in range(n):\n",
        "    yield b\n",
        "    a, b = b, a+b\n",
        "\n",
        "set([i for i in fab(5)])"
      ],
      "metadata": {
        "colab": {
          "base_uri": "https://localhost:8080/"
        },
        "id": "sG3Wq298kAVd",
        "outputId": "55ac0809-b98f-4974-9bb9-dda3f86da8bc"
      },
      "execution_count": 97,
      "outputs": [
        {
          "output_type": "execute_result",
          "data": {
            "text/plain": [
              "{1, 2, 3, 5}"
            ]
          },
          "metadata": {},
          "execution_count": 97
        }
      ]
    },
    {
      "cell_type": "markdown",
      "source": [
        "43. Remove duplicates from a list using sets."
      ],
      "metadata": {
        "id": "6OUYlA7vkY6D"
      }
    },
    {
      "cell_type": "code",
      "source": [
        "# Step 1: Define a list with duplicates\n",
        "original_list = [2, 4, 6, 8, 4, 10, 6, 12, 14, 8]\n",
        "\n",
        "# Step 2: Convert the list to a set\n",
        "unique_set = set(original_list)\n",
        "# Now, 'unique_set' contains only unique elements from 'original_list'\n",
        "\n",
        "# Step 3: Convert the set back to a list\n",
        "unique_list = list(unique_set)\n",
        "# Now, 'unique_list' is a list containing only unique elements\n",
        "\n",
        "# Step 4: Print the original list and the list with duplicates removed\n",
        "print(\"Original List:\", original_list)\n",
        "print(\"List with Duplicates Removed:\", unique_list)"
      ],
      "metadata": {
        "colab": {
          "base_uri": "https://localhost:8080/"
        },
        "id": "SESFzAlEkWg_",
        "outputId": "45296b85-2c8a-4384-d7e2-0216721ae896"
      },
      "execution_count": 98,
      "outputs": [
        {
          "output_type": "stream",
          "name": "stdout",
          "text": [
            "Original List: [2, 4, 6, 8, 4, 10, 6, 12, 14, 8]\n",
            "List with Duplicates Removed: [2, 4, 6, 8, 10, 12, 14]\n"
          ]
        }
      ]
    },
    {
      "cell_type": "markdown",
      "source": [
        "44. Check if two sets have the same elements, regardless of their count."
      ],
      "metadata": {
        "id": "e6h1FtgPkhGE"
      }
    },
    {
      "cell_type": "code",
      "source": [
        "def have_same_elements(list1, list2):\n",
        "    # Convert lists to sets\n",
        "    set1 = set(list1)\n",
        "    set2 = set(list2)\n",
        "\n",
        "    # Check if sets are equal\n",
        "    return set1 == set2\n",
        "\n",
        "# Example usage\n",
        "list1 = [1, 2, 2, 3, 4]\n",
        "list2 = [4, 3, 2, 1, 1]\n",
        "\n",
        "result = have_same_elements(list1, list2)\n",
        "\n",
        "if result:\n",
        "    print(\"The two sets have the same elements.\")\n",
        "else:\n",
        "    print(\"The two sets do not have the same elements.\")\n"
      ],
      "metadata": {
        "colab": {
          "base_uri": "https://localhost:8080/"
        },
        "id": "LGN6LEMukatk",
        "outputId": "41ee4617-54d1-4b05-9e06-910b172f550d"
      },
      "execution_count": 99,
      "outputs": [
        {
          "output_type": "stream",
          "name": "stdout",
          "text": [
            "The two sets have the same elements.\n"
          ]
        }
      ]
    },
    {
      "cell_type": "markdown",
      "source": [
        "45. Create a set of the first n powers of 2"
      ],
      "metadata": {
        "id": "JD-dIiZIlDPF"
      }
    },
    {
      "cell_type": "code",
      "source": [
        "# Define the value of n\n",
        "n = 5\n",
        "\n",
        "# Create a tuple of the first n powers of 2 using a list comprehension\n",
        "powers_of_2_set = set(2 ** i for i in range(n))\n",
        "\n",
        "# Print the tuple of powers of 2\n",
        "print(\"set of the first\", n, \"powers of 2:\", powers_of_2_set)"
      ],
      "metadata": {
        "colab": {
          "base_uri": "https://localhost:8080/"
        },
        "id": "jqBbHOLwk4we",
        "outputId": "c9965192-a639-47d7-c7b1-cb1e09fff9f6"
      },
      "execution_count": 101,
      "outputs": [
        {
          "output_type": "stream",
          "name": "stdout",
          "text": [
            "set of the first 5 powers of 2: {1, 2, 4, 8, 16}\n"
          ]
        }
      ]
    },
    {
      "cell_type": "markdown",
      "source": [
        "46. Find the common elements between a set and a list."
      ],
      "metadata": {
        "id": "TJw1s3KFlY7Q"
      }
    },
    {
      "cell_type": "code",
      "source": [
        "def find_common_elements(set_obj, list_obj):\n",
        "    # Convert the list to a set\n",
        "    list_as_set = set(list_obj)\n",
        "\n",
        "    # Find the intersection of the two sets\n",
        "    common_elements = set_obj.intersection(list_as_set)\n",
        "\n",
        "    return common_elements\n",
        "\n",
        "# Example usage\n",
        "my_set = {1, 2, 3, 4, 5}\n",
        "my_list = [3, 4, 5, 6, 7]\n",
        "\n",
        "result = find_common_elements(my_set, my_list)\n",
        "\n",
        "# Print the result\n",
        "print(\"Common elements:\", result)"
      ],
      "metadata": {
        "colab": {
          "base_uri": "https://localhost:8080/"
        },
        "id": "fgs23GKmlONY",
        "outputId": "c8cdd2fb-5d27-4803-90e2-d7814cdd46c7"
      },
      "execution_count": 103,
      "outputs": [
        {
          "output_type": "stream",
          "name": "stdout",
          "text": [
            "Common elements: {3, 4, 5}\n"
          ]
        }
      ]
    },
    {
      "cell_type": "markdown",
      "source": [
        "47. Create a set of the first n triangular numbers."
      ],
      "metadata": {
        "id": "l7goWXS5l37Y"
      }
    },
    {
      "cell_type": "code",
      "source": [
        "# Define the value of n\n",
        "n = 5\n",
        "\n",
        "# Create a tuple of the first n triangular numbers using a list comprehension\n",
        "triangular_numbers_set = set((i * (i + 1)) // 2 for i in range(1, n + 1))\n",
        "\n",
        "# Print the tuple of triangular numbers\n",
        "print(\"Tuple of the first\", n, \"triangular numbers:\", triangular_numbers_set)"
      ],
      "metadata": {
        "colab": {
          "base_uri": "https://localhost:8080/"
        },
        "id": "bFGasrc-l3Kq",
        "outputId": "4c989b09-1a72-4a0b-82bd-d27a2d4d8cdd"
      },
      "execution_count": 105,
      "outputs": [
        {
          "output_type": "stream",
          "name": "stdout",
          "text": [
            "Tuple of the first 5 triangular numbers: {1, 3, 6, 10, 15}\n"
          ]
        }
      ]
    },
    {
      "cell_type": "markdown",
      "source": [
        "48. Check if a set contains another set as a subset."
      ],
      "metadata": {
        "id": "1GQJoBssmDy1"
      }
    },
    {
      "cell_type": "code",
      "source": [
        "# Define two sets\n",
        "set1 = {1, 2, 3, 4, 5}\n",
        "set2 = {3, 4}\n",
        "\n",
        "# Check if set2 is a subset of set1\n",
        "is_subset = set2.issubset(set1)\n",
        "\n",
        "# Print the result\n",
        "if is_subset:\n",
        "    print(\"set2 is a subset of set1\")\n",
        "else:\n",
        "    print(\"set2 is not a subset of set1\")"
      ],
      "metadata": {
        "colab": {
          "base_uri": "https://localhost:8080/"
        },
        "id": "CJ_KiWBDljHM",
        "outputId": "b1d74b59-b45f-427d-83eb-522abb46a3f1"
      },
      "execution_count": 106,
      "outputs": [
        {
          "output_type": "stream",
          "name": "stdout",
          "text": [
            "set2 is a subset of set1\n"
          ]
        }
      ]
    },
    {
      "cell_type": "markdown",
      "source": [
        "49. Create a set of alternating 1s and 0s of length n."
      ],
      "metadata": {
        "id": "l3yE5-NqmKYb"
      }
    },
    {
      "cell_type": "code",
      "source": [
        "# Define the value of n\n",
        "n = 10\n",
        "\n",
        "# Create a tuple of alternating 1s and 0s using a list comprehension\n",
        "alternating_set = set(i % 2 for i in range(n))\n",
        "\n",
        "# Print the tuple of alternating 1s and 0s\n",
        "print(\"Tuple of alternating 1s and 0s:\", alternating_set)"
      ],
      "metadata": {
        "colab": {
          "base_uri": "https://localhost:8080/"
        },
        "id": "5ZUt8JZMmHs-",
        "outputId": "0cf419cf-c4d6-40c2-9797-9ede8c631319"
      },
      "execution_count": 107,
      "outputs": [
        {
          "output_type": "stream",
          "name": "stdout",
          "text": [
            "Tuple of alternating 1s and 0s: {0, 1}\n"
          ]
        }
      ]
    },
    {
      "cell_type": "markdown",
      "source": [
        "50. Merge multiple sets into one."
      ],
      "metadata": {
        "id": "C1TmezXum4VF"
      }
    },
    {
      "cell_type": "code",
      "source": [
        "# Step 1: Create multiple sets\n",
        "set1 = {1, 2, 3}\n",
        "set2 = {3, 4, 5}\n",
        "set3 = {5, 6, 7}\n",
        "\n",
        "# Step 2: Use the union() method to merge sets\n",
        "merged_set = set1.union(set2, set3)\n",
        "\n",
        "# Alternatively, you can use the | operator\n",
        "# merged_set = set1 | set2 | set3\n",
        "\n",
        "# Step 3: Print the merged set\n",
        "print(\"Merged Set:\", merged_set)"
      ],
      "metadata": {
        "colab": {
          "base_uri": "https://localhost:8080/"
        },
        "id": "sLeCaSkzm0CJ",
        "outputId": "9868c9d4-5ca8-41b8-d825-245078273e7b"
      },
      "execution_count": 108,
      "outputs": [
        {
          "output_type": "stream",
          "name": "stdout",
          "text": [
            "Merged Set: {1, 2, 3, 4, 5, 6, 7}\n"
          ]
        }
      ]
    },
    {
      "cell_type": "code",
      "source": [],
      "metadata": {
        "id": "_ln-3tcTm7-k"
      },
      "execution_count": null,
      "outputs": []
    }
  ]
}
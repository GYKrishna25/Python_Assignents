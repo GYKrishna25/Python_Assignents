{
  "nbformat": 4,
  "nbformat_minor": 0,
  "metadata": {
    "colab": {
      "provenance": []
    },
    "kernelspec": {
      "name": "python3",
      "display_name": "Python 3"
    },
    "language_info": {
      "name": "python"
    }
  },
  "cells": [
    {
      "cell_type": "markdown",
      "source": [
        "# Basic If-Else Statements"
      ],
      "metadata": {
        "id": "sxBVi2F1BbiF"
      }
    },
    {
      "cell_type": "markdown",
      "source": [
        "1. Write a Python program to check if a given number is positive or negative."
      ],
      "metadata": {
        "id": "A0n5s8ttBwwY"
      }
    },
    {
      "cell_type": "code",
      "execution_count": null,
      "metadata": {
        "id": "0-bnAxqylywr",
        "colab": {
          "base_uri": "https://localhost:8080/"
        },
        "outputId": "29840eb1-f6d6-4f5a-f1f0-44071b16f977"
      },
      "outputs": [
        {
          "output_type": "stream",
          "name": "stdout",
          "text": [
            "Enter a number: 12.5\n",
            "The number is positive.\n"
          ]
        }
      ],
      "source": [
        "# Input: A number\n",
        "number = float(input(\"Enter a number: \"))\n",
        "\n",
        "# Check if the number is positive or negative\n",
        "if number > 0:\n",
        "    print(\"The number is positive.\")\n",
        "elif number < 0:\n",
        "    print(\"The number is negative.\")\n",
        "else:\n",
        "    print(\"The number is zero.\")\n"
      ]
    },
    {
      "cell_type": "markdown",
      "source": [
        "2. Create a program that determines if a person is eligible to vote based on their age."
      ],
      "metadata": {
        "id": "ZlzN9fVaB4E8"
      }
    },
    {
      "cell_type": "code",
      "source": [
        "# Input: Age of the person\n",
        "age = int(input(\"Enter your age: \"))\n",
        "\n",
        "# Check if the person is eligible to vote\n",
        "if age >= 18:\n",
        "    print(\"You are eligible to vote.\")\n",
        "else:\n",
        "    print(\"You are not eligible to vote.\")"
      ],
      "metadata": {
        "colab": {
          "base_uri": "https://localhost:8080/"
        },
        "id": "CZXkHiXnBv8P",
        "outputId": "9b0c5873-c757-4960-e0a2-965198e1074e"
      },
      "execution_count": null,
      "outputs": [
        {
          "output_type": "stream",
          "name": "stdout",
          "text": [
            "Enter your age: 19\n",
            "You are eligible to vote.\n"
          ]
        }
      ]
    },
    {
      "cell_type": "markdown",
      "source": [
        "3. Develop a program to find the maximum of two numbers using if-else statements."
      ],
      "metadata": {
        "id": "qYCMkqPUCBT_"
      }
    },
    {
      "cell_type": "code",
      "source": [
        "# Input: Two numbers\n",
        "num1 = float(input(\"Enter the first number: \"))\n",
        "num2 = float(input(\"Enter the second number: \"))\n",
        "\n",
        "# Find the maximum number\n",
        "if num1 > num2:\n",
        "    print(f\"The maximum number is {num1}.\")\n",
        "else:\n",
        "    print(f\"The maximum number is {num2}.\")\n"
      ],
      "metadata": {
        "colab": {
          "base_uri": "https://localhost:8080/"
        },
        "id": "P5LzT-xIB9nl",
        "outputId": "3efa64e6-1ba3-4d88-c548-f601ec3e42ed"
      },
      "execution_count": null,
      "outputs": [
        {
          "output_type": "stream",
          "name": "stdout",
          "text": [
            "Enter the first number: 10\n",
            "Enter the second number: 12\n",
            "The maximum number is 12.0.\n"
          ]
        }
      ]
    },
    {
      "cell_type": "markdown",
      "source": [
        "4. Write a Python script to classify a given year as a leap year or not."
      ],
      "metadata": {
        "id": "pvXqiKXJCMhX"
      }
    },
    {
      "cell_type": "code",
      "source": [
        "# Input: Year\n",
        "year = int(input(\"Enter a year: \"))\n",
        "\n",
        "# Check if the year is a leap year\n",
        "if (year % 4 == 0 and year % 100 != 0) or (year % 400 == 0):\n",
        "    print(f\"{year} is a leap year.\")\n",
        "else:\n",
        "    print(f\"{year} is not a leap year.\")\n"
      ],
      "metadata": {
        "colab": {
          "base_uri": "https://localhost:8080/"
        },
        "id": "koAZLlXkCK-G",
        "outputId": "a6c0d7bc-045c-4a15-a61c-4b281b7d59bd"
      },
      "execution_count": null,
      "outputs": [
        {
          "output_type": "stream",
          "name": "stdout",
          "text": [
            "Enter a year: 1900\n",
            "1900 is not a leap year.\n"
          ]
        }
      ]
    },
    {
      "cell_type": "markdown",
      "source": [
        "5. Create a program that checks whether a character is a vowel or a consonant."
      ],
      "metadata": {
        "id": "wTJgvT1iComK"
      }
    },
    {
      "cell_type": "code",
      "source": [
        "# Input: A character\n",
        "char = input(\"Enter a character: \")\n",
        "\n",
        "# Convert the character to lowercase to handle both uppercase and lowercase inputs\n",
        "char = char.lower()\n",
        "\n",
        "# Check if the character is a vowel or a consonant\n",
        "if char in ('a', 'e', 'i', 'o', 'u'):\n",
        "    print(f\"{char} is a vowel.\")\n",
        "else:\n",
        "    print(f\"{char} is a consonant.\")\n"
      ],
      "metadata": {
        "colab": {
          "base_uri": "https://localhost:8080/"
        },
        "id": "EV6hi_2KCEMW",
        "outputId": "f41f821c-5126-473f-a5c1-898f74ba107a"
      },
      "execution_count": null,
      "outputs": [
        {
          "output_type": "stream",
          "name": "stdout",
          "text": [
            "Enter a character: l\n",
            "l is a consonant.\n"
          ]
        }
      ]
    },
    {
      "cell_type": "markdown",
      "source": [
        "6. Implement a program to determine whether a given number is even or odd."
      ],
      "metadata": {
        "id": "VzIVyHN_C242"
      }
    },
    {
      "cell_type": "code",
      "source": [
        "# Function to check if a number is even or odd\n",
        "def check_even_odd(number):\n",
        "    if number % 2 == 0:\n",
        "        return \"Even\"\n",
        "    else:\n",
        "        return \"Odd\"\n",
        "\n",
        "# Input from the user\n",
        "num = int(input(\"Enter a number: \"))\n",
        "\n",
        "# Determine and print whether the number is even or odd\n",
        "result = check_even_odd(num)\n",
        "print(f\"The number {num} is {result}.\")\n"
      ],
      "metadata": {
        "id": "P4oz3ow4CqYU",
        "colab": {
          "base_uri": "https://localhost:8080/"
        },
        "outputId": "429d8c50-ef70-4b2f-b53c-99de4b38bb8c"
      },
      "execution_count": null,
      "outputs": [
        {
          "output_type": "stream",
          "name": "stdout",
          "text": [
            "Enter a number: 10\n",
            "The number 10 is Even.\n"
          ]
        }
      ]
    },
    {
      "cell_type": "markdown",
      "source": [
        "7. Write a Python function to calculate the absolute value of a number without using the `abs()` function."
      ],
      "metadata": {
        "id": "EO-NnCFyERz1"
      }
    },
    {
      "cell_type": "code",
      "source": [
        "def absolute_value(number):\n",
        "    if number < 0:\n",
        "        return -number\n",
        "    else:\n",
        "        return number\n",
        "\n",
        "# Examples\n",
        "print(absolute_value(-5))   # Output: 5\n",
        "print(absolute_value(3))    # Output: 3\n",
        "print(absolute_value(0))    # Output: 0\n"
      ],
      "metadata": {
        "colab": {
          "base_uri": "https://localhost:8080/"
        },
        "id": "dbfwR5rAEOy8",
        "outputId": "d83be907-4fa3-449b-d193-143be35cfb0d"
      },
      "execution_count": null,
      "outputs": [
        {
          "output_type": "stream",
          "name": "stdout",
          "text": [
            "5\n",
            "3\n",
            "0\n"
          ]
        }
      ]
    },
    {
      "cell_type": "markdown",
      "source": [
        "8. Develop a program that determines the largest of three given numbers using if-else statements."
      ],
      "metadata": {
        "id": "pAR5rpaEFEuy"
      }
    },
    {
      "cell_type": "code",
      "source": [
        "# Function to find the largest of three numbers\n",
        "def find_largest(a, b, c):\n",
        "    # Start by assuming 'a' is the largest\n",
        "    largest = a\n",
        "\n",
        "    # Check if 'b' is greater than 'largest'\n",
        "    if b > largest:\n",
        "        largest = b\n",
        "    else:\n",
        "        largest = largest  # No change if 'b' is not greater\n",
        "\n",
        "    # Check if 'c' is greater than 'largest'\n",
        "    if c > largest:\n",
        "        largest = c\n",
        "    else:\n",
        "        largest = largest  # No change if 'c' is not greater\n",
        "\n",
        "    return largest\n",
        "\n",
        "# Example usage\n",
        "num1 = 10\n",
        "num2 = 20\n",
        "num3 = 15\n",
        "\n",
        "largest_number = find_largest(num1, num2, num3)\n",
        "print(f\"The largest number among {num1}, {num2}, and {num3} is: {largest_number}\")\n"
      ],
      "metadata": {
        "colab": {
          "base_uri": "https://localhost:8080/"
        },
        "id": "XGzivCbfEWN5",
        "outputId": "f54ba2ad-6fec-4033-db4f-11bbf709ff1b"
      },
      "execution_count": null,
      "outputs": [
        {
          "output_type": "stream",
          "name": "stdout",
          "text": [
            "The largest number among 10, 20, and 15 is: 20\n"
          ]
        }
      ]
    },
    {
      "cell_type": "markdown",
      "source": [
        "9. Create a program that checks if a given string is a palindrome."
      ],
      "metadata": {
        "id": "wkf4AqV0G5jo"
      }
    },
    {
      "cell_type": "code",
      "source": [
        "def palindrome(string):\n",
        "  if string.lower() == string[::-1].lower():\n",
        "    return f\"The given string is Palindrome\"\n",
        "  else :\n",
        "    return f\"The given string is not palindrome\"\n",
        "\n",
        "# example useage\n",
        "print(palindrome(\"Krishna\"))   # Not palindrome\n",
        "print(palindrome(\"Mom\"))       # Palindrome"
      ],
      "metadata": {
        "colab": {
          "base_uri": "https://localhost:8080/"
        },
        "id": "9119lR7MG4PW",
        "outputId": "3cb15e49-8529-4a62-f68e-364c18277ec4"
      },
      "execution_count": null,
      "outputs": [
        {
          "output_type": "stream",
          "name": "stdout",
          "text": [
            "The given string is not palindrome\n",
            "The given string is Palindrome\n"
          ]
        }
      ]
    },
    {
      "cell_type": "markdown",
      "source": [
        "10. Write a Python program to calculate the grade based on a student's score."
      ],
      "metadata": {
        "id": "6kweUtVVHxj3"
      }
    },
    {
      "cell_type": "code",
      "source": [
        "# Function to calculate the grade based on score\n",
        "def calculate_grade(score):\n",
        "    if score >= 90:\n",
        "        grade = 'A'\n",
        "    else:\n",
        "        if score >= 80:\n",
        "            grade = 'B'\n",
        "        else:\n",
        "            if score >= 70:\n",
        "                grade = 'C'\n",
        "            else:\n",
        "                if score >= 60:\n",
        "                    grade = 'D'\n",
        "                else:\n",
        "                    grade = 'F'\n",
        "\n",
        "    return grade\n",
        "\n",
        "# Example usage\n",
        "score = 85\n",
        "grade = calculate_grade(score)\n",
        "print(f\"The grade for a score of {score} is: {grade}\")\n"
      ],
      "metadata": {
        "colab": {
          "base_uri": "https://localhost:8080/"
        },
        "id": "xgdQiI6-HLvR",
        "outputId": "8549efd1-2ddc-4e0c-f311-cf6bd8c2eab8"
      },
      "execution_count": null,
      "outputs": [
        {
          "output_type": "stream",
          "name": "stdout",
          "text": [
            "The grade for a score of 85 is: B\n"
          ]
        }
      ]
    },
    {
      "cell_type": "markdown",
      "source": [
        "# Nested if-else statements"
      ],
      "metadata": {
        "id": "lvzsBb23JnXm"
      }
    },
    {
      "cell_type": "markdown",
      "source": [
        "11. Write a program to find the largest among three numbers using nested if-else statements."
      ],
      "metadata": {
        "id": "ZFlvun31JnF0"
      }
    },
    {
      "cell_type": "code",
      "source": [
        "# Function to find the largest among three numbers\n",
        "def find_largest(num1, num2, num3):\n",
        "  if num1>num2 and num1>num3:\n",
        "      return num1\n",
        "  else :\n",
        "    if num2>num3:\n",
        "      return num2\n",
        "    else:\n",
        "      return num3\n",
        "\n",
        "# Example usage\n",
        "num1 = 10\n",
        "num2 = 20\n",
        "num3 = 15\n",
        "largest = find_largest(num1, num2, num3)\n",
        "print(f\"The largest number among {num1}, {num2}, and {num3} is: {largest}\")\n"
      ],
      "metadata": {
        "colab": {
          "base_uri": "https://localhost:8080/"
        },
        "id": "x-WlJOFmHLKs",
        "outputId": "b9b27006-67d9-4583-a3ff-092f153f3f7b"
      },
      "execution_count": null,
      "outputs": [
        {
          "output_type": "stream",
          "name": "stdout",
          "text": [
            "The largest number among 10, 20, and 15 is: 20\n"
          ]
        }
      ]
    },
    {
      "cell_type": "markdown",
      "source": [
        "12. Implement a program to determine if a triangle is equilateral, isosceles, or scalene."
      ],
      "metadata": {
        "id": "2YAB7DA7Og-N"
      }
    },
    {
      "cell_type": "code",
      "source": [
        "# Input: lengths of the three sides of the triangle\n",
        "side1 = float(input(\"Enter the length of the first side: \"))\n",
        "side2 = float(input(\"Enter the length of the second side: \"))\n",
        "side3 = float(input(\"Enter the length of the third side: \"))\n",
        "\n",
        "# Determine the type of triangle\n",
        "if side1 == side2 == side3:\n",
        "    print(\"The triangle is equilateral.\")\n",
        "elif side1 == side2 or side2 == side3 or side1 == side3:\n",
        "    print(\"The triangle is isosceles.\")\n",
        "else:\n",
        "    print(\"The triangle is scalene.\")\n"
      ],
      "metadata": {
        "colab": {
          "base_uri": "https://localhost:8080/"
        },
        "id": "bdMRxPsBKIMp",
        "outputId": "d57ecd82-548c-4bf0-e524-b83442df98f0"
      },
      "execution_count": null,
      "outputs": [
        {
          "output_type": "stream",
          "name": "stdout",
          "text": [
            "Enter the length of the first side: 25\n",
            "Enter the length of the second side: 25\n",
            "Enter the length of the third side: 25\n",
            "The triangle is equilateral.\n"
          ]
        }
      ]
    },
    {
      "cell_type": "markdown",
      "source": [
        "13. Develop a program that checks if a year is a leap year and also if it is a century year."
      ],
      "metadata": {
        "id": "OEh5XUs1W5n3"
      }
    },
    {
      "cell_type": "code",
      "source": [
        "def check_year(year):\n",
        "    if year % 4 == 0:\n",
        "        if year % 100 == 0:\n",
        "            if year % 400 == 0:\n",
        "                print(f\"{year} is a leap year and a century year.\")\n",
        "            else:\n",
        "                print(f\"{year} is not a leap year but is a century year.\")\n",
        "        else:\n",
        "            print(f\"{year} is a leap year but not a century year.\")\n",
        "    else:\n",
        "        if year % 100 == 0:\n",
        "            print(f\"{year} is not a leap year but is a century year.\")\n",
        "        else:\n",
        "            print(f\"{year} is not a leap year and not a century year.\")\n",
        "\n",
        "# Get input from the user\n",
        "year = int(input(\"Enter a year: \"))\n",
        "\n",
        "# Call the function to check the year\n",
        "check_year(year)"
      ],
      "metadata": {
        "colab": {
          "base_uri": "https://localhost:8080/"
        },
        "id": "RMO8c0fAKhvF",
        "outputId": "a8721be2-58f3-47ea-a967-9d4ecd97774a"
      },
      "execution_count": null,
      "outputs": [
        {
          "output_type": "stream",
          "name": "stdout",
          "text": [
            "Enter a year: 2021\n",
            "2021 is not a leap year and not a century year.\n"
          ]
        }
      ]
    },
    {
      "cell_type": "markdown",
      "source": [
        "14. Write a Python script to determine if a number is positive, negative, or zero."
      ],
      "metadata": {
        "id": "Yn8ORS4BceqH"
      }
    },
    {
      "cell_type": "code",
      "source": [
        "# Get input from the user\n",
        "number = float(input(\"Enter a number: \"))\n",
        "\n",
        "# Check if the number is positive, negative, or zero\n",
        "if number > 0:\n",
        "    print(\"The number is positive.\")\n",
        "elif number < 0:\n",
        "    print(\"The number is negative.\")\n",
        "else:\n",
        "    print(\"The number is zero.\")"
      ],
      "metadata": {
        "colab": {
          "base_uri": "https://localhost:8080/"
        },
        "id": "ViJp_IO_ZqnJ",
        "outputId": "dcd048fa-ff48-4a71-f568-72d4a34ea5dc"
      },
      "execution_count": null,
      "outputs": [
        {
          "output_type": "stream",
          "name": "stdout",
          "text": [
            "Enter a number: 0\n",
            "The number is zero.\n"
          ]
        }
      ]
    },
    {
      "cell_type": "markdown",
      "source": [
        "15. Create a program to check if a person is a teenager (between 13 and 19 years old)."
      ],
      "metadata": {
        "id": "gf0-TTCWchcV"
      }
    },
    {
      "cell_type": "code",
      "source": [
        "# Get the age from the user\n",
        "age = int(input(\"Enter your age: \"))\n",
        "\n",
        "# Check if the person is a teenager\n",
        "if 13 <= age <= 19:\n",
        "    print(\"You are a teenager.\")\n",
        "else:\n",
        "    print(\"You are not a teenager.\")"
      ],
      "metadata": {
        "colab": {
          "base_uri": "https://localhost:8080/"
        },
        "id": "sjbLl6QzckPQ",
        "outputId": "67f2297a-4edf-43a5-cf9b-1a1a5aab4838"
      },
      "execution_count": null,
      "outputs": [
        {
          "output_type": "stream",
          "name": "stdout",
          "text": [
            "Enter your age: 20\n",
            "You are not a teenager.\n"
          ]
        }
      ]
    },
    {
      "cell_type": "markdown",
      "source": [
        "16. Develop a program that determines the type of angle based on its measure (acute, obtuse, or right)."
      ],
      "metadata": {
        "id": "W5w2qJP0c8FA"
      }
    },
    {
      "cell_type": "code",
      "source": [
        "# Get the angle measure from the user\n",
        "angle = float(input(\"Enter the angle measure in degrees: \"))\n",
        "\n",
        "if angle > 0 and angle < 180:\n",
        "    if angle < 90:\n",
        "        print(\"This is an acute angle.\")\n",
        "    else:\n",
        "        if angle == 90:\n",
        "            print(\"This is a right angle.\")\n",
        "        else:\n",
        "            print(\"This is an obtuse angle.\")\n",
        "else:\n",
        "    print(\"Invalid input. Please enter an angle between 0 and 180 degrees.\")"
      ],
      "metadata": {
        "colab": {
          "base_uri": "https://localhost:8080/"
        },
        "id": "rcNG59knd5vA",
        "outputId": "b2020c26-ee11-48b6-ffa3-0e30b8e0236c"
      },
      "execution_count": null,
      "outputs": [
        {
          "output_type": "stream",
          "name": "stdout",
          "text": [
            "Enter the angle measure in degrees: 90\n",
            "This is a right angle.\n"
          ]
        }
      ]
    },
    {
      "cell_type": "markdown",
      "source": [
        "17. Write a Python program to calculate the roots of a quadratic equation."
      ],
      "metadata": {
        "id": "eTDhO2tYgoaa"
      }
    },
    {
      "cell_type": "code",
      "source": [
        "import math\n",
        "\n",
        "# Coefficients of the quadratic equation\n",
        "a = 1\n",
        "b = 2\n",
        "c = 5\n",
        "\n",
        "\n",
        "# Calculate the discriminant\n",
        "D = b**2 - 4*a*c\n",
        "\n",
        "# Check if 'a' is not zero (to ensure it's a quadratic equation)\n",
        "if a != 0:\n",
        "    if D > 0:\n",
        "        # Two distinct real roots\n",
        "        root1 = (-b + math.sqrt(D)) / (2 * a)\n",
        "        root2 = (-b - math.sqrt(D)) / (2 * a)\n",
        "        print(f\"The equation has two distinct real roots: {root1} and {root2}\")\n",
        "    else:\n",
        "        if D == 0:\n",
        "            # One real root\n",
        "            root = -b / (2 * a)\n",
        "            print(f\"The equation has one real root: {root}\")\n",
        "        else:\n",
        "            # Two complex roots\n",
        "            real_part = -b / (2 * a)\n",
        "            imaginary_part = math.sqrt(abs(D)) / (2 * a)\n",
        "            print(f\"The equation has two complex roots: {real_part} + {imaginary_part}i and {real_part} - {imaginary_part}i\")\n",
        "else:\n",
        "    print(\"This is not a quadratic equation since a = 0.\")\n"
      ],
      "metadata": {
        "colab": {
          "base_uri": "https://localhost:8080/"
        },
        "id": "xVahDOJygo5i",
        "outputId": "d570df9f-cd3e-48b6-be7b-5b138cb8b33c"
      },
      "execution_count": null,
      "outputs": [
        {
          "output_type": "stream",
          "name": "stdout",
          "text": [
            "The equation has two complex roots: -1.0 + 2.0i and -1.0 - 2.0i\n"
          ]
        }
      ]
    },
    {
      "cell_type": "markdown",
      "source": [
        "18. Implement a program to determine the day of the week based on a user-provided number (1 for Monday, 2\n",
        "for Tuesday, etc.)."
      ],
      "metadata": {
        "id": "Ep-q3IpZDigh"
      }
    },
    {
      "cell_type": "code",
      "source": [
        "# Get user input\n",
        "day_number = int(input(\"Enter a number (1 for Monday, 2 for Tuesday, etc.): \"))\n",
        "\n",
        "# Determine the day of the week\n",
        "if day_number == 1:\n",
        "    day = \"Monday\"\n",
        "elif day_number == 2:\n",
        "    day = \"Tuesday\"\n",
        "elif day_number == 3:\n",
        "    day = \"Wednesday\"\n",
        "elif day_number == 4:\n",
        "    day = \"Thursday\"\n",
        "elif day_number == 5:\n",
        "    day = \"Friday\"\n",
        "elif day_number == 6:\n",
        "    day = \"Saturday\"\n",
        "elif day_number == 7:\n",
        "    day = \"Sunday\"\n",
        "else:\n",
        "    day = \"Invalid number. Please enter a number between 1 and 7.\"\n",
        "\n",
        "# Print the result\n",
        "print(day)\n"
      ],
      "metadata": {
        "colab": {
          "base_uri": "https://localhost:8080/"
        },
        "id": "8prCKxWmDi-H",
        "outputId": "c3942e70-6dd7-49ba-eb93-8af8167d56a6"
      },
      "execution_count": null,
      "outputs": [
        {
          "output_type": "stream",
          "name": "stdout",
          "text": [
            "Enter a number (1 for Monday, 2 for Tuesday, etc.): 8\n",
            "Invalid number. Please enter a number between 1 and 7.\n"
          ]
        }
      ]
    },
    {
      "cell_type": "markdown",
      "source": [
        "19. Create a program that determines if a year is a leap year and also if it is evenly divisible by 400."
      ],
      "metadata": {
        "id": "VgjLDLCLD7m9"
      }
    },
    {
      "cell_type": "code",
      "source": [
        "def check_year(year):\n",
        "  if year % 4 == 0:\n",
        "    if year % 400 == 0:\n",
        "      print(f\"{year} is a leap year\")\n",
        "  else:\n",
        "    print(f\"{year} is a not leap year\")\n",
        "\n",
        "# Get input from the user\n",
        "year = int(input(\"Enter a year: \"))\n",
        "\n",
        "# Call the function to check the year\n",
        "check_year(year)"
      ],
      "metadata": {
        "colab": {
          "base_uri": "https://localhost:8080/"
        },
        "id": "-xBxeiL_DtVv",
        "outputId": "89b03b77-2129-4731-b3ab-c30476cab185"
      },
      "execution_count": null,
      "outputs": [
        {
          "output_type": "stream",
          "name": "stdout",
          "text": [
            "Enter a year: 2022\n",
            "2022 is a not leap year\n"
          ]
        }
      ]
    },
    {
      "cell_type": "markdown",
      "source": [
        "20. Develop a program that checks if a given number is prime or not using nested if-else statements."
      ],
      "metadata": {
        "id": "eqw8aRN2E2Re"
      }
    },
    {
      "cell_type": "code",
      "source": [
        "def check_prime(number):\n",
        "  if number < 2:\n",
        "    print(\"The number should be greater than 1\")\n",
        "  else:\n",
        "    for i in range(2, number):\n",
        "      if number%i:\n",
        "        print(\"The given number is not prime number\")\n",
        "        break\n",
        "    else:\n",
        "      print(\"The given number is prime\")\n",
        "\n",
        "check_prime(3)"
      ],
      "metadata": {
        "colab": {
          "base_uri": "https://localhost:8080/"
        },
        "id": "AsokaZ--HC_C",
        "outputId": "177c6a00-43fe-4d11-cf49-c15b15a45e56"
      },
      "execution_count": null,
      "outputs": [
        {
          "output_type": "stream",
          "name": "stdout",
          "text": [
            "The given number is not prime number\n"
          ]
        }
      ]
    },
    {
      "cell_type": "markdown",
      "source": [
        "# Elif Statements"
      ],
      "metadata": {
        "id": "PWMf4lieKLCt"
      }
    },
    {
      "cell_type": "markdown",
      "source": [
        "21. Write a Python program to assign grades based on different ranges of scores using elif statements."
      ],
      "metadata": {
        "id": "TPjr2vlVKN52"
      }
    },
    {
      "cell_type": "code",
      "source": [
        "# Function to determine the grade\n",
        "def determine_grade(score):\n",
        "    if score >= 90:\n",
        "        return \"A\"\n",
        "    elif score >= 80:\n",
        "        return \"B\"\n",
        "    elif score >= 70:\n",
        "        return \"C\"\n",
        "    elif score >= 60:\n",
        "        return \"D\"\n",
        "    else:\n",
        "        return \"F\"\n",
        "\n",
        "# Get user input\n",
        "score = int(input(\"Enter the score: \"))\n",
        "\n",
        "# Determine and print the grade\n",
        "grade = determine_grade(score)\n",
        "print(f\"The grade for the score {score} is: {grade}\")"
      ],
      "metadata": {
        "colab": {
          "base_uri": "https://localhost:8080/"
        },
        "id": "KPBrpEnkI9IH",
        "outputId": "f2e25daf-c172-43a8-f292-87d3f413638d"
      },
      "execution_count": null,
      "outputs": [
        {
          "output_type": "stream",
          "name": "stdout",
          "text": [
            "Enter the score: 93\n",
            "The grade for the score 93 is: A\n"
          ]
        }
      ]
    },
    {
      "cell_type": "markdown",
      "source": [
        "22. Implement a program to determine the type of a triangle based on its angles."
      ],
      "metadata": {
        "id": "dlctNoqWLC3-"
      }
    },
    {
      "cell_type": "code",
      "source": [
        "# Function to determine the type of triangle\n",
        "def determine_triangle_type(angle1, angle2, angle3):\n",
        "    if angle1 + angle2 + angle3 != 180:\n",
        "        return \"Invalid angles for a triangle\"\n",
        "    elif angle1 == 90 or angle2 == 90 or angle3 == 90:\n",
        "        return \"Right-angled triangle\"\n",
        "    elif angle1 > 90 or angle2 > 90 or angle3 > 90:\n",
        "        return \"Obtuse-angled triangle\"\n",
        "    else:\n",
        "        return \"Acute-angled triangle\"\n",
        "\n",
        "# Get user input\n",
        "angle1 = int(input(\"Enter the first angle of the triangle: \"))\n",
        "angle2 = int(input(\"Enter the second angle of the triangle: \"))\n",
        "angle3 = int(input(\"Enter the third angle of the triangle: \"))\n",
        "\n",
        "# Determine and print the type of triangle\n",
        "triangle_type = determine_triangle_type(angle1, angle2, angle3)\n",
        "print(f\"The triangle is: {triangle_type}\")"
      ],
      "metadata": {
        "colab": {
          "base_uri": "https://localhost:8080/"
        },
        "id": "NwIDGx2tLCir",
        "outputId": "0a7bd92d-052b-4390-b4f9-acf2c2837b73"
      },
      "execution_count": null,
      "outputs": [
        {
          "output_type": "stream",
          "name": "stdout",
          "text": [
            "Enter the first angle of the triangle: 90\n",
            "Enter the second angle of the triangle: 45\n",
            "Enter the third angle of the triangle: 45\n",
            "The triangle is: Right-angled triangle\n"
          ]
        }
      ]
    },
    {
      "cell_type": "markdown",
      "source": [
        "23. Develop a program to categorize a given person's BMI into underweight, normal, overweight, or obese using\n",
        "elif statements."
      ],
      "metadata": {
        "id": "9DhQzTfgOQXN"
      }
    },
    {
      "cell_type": "code",
      "source": [
        "# Function to calculate BMI\n",
        "def calculate_bmi(weight, height_cm):\n",
        "    height_m = height_cm / 100  # Convert height from cm to meters\n",
        "    return weight / (height_m ** 2)\n",
        "\n",
        "# Function to categorize BMI\n",
        "def categorize_bmi(bmi):\n",
        "    if bmi < 18.5:\n",
        "        return \"Underweight\"\n",
        "    elif 18.5 <= bmi < 24.9:\n",
        "        return \"Normal weight\"\n",
        "    elif 25 <= bmi < 29.9:\n",
        "        return \"Overweight\"\n",
        "    else:\n",
        "        return \"Obese\"\n",
        "\n",
        "# Input weight and height\n",
        "weight = float(input(\"Enter weight in kg: \"))\n",
        "height_cm = float(input(\"Enter height in cm: \"))\n",
        "\n",
        "# Calculate BMI\n",
        "bmi = calculate_bmi(weight, height_cm)\n",
        "\n",
        "# Categorize BMI\n",
        "category = categorize_bmi(bmi)\n",
        "\n",
        "# Output result\n",
        "print(f\"BMI: {bmi:.2f}\")\n",
        "print(f\"Category: {category}\")\n"
      ],
      "metadata": {
        "colab": {
          "base_uri": "https://localhost:8080/"
        },
        "id": "7jXdi3JrORPe",
        "outputId": "3796dfd0-676f-453f-acd2-202299731dc4"
      },
      "execution_count": null,
      "outputs": [
        {
          "output_type": "stream",
          "name": "stdout",
          "text": [
            "Enter weight in kg: 62\n",
            "Enter height in cm: 165\n",
            "BMI: 22.77\n",
            "Category: Normal weight\n"
          ]
        }
      ]
    },
    {
      "cell_type": "markdown",
      "source": [
        "24. Create a program that determines whether a given number is positive, negative, or zero using elif\n",
        "statements."
      ],
      "metadata": {
        "id": "ng2IainEP3S2"
      }
    },
    {
      "cell_type": "code",
      "source": [
        "# Function to determine the sign of a number\n",
        "def determine_sign(number):\n",
        "    if number > 0:\n",
        "        return \"Positive\"\n",
        "    elif number < 0:\n",
        "        return \"Negative\"\n",
        "    else:\n",
        "        return \"Zero\"\n",
        "\n",
        "# Input number\n",
        "number = float(input(\"Enter a number: \"))\n",
        "\n",
        "# Determine the sign of the number\n",
        "sign = determine_sign(number)\n",
        "\n",
        "# Output result\n",
        "print(f\"The number is {sign}.\")"
      ],
      "metadata": {
        "colab": {
          "base_uri": "https://localhost:8080/"
        },
        "id": "ETEgoYOUORe-",
        "outputId": "84f072cc-fe12-4d5f-d9b0-dbf16e91513f"
      },
      "execution_count": null,
      "outputs": [
        {
          "output_type": "stream",
          "name": "stdout",
          "text": [
            "Enter a number: 6\n",
            "The number is Positive.\n"
          ]
        }
      ]
    },
    {
      "cell_type": "markdown",
      "source": [
        "25. Write a Python script to determine the type of a character (uppercase, lowercase, or special) using elif\n",
        "statements."
      ],
      "metadata": {
        "id": "KbAkUriOSqJV"
      }
    },
    {
      "cell_type": "code",
      "source": [
        "# Function to determine the type of a character\n",
        "def determine_char_type(char):\n",
        "    if char.isupper():\n",
        "        return \"Uppercase\"\n",
        "    elif char.islower():\n",
        "        return \"Lowercase\"\n",
        "    elif char.isalnum():\n",
        "        return \"Alphanumeric but not a letter\"\n",
        "    else:\n",
        "        return \"Special\"\n",
        "\n",
        "# Input character\n",
        "char = input(\"Enter a character: \")\n",
        "\n",
        "# Ensure the input is a single character\n",
        "if len(char) != 1:\n",
        "    print(\"Please enter only one character.\")\n",
        "else:\n",
        "    # Determine the type of the character\n",
        "    char_type = determine_char_type(char)\n",
        "\n",
        "    # Output result\n",
        "    print(f\"The character is {char_type}.\")\n"
      ],
      "metadata": {
        "colab": {
          "base_uri": "https://localhost:8080/"
        },
        "id": "NPCfR4ObSqRK",
        "outputId": "4aeec97a-4b81-42df-a942-03469d509d96"
      },
      "execution_count": null,
      "outputs": [
        {
          "output_type": "stream",
          "name": "stdout",
          "text": [
            "Enter a character: A\n",
            "The character is Uppercase.\n"
          ]
        }
      ]
    },
    {
      "cell_type": "markdown",
      "source": [
        "26. Implement a program to calculate the discounted price based on different purchase amounts using elif\n",
        "statements."
      ],
      "metadata": {
        "id": "JYxW-xY_S37k"
      }
    },
    {
      "cell_type": "code",
      "source": [
        "def calculate_discounted_price(amount):\n",
        "    # Define discount rates based on the purchase amount\n",
        "    if amount < 50:\n",
        "        discount = 0  # No discount for amounts less than $50\n",
        "    elif 50 <= amount < 100:\n",
        "        discount = 0.1  # 10% discount for amounts between $50 and $100\n",
        "    elif 100 <= amount < 200:\n",
        "        discount = 0.2  # 20% discount for amounts between $100 and $200\n",
        "    elif 200 <= amount < 500:\n",
        "        discount = 0.3  # 30% discount for amounts between $200 and $500\n",
        "    else:\n",
        "        discount = 0.4  # 40% discount for amounts $500 and above\n",
        "\n",
        "    # Calculate discounted price\n",
        "    discounted_price = amount * (1 - discount)\n",
        "    return discounted_price\n",
        "\n",
        "# Input purchase amount\n",
        "try:\n",
        "    amount = float(input(\"Enter the purchase amount: $\"))\n",
        "    if amount < 0:\n",
        "        print(\"Amount cannot be negative.\")\n",
        "    else:\n",
        "        # Calculate and display discounted price\n",
        "        discounted_price = calculate_discounted_price(amount)\n",
        "        print(f\"The discounted price is: ${discounted_price:.2f}\")\n",
        "except ValueError:\n",
        "    print(\"Invalid input. Please enter a numeric value.\")"
      ],
      "metadata": {
        "colab": {
          "base_uri": "https://localhost:8080/"
        },
        "id": "6Q6YGOkQSta_",
        "outputId": "449cd188-3dad-4f82-80fb-2e86289c26d2"
      },
      "execution_count": null,
      "outputs": [
        {
          "output_type": "stream",
          "name": "stdout",
          "text": [
            "Enter the purchase amount: $99\n",
            "The discounted price is: $89.10\n"
          ]
        }
      ]
    },
    {
      "cell_type": "markdown",
      "source": [
        "27. Develop a program to calculate the electricity bill based on different consumption slabs using elif\n",
        "statements."
      ],
      "metadata": {
        "id": "pd3seVXvV3Vi"
      }
    },
    {
      "cell_type": "code",
      "source": [
        "def calculate_electricity_bill(units):\n",
        "    # Define rates based on the consumption slabs\n",
        "    if units <= 100:\n",
        "        bill = units * 0.5  # $0.50 per unit for the first 100 units\n",
        "    elif 101 <= units <= 300:\n",
        "        bill = (100 * 0.5) + ((units - 100) * 1.0)  # $0.50 per unit for first 100 units, $1.00 per unit for next 200 units\n",
        "    elif 301 <= units <= 500:\n",
        "        bill = (100 * 0.5) + (200 * 1.0) + ((units - 300) * 1.5)  # $0.50 per unit for first 100 units, $1.00 per unit for next 200 units, $1.50 per unit for next 200 units\n",
        "    else:\n",
        "        bill = (100 * 0.5) + (200 * 1.0) + (200 * 1.5) + ((units - 500) * 2.0)  # $0.50 per unit for first 100 units, $1.00 per unit for next 200 units, $1.50 per unit for next 200 units, $2.00 per unit for units above 500\n",
        "\n",
        "    return bill\n",
        "\n",
        "# Input electricity consumption in units\n",
        "try:\n",
        "    units = float(input(\"Enter the number of units consumed: \"))\n",
        "    if units < 0:\n",
        "        print(\"Number of units cannot be negative.\")\n",
        "    else:\n",
        "        # Calculate and display the electricity bill\n",
        "        bill = calculate_electricity_bill(units)\n",
        "        print(f\"The electricity bill is: ${bill:.2f}\")\n",
        "except ValueError:\n",
        "    print(\"Invalid input. Please enter a numeric value.\")"
      ],
      "metadata": {
        "colab": {
          "base_uri": "https://localhost:8080/"
        },
        "id": "aHIScmIPTWDR",
        "outputId": "41671ad9-2cac-4ef1-cd97-af6d6902d2f9"
      },
      "execution_count": null,
      "outputs": [
        {
          "output_type": "stream",
          "name": "stdout",
          "text": [
            "Enter the number of units consumed: 45\n",
            "The electricity bill is: $22.50\n"
          ]
        }
      ]
    },
    {
      "cell_type": "markdown",
      "source": [
        "28. Create a program to determine the type of quadrilateral based on its angles and sides using elif\n",
        "statements."
      ],
      "metadata": {
        "id": "7N4U4MAlWgVW"
      }
    },
    {
      "cell_type": "code",
      "source": [
        "# Get input for sides and angles\n",
        "side1 = float(input(\"Enter length of side 1: \"))\n",
        "side2 = float(input(\"Enter length of side 2: \"))\n",
        "side3 = float(input(\"Enter length of side 3: \"))\n",
        "side4 = float(input(\"Enter length of side 4: \"))\n",
        "angle1 = float(input(\"Enter measure of angle 1 (in degrees): \"))\n",
        "angle2 = float(input(\"Enter measure of angle 2 (in degrees): \"))\n",
        "angle3 = float(input(\"Enter measure of angle 3 (in degrees): \"))\n",
        "angle4 = float(input(\"Enter measure of angle 4 (in degrees): \"))\n",
        "\n",
        "# Check if it's a valid quadrilateral\n",
        "if angle1 + angle2 + angle3 + angle4 == 360:\n",
        "    if side1 == side2 == side3 == side4:\n",
        "        if angle1 == angle2 == angle3 == angle4 == 90:\n",
        "            print(\"It's a Square.\")\n",
        "        else:\n",
        "            print(\"It's a Rhombus.\")\n",
        "    elif (side1 == side3 and side2 == side4) or (side1 == side2 and side3 == side4):\n",
        "        if angle1 == angle2 == angle3 == angle4 == 90:\n",
        "            print(\"It's a Rectangle.\")\n",
        "        else:\n",
        "            print(\"It's a Parallelogram.\")\n",
        "    elif side1 == side3 or side2 == side4:\n",
        "        print(\"It's an Isosceles Trapezoid.\")\n",
        "    elif (side1 == side2 and side3 == side4) or (side1 == side4 and side2 == side3):\n",
        "        print(\"It's a Kite.\")\n",
        "    else:\n",
        "        if angle1 == angle2 == angle3 == angle4 == 90:\n",
        "            print(\"It's a Rectangular Trapezoid.\")\n",
        "        else:\n",
        "            print(\"It's an Irregular Quadrilateral.\")\n",
        "else:\n",
        "    print(\"Invalid input. The sum of angles in a quadrilateral must be 360 degrees.\")"
      ],
      "metadata": {
        "colab": {
          "base_uri": "https://localhost:8080/"
        },
        "id": "7lWqNqv5TbAG",
        "outputId": "3260d499-f816-4980-fe5c-b1a0518be4d4"
      },
      "execution_count": null,
      "outputs": [
        {
          "output_type": "stream",
          "name": "stdout",
          "text": [
            "Enter length of side 1: 15\n",
            "Enter length of side 2: 45\n",
            "Enter length of side 3: 25\n",
            "Enter length of side 4: 90\n",
            "Enter measure of angle 1 (in degrees): 45\n",
            "Enter measure of angle 2 (in degrees): 75\n",
            "Enter measure of angle 3 (in degrees): 15\n",
            "Enter measure of angle 4 (in degrees): 92\n",
            "Invalid input. The sum of angles in a quadrilateral must be 360 degrees.\n"
          ]
        }
      ]
    },
    {
      "cell_type": "markdown",
      "source": [
        "29. Write a Python script to determine the season based on a user-provided month using elif statements."
      ],
      "metadata": {
        "id": "OnePujfFXAV7"
      }
    },
    {
      "cell_type": "code",
      "source": [
        "def determine_season(month):\n",
        "    month = month.lower()  # Convert input to lowercase for case-insensitivity\n",
        "\n",
        "    if month in ['december', 'january', 'february']:\n",
        "        return 'Spring'\n",
        "    elif month in ['march', 'april', 'may']:\n",
        "        return 'Summer'\n",
        "    elif month in ['june', 'july', 'august']:\n",
        "        return 'Fall'\n",
        "    elif month in ['september', 'october', 'november']:\n",
        "        return 'Winter'\n",
        "    else:\n",
        "        return 'Invalid month'\n",
        "\n",
        "# Input from user\n",
        "user_input = input(\"Enter the month: \").strip()\n",
        "season = determine_season(user_input)\n",
        "print(f\"The season for {user_input.capitalize()} is: {season}\")\n"
      ],
      "metadata": {
        "colab": {
          "base_uri": "https://localhost:8080/"
        },
        "id": "meBkMcVLTjCC",
        "outputId": "8d59fd3e-7e55-4796-ccd4-e7e576f3de1f"
      },
      "execution_count": null,
      "outputs": [
        {
          "output_type": "stream",
          "name": "stdout",
          "text": [
            "Enter the month: January\n",
            "The season for January is: Spring\n"
          ]
        }
      ]
    },
    {
      "cell_type": "markdown",
      "source": [
        "30. Implement a program to determine the type of a year (leap or common) and month (30 or 31 days) using\n",
        "elif statements."
      ],
      "metadata": {
        "id": "9Ljzr5pQXdq5"
      }
    },
    {
      "cell_type": "code",
      "source": [
        "def is_leap_year(year):\n",
        "    \"\"\"Determine if a year is a leap year.\"\"\"\n",
        "    if (year % 4 == 0 and year % 100 != 0) or (year % 400 == 0):\n",
        "        return True\n",
        "    return False\n",
        "\n",
        "def days_in_month(month, year):\n",
        "    \"\"\"Determine the number of days in a month.\"\"\"\n",
        "    month = month.lower()\n",
        "\n",
        "    if month in ['january', 'march', 'may', 'july', 'august', 'october', 'december']:\n",
        "        return 31\n",
        "    elif month in ['april', 'june', 'september', 'november']:\n",
        "        return 30\n",
        "    elif month == 'february':\n",
        "        if is_leap_year(year):\n",
        "            return 29\n",
        "        else:\n",
        "            return 28\n",
        "    else:\n",
        "        return 'Invalid month'\n",
        "\n",
        "# Input from user\n",
        "year = int(input(\"Enter the year: \"))\n",
        "month = input(\"Enter the month: \").strip()\n",
        "\n",
        "# Determine leap year\n",
        "if is_leap_year(year):\n",
        "    print(f\"{year} is a leap year.\")\n",
        "else:\n",
        "    print(f\"{year} is a common year.\")\n",
        "\n",
        "# Determine days in month\n",
        "days = days_in_month(month, year)\n",
        "if isinstance(days, int):\n",
        "    print(f\"{month.capitalize()} has {days} days.\")\n",
        "else:\n",
        "    print(days)\n"
      ],
      "metadata": {
        "colab": {
          "base_uri": "https://localhost:8080/"
        },
        "id": "gFCdfJ0dXGQR",
        "outputId": "508746b2-158e-4684-ed16-a2a0040dcfe0"
      },
      "execution_count": null,
      "outputs": [
        {
          "output_type": "stream",
          "name": "stdout",
          "text": [
            "Enter the year: 2024\n",
            "Enter the month: February\n",
            "2024 is a leap year.\n",
            "February has 29 days.\n"
          ]
        }
      ]
    },
    {
      "cell_type": "markdown",
      "source": [
        "# Basic Level:"
      ],
      "metadata": {
        "id": "evOCE4bFX96C"
      }
    },
    {
      "cell_type": "markdown",
      "source": [
        "1. Write a Python program that checks if a given number is positive, negative, or zero."
      ],
      "metadata": {
        "id": "kG5I2RmoZ3rN"
      }
    },
    {
      "cell_type": "code",
      "source": [
        "# Function to check if a number is positive, negative, or zero\n",
        "def check_number(num):\n",
        "    if num > 0:\n",
        "        return \"The number is positive.\"\n",
        "    elif num < 0:\n",
        "        return \"The number is negative.\"\n",
        "    else:\n",
        "        return \"The number is zero.\"\n",
        "\n",
        "# Input from the user\n",
        "try:\n",
        "    number = float(input(\"Enter a number: \"))\n",
        "    result = check_number(number)\n",
        "    print(result)\n",
        "except ValueError:\n",
        "    print(\"Please enter a valid number.\")\n"
      ],
      "metadata": {
        "colab": {
          "base_uri": "https://localhost:8080/"
        },
        "id": "z6tNiMi6XmQr",
        "outputId": "23e0873c-17d1-4917-8362-8795d5de9afa"
      },
      "execution_count": null,
      "outputs": [
        {
          "output_type": "stream",
          "name": "stdout",
          "text": [
            "Enter a number: \n",
            "Please enter a valid number.\n"
          ]
        }
      ]
    },
    {
      "cell_type": "markdown",
      "source": [
        "2. Create a program to determine if a person is eligible to vote based on their age."
      ],
      "metadata": {
        "id": "FEHPNT6UaoF9"
      }
    },
    {
      "cell_type": "code",
      "source": [
        "# Function to determine if a person is eligible to vote\n",
        "def check_voter_eligibility(age):\n",
        "    if age >= 18:\n",
        "        return \"You are eligible to vote.\"\n",
        "    else:\n",
        "        return \"You are not eligible to vote.\"\n",
        "\n",
        "# Input from the user\n",
        "try:\n",
        "    age = int(input(\"Enter your age: \"))\n",
        "    result = check_voter_eligibility(age)\n",
        "    print(result)\n",
        "except ValueError:\n",
        "    print(\"Please enter a valid age.\")\n"
      ],
      "metadata": {
        "colab": {
          "base_uri": "https://localhost:8080/"
        },
        "id": "RwaotblQaOUK",
        "outputId": "316cc448-41c2-4c81-d086-4b8fa30c0aa0"
      },
      "execution_count": null,
      "outputs": [
        {
          "output_type": "stream",
          "name": "stdout",
          "text": [
            "Enter your age: -0\n",
            "You are not eligible to vote.\n"
          ]
        }
      ]
    },
    {
      "cell_type": "markdown",
      "source": [
        "3. Write a program to find the maximum of two given numbers using conditional statements."
      ],
      "metadata": {
        "id": "uO9LV5uyayL9"
      }
    },
    {
      "cell_type": "code",
      "source": [
        "# Function to find the maximum of two numbers\n",
        "def find_max(num1, num2):\n",
        "    if num1 > num2:\n",
        "        return num1\n",
        "    else:\n",
        "        return num2\n",
        "\n",
        "# Input from the user\n",
        "try:\n",
        "    number1 = float(input(\"Enter the first number: \"))\n",
        "    number2 = float(input(\"Enter the second number: \"))\n",
        "    maximum = find_max(number1, number2)\n",
        "    print(f\"The maximum number is: {maximum}\")\n",
        "except ValueError:\n",
        "    print(\"Please enter valid numbers.\")\n"
      ],
      "metadata": {
        "colab": {
          "base_uri": "https://localhost:8080/"
        },
        "id": "tLAkPvXXaybr",
        "outputId": "5037989d-a046-438d-d790-0a395cd249da"
      },
      "execution_count": null,
      "outputs": [
        {
          "output_type": "stream",
          "name": "stdout",
          "text": [
            "Enter the first number: 10\n",
            "Enter the second number: 20\n",
            "The maximum number is: 20.0\n"
          ]
        }
      ]
    },
    {
      "cell_type": "markdown",
      "source": [
        "4. Develop a program that calculates the grade of a student based on their exam score."
      ],
      "metadata": {
        "id": "hbPgj-jUALzG"
      }
    },
    {
      "cell_type": "code",
      "source": [
        "# Function to calculate grade based on score\n",
        "def calculate_grade(score):\n",
        "    if score >= 90:\n",
        "        return \"A\"\n",
        "    elif score >= 80:\n",
        "        return \"B\"\n",
        "    elif score >= 70:\n",
        "        return \"C\"\n",
        "    elif score >= 60:\n",
        "        return \"D\"\n",
        "    else:\n",
        "        return \"F\"\n",
        "\n",
        "# Input from the user\n",
        "try:\n",
        "    score = float(input(\"Enter your exam score (0-100): \"))\n",
        "    if 0 <= score <= 100:\n",
        "        grade = calculate_grade(score)\n",
        "        print(f\"Your grade is: {grade}\")\n",
        "    else:\n",
        "        print(\"Please enter a score between 0 and 100.\")\n",
        "except ValueError:\n",
        "    print(\"Please enter a valid number.\")"
      ],
      "metadata": {
        "id": "dyKn4Ia2a3PK",
        "colab": {
          "base_uri": "https://localhost:8080/"
        },
        "outputId": "94855d65-9fcc-4193-b246-72af606142dd"
      },
      "execution_count": 2,
      "outputs": [
        {
          "output_type": "stream",
          "name": "stdout",
          "text": [
            "Enter your exam score (0-100): 92\n",
            "Your grade is: A\n"
          ]
        }
      ]
    },
    {
      "cell_type": "code",
      "source": [
        "# Function to check if a year is a leap year\n",
        "def is_leap_year(year):\n",
        "    if (year % 4 == 0 and year % 100 != 0) or (year % 400 == 0):\n",
        "        return True\n",
        "    else:\n",
        "        return False\n",
        "\n",
        "# Input from the user\n",
        "try:\n",
        "    year = int(input(\"Enter a year: \"))\n",
        "    if is_leap_year(year):\n",
        "        print(f\"{year} is a leap year.\")\n",
        "    else:\n",
        "        print(f\"{year} is not a leap year.\")\n",
        "except ValueError:\n",
        "    print(\"Please enter a valid year.\")\n"
      ],
      "metadata": {
        "colab": {
          "base_uri": "https://localhost:8080/"
        },
        "id": "Aj2stL4UAWoK",
        "outputId": "8aadf70f-6c1a-4206-91bf-30df807d60aa"
      },
      "execution_count": 3,
      "outputs": [
        {
          "output_type": "stream",
          "name": "stdout",
          "text": [
            "Enter a year: 1900\n",
            "1900 is not a leap year.\n"
          ]
        }
      ]
    },
    {
      "cell_type": "markdown",
      "source": [
        "6. Write a program to classify a triangle based on its sides' lengths."
      ],
      "metadata": {
        "id": "IrUGN4zfAtLE"
      }
    },
    {
      "cell_type": "code",
      "source": [
        "# Function to classify a triangle based on its sides\n",
        "def classify_triangle(a, b, c):\n",
        "    if a == b == c:\n",
        "        return \"Equilateral triangle\"\n",
        "    elif a == b or b == c or a == c:\n",
        "        return \"Isosceles triangle\"\n",
        "    else:\n",
        "        return \"Scalene triangle\"\n",
        "\n",
        "# Input from the user\n",
        "try:\n",
        "    side1 = float(input(\"Enter the length of the first side: \"))\n",
        "    side2 = float(input(\"Enter the length of the second side: \"))\n",
        "    side3 = float(input(\"Enter the length of the third side: \"))\n",
        "\n",
        "    # Check if the sides form a valid triangle\n",
        "    if side1 + side2 > side3 and side1 + side3 > side2 and side2 + side3 > side1:\n",
        "        triangle_type = classify_triangle(side1, side2, side3)\n",
        "        print(f\"The triangle is a {triangle_type}.\")\n",
        "    else:\n",
        "        print(\"The given sides do not form a valid triangle.\")\n",
        "except ValueError:\n",
        "    print(\"Please enter valid numbers for the sides.\")\n"
      ],
      "metadata": {
        "colab": {
          "base_uri": "https://localhost:8080/"
        },
        "id": "AOPPr1WhAtdC",
        "outputId": "6ec7b3a5-9ae5-4714-d909-d6fe5ac288e7"
      },
      "execution_count": 5,
      "outputs": [
        {
          "output_type": "stream",
          "name": "stdout",
          "text": [
            "Enter the length of the first side: 90\n",
            "Enter the length of the second side: 45\n",
            "Enter the length of the third side: 45\n",
            "The given sides do not form a valid triangle.\n"
          ]
        }
      ]
    },
    {
      "cell_type": "markdown",
      "source": [
        "7. Build a program that determines the largest of three given numbers."
      ],
      "metadata": {
        "id": "QMSJCHlGA30N"
      }
    },
    {
      "cell_type": "code",
      "source": [
        "# Function to find the largest of three numbers\n",
        "def find_largest(num1, num2, num3):\n",
        "    if num1 >= num2 and num1 >= num3:\n",
        "        return num1\n",
        "    elif num2 >= num1 and num2 >= num3:\n",
        "        return num2\n",
        "    else:\n",
        "        return num3\n",
        "\n",
        "# Input from the user\n",
        "try:\n",
        "    number1 = float(input(\"Enter the first number: \"))\n",
        "    number2 = float(input(\"Enter the second number: \"))\n",
        "    number3 = float(input(\"Enter the third number: \"))\n",
        "\n",
        "    largest = find_largest(number1, number2, number3)\n",
        "    print(f\"The largest number is: {largest}\")\n",
        "except ValueError:\n",
        "    print(\"Please enter valid numbers.\")\n",
        "6"
      ],
      "metadata": {
        "colab": {
          "base_uri": "https://localhost:8080/"
        },
        "id": "sm6R8UpNAv5C",
        "outputId": "d549f200-a675-473a-b376-10a436a5ab6b"
      },
      "execution_count": 6,
      "outputs": [
        {
          "output_type": "stream",
          "name": "stdout",
          "text": [
            "Enter the first number: 20\n",
            "Enter the second number: 10\n",
            "Enter the third number: 0\n",
            "The largest number is: 20.0\n"
          ]
        }
      ]
    },
    {
      "cell_type": "markdown",
      "source": [
        "8. Develop a program that checks whether a character is a vowel or a consonant."
      ],
      "metadata": {
        "id": "esXBMlFRD9yK"
      }
    },
    {
      "cell_type": "code",
      "source": [
        "# Function to check if a character is a vowel or consonant\n",
        "def check_vowel_or_consonant(char):\n",
        "    vowels = \"aeiouAEIOU\"\n",
        "    if char in vowels:\n",
        "        return \"Vowel\"\n",
        "    elif char.isalpha():\n",
        "        return \"Consonant\"\n",
        "    else:\n",
        "        return \"Invalid input, please enter an alphabetic character.\"\n",
        "\n",
        "# Input from the user\n",
        "char = input(\"Enter a single character: \")\n",
        "\n",
        "# Ensure that the input is a single character\n",
        "if len(char) == 1:\n",
        "    result = check_vowel_or_consonant(char)\n",
        "    print(f\"The character '{char}' is a {result}.\")\n",
        "else:\n",
        "    print(\"Please enter a single character.\")"
      ],
      "metadata": {
        "colab": {
          "base_uri": "https://localhost:8080/"
        },
        "id": "5vCkl0yUD-Wc",
        "outputId": "df796bd7-f5be-41ed-848a-395e26b2c3ba"
      },
      "execution_count": 9,
      "outputs": [
        {
          "output_type": "stream",
          "name": "stdout",
          "text": [
            "Enter a single character: d\n",
            "The character 'd' is a Consonant.\n"
          ]
        }
      ]
    },
    {
      "cell_type": "markdown",
      "source": [
        "9. Create a program to calculate the total cost of a shopping cart based on discounts."
      ],
      "metadata": {
        "id": "gsxQZIRvEKFN"
      }
    },
    {
      "cell_type": "code",
      "source": [
        "# Function to calculate the total cost with discount\n",
        "def calculate_total(cart, discount_percentage):\n",
        "    total = sum(cart)\n",
        "    discount = total * (discount_percentage / 100)\n",
        "    total_after_discount = total - discount\n",
        "    return total_after_discount\n",
        "\n",
        "# Example shopping cart and discount details\n",
        "try:\n",
        "    num_items = int(input(\"Enter the number of items in your cart: \"))\n",
        "    cart = [float(input(f\"Enter the price of item {i+1}: \")) for i in range(num_items)]\n",
        "    discount_percentage = float(input(\"Enter the discount percentage (0-100): \"))\n",
        "\n",
        "    total_cost = calculate_total(cart, discount_percentage)\n",
        "    print(f\"The total cost after discount is: ${total_cost:.2f}\")\n",
        "except ValueError:\n",
        "    print(\"Please enter valid numbers.\")\n"
      ],
      "metadata": {
        "colab": {
          "base_uri": "https://localhost:8080/"
        },
        "id": "rhQUj0dYD_Ao",
        "outputId": "178cef05-bc14-404f-c3c9-a41e541f2f78"
      },
      "execution_count": 11,
      "outputs": [
        {
          "output_type": "stream",
          "name": "stdout",
          "text": [
            "Enter the number of items in your cart: 2\n",
            "Enter the price of item 1: 50\n",
            "Enter the price of item 2: 50\n",
            "Enter the discount percentage (0-100): 70\n",
            "The total cost after discount is: $30.00\n"
          ]
        }
      ]
    },
    {
      "cell_type": "markdown",
      "source": [
        "10. Write a program that checks if a given number is even or odd."
      ],
      "metadata": {
        "id": "p_Tl78VsFHeW"
      }
    },
    {
      "cell_type": "code",
      "source": [
        "# Function to check if a number is even or odd\n",
        "def check_even_or_odd(num):\n",
        "    if num % 2 == 0:\n",
        "        return \"Even\"\n",
        "    else:\n",
        "        return \"Odd\"\n",
        "\n",
        "# Input from the user\n",
        "try:\n",
        "    number = int(input(\"Enter a number: \"))\n",
        "    result = check_even_or_odd(number)\n",
        "    print(f\"The number {number} is {result}.\")\n",
        "except ValueError:\n",
        "    print(\"Please enter a valid integer.\")\n"
      ],
      "metadata": {
        "colab": {
          "base_uri": "https://localhost:8080/"
        },
        "id": "D-RnET0xFHl0",
        "outputId": "a94ca02b-e0b9-4451-e317-fd24802cb96b"
      },
      "execution_count": 12,
      "outputs": [
        {
          "output_type": "stream",
          "name": "stdout",
          "text": [
            "Enter a number: 10\n",
            "The number 10 is Even.\n"
          ]
        }
      ]
    },
    {
      "cell_type": "markdown",
      "source": [
        "# Intermediate Level"
      ],
      "metadata": {
        "id": "rC5fI-09FMAl"
      }
    },
    {
      "cell_type": "markdown",
      "source": [
        "11. Write a program that calculates the roots of a quadratic equation ."
      ],
      "metadata": {
        "id": "gTZD8ZRdFgPw"
      }
    },
    {
      "cell_type": "code",
      "source": [
        "import math\n",
        "\n",
        "# Function to calculate the roots of a quadratic equation\n",
        "def calculate_roots(a, b, c):\n",
        "    # Calculate the discriminant\n",
        "    discriminant = b**2 - 4*a*c\n",
        "\n",
        "    # Check if roots are real or complex\n",
        "    if discriminant > 0:\n",
        "        root1 = (-b + math.sqrt(discriminant)) / (2*a)\n",
        "        root2 = (-b - math.sqrt(discriminant)) / (2*a)\n",
        "        return root1, root2\n",
        "    elif discriminant == 0:\n",
        "        root = -b / (2*a)\n",
        "        return root, root\n",
        "    else:\n",
        "        real_part = -b / (2*a)\n",
        "        imaginary_part = math.sqrt(-discriminant) / (2*a)\n",
        "        root1 = complex(real_part, imaginary_part)\n",
        "        root2 = complex(real_part, -imaginary_part)\n",
        "        return root1, root2\n",
        "\n",
        "# Input from the user\n",
        "try:\n",
        "    a = float(input(\"Enter the coefficient a: \"))\n",
        "    b = float(input(\"Enter the coefficient b: \"))\n",
        "    c = float(input(\"Enter the coefficient c: \"))\n",
        "\n",
        "    if a == 0:\n",
        "        print(\"The value of 'a' cannot be 0 in a quadratic equation.\")\n",
        "    else:\n",
        "        roots = calculate_roots(a, b, c)\n",
        "        print(f\"The roots of the equation are: {roots[0]} and {roots[1]}\")\n",
        "except ValueError:\n",
        "    print(\"Please enter valid numbers.\")"
      ],
      "metadata": {
        "colab": {
          "base_uri": "https://localhost:8080/"
        },
        "id": "QSGAlh2GFJTX",
        "outputId": "e89c3018-96f2-4a7d-ce3c-5d9a1b5b9e8b"
      },
      "execution_count": 13,
      "outputs": [
        {
          "output_type": "stream",
          "name": "stdout",
          "text": [
            "Enter the coefficient a: 1\n",
            "Enter the coefficient b: -2\n",
            "Enter the coefficient c: 3\n",
            "The roots of the equation are: (1+1.4142135623730951j) and (1-1.4142135623730951j)\n"
          ]
        }
      ]
    },
    {
      "cell_type": "markdown",
      "source": [
        "12. Create a program that determines the day of the week based on the day number (1-7)."
      ],
      "metadata": {
        "id": "CU4jW-H8F6pJ"
      }
    },
    {
      "cell_type": "code",
      "source": [
        "# Function to determine the day of the week based on the day number\n",
        "def day_of_week(day_number):\n",
        "    days = [\"Monday\", \"Tuesday\", \"Wednesday\", \"Thursday\", \"Friday\", \"Saturday\", \"Sunday\"]\n",
        "    if 1 <= day_number <= 7:\n",
        "        return days[day_number - 1]\n",
        "    else:\n",
        "        return \"Invalid day number. Please enter a number between 1 and 7.\"\n",
        "\n",
        "# Input from the user\n",
        "try:\n",
        "    day_number = int(input(\"Enter a day number (1-7): \"))\n",
        "    day = day_of_week(day_number)\n",
        "    print(f\"The day is: {day}\")\n",
        "except ValueError:\n",
        "    print(\"Please enter a valid number.\")\n"
      ],
      "metadata": {
        "colab": {
          "base_uri": "https://localhost:8080/"
        },
        "id": "AzlXAgPxFkZ0",
        "outputId": "1f8008c1-fb02-4200-b0a2-d14a5229710d"
      },
      "execution_count": 14,
      "outputs": [
        {
          "output_type": "stream",
          "name": "stdout",
          "text": [
            "Enter a day number (1-7): 2\n",
            "The day is: Tuesday\n"
          ]
        }
      ]
    },
    {
      "cell_type": "markdown",
      "source": [
        "13. Develop a program that calculates the factorial of a given number using recursion."
      ],
      "metadata": {
        "id": "BH-NUrRmF8lq"
      }
    },
    {
      "cell_type": "code",
      "source": [
        "# Function to calculate the factorial using recursion\n",
        "def factorial(n):\n",
        "    if n == 0 or n == 1:\n",
        "        return 1\n",
        "    else:\n",
        "        return n * factorial(n - 1)\n",
        "\n",
        "# Input from the user\n",
        "try:\n",
        "    number = int(input(\"Enter a number to calculate its factorial: \"))\n",
        "    if number < 0:\n",
        "        print(\"Factorial is not defined for negative numbers.\")\n",
        "    else:\n",
        "        result = factorial(number)\n",
        "        print(f\"The factorial of {number} is: {result}\")\n",
        "except ValueError:\n",
        "    print(\"Please enter a valid integer.\")\n"
      ],
      "metadata": {
        "colab": {
          "base_uri": "https://localhost:8080/"
        },
        "id": "TY9B_dt6F94-",
        "outputId": "752edfb4-bfdd-4791-ff17-b46fbbb22e19"
      },
      "execution_count": 15,
      "outputs": [
        {
          "output_type": "stream",
          "name": "stdout",
          "text": [
            "Enter a number to calculate its factorial: 5\n",
            "The factorial of 5 is: 120\n"
          ]
        }
      ]
    },
    {
      "cell_type": "markdown",
      "source": [
        "14. Write a program to find the largest among three numbers without using the `max()` function.\n"
      ],
      "metadata": {
        "id": "MrGJIifXF-p8"
      }
    },
    {
      "cell_type": "code",
      "source": [
        "# Function to find the largest among three numbers\n",
        "def find_largest(num1, num2, num3):\n",
        "    if num1 >= num2 and num1 >= num3:\n",
        "        return num1\n",
        "    elif num2 >= num1 and num2 >= num3:\n",
        "        return num2\n",
        "    else:\n",
        "        return num3\n",
        "\n",
        "# Input from the user\n",
        "try:\n",
        "    number1 = float(input(\"Enter the first number: \"))\n",
        "    number2 = float(input(\"Enter the second number: \"))\n",
        "    number3 = float(input(\"Enter the third number: \"))\n",
        "\n",
        "    largest = find_largest(number1, number2, number3)\n",
        "    print(f\"The largest number is: {largest}\")\n",
        "except ValueError:\n",
        "    print(\"Please enter valid numbers.\")"
      ],
      "metadata": {
        "colab": {
          "base_uri": "https://localhost:8080/"
        },
        "id": "r6r4GIUZGABf",
        "outputId": "ff34f58d-8969-4b40-de8b-29831df45766"
      },
      "execution_count": 16,
      "outputs": [
        {
          "output_type": "stream",
          "name": "stdout",
          "text": [
            "Enter the first number: 2\n",
            "Enter the second number: 2\n",
            "Enter the third number: 5\n",
            "The largest number is: 5.0\n"
          ]
        }
      ]
    },
    {
      "cell_type": "markdown",
      "source": [
        "15. Create a program that simulates a basic ATM transaction menu."
      ],
      "metadata": {
        "id": "9V1fKloLGBAn"
      }
    },
    {
      "cell_type": "code",
      "source": [
        "# Function for ATM transaction menu\n",
        "def atm_menu(balance):\n",
        "    while True:\n",
        "        print(\"\\nATM Menu\")\n",
        "        print(\"1. Check Balance\")\n",
        "        print(\"2. Deposit Money\")\n",
        "        print(\"3. Withdraw Money\")\n",
        "        print(\"4. Exit\")\n",
        "        choice = input(\"Choose an option (1-4): \")\n",
        "\n",
        "        if choice == \"1\":\n",
        "            print(f\"Your current balance is: ${balance:.2f}\")\n",
        "        elif choice == \"2\":\n",
        "            deposit = float(input(\"Enter amount to deposit: \"))\n",
        "            balance += deposit\n",
        "            print(f\"${deposit:.2f} deposited. New balance is: ${balance:.2f}\")\n",
        "        elif choice == \"3\":\n",
        "            withdraw = float(input(\"Enter amount to withdraw: \"))\n",
        "            if withdraw > balance:\n",
        "                print(\"Insufficient funds.\")\n",
        "            else:\n",
        "                balance -= withdraw\n",
        "                print(f\"${withdraw:.2f} withdrawn. New balance is: ${balance:.2f}\")\n",
        "        elif choice == \"4\":\n",
        "            print(\"Thank you for using our ATM. Goodbye!\")\n",
        "            break\n",
        "        else:\n",
        "            print(\"Invalid choice. Please choose again.\")\n",
        "\n",
        "# Initial balance and starting the ATM menu\n",
        "try:\n",
        "    initial_balance = float(input(\"Enter your initial balance: \"))\n",
        "    atm_menu(initial_balance)\n",
        "except ValueError:\n",
        "    print(\"Please enter a valid amount.\")\n"
      ],
      "metadata": {
        "colab": {
          "base_uri": "https://localhost:8080/"
        },
        "id": "accelr6zGBSV",
        "outputId": "3b5665fc-90c7-46d5-86f0-bcd2d1a8a99c"
      },
      "execution_count": 17,
      "outputs": [
        {
          "output_type": "stream",
          "name": "stdout",
          "text": [
            "Enter your initial balance: 10000\n",
            "\n",
            "ATM Menu\n",
            "1. Check Balance\n",
            "2. Deposit Money\n",
            "3. Withdraw Money\n",
            "4. Exit\n",
            "Choose an option (1-4): 1\n",
            "Your current balance is: $10000.00\n",
            "\n",
            "ATM Menu\n",
            "1. Check Balance\n",
            "2. Deposit Money\n",
            "3. Withdraw Money\n",
            "4. Exit\n",
            "Choose an option (1-4): 2\n",
            "Enter amount to deposit: 5000\n",
            "$5000.00 deposited. New balance is: $15000.00\n",
            "\n",
            "ATM Menu\n",
            "1. Check Balance\n",
            "2. Deposit Money\n",
            "3. Withdraw Money\n",
            "4. Exit\n",
            "Choose an option (1-4): 4\n",
            "Thank you for using our ATM. Goodbye!\n"
          ]
        }
      ]
    },
    {
      "cell_type": "markdown",
      "source": [
        "16. Build a program that checks if a given string is a palindrome or not."
      ],
      "metadata": {
        "id": "9TywTDEAGESw"
      }
    },
    {
      "cell_type": "code",
      "source": [
        "# Function to check if a string is a palindrome\n",
        "def is_palindrome(s):\n",
        "    s = s.lower().replace(\" \", \"\")\n",
        "    return s == s[::-1]\n",
        "\n",
        "# Input from the user\n",
        "string = input(\"Enter a string to check if it's a palindrome: \")\n",
        "if is_palindrome(string):\n",
        "    print(f\"The string '{string}' is a palindrome.\")\n",
        "else:\n",
        "    print(f\"The string '{string}' is not a palindrome.\")\n"
      ],
      "metadata": {
        "colab": {
          "base_uri": "https://localhost:8080/"
        },
        "id": "hAL4jhPvGFeU",
        "outputId": "1778e7ce-3aa1-4f68-816e-957a508113a2"
      },
      "execution_count": 18,
      "outputs": [
        {
          "output_type": "stream",
          "name": "stdout",
          "text": [
            "Enter a string to check if it's a palindrome: mom\n",
            "The string 'mom' is a palindrome.\n"
          ]
        }
      ]
    },
    {
      "cell_type": "markdown",
      "source": [
        "17. Write a program that calculates the average of a list of numbers, excluding the smallest and largest values."
      ],
      "metadata": {
        "id": "15KGPufIGGZa"
      }
    },
    {
      "cell_type": "code",
      "source": [
        "# Function to calculate average excluding smallest and largest\n",
        "def calculate_average(nums):\n",
        "    if len(nums) < 3:\n",
        "        return \"Need at least three numbers to calculate the average excluding smallest and largest.\"\n",
        "    nums.sort()\n",
        "    return sum(nums[1:-1]) / (len(nums) - 2)\n",
        "\n",
        "# Input from the user\n",
        "try:\n",
        "    numbers = list(map(float, input(\"Enter numbers separated by spaces: \").split()))\n",
        "    average = calculate_average(numbers)\n",
        "    print(f\"The average excluding the smallest and largest values is: {average:.2f}\")\n",
        "except ValueError:\n",
        "    print(\"Please enter valid numbers.\")\n"
      ],
      "metadata": {
        "colab": {
          "base_uri": "https://localhost:8080/"
        },
        "id": "LcpvzccRGF80",
        "outputId": "ff2dfdd0-8e0e-457b-ccdf-70334c60523a"
      },
      "execution_count": 20,
      "outputs": [
        {
          "output_type": "stream",
          "name": "stdout",
          "text": [
            "Enter numbers separated by spaces: 1 2 3\n",
            "The average excluding the smallest and largest values is: 2.00\n"
          ]
        }
      ]
    },
    {
      "cell_type": "markdown",
      "source": [
        "18. Develop a program that converts a given temperature from Celsius to Fahrenheit."
      ],
      "metadata": {
        "id": "omwrRqC8GI8T"
      }
    },
    {
      "cell_type": "code",
      "source": [
        "# Function to convert Celsius to Fahrenheit\n",
        "def celsius_to_fahrenheit(celsius):\n",
        "    return (celsius * 9/5) + 32\n",
        "\n",
        "# Input from the user\n",
        "try:\n",
        "    celsius = float(input(\"Enter the temperature in Celsius: \"))\n",
        "    fahrenheit = celsius_to_fahrenheit(celsius)\n",
        "    print(f\"{celsius}°C is equal to {fahrenheit:.2f}°F\")\n",
        "except ValueError:\n",
        "    print(\"Please enter a valid temperature.\")\n"
      ],
      "metadata": {
        "colab": {
          "base_uri": "https://localhost:8080/"
        },
        "id": "XGlvI0EJGKSd",
        "outputId": "f109c377-54ee-429d-cc62-1c5514e6cd80"
      },
      "execution_count": 21,
      "outputs": [
        {
          "output_type": "stream",
          "name": "stdout",
          "text": [
            "Enter the temperature in Celsius: 32\n",
            "32.0°C is equal to 89.60°F\n"
          ]
        }
      ]
    },
    {
      "cell_type": "markdown",
      "source": [
        "19. Create a program that simulates a basic calculator for addition, subtraction, multiplication, and division."
      ],
      "metadata": {
        "id": "6KY3Un7zGKxd"
      }
    },
    {
      "cell_type": "code",
      "source": [
        "# Function for basic calculator operations\n",
        "def calculator(a, b, operation):\n",
        "    if operation == \"+\":\n",
        "        return a + b\n",
        "    elif operation == \"-\":\n",
        "        return a - b\n",
        "    elif operation == \"*\":\n",
        "        return a * b\n",
        "    elif operation == \"/\":\n",
        "        return a / b if b != 0 else \"Cannot divide by zero.\"\n",
        "    else:\n",
        "        return \"Invalid operation.\"\n",
        "\n",
        "# Input from the user\n",
        "try:\n",
        "    num1 = float(input(\"Enter the first number: \"))\n",
        "    num2 = float(input(\"Enter the second number: \"))\n",
        "    op = input(\"Enter the operation (+, -, *, /): \")\n",
        "\n",
        "    result = calculator(num1, num2, op)\n",
        "    print(f\"The result of {num1} {op} {num2} is: {result}\")\n",
        "except ValueError:\n",
        "    print(\"Please enter valid numbers.\")\n"
      ],
      "metadata": {
        "colab": {
          "base_uri": "https://localhost:8080/"
        },
        "id": "WjbHStZxGLvt",
        "outputId": "ed16406a-a6f8-4283-e722-71d5dbc4c0da"
      },
      "execution_count": 22,
      "outputs": [
        {
          "output_type": "stream",
          "name": "stdout",
          "text": [
            "Enter the first number: 1\n",
            "Enter the second number: 3\n",
            "Enter the operation (+, -, *, /): -\n",
            "The result of 1.0 - 3.0 is: -2.0\n"
          ]
        }
      ]
    },
    {
      "cell_type": "markdown",
      "source": [
        "20. Write a program that determines the roots of a cubic equation using the Cardano formula."
      ],
      "metadata": {
        "id": "8oYf83XMGMhe"
      }
    },
    {
      "cell_type": "code",
      "source": [
        "import cmath\n",
        "\n",
        "# Function to calculate the roots of a cubic equation using Cardano's formula\n",
        "def cubic_roots(a, b, c, d):\n",
        "    if a == 0:\n",
        "        return \"Not a cubic equation.\"\n",
        "\n",
        "    # Converting to a depressed cubic t^3 + pt + q = 0\n",
        "    p = (3*a*c - b**2) / (3*a**2)\n",
        "    q = (2*b**3 - 9*a*b*c + 27*a**2*d) / (27*a**3)\n",
        "\n",
        "    # Calculating the discriminant\n",
        "    discriminant = (q**2 / 4) + (p**3 / 27)\n",
        "\n",
        "    if discriminant > 0:\n",
        "        u = (-q/2 + cmath.sqrt(discriminant))**(1/3)\n",
        "        v = (-q/2 - cmath.sqrt(discriminant))**(1/3)\n",
        "        root1 = u + v - b / (3*a)\n",
        "        return root1, cmath.nan, cmath.nan  # One real root, two complex\n",
        "    elif discriminant == 0:\n",
        "        u = (-q/2)**(1/3)\n",
        "        root1 = 2*u - b / (3*a)\n",
        "        root2 = -u - b / (3*a)\n",
        "        return root1, root2, cmath.nan  # Two real roots\n",
        "    else:\n",
        "        r = cmath.sqrt(-p/3)\n",
        "        phi = cmath.acos(-q/(2*r**3))\n",
        "        root1 = 2*r*cmath.cos(phi/3) - b/(3*a)\n",
        "        root2 = 2*r*cmath.cos((phi + 2*cmath.pi)/3) - b/(3*a)\n",
        "        root3 = 2*r*cmath.cos((phi + 4*cmath.pi)/3) - b/(3*a)\n",
        "        return root1, root2, root3  # Three real roots\n",
        "\n",
        "# Input from the user\n",
        "try:\n",
        "    a = float(input(\"Enter the coefficient a: \"))\n",
        "    b = float(input(\"Enter the coefficient b: \"))\n",
        "    c = float(input(\"Enter the coefficient c: \"))\n",
        "    d = float(input(\"Enter the constant d: \"))\n",
        "\n",
        "    roots = cubic_roots(a, b, c, d)\n",
        "    print(f\"The roots of the cubic equation are: {roots[0]}, {roots[1]}, {roots[2]}\")\n",
        "except ValueError:\n",
        "    print(\"Please enter valid coefficients.\")\n"
      ],
      "metadata": {
        "colab": {
          "base_uri": "https://localhost:8080/"
        },
        "id": "KEYAjlJ5GNJj",
        "outputId": "85f629cf-969e-4ce0-e9d8-14b012384b24"
      },
      "execution_count": 23,
      "outputs": [
        {
          "output_type": "stream",
          "name": "stdout",
          "text": [
            "Enter the coefficient a: 2\n",
            "Enter the coefficient b: 66\n",
            "Enter the coefficient c: 5\n",
            "Enter the constant d: 4\n",
            "The roots of the cubic equation are: (-0.0370416045122397+18.988400942248575j), nan, nan\n"
          ]
        }
      ]
    },
    {
      "cell_type": "markdown",
      "source": [
        "# Advance Level"
      ],
      "metadata": {
        "id": "kq4kaHICIo1j"
      }
    },
    {
      "cell_type": "markdown",
      "source": [
        "21. Create a program that calculates the income tax based on the user's income and tax brackets."
      ],
      "metadata": {
        "id": "Rv-qji-zIsAx"
      }
    },
    {
      "cell_type": "code",
      "source": [
        "# Function to calculate income tax based on tax brackets\n",
        "def calculate_tax(income):\n",
        "    if income <= 10000:\n",
        "        tax = 0\n",
        "    elif income <= 40000:\n",
        "        tax = (income - 10000) * 0.1\n",
        "    elif income <= 80000:\n",
        "        tax = (30000 * 0.1) + (income - 40000) * 0.2\n",
        "    else:\n",
        "        tax = (30000 * 0.1) + (40000 * 0.2) + (income - 80000) * 0.3\n",
        "    return tax\n",
        "\n",
        "# Input from the user\n",
        "try:\n",
        "    income = float(input(\"Enter your annual income: \"))\n",
        "    tax = calculate_tax(income)\n",
        "    print(f\"Your income tax is: ${tax:.2f}\")\n",
        "except ValueError:\n",
        "    print(\"Please enter a valid number.\")\n"
      ],
      "metadata": {
        "colab": {
          "base_uri": "https://localhost:8080/"
        },
        "id": "WntXpN9yJ8pw",
        "outputId": "2fc07d1d-bb1a-49fe-b1ac-4abf1a5b2015"
      },
      "execution_count": 24,
      "outputs": [
        {
          "output_type": "stream",
          "name": "stdout",
          "text": [
            "Enter your annual income: 900000\n",
            "Your income tax is: $257000.00\n"
          ]
        }
      ]
    },
    {
      "cell_type": "markdown",
      "source": [
        "22. Write a program that simulates a rock-paper-scissors game against the computer."
      ],
      "metadata": {
        "id": "mZanEn2iIr9Y"
      }
    },
    {
      "cell_type": "code",
      "source": [
        "import random\n",
        "\n",
        "# Function to play rock-paper-scissors\n",
        "def rock_paper_scissors(user_choice):\n",
        "    choices = [\"rock\", \"paper\", \"scissors\"]\n",
        "    computer_choice = random.choice(choices)\n",
        "\n",
        "    if user_choice == computer_choice:\n",
        "        return f\"Draw! Both chose {user_choice}.\"\n",
        "    elif (user_choice == \"rock\" and computer_choice == \"scissors\") or \\\n",
        "         (user_choice == \"paper\" and computer_choice == \"rock\") or \\\n",
        "         (user_choice == \"scissors\" and computer_choice == \"paper\"):\n",
        "        return f\"You win! Computer chose {computer_choice}.\"\n",
        "    else:\n",
        "        return f\"You lose! Computer chose {computer_choice}.\"\n",
        "\n",
        "# Input from the user\n",
        "user_choice = input(\"Enter rock, paper, or scissors: \").lower()\n",
        "if user_choice in [\"rock\", \"paper\", \"scissors\"]:\n",
        "    result = rock_paper_scissors(user_choice)\n",
        "    print(result)\n",
        "else:\n",
        "    print(\"Invalid choice. Please enter rock, paper, or scissors.\")\n"
      ],
      "metadata": {
        "colab": {
          "base_uri": "https://localhost:8080/"
        },
        "id": "88JOjAbtKF2j",
        "outputId": "1f50a4b8-3213-4a46-d78c-20c3644242b0"
      },
      "execution_count": 25,
      "outputs": [
        {
          "output_type": "stream",
          "name": "stdout",
          "text": [
            "Enter rock, paper, or scissors: rock\n",
            "You win! Computer chose scissors.\n"
          ]
        }
      ]
    },
    {
      "cell_type": "markdown",
      "source": [
        "23. Develop a program that generates a random password based on user preferences (length, complexity)."
      ],
      "metadata": {
        "id": "W2KSFVkDIr7b"
      }
    },
    {
      "cell_type": "code",
      "source": [
        "import random\n",
        "import string\n",
        "\n",
        "# Function to generate a random password\n",
        "def generate_password(length, complexity):\n",
        "    if complexity == 1:\n",
        "        chars = string.ascii_letters\n",
        "    elif complexity == 2:\n",
        "        chars = string.ascii_letters + string.digits\n",
        "    elif complexity == 3:\n",
        "        chars = string.ascii_letters + string.digits + string.punctuation\n",
        "    else:\n",
        "        return \"Invalid complexity level. Choose between 1, 2, or 3.\"\n",
        "\n",
        "    return ''.join(random.choice(chars) for _ in range(length))\n",
        "\n",
        "# Input from the user\n",
        "try:\n",
        "    length = int(input(\"Enter the desired password length: \"))\n",
        "    complexity = int(input(\"Enter the complexity level (1: letters, 2: letters+digits, 3: letters+digits+symbols): \"))\n",
        "    password = generate_password(length, complexity)\n",
        "    print(f\"Generated password: {password}\")\n",
        "except ValueError:\n",
        "    print(\"Please enter valid numbers.\")\n"
      ],
      "metadata": {
        "colab": {
          "base_uri": "https://localhost:8080/"
        },
        "id": "OQpPu9ItKNgh",
        "outputId": "a1e5c47b-36eb-47ec-fab0-d10133be6f1c"
      },
      "execution_count": 26,
      "outputs": [
        {
          "output_type": "stream",
          "name": "stdout",
          "text": [
            "Enter the desired password length: kissme@3000\n",
            "Please enter valid numbers.\n"
          ]
        }
      ]
    },
    {
      "cell_type": "markdown",
      "source": [
        "24. Create a program that implements a simple text-based adventure game with branching scenarios."
      ],
      "metadata": {
        "id": "JWyHd54mIr46"
      }
    },
    {
      "cell_type": "code",
      "source": [
        "def adventure_game():\n",
        "    print(\"You are in a forest. There is a path leading north and a cave to the east.\")\n",
        "    choice = input(\"Do you want to go north or enter the cave? \").lower()\n",
        "\n",
        "    if choice == \"north\":\n",
        "        print(\"You walk north and find a beautiful lake. You enjoy the view and head back.\")\n",
        "    elif choice == \"cave\":\n",
        "        print(\"You enter the cave and find a treasure chest. You open it and find gold!\")\n",
        "    else:\n",
        "        print(\"Invalid choice. Please choose north or cave.\")\n",
        "\n",
        "adventure_game()\n"
      ],
      "metadata": {
        "colab": {
          "base_uri": "https://localhost:8080/"
        },
        "id": "4l0CmxH9KUnt",
        "outputId": "6863a829-0c8a-4087-92de-aea818a2d52f"
      },
      "execution_count": 27,
      "outputs": [
        {
          "output_type": "stream",
          "name": "stdout",
          "text": [
            "You are in a forest. There is a path leading north and a cave to the east.\n",
            "Do you want to go north or enter the cave? cave\n",
            "You enter the cave and find a treasure chest. You open it and find gold!\n"
          ]
        }
      ]
    },
    {
      "cell_type": "markdown",
      "source": [
        "25. Build a program that solves a linear equation for x, considering different cases."
      ],
      "metadata": {
        "id": "POCBYpNQIr2b"
      }
    },
    {
      "cell_type": "code",
      "source": [
        "# Function to solve a linear equation ax + b = 0\n",
        "def solve_linear_equation(a, b):\n",
        "    if a == 0:\n",
        "        if b == 0:\n",
        "            return \"Infinite solutions.\"\n",
        "        else:\n",
        "            return \"No solution.\"\n",
        "    else:\n",
        "        return -b / a\n",
        "\n",
        "# Input from the user\n",
        "try:\n",
        "    a = float(input(\"Enter the coefficient a: \"))\n",
        "    b = float(input(\"Enter the constant b: \"))\n",
        "    solution = solve_linear_equation(a, b)\n",
        "    print(f\"The solution is: {solution}\")\n",
        "except ValueError:\n",
        "    print(\"Please enter valid numbers.\")\n"
      ],
      "metadata": {
        "colab": {
          "base_uri": "https://localhost:8080/"
        },
        "id": "3O5BV4F4KaUS",
        "outputId": "3787c3c5-b4ff-4239-b2ce-843c14465f21"
      },
      "execution_count": 28,
      "outputs": [
        {
          "output_type": "stream",
          "name": "stdout",
          "text": [
            "Enter the coefficient a: 1\n",
            "Enter the constant b: 2\n",
            "The solution is: -2.0\n"
          ]
        }
      ]
    },
    {
      "cell_type": "markdown",
      "source": [
        "26. Write a program that simulates a basic quiz game with multiple-choice questions and scoring."
      ],
      "metadata": {
        "id": "jhUPt1cGIrz0"
      }
    },
    {
      "cell_type": "code",
      "source": [
        "# Function to run a simple quiz game\n",
        "def quiz_game():\n",
        "    score = 0\n",
        "    print(\"Quiz Game\\n\")\n",
        "\n",
        "    # Question 1\n",
        "    answer1 = input(\"What is the capital of France? (a) Berlin (b) Madrid (c) Paris: \").lower()\n",
        "    if answer1 == \"c\":\n",
        "        score += 1\n",
        "\n",
        "    # Question 2\n",
        "    answer2 = input(\"Which planet is known as the Red Planet? (a) Earth (b) Mars (c) Jupiter: \").lower()\n",
        "    if answer2 == \"b\":\n",
        "        score += 1\n",
        "\n",
        "    print(f\"Your score is: {score}/2\")\n",
        "\n",
        "quiz_game()\n"
      ],
      "metadata": {
        "colab": {
          "base_uri": "https://localhost:8080/"
        },
        "id": "7g5u2N-yKdrh",
        "outputId": "f885722e-d203-4130-ec57-5eba335e9749"
      },
      "execution_count": 29,
      "outputs": [
        {
          "output_type": "stream",
          "name": "stdout",
          "text": [
            "Quiz Game\n",
            "\n",
            "What is the capital of France? (a) Berlin (b) Madrid (c) Paris: b\n",
            "Which planet is known as the Red Planet? (a) Earth (b) Mars (c) Jupiter: a\n",
            "Your score is: 0/2\n"
          ]
        }
      ]
    },
    {
      "cell_type": "markdown",
      "source": [
        "27. Develop a program that determines whether a given year is a prime number or not."
      ],
      "metadata": {
        "id": "l6aSuXeCIrxV"
      }
    },
    {
      "cell_type": "code",
      "source": [
        "# Function to check if a year is prime\n",
        "def is_prime(year):\n",
        "    if year <= 1:\n",
        "        return False\n",
        "    for i in range(2, int(year**0.5) + 1):\n",
        "        if year % i == 0:\n",
        "            return False\n",
        "    return True\n",
        "\n",
        "# Input from the user\n",
        "try:\n",
        "    year = int(input(\"Enter a year to check if it's a prime number: \"))\n",
        "    if is_prime(year):\n",
        "        print(f\"{year} is a prime number.\")\n",
        "    else:\n",
        "        print(f\"{year} is not a prime number.\")\n",
        "except ValueError:\n",
        "    print(\"Please enter a valid year.\")"
      ],
      "metadata": {
        "colab": {
          "base_uri": "https://localhost:8080/"
        },
        "id": "0-p1nZdsKrjG",
        "outputId": "8b9a0a80-f47d-4649-be5e-cd9132afda4b"
      },
      "execution_count": 30,
      "outputs": [
        {
          "output_type": "stream",
          "name": "stdout",
          "text": [
            "Enter a year to check if it's a prime number: 10\n",
            "10 is not a prime number.\n"
          ]
        }
      ]
    },
    {
      "cell_type": "markdown",
      "source": [
        "28. Create a program that sorts three numbers in ascending order using conditional statements."
      ],
      "metadata": {
        "id": "Pk1hYh0tIrut"
      }
    },
    {
      "cell_type": "code",
      "source": [
        "# Function to sort three numbers in ascending order\n",
        "def sort_three_numbers(num1, num2, num3):\n",
        "    if num1 > num2:\n",
        "        num1, num2 = num2, num1\n",
        "    if num2 > num3:\n",
        "        num2, num3 = num3, num2\n",
        "    if num1 > num2:\n",
        "        num1, num2 = num2, num1\n",
        "    return num1, num2, num3\n",
        "\n",
        "# Input from the user\n",
        "try:\n",
        "    number1 = float(input(\"Enter the first number: \"))\n",
        "    number2 = float(input(\"Enter the second number: \"))\n",
        "    number3 = float(input(\"Enter the third number: \"))\n",
        "\n",
        "    sorted_numbers = sort_three_numbers(number1, number2, number3)\n",
        "    print(f\"Numbers in ascending order: {sorted_numbers[0]}, {sorted_numbers[1]}, {sorted_numbers[2]}\")\n",
        "except ValueError:\n",
        "    print(\"Please enter valid numbers.\")"
      ],
      "metadata": {
        "colab": {
          "base_uri": "https://localhost:8080/"
        },
        "id": "iCWZ9YgTK3vT",
        "outputId": "d5f85e9d-3a8e-4405-abdf-e4ce3eac5bf1"
      },
      "execution_count": 31,
      "outputs": [
        {
          "output_type": "stream",
          "name": "stdout",
          "text": [
            "Enter the first number: 10\n",
            "Enter the second number: 9\n",
            "Enter the third number: 12\n",
            "Numbers in ascending order: 9.0, 10.0, 12.0\n"
          ]
        }
      ]
    },
    {
      "cell_type": "markdown",
      "source": [
        "29. Build a program that determines the roots of a quartic equation using numerical methods."
      ],
      "metadata": {
        "id": "VGkAYGS8Irr5"
      }
    },
    {
      "cell_type": "code",
      "source": [
        "import numpy as np\n",
        "\n",
        "# Function to find roots of a quartic equation\n",
        "def solve_quartic(a, b, c, d, e):\n",
        "    coefficients = [a, b, c, d, e]\n",
        "    roots = np.roots(coefficients)\n",
        "    return roots\n",
        "\n",
        "# Input from the user\n",
        "try:\n",
        "    a = float(input(\"Enter the coefficient a: \"))\n",
        "    b = float(input(\"Enter the coefficient b: \"))\n",
        "    c = float(input(\"Enter the coefficient c: \"))\n",
        "    d = float(input(\"Enter the coefficient d: \"))\n",
        "    e = float(input(\"Enter the constant e: \"))\n",
        "\n",
        "    roots = solve_quartic(a, b, c, d, e)\n",
        "    print(f\"The roots of the quartic equation are: {roots}\")\n",
        "except ValueError:\n",
        "    print(\"Please enter valid coefficients.\")"
      ],
      "metadata": {
        "colab": {
          "base_uri": "https://localhost:8080/"
        },
        "id": "XesSbl1oK9-3",
        "outputId": "a3834f1a-7438-4840-984c-7974729876ba"
      },
      "execution_count": 32,
      "outputs": [
        {
          "output_type": "stream",
          "name": "stdout",
          "text": [
            "Enter the coefficient a: 2\n",
            "Enter the coefficient b: 3\n",
            "Enter the coefficient c: 5\n",
            "Enter the coefficient d: 2\n",
            "Enter the constant e: 2\n",
            "The roots of the quartic equation are: [-0.68785829+1.1349406j  -0.68785829-1.1349406j  -0.06214171+0.75094637j\n",
            " -0.06214171-0.75094637j]\n"
          ]
        }
      ]
    },
    {
      "cell_type": "markdown",
      "source": [
        "30. Write a program that calculates the BMI (Body Mass Index) and provides health recommendations based\n",
        "on the user's input."
      ],
      "metadata": {
        "id": "T-N9fOeNIro0"
      }
    },
    {
      "cell_type": "code",
      "source": [
        "# Function to calculate BMI and provide recommendations\n",
        "def calculate_bmi(weight, height):\n",
        "    height = height / 100\n",
        "    bmi = weight / (height ** 2)\n",
        "    if bmi < 18.5:\n",
        "        return bmi, \"Underweight\"\n",
        "    elif 18.5 <= bmi < 24.9:\n",
        "        return bmi, \"Normal weight\"\n",
        "    elif 25 <= bmi < 29.9:\n",
        "        return bmi, \"Overweight\"\n",
        "    else:\n",
        "        return bmi, \"Obesity\"\n",
        "\n",
        "# Input from the user\n",
        "try:\n",
        "    weight = float(input(\"Enter your weight in kilograms: \"))\n",
        "    height = float(input(\"Enter your height in cm: \"))\n",
        "\n",
        "    bmi, status = calculate_bmi(weight, height)\n",
        "    print(f\"Your BMI is: {bmi:.2f}\")\n",
        "    print(f\"Health status: {status}\")\n",
        "except ValueError:\n",
        "    print(\"Please enter valid numbers.\")\n"
      ],
      "metadata": {
        "colab": {
          "base_uri": "https://localhost:8080/"
        },
        "id": "-pttrfDeLFIc",
        "outputId": "39ce952e-a9a8-455a-9610-0ddb39ee4c97"
      },
      "execution_count": 35,
      "outputs": [
        {
          "output_type": "stream",
          "name": "stdout",
          "text": [
            "Enter your weight in kilograms: 62\n",
            "Enter your height in cm: 165\n",
            "Your BMI is: 22.77\n",
            "Health status: Normal weight\n"
          ]
        }
      ]
    },
    {
      "cell_type": "markdown",
      "source": [
        "# Challenging level"
      ],
      "metadata": {
        "id": "e5Vbu1CyIrlc"
      }
    },
    {
      "cell_type": "markdown",
      "source": [
        "31. Create a program that validates a password based on complexity rules (length, characters, etc.)."
      ],
      "metadata": {
        "id": "TCFC2oFHIq8U"
      }
    },
    {
      "cell_type": "code",
      "source": [
        "def validate_password(password):\n",
        "  \"\"\"\n",
        "  Validates a password based on complexity rules:\n",
        "    - At least 8 characters long\n",
        "    - Contains at least one uppercase letter\n",
        "    - Contains at least one lowercase letter\n",
        "    - Contains at least one digit\n",
        "    - Contains at least one special character (!@#$%^&*()_+-=[]{};':\"\\\\|,.<>/?)\n",
        "  \"\"\"\n",
        "  if len(password) < 8:\n",
        "    return False\n",
        "  if not any(char.isupper() for char in password):\n",
        "    return False\n",
        "  if not any(char.islower() for char in password):\n",
        "    return False\n",
        "  if not any(char.isdigit() for char in password):\n",
        "    return False\n",
        "  if not any(char in \"!@#$%^&*()_+-=[]{};':\\\"\\\\|,.<>/?\" for char in password):\n",
        "    return False\n",
        "  return True\n",
        "\n",
        "# Get password input from the user\n",
        "password = input(\"Enter a password: \")\n",
        "\n",
        "# Validate the password\n",
        "if validate_password(password):\n",
        "  print(\"Valid password.\")\n",
        "else:\n",
        "  print(\"Invalid password. Please meet the complexity requirements.\")"
      ],
      "metadata": {
        "id": "autSIUu6OILS"
      },
      "execution_count": null,
      "outputs": []
    },
    {
      "cell_type": "markdown",
      "source": [
        "32. Develop a program that performs matrix addition and subtraction based on user input."
      ],
      "metadata": {
        "id": "vLZe31C9JGPc"
      }
    },
    {
      "cell_type": "code",
      "source": [
        "def get_matrix(rows, cols):\n",
        "    matrix = []\n",
        "    print(\"Enter matrix elements row-wise:\")\n",
        "    for i in range(rows):\n",
        "        row = list(map(int, input().split()))\n",
        "        if len(row) != cols:\n",
        "            raise ValueError(\"Incorrect number of elements in a row.\")\n",
        "        matrix.append(row)\n",
        "    return matrix\n",
        "\n",
        "def add_matrices(matrix1, matrix2):\n",
        "    rows = len(matrix1)\n",
        "    cols = len(matrix1[0])\n",
        "    result = [[0 for _ in range(cols)] for _ in range(rows)]\n",
        "    for i in range(rows):\n",
        "        for j in range(cols):\n",
        "            result[i][j] = matrix1[i][j] + matrix2[i][j]\n",
        "    return result\n",
        "\n",
        "def subtract_matrices(matrix1, matrix2):\n",
        "    rows = len(matrix1)\n",
        "    cols = len(matrix1[0])\n",
        "    result = [[0 for _ in range(cols)] for _ in range(rows)]\n",
        "    for i in range(rows):\n",
        "        for j in range(cols):\n",
        "            result[i][j] = matrix1[i][j] - matrix2[i][j]\n",
        "    return result\n",
        "\n",
        "def print_matrix(matrix):\n",
        "    for row in matrix:\n",
        "        print(' '.join(map(str, row)))\n",
        "\n",
        "try:\n",
        "    rows = int(input(\"Enter number of rows: \"))\n",
        "    cols = int(input(\"Enter number of columns: \"))\n",
        "\n",
        "    print(\"Enter first matrix:\")\n",
        "    matrix1 = get_matrix(rows, cols)\n",
        "\n",
        "    print(\"Enter second matrix:\")\n",
        "    matrix2 = get_matrix(rows, cols)\n",
        "\n",
        "    while True:\n",
        "        operation = input(\"Choose operation (+ for addition, - for subtraction, q to quit): \").lower()\n",
        "        if operation == '+':\n",
        "            result = add_matrices(matrix1, matrix2)\n",
        "            print(\"Result of matrix addition:\")\n",
        "            print_matrix(result)\n",
        "        elif operation == '-':\n",
        "            result = subtract_matrices(matrix1, matrix2)\n",
        "            print(\"Result of matrix subtraction:\")\n",
        "            print_matrix(result)\n",
        "        elif operation == 'q':\n",
        "            break\n",
        "        else:\n",
        "            print(\"Invalid operation. Choose + or -.\")\n",
        "\n",
        "except ValueError as e:\n",
        "    print(e)"
      ],
      "metadata": {
        "colab": {
          "base_uri": "https://localhost:8080/"
        },
        "id": "bFRLwjTp2qr1",
        "outputId": "78f78717-ca71-416f-a6b2-7dc1f85e8aa4"
      },
      "execution_count": 40,
      "outputs": [
        {
          "name": "stdout",
          "output_type": "stream",
          "text": [
            "Enter number of rows: 2\n",
            "Enter number of columns: 2\n",
            "Enter first matrix:\n",
            "Enter matrix elements row-wise:\n",
            "1 2\n",
            "3 4\n",
            "Enter second matrix:\n",
            "Enter matrix elements row-wise:\n",
            "5 6\n",
            "7 8\n",
            "Choose operation (+ for addition, - for subtraction, q to quit): +\n",
            "Result of matrix addition:\n",
            "6 8\n",
            "10 12\n",
            "Choose operation (+ for addition, - for subtraction, q to quit): q\n"
          ]
        }
      ]
    },
    {
      "cell_type": "markdown",
      "source": [
        "33. Write a program that calculates the greatest common divisor (GCD) of two numbers using the Euclidean\n",
        "algorithm."
      ],
      "metadata": {
        "id": "Jg7TZw7pJIQp"
      }
    },
    {
      "cell_type": "code",
      "source": [
        "def gcd(a, b):\n",
        "  while b:\n",
        "    a, b = b, a % b\n",
        "  return a\n",
        "\n",
        "# Get input from the user\n",
        "try:\n",
        "  num1 = int(input(\"Enter the first number: \"))\n",
        "  num2 = int(input(\"Enter the second number: \"))\n",
        "\n",
        "  result = gcd(num1, num2)\n",
        "  print(f\"The GCD of {num1} and {num2} is: {result}\")\n",
        "except ValueError:\n",
        "  print(\"Please enter valid integers.\")\n"
      ],
      "metadata": {
        "colab": {
          "base_uri": "https://localhost:8080/"
        },
        "id": "Rq9OYyN03dep",
        "outputId": "20aad107-60d3-4b88-a5ec-45fb2912e4b2"
      },
      "execution_count": 41,
      "outputs": [
        {
          "output_type": "stream",
          "name": "stdout",
          "text": [
            "Enter the first number: 10\n",
            "Enter the second number: 20\n",
            "The GCD of 10 and 20 is: 10\n"
          ]
        }
      ]
    },
    {
      "cell_type": "markdown",
      "source": [
        "34. Build a program that performs matrix multiplication using nested loops and conditional statements."
      ],
      "metadata": {
        "id": "rfVr3AyHJKIE"
      }
    },
    {
      "cell_type": "code",
      "source": [
        "def get_matrix(rows, cols):\n",
        "    matrix = []\n",
        "    print(\"Enter matrix elements row-wise:\")\n",
        "    for i in range(rows):\n",
        "        while True:\n",
        "            try:\n",
        "                row = list(map(int, input(f\"Enter row {i + 1} elements separated by spaces: \").split()))\n",
        "                if len(row) != cols:\n",
        "                    print(f\"Error: You need to enter exactly {cols} elements.\")\n",
        "                else:\n",
        "                    matrix.append(row)\n",
        "                    break\n",
        "            except ValueError:\n",
        "                print(\"Invalid input. Please enter integers only.\")\n",
        "    return matrix\n",
        "\n",
        "def multiply_matrices(matrix1, matrix2):\n",
        "    rows1 = len(matrix1)\n",
        "    cols1 = len(matrix1[0])\n",
        "    rows2 = len(matrix2)\n",
        "    cols2 = len(matrix2[0])\n",
        "\n",
        "    if cols1 != rows2:\n",
        "        raise ValueError(\"Matrix dimensions are incompatible for multiplication.\")\n",
        "\n",
        "    result = [[0 for _ in range(cols2)] for _ in range(rows1)]\n",
        "\n",
        "    for i in range(rows1):\n",
        "        for j in range(cols2):\n",
        "            for k in range(cols1):\n",
        "                result[i][j] += matrix1[i][k] * matrix2[k][j]\n",
        "\n",
        "    return result\n",
        "\n",
        "def print_matrix(matrix):\n",
        "    for row in matrix:\n",
        "        print(' '.join(map(str, row)))\n",
        "\n",
        "try:\n",
        "    rows1 = int(input(\"Enter number of rows for matrix 1: \"))\n",
        "    cols1 = int(input(\"Enter number of columns for matrix 1: \"))\n",
        "    matrix1 = get_matrix(rows1, cols1)\n",
        "\n",
        "    rows2 = int(input(\"Enter number of rows for matrix 2: \"))\n",
        "    cols2 = int(input(\"Enter number of columns for matrix 2: \"))\n",
        "    matrix2 = get_matrix(rows2, cols2)\n",
        "\n",
        "    result = multiply_matrices(matrix1, matrix2)\n",
        "    print(\"Result of matrix multiplication:\")\n",
        "    print_matrix(result)\n",
        "\n",
        "except ValueError as e:\n",
        "    print(f\"Error: {e}\")\n"
      ],
      "metadata": {
        "colab": {
          "base_uri": "https://localhost:8080/"
        },
        "id": "MPsLRYS_JLQy",
        "outputId": "bed78957-c6c7-401a-a248-fe749d32406a"
      },
      "execution_count": 1,
      "outputs": [
        {
          "output_type": "stream",
          "name": "stdout",
          "text": [
            "Enter number of rows for matrix 1: 1\n",
            "Enter number of columns for matrix 1: 1\n",
            "Enter matrix elements row-wise:\n",
            "Enter row 1 elements separated by spaces: 1 2 3\n",
            "Error: You need to enter exactly 1 elements.\n",
            "Enter row 1 elements separated by spaces: 1\n",
            "Enter number of rows for matrix 2: 2\n",
            "Enter number of columns for matrix 2: 1\n",
            "Enter matrix elements row-wise:\n",
            "Enter row 1 elements separated by spaces: 2\n",
            "Enter row 2 elements separated by spaces: 3\n",
            "Error: Matrix dimensions are incompatible for multiplication.\n"
          ]
        }
      ]
    },
    {
      "cell_type": "markdown",
      "source": [
        "35. Create a program that simulates a basic text-based tic-tac-toe game against the computer."
      ],
      "metadata": {
        "id": "j839LMQwJLvq"
      }
    },
    {
      "cell_type": "code",
      "source": [
        "def print_board(board):\n",
        "  for row in board:\n",
        "    print(\" | \".join(row))\n",
        "    print(\"-\" * 9)\n",
        "\n",
        "def check_win(board, player):\n",
        "  for row in board:\n",
        "    if all(cell == player for cell in row):\n",
        "      return True\n",
        "  for col in range(3):\n",
        "    if all(board[row][col] == player for row in range(3)):\n",
        "      return True\n",
        "  if (board[0][0] == player and board[1][1] == player and board[2][2] == player) or \\\n",
        "     (board[0][2] == player and board[1][1] == player and board[2][0] == player):\n",
        "    return True\n",
        "  return False\n",
        "\n",
        "def is_board_full(board):\n",
        "  for row in board:\n",
        "    for cell in row:\n",
        "      if cell == ' ':\n",
        "        return False\n",
        "  return True\n",
        "\n",
        "def get_computer_move(board):\n",
        "  for row in range(3):\n",
        "    for col in range(3):\n",
        "      if board[row][col] == ' ':\n",
        "        return row, col\n",
        "\n",
        "def tic_tac_toe():\n",
        "  board = [[' ' for _ in range(3)] for _ in range(3)]\n",
        "  current_player = 'X'\n",
        "\n",
        "  while True:\n",
        "    print_board(board)\n",
        "\n",
        "    if current_player == 'X':\n",
        "      row = int(input(\"Enter row (0-2): \"))\n",
        "      col = int(input(\"Enter column (0-2): \"))\n",
        "    else:\n",
        "      row, col = get_computer_move(board)\n",
        "      print(f\"Computer chose ({row}, {col})\")\n",
        "\n",
        "    if board[row][col] == ' ':\n",
        "      board[row][col] = current_player\n",
        "\n",
        "      if check_win(board, current_player):\n",
        "        print_board(board)\n",
        "        print(f\"{current_player} wins!\")\n",
        "        break\n",
        "      elif is_board_full(board):\n",
        "        print_board(board)\n",
        "        print(\"It's a draw!\")\n",
        "        break\n",
        "\n",
        "      current_player = 'O' if current_player == 'X' else 'X'\n",
        "    else:\n",
        "      print(\"Invalid move. Try again.\")\n",
        "\n",
        "tic_tac_toe()"
      ],
      "metadata": {
        "colab": {
          "base_uri": "https://localhost:8080/"
        },
        "id": "l-3b_6r6JM8A",
        "outputId": "f70e037a-c6ab-4cf1-a6a5-f931b03fff53"
      },
      "execution_count": 2,
      "outputs": [
        {
          "output_type": "stream",
          "name": "stdout",
          "text": [
            "  |   |  \n",
            "---------\n",
            "  |   |  \n",
            "---------\n",
            "  |   |  \n",
            "---------\n",
            "Enter row (0-2): 1\n",
            "Enter column (0-2): 1\n",
            "  |   |  \n",
            "---------\n",
            "  | X |  \n",
            "---------\n",
            "  |   |  \n",
            "---------\n",
            "Computer chose (0, 0)\n",
            "O |   |  \n",
            "---------\n",
            "  | X |  \n",
            "---------\n",
            "  |   |  \n",
            "---------\n",
            "Enter row (0-2): 2\n",
            "Enter column (0-2): 0\n",
            "O |   |  \n",
            "---------\n",
            "  | X |  \n",
            "---------\n",
            "X |   |  \n",
            "---------\n",
            "Computer chose (0, 1)\n",
            "O | O |  \n",
            "---------\n",
            "  | X |  \n",
            "---------\n",
            "X |   |  \n",
            "---------\n",
            "Enter row (0-2): 0\n",
            "Enter column (0-2): 2\n",
            "O | O | X\n",
            "---------\n",
            "  | X |  \n",
            "---------\n",
            "X |   |  \n",
            "---------\n",
            "X wins!\n"
          ]
        }
      ]
    },
    {
      "cell_type": "markdown",
      "source": [
        "36. Write a program that generates Fibonacci numbers up to a specified term using iterative methods."
      ],
      "metadata": {
        "id": "0-KseSG1JNZJ"
      }
    },
    {
      "cell_type": "code",
      "source": [
        "def fibonacci_iterative(n):\n",
        "  \"\"\"\n",
        "  Generates Fibonacci numbers up to the nth term using iterative methods.\n",
        "\n",
        "  Args:\n",
        "    n: The number of Fibonacci numbers to generate.\n",
        "\n",
        "  Returns:\n",
        "    A list containing the first n Fibonacci numbers.\n",
        "  \"\"\"\n",
        "  fibonacci_sequence = [0, 1]\n",
        "  if n <= 2:\n",
        "    return fibonacci_sequence[:n]\n",
        "  for i in range(2, n):\n",
        "    next_fibonacci = fibonacci_sequence[i - 1] + fibonacci_sequence[i - 2]\n",
        "    fibonacci_sequence.append(next_fibonacci)\n",
        "  return fibonacci_sequence\n",
        "\n",
        "# Get the number of terms from the user\n",
        "try:\n",
        "  num_terms = int(input(\"Enter the number of Fibonacci terms to generate: \"))\n",
        "  if num_terms <= 0:\n",
        "    print(\"Please enter a positive integer.\")\n",
        "  else:\n",
        "    fibonacci_numbers = fibonacci_iterative(num_terms)\n",
        "    print(\"Fibonacci sequence:\")\n",
        "    print(fibonacci_numbers)\n",
        "except ValueError:\n",
        "  print(\"Invalid input. Please enter an integer.\")"
      ],
      "metadata": {
        "colab": {
          "base_uri": "https://localhost:8080/"
        },
        "id": "C35iRVXm5jg8",
        "outputId": "59b42415-88fb-4dc4-e5a1-535833d82196"
      },
      "execution_count": 3,
      "outputs": [
        {
          "output_type": "stream",
          "name": "stdout",
          "text": [
            "Enter the number of Fibonacci terms to generate: 5\n",
            "Fibonacci sequence:\n",
            "[0, 1, 1, 2, 3]\n"
          ]
        }
      ]
    },
    {
      "cell_type": "markdown",
      "source": [
        "37. Develop a program that calculates the nth term of the Fibonacci sequence using memoization."
      ],
      "metadata": {
        "id": "4YoYZEKbJPCL"
      }
    },
    {
      "cell_type": "code",
      "source": [
        "def fibonacci_memoization(n, memo={}):\n",
        "  \"\"\"\n",
        "  Calculates the nth term of the Fibonacci sequence using memoization.\n",
        "\n",
        "  Args:\n",
        "    n: The term of the Fibonacci sequence to calculate.\n",
        "    memo: A dictionary to store previously calculated Fibonacci numbers.\n",
        "\n",
        "  Returns:\n",
        "    The nth Fibonacci number.\n",
        "  \"\"\"\n",
        "  if n in memo:\n",
        "    return memo[n]\n",
        "  if n <= 1:\n",
        "    return n\n",
        "  result = fibonacci_memoization(n - 1, memo) + fibonacci_memoization(n - 2, memo)\n",
        "  memo[n] = result\n",
        "  return result\n",
        "\n",
        "# Get the term number from the user\n",
        "try:\n",
        "  term_number = int(input(\"Enter the term number to calculate: \"))\n",
        "  if term_number < 0:\n",
        "    print(\"Please enter a non-negative integer.\")\n",
        "  else:\n",
        "    fibonacci_number = fibonacci_memoization(term_number)\n",
        "    print(f\"The {term_number}th Fibonacci number is: {fibonacci_number}\")\n",
        "except ValueError:\n",
        "  print(\"Invalid input. Please enter an integer.\")"
      ],
      "metadata": {
        "colab": {
          "base_uri": "https://localhost:8080/"
        },
        "id": "JKpr4VAh5fcy",
        "outputId": "fe4b01ef-33cd-4069-9a18-b3920f928b9d"
      },
      "execution_count": 4,
      "outputs": [
        {
          "output_type": "stream",
          "name": "stdout",
          "text": [
            "Enter the term number to calculate: 5\n",
            "The 5th Fibonacci number is: 5\n"
          ]
        }
      ]
    },
    {
      "cell_type": "markdown",
      "source": [
        "38. Create a program that generates a calendar for a given month and year using conditional statements."
      ],
      "metadata": {
        "id": "L9nGQFtAJWtD"
      }
    },
    {
      "cell_type": "code",
      "source": [
        "def generate_calendar(month, year):\n",
        "  # Determine the number of days in the month\n",
        "  if month in (1, 3, 5, 7, 8, 10, 12):\n",
        "    num_days = 31\n",
        "  elif month == 2:\n",
        "    if (year % 4 == 0 and (year % 100 != 0 or year % 400 == 0)):\n",
        "      num_days = 29\n",
        "    else:\n",
        "      num_days = 28\n",
        "  else:\n",
        "    num_days = 30\n",
        "\n",
        "  # Determine the starting day of the week\n",
        "  day_of_week = (1 + sum((31, 28 if (year % 4 != 0 or (year % 100 == 0 and year % 400 != 0)) else 29, 31, 30, 31, 30, 31, 31, 30, 31, 30, 31)[:month - 1])) % 7\n",
        "\n",
        "  # Print the calendar header\n",
        "  month_names = (\"January\", \"February\", \"March\", \"April\", \"May\", \"June\", \"July\", \"August\", \"September\", \"October\", \"November\", \"December\")\n",
        "  print(f\"{month_names[month - 1]} {year}\".center(20))\n",
        "  print(\"Sun Mon Tue Wed Thu Fri Sat\")\n",
        "\n",
        "  # Print the calendar days\n",
        "  day = 1\n",
        "  spaces = day_of_week\n",
        "  for _ in range(spaces):\n",
        "    print(\"   \", end=\"\")\n",
        "  while day <= num_days:\n",
        "    print(f\"{day:3d}\", end=\"\")\n",
        "    day += 1\n",
        "    spaces += 1\n",
        "    if spaces % 7 == 0:\n",
        "      print()\n",
        "      spaces = 0\n",
        "  if spaces % 7 != 0:\n",
        "    print()\n",
        "\n",
        "# Get input from the user\n",
        "try:\n",
        "  month = int(input(\"Enter the month (1-12): \"))\n",
        "  year = int(input(\"Enter the year: \"))\n",
        "  generate_calendar(month, year)\n",
        "except ValueError:\n",
        "  print(\"Invalid input. Please enter integers for month and year.\")"
      ],
      "metadata": {
        "colab": {
          "base_uri": "https://localhost:8080/"
        },
        "id": "wgsKbnfp5bZO",
        "outputId": "094d1730-2fa8-456b-84a7-03aa7c2633ce"
      },
      "execution_count": 5,
      "outputs": [
        {
          "output_type": "stream",
          "name": "stdout",
          "text": [
            "Enter the month (1-12): 01\n",
            "Enter the year: 2024\n",
            "    January 2024    \n",
            "Sun Mon Tue Wed Thu Fri Sat\n",
            "     1  2  3  4  5  6\n",
            "  7  8  9 10 11 12 13\n",
            " 14 15 16 17 18 19 20\n",
            " 21 22 23 24 25 26 27\n",
            " 28 29 30 31\n"
          ]
        }
      ]
    },
    {
      "cell_type": "markdown",
      "source": [
        "39. Build a program that simulates a basic text-based blackjack game against the computer."
      ],
      "metadata": {
        "id": "fD1Nx7jPJYyY"
      }
    },
    {
      "cell_type": "code",
      "source": [
        "import random\n",
        "\n",
        "def deal_card(deck):\n",
        "  \"\"\"Deals a single card from the deck.\"\"\"\n",
        "  card = random.choice(deck)\n",
        "  deck.remove(card)\n",
        "  return card\n",
        "\n",
        "def calculate_value(hand):\n",
        "  \"\"\"Calculates the value of a hand.\"\"\"\n",
        "  value = 0\n",
        "  num_aces = 0\n",
        "  for card in hand:\n",
        "    if card in ['J', 'Q', 'K']:\n",
        "      value += 10\n",
        "    elif card == 'A':\n",
        "      num_aces += 1\n",
        "      value += 11\n",
        "    else:\n",
        "      value += int(card)\n",
        "\n",
        "  # Adjust for Aces\n",
        "  while value > 21 and num_aces > 0:\n",
        "    value -= 10\n",
        "    num_aces -= 1\n",
        "\n",
        "  return value\n",
        "\n",
        "def display_cards(player_hand, dealer_hand, show_all_dealer=False):\n",
        "  \"\"\"Displays the cards.\"\"\"\n",
        "  print(\"\\nDealer's Hand:\")\n",
        "  if show_all_dealer:\n",
        "    print(\", \".join(dealer_hand))\n",
        "    print(\"Value:\", calculate_value(dealer_hand))\n",
        "  else:\n",
        "    print(\"<hidden card>, \", dealer_hand[1])\n",
        "\n",
        "  print(\"\\nYour Hand:\")\n",
        "  print(\", \".join(player_hand))\n",
        "  print(\"Value:\", calculate_value(player_hand))\n",
        "\n",
        "def blackjack():\n",
        "  \"\"\"Plays a game of Blackjack.\"\"\"\n",
        "  deck = [str(i) for i in range(2, 11)] + ['J', 'Q', 'K', 'A'] * 4\n",
        "  player_hand = []\n",
        "  dealer_hand = []\n",
        "\n",
        "  # Initial deal\n",
        "  player_hand.append(deal_card(deck))\n",
        "  dealer_hand.append(deal_card(deck))\n",
        "  player_hand.append(deal_card(deck))\n",
        "  dealer_hand.append(deal_card(deck))\n",
        "\n",
        "  display_cards(player_hand, dealer_hand)\n",
        "\n",
        "  # Player's turn\n",
        "  while True:\n",
        "    choice = input(\"Hit or Stand? \").lower()\n",
        "    if choice == 'hit':\n",
        "      player_hand.append(deal_card(deck))\n",
        "      display_cards(player_hand, dealer_hand)\n",
        "      if calculate_value(player_hand) > 21:\n",
        "        print(\"You busted! Dealer wins.\")\n",
        "        return\n",
        "    elif choice == 'stand':\n",
        "      break\n",
        "    else:\n",
        "      print(\"Invalid input. Please enter 'hit' or 'stand'.\")\n",
        "\n",
        "  # Dealer's turn\n",
        "  print(\"\\nDealer's Turn:\")\n",
        "  display_cards(player_hand, dealer_hand, show_all_dealer=True)\n",
        "  while calculate_value(dealer_hand) < 17:\n",
        "    dealer_hand.append(deal_card(deck))\n",
        "    display_cards(player_hand, dealer_hand, show_all_dealer=True)\n",
        "\n",
        "  # Determine the winner\n",
        "  player_value = calculate_value(player_hand)\n",
        "  dealer_value = calculate_value(dealer_hand)\n",
        "  if dealer_value > 21:\n",
        "    print(\"Dealer busted! You win.\")\n",
        "  elif dealer_value > player_value:\n",
        "    print(\"Dealer wins.\")\n",
        "  elif dealer_value < player_value:\n",
        "    print(\"You win!\")\n",
        "  else:\n",
        "    print(\"It's a push!\")\n",
        "\n",
        "# Start the game\n",
        "blackjack()"
      ],
      "metadata": {
        "colab": {
          "base_uri": "https://localhost:8080/"
        },
        "id": "wKkN0xCM5XJ1",
        "outputId": "f981cf74-bbd9-40da-eed0-99b19ea4ebcb"
      },
      "execution_count": 6,
      "outputs": [
        {
          "output_type": "stream",
          "name": "stdout",
          "text": [
            "\n",
            "Dealer's Hand:\n",
            "<hidden card>,  10\n",
            "\n",
            "Your Hand:\n",
            "2, A\n",
            "Value: 13\n",
            "Hit or Stand? hit\n",
            "\n",
            "Dealer's Hand:\n",
            "<hidden card>,  10\n",
            "\n",
            "Your Hand:\n",
            "2, A, 9\n",
            "Value: 12\n",
            "Hit or Stand? Hit\n",
            "\n",
            "Dealer's Hand:\n",
            "<hidden card>,  10\n",
            "\n",
            "Your Hand:\n",
            "2, A, 9, J\n",
            "Value: 22\n",
            "You busted! Dealer wins.\n"
          ]
        }
      ]
    },
    {
      "cell_type": "markdown",
      "source": [
        "40. Write a program that generates the prime factors of a given number using trial division."
      ],
      "metadata": {
        "id": "w1XAr9_xJab3"
      }
    },
    {
      "cell_type": "code",
      "source": [
        "def prime_factors(n):\n",
        "  \"\"\"\n",
        "  Generates the prime factors of a given number using trial division.\n",
        "\n",
        "  Args:\n",
        "    n: The number to factorize.\n",
        "\n",
        "  Returns:\n",
        "    A list of prime factors of n.\n",
        "  \"\"\"\n",
        "  factors = []\n",
        "  i = 2\n",
        "  while i * i <= n:\n",
        "    if n % i:\n",
        "      i += 1\n",
        "    else:\n",
        "      n //= i\n",
        "      factors.append(i)\n",
        "  if n > 1:\n",
        "    factors.append(n)\n",
        "  return factors\n",
        "\n",
        "# Get input from the user\n",
        "try:\n",
        "  number = int(input(\"Enter a number to find its prime factors: \"))\n",
        "  if number <= 1:\n",
        "    print(\"Prime factorization is not defined for numbers less than or equal to 1.\")\n",
        "  else:\n",
        "    prime_factors_list = prime_factors(number)\n",
        "    print(f\"The prime factors of {number} are: {prime_factors_list}\")\n",
        "except ValueError:\n",
        "  print(\"Invalid input. Please enter an integer.\")"
      ],
      "metadata": {
        "colab": {
          "base_uri": "https://localhost:8080/"
        },
        "id": "6ntrTOHu5Smy",
        "outputId": "088721f7-c229-48ba-cebe-aa4a27473623"
      },
      "execution_count": 7,
      "outputs": [
        {
          "output_type": "stream",
          "name": "stdout",
          "text": [
            "Enter a number to find its prime factors: 7\n",
            "The prime factors of 7 are: [7]\n"
          ]
        }
      ]
    }
  ]
}
{
 "cells": [
  {
   "cell_type": "markdown",
   "id": "767adf10-0e79-416a-94b3-ae9e02040eb3",
   "metadata": {},
   "source": [
    "# TOPIC: Python Basics Variable"
   ]
  },
  {
   "cell_type": "markdown",
   "id": "4ad452cc-462f-44a4-9ff3-c9d47b1c8e45",
   "metadata": {},
   "source": [
    "1. Declare two variables, `x` and `y`, and assign them integer values. Swap the\n",
    "values of these variables without using any temporary variable."
   ]
  },
  {
   "cell_type": "code",
   "execution_count": null,
   "id": "37cafcb8-abc2-4173-9621-e905f6d776fc",
   "metadata": {},
   "outputs": [],
   "source": [
    "# created variables x and y \n",
    "x, y = 10, 20\n",
    "\n",
    "# swapping them with creating any temporary variables\n",
    "x, y = y, x\n",
    "\n",
    "# After swapping\n",
    "print(f'x = {x}, y = {y}')"
   ]
  },
  {
   "cell_type": "markdown",
   "id": "f7518676-43ac-4db3-a7e8-819a446c843f",
   "metadata": {},
   "source": [
    " "
   ]
  },
  {
   "cell_type": "markdown",
   "id": "2a56fcac-a2d5-4822-9149-0858271c6471",
   "metadata": {},
   "source": [
    "2. Create a program that calculates the area of a rectangle. Take the length and width as inputs from the user and store them in variables. Calculate and display the area."
   ]
  },
  {
   "cell_type": "code",
   "execution_count": null,
   "id": "e1e72497-f4aa-43d7-bbc0-6fa92fa25ad0",
   "metadata": {},
   "outputs": [],
   "source": [
    "# Function to calculate area of triangle\n",
    "def area_of_rectangle(length, width):\n",
    "    # Calculate the area\n",
    "    area = length * width\n",
    "    return area\n",
    "\n",
    "# Get the length and width from the user\n",
    "length = float(input(\"Enter the length of the rectangle: \"))\n",
    "width = float(input(\"Enter the width of the rectangle: \"))\n",
    "\n",
    "# Calling it and Display the area\n",
    "print(\"The area of the rectangle is:\", area_of_rectangle(length, width))\n"
   ]
  },
  {
   "cell_type": "markdown",
   "id": "e1efe1a0-2aa2-405b-ac20-33a2c68e9e1d",
   "metadata": {},
   "source": [
    " "
   ]
  },
  {
   "cell_type": "markdown",
   "id": "b17dddac-6002-46b4-9867-0d7a36fb15b0",
   "metadata": {},
   "source": [
    "3. Write a Python program that converts temperatures from Celsius to Fahrenheit. Take the temperature in Celsius as input, store it in a variable, convert it to Fahrenheit, and display the result."
   ]
  },
  {
   "cell_type": "code",
   "execution_count": null,
   "id": "4653598c-4aed-4f9d-a758-97605be14283",
   "metadata": {},
   "outputs": [],
   "source": [
    "# Function to convert Celsius to Fahrenheit\n",
    "def celsius_to_fahrenheit(celsius):\n",
    "    fahrenheit = (celsius * 9/5) + 32\n",
    "    return fahrenheit\n",
    "\n",
    "# Take temperature in Celsius as input from the user\n",
    "celsius_input = float(input(\"Enter temperature in Celsius: \"))\n",
    "\n",
    "# Convert the Celsius input to Fahrenheit\n",
    "fahrenheit_output = celsius_to_fahrenheit(celsius_input)\n",
    "\n",
    "# Display the result\n",
    "print(f\"The temperature in Fahrenheit is: {fahrenheit_output:.2f}°F\")\n"
   ]
  },
  {
   "cell_type": "markdown",
   "id": "11aea380-0d92-4ccf-aad1-0588c1967845",
   "metadata": {},
   "source": [
    " "
   ]
  },
  {
   "cell_type": "markdown",
   "id": "0509a40c-e3ee-4211-898c-2860c9a20020",
   "metadata": {},
   "source": [
    "# TOPIC: String Based Questions"
   ]
  },
  {
   "cell_type": "markdown",
   "id": "c6e49f23-4676-4045-8ff1-f6900dcc146b",
   "metadata": {},
   "source": [
    "1. Write a Python program that takes a string as input and prints the length of the string."
   ]
  },
  {
   "cell_type": "code",
   "execution_count": 1,
   "id": "3d0b8883-f107-4487-871d-d659d34d64bb",
   "metadata": {},
   "outputs": [
    {
     "name": "stdin",
     "output_type": "stream",
     "text": [
      "Enter a string:  Krishna\n"
     ]
    },
    {
     "name": "stdout",
     "output_type": "stream",
     "text": [
      "The length of the entered string is: 7\n"
     ]
    }
   ],
   "source": [
    "# Take a string as input from the user\n",
    "user_input = input(\"Enter a string: \")\n",
    "\n",
    "# Calculate the length of the string\n",
    "string_length = len(user_input)\n",
    "\n",
    "# Print the length of the string\n",
    "print(f\"The length of the entered string is: {string_length}\")\n"
   ]
  },
  {
   "cell_type": "markdown",
   "id": "f3b6965f-959c-438e-a5d9-a32e68f6541a",
   "metadata": {},
   "source": [
    " "
   ]
  },
  {
   "cell_type": "markdown",
   "id": "4ba51fe6-677f-4ab9-a944-3c6e97774840",
   "metadata": {},
   "source": [
    "2. Create a program that takes a sentence from the user and counts the number of vowels (a, e, i, o, u) in the string."
   ]
  },
  {
   "cell_type": "code",
   "execution_count": 7,
   "id": "d8fe81b3-d57a-49cc-ac93-994a321d3bc0",
   "metadata": {},
   "outputs": [
    {
     "name": "stdin",
     "output_type": "stream",
     "text": [
      "Enter a sentence:  krisha is a good boy\n"
     ]
    },
    {
     "name": "stdout",
     "output_type": "stream",
     "text": [
      "The number of vowels in the entered sentence is: 7\n"
     ]
    }
   ],
   "source": [
    "def count_vowels(sentence):\n",
    "    vowels = \"aeiouAEIOU\"\n",
    "    count = 0\n",
    "    for char in sentence:\n",
    "        if char in vowels:\n",
    "            count += 1\n",
    "    return count\n",
    "\n",
    "# Take a sentence as input from the user\n",
    "user_input = input(\"Enter a sentence: \")\n",
    "\n",
    "# Count the number of vowels in the input sentence\n",
    "vowel_count = count_vowels(user_input)\n",
    "\n",
    "# Print the number of vowels\n",
    "print(f\"The number of vowels in the entered sentence is: {vowel_count}\")\n"
   ]
  },
  {
   "cell_type": "markdown",
   "id": "00e23ffa-bbdf-4847-b88c-45f739495a8e",
   "metadata": {},
   "source": [
    " "
   ]
  },
  {
   "cell_type": "markdown",
   "id": "5461e74e-d353-478e-8dd0-4f13403d9812",
   "metadata": {},
   "source": [
    "3. Given a string, reverse the order of characters using string slicing and print the reversed string."
   ]
  },
  {
   "cell_type": "code",
   "execution_count": 9,
   "id": "673f4851-013e-4e30-b607-404ab6d4832d",
   "metadata": {},
   "outputs": [
    {
     "name": "stdin",
     "output_type": "stream",
     "text": [
      "Enter a string:  krishna\n"
     ]
    },
    {
     "name": "stdout",
     "output_type": "stream",
     "text": [
      "The reversed string is: anhsirk\n"
     ]
    }
   ],
   "source": [
    "# Take a string as input from the user\n",
    "user_input = input(\"Enter a string: \")\n",
    "\n",
    "# Reverse the order of characters using string slicing\n",
    "reversed_string = user_input[::-1]\n",
    "\n",
    "# Print the reversed string\n",
    "print(f\"The reversed string is: {reversed_string}\")\n"
   ]
  },
  {
   "cell_type": "markdown",
   "id": "75079362-3401-4756-bec0-a057cb87a726",
   "metadata": {},
   "source": [
    " "
   ]
  },
  {
   "cell_type": "markdown",
   "id": "b6979da8-3e2f-4565-a504-49cbd8947313",
   "metadata": {},
   "source": [
    "4. Write a program that takes a string as input and checks if it is a palindrome(reads the same forwards and backwards)."
   ]
  },
  {
   "cell_type": "code",
   "execution_count": 22,
   "id": "c921394b-6fc8-400e-a064-a4cefe800d2c",
   "metadata": {},
   "outputs": [
    {
     "name": "stdin",
     "output_type": "stream",
     "text": [
      "Enter a string:  MoooOOOOOM\n"
     ]
    },
    {
     "name": "stdout",
     "output_type": "stream",
     "text": [
      "The entered string is a palindrome.\n"
     ]
    }
   ],
   "source": [
    "def is_palindrome(string):\n",
    "    # Reverse the string and compare it with the original, ignoring case\n",
    "    rev_string = string[::-1]\n",
    "    return string.lower() == rev_string.lower()\n",
    "\n",
    "# Take a string as input from the user\n",
    "user_input = input(\"Enter a string: \")\n",
    "\n",
    "# Check if the input string is a palindrome\n",
    "if is_palindrome(user_input):\n",
    "    print(\"The entered string is a palindrome.\")\n",
    "else:\n",
    "    print(\"The entered string is not a palindrome.\")"
   ]
  },
  {
   "cell_type": "markdown",
   "id": "64385f15-f74c-4fa6-a04f-e1d12f72a33f",
   "metadata": {},
   "source": [
    " "
   ]
  },
  {
   "cell_type": "markdown",
   "id": "f02cc7a3-7600-4ecb-9cfd-c8394aceed03",
   "metadata": {},
   "source": [
    "5. Create a program that takes a string as input and removes all the spaces from it. Print the modified string without spaces."
   ]
  },
  {
   "cell_type": "code",
   "execution_count": 28,
   "id": "8bd07cd1-4911-4cb8-8457-ee8f8867ebaf",
   "metadata": {},
   "outputs": [
    {
     "name": "stdin",
     "output_type": "stream",
     "text": [
      "Enter a string:  Krishna is Good Boy\n"
     ]
    },
    {
     "name": "stdout",
     "output_type": "stream",
     "text": [
      "The string without spaces is: KrishnaisGoodBoy\n"
     ]
    }
   ],
   "source": [
    "# Take a string as input from the user\n",
    "user_input = input(\"Enter a string: \")\n",
    "\n",
    "# Remove all spaces from the string\n",
    "modified_string = user_input.replace(\" \", \"\")\n",
    "\n",
    "# Print the modified string without spaces\n",
    "print(f\"The string without spaces is: {modified_string}\")\n"
   ]
  }
 ],
 "metadata": {
  "kernelspec": {
   "display_name": "Python 3 (ipykernel)",
   "language": "python",
   "name": "python3"
  },
  "language_info": {
   "codemirror_mode": {
    "name": "ipython",
    "version": 3
   },
   "file_extension": ".py",
   "mimetype": "text/x-python",
   "name": "python",
   "nbconvert_exporter": "python",
   "pygments_lexer": "ipython3",
   "version": "3.12.1"
  }
 },
 "nbformat": 4,
 "nbformat_minor": 5
}

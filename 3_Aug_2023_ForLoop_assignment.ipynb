{
  "nbformat": 4,
  "nbformat_minor": 0,
  "metadata": {
    "colab": {
      "provenance": [],
      "toc_visible": true
    },
    "kernelspec": {
      "name": "python3",
      "display_name": "Python 3"
    },
    "language_info": {
      "name": "python"
    }
  },
  "cells": [
    {
      "cell_type": "markdown",
      "source": [
        "# Basic Level"
      ],
      "metadata": {
        "id": "VMFgmDQaDAIg"
      }
    },
    {
      "cell_type": "markdown",
      "source": [
        "1. Write a Python program to print the numbers from 1 to 10 using a `for` loop."
      ],
      "metadata": {
        "id": "Bfs5UThHDF6-"
      }
    },
    {
      "cell_type": "code",
      "execution_count": null,
      "metadata": {
        "id": "luv1Pdu17bRI",
        "colab": {
          "base_uri": "https://localhost:8080/"
        },
        "outputId": "655ab215-6833-4b51-d62f-021061b0be6a"
      },
      "outputs": [
        {
          "output_type": "stream",
          "name": "stdout",
          "text": [
            "1, 2, 3, 4, 5, 6, 7, 8, 9, 10, "
          ]
        }
      ],
      "source": [
        "for i in range(1, 11):\n",
        "  print(i, end =\", \")"
      ]
    },
    {
      "cell_type": "markdown",
      "source": [
        "2. Create a program that calculates the sum of all numbers in a list using a `for` loop."
      ],
      "metadata": {
        "id": "hlvHShddRQCZ"
      }
    },
    {
      "cell_type": "code",
      "source": [
        "list_values = list(range(1, 10))\n",
        "print(\"before adding \", list_values)\n",
        "sum_list = sum([ele for ele in list_values])\n",
        "print(\"After summation: \", sum_list)"
      ],
      "metadata": {
        "colab": {
          "base_uri": "https://localhost:8080/"
        },
        "id": "4pFUxTh8RgLK",
        "outputId": "fb99c555-232b-4b96-ec77-0fee8ebe39a5"
      },
      "execution_count": null,
      "outputs": [
        {
          "output_type": "stream",
          "name": "stdout",
          "text": [
            "before adding  [1, 2, 3, 4, 5, 6, 7, 8, 9]\n",
            "After summation:  45\n"
          ]
        }
      ]
    },
    {
      "cell_type": "markdown",
      "source": [
        "3. Write a program to print the characters of a string in reverse order using a `for` loop."
      ],
      "metadata": {
        "id": "Vfk057m_TOwe"
      }
    },
    {
      "cell_type": "code",
      "source": [
        "string = \"krishna\"\n",
        "print(\"Before reversing: \", string)\n",
        "for char in string[::-1]:\n",
        "  print(char, end =\"\")"
      ],
      "metadata": {
        "colab": {
          "base_uri": "https://localhost:8080/"
        },
        "id": "Kq4xOzFQRoF5",
        "outputId": "db113633-aa54-4575-c8bd-1289cfeb82e5"
      },
      "execution_count": null,
      "outputs": [
        {
          "output_type": "stream",
          "name": "stdout",
          "text": [
            "Before reversing:  krishna\n",
            "anhsirk"
          ]
        }
      ]
    },
    {
      "cell_type": "markdown",
      "source": [
        "4. Develop a program that finds the factorial of a given number using a `for` loop."
      ],
      "metadata": {
        "id": "MB8L8EfgUP3N"
      }
    },
    {
      "cell_type": "code",
      "source": [
        "n = int(input(\"Enter the number to find factorial: \"))\n",
        "fact_num = 1\n",
        "for value in range(1, n+1):\n",
        "  fact_num *= value\n",
        "print(f\"factorial of '{n}' is '{fact_num}'\")"
      ],
      "metadata": {
        "colab": {
          "base_uri": "https://localhost:8080/"
        },
        "id": "iQQ33-YzUk05",
        "outputId": "cc60864b-d602-4bb2-e9e9-631c0b11a409"
      },
      "execution_count": null,
      "outputs": [
        {
          "output_type": "stream",
          "name": "stdout",
          "text": [
            "Enter the number to find factorial: 5\n",
            "factorial of '5' is '120'\n"
          ]
        }
      ]
    },
    {
      "cell_type": "markdown",
      "source": [
        "5. Create a program to print the multiplication table of a given number using a `for` loop."
      ],
      "metadata": {
        "id": "tTlGTsJtVsU8"
      }
    },
    {
      "cell_type": "code",
      "source": [
        "n = int(input(\"Enter the number to print table: \"))\n",
        "index = int(input(\"Enter the index to print the table: \"))\n",
        "for i in range(1,index+1):\n",
        "  print(f'{n} * {i} = {n*i}')"
      ],
      "metadata": {
        "colab": {
          "base_uri": "https://localhost:8080/"
        },
        "id": "AdqycgwhVshI",
        "outputId": "1b12a73c-6e5c-4eaa-dc83-d78c57a1cd2e"
      },
      "execution_count": null,
      "outputs": [
        {
          "output_type": "stream",
          "name": "stdout",
          "text": [
            "Enter the number to print table: 5\n",
            "Enter the index to print the table: 12\n",
            "5 * 1 = 5\n",
            "5 * 2 = 10\n",
            "5 * 3 = 15\n",
            "5 * 4 = 20\n",
            "5 * 5 = 25\n",
            "5 * 6 = 30\n",
            "5 * 7 = 35\n",
            "5 * 8 = 40\n",
            "5 * 9 = 45\n",
            "5 * 10 = 50\n",
            "5 * 11 = 55\n",
            "5 * 12 = 60\n"
          ]
        }
      ]
    },
    {
      "cell_type": "markdown",
      "source": [
        "6. Write a program that counts the number of even and odd numbers in a list using a `for` loop."
      ],
      "metadata": {
        "id": "DWUUPpVJWc4W"
      }
    },
    {
      "cell_type": "code",
      "source": [
        "numbers = [1, 2, 3, 4, 5, 6, 7, 8, 9, 10]\n",
        "\n",
        "even_count = len([number for number in numbers if number % 2 == 0])\n",
        "odd_count = len([number for number in numbers if number % 2 != 0])\n",
        "\n",
        "print(f\"Number of even numbers: {even_count}\")\n",
        "print(f\"Number of odd numbers: {odd_count}\")\n"
      ],
      "metadata": {
        "colab": {
          "base_uri": "https://localhost:8080/"
        },
        "id": "5WpPkcxtWYLf",
        "outputId": "27ca391f-6b4b-4af5-ffd7-bfa8eeacc581"
      },
      "execution_count": null,
      "outputs": [
        {
          "output_type": "stream",
          "name": "stdout",
          "text": [
            "Number of even numbers: 5\n",
            "Number of odd numbers: 5\n"
          ]
        }
      ]
    },
    {
      "cell_type": "markdown",
      "source": [
        "7. Develop a program that prints the squares of numbers from 1 to 5 using a `for` loop."
      ],
      "metadata": {
        "id": "R_bdmc4bXRrx"
      }
    },
    {
      "cell_type": "code",
      "source": [
        "for number in range(1, 6):\n",
        "    square = number * number\n",
        "    print(f\"The square of {number} is {square}\")"
      ],
      "metadata": {
        "colab": {
          "base_uri": "https://localhost:8080/"
        },
        "id": "s8EEzFuiXJzo",
        "outputId": "f5d73569-e961-45f2-d9a7-dc7ce19df4f9"
      },
      "execution_count": null,
      "outputs": [
        {
          "output_type": "stream",
          "name": "stdout",
          "text": [
            "The square of 1 is 1\n",
            "The square of 2 is 4\n",
            "The square of 3 is 9\n",
            "The square of 4 is 16\n",
            "The square of 5 is 25\n"
          ]
        }
      ]
    },
    {
      "cell_type": "markdown",
      "source": [],
      "metadata": {
        "id": "5fcJx4hlXf4Q"
      }
    },
    {
      "cell_type": "markdown",
      "source": [
        "8. Create a program to find the length of a string without using the `len()` function."
      ],
      "metadata": {
        "id": "aYKXcwjXXfvY"
      }
    },
    {
      "cell_type": "code",
      "source": [
        "user_string = input(\"Enter a string: \")\n",
        "length = sum(1 for _ in user_string)\n",
        "\n",
        "print(f\"The length of the string '{user_string}' is: {length}\")"
      ],
      "metadata": {
        "colab": {
          "base_uri": "https://localhost:8080/"
        },
        "id": "cz9ug6sFXcG8",
        "outputId": "2b7cec6b-ca2c-4fc8-aea8-9dd72096b602"
      },
      "execution_count": null,
      "outputs": [
        {
          "output_type": "stream",
          "name": "stdout",
          "text": [
            "Enter a string: krishna\n",
            "The length of the string 'krishna' is: 7\n"
          ]
        }
      ]
    },
    {
      "cell_type": "markdown",
      "source": [
        "9. Write a program that calculates the average of a list of numbers using a `for` loop."
      ],
      "metadata": {
        "id": "0hxvMUOVYCN6"
      }
    },
    {
      "cell_type": "code",
      "source": [
        "numbers = [10, 20, 30, 40, 50]\n",
        "total_sum = 0\n",
        "count = 0\n",
        "\n",
        "for num in numbers:\n",
        "    total_sum += num\n",
        "    count += 1\n",
        "\n",
        "if count > 0:\n",
        "    average = total_sum / count\n",
        "else:\n",
        "    average = 0\n",
        "\n",
        "# Print the result\n",
        "print(f\"The average of the numbers {numbers} is: {average}\")"
      ],
      "metadata": {
        "colab": {
          "base_uri": "https://localhost:8080/"
        },
        "id": "euZ-Dd88YCZp",
        "outputId": "bcb706a7-cd21-47af-9fb4-9bd7d036cc90"
      },
      "execution_count": null,
      "outputs": [
        {
          "output_type": "stream",
          "name": "stdout",
          "text": [
            "The average of the numbers [10, 20, 30, 40, 50] is: 30.0\n"
          ]
        }
      ]
    },
    {
      "cell_type": "markdown",
      "source": [
        "10. Develop a program that prints the first `n` Fibonacci numbers using a `for` loop."
      ],
      "metadata": {
        "id": "n2zgygmSYynS"
      }
    },
    {
      "cell_type": "code",
      "source": [
        "a, b = 0, 1\n",
        "for i in range(5):\n",
        "  print(b, end = \", \")\n",
        "  a,b = b ,a+b"
      ],
      "metadata": {
        "colab": {
          "base_uri": "https://localhost:8080/"
        },
        "id": "YUteBH9uYQKN",
        "outputId": "13731554-9cb5-451a-e982-5e1e4b7d9a12"
      },
      "execution_count": null,
      "outputs": [
        {
          "output_type": "stream",
          "name": "stdout",
          "text": [
            "1, 1, 2, 3, 5, "
          ]
        }
      ]
    },
    {
      "cell_type": "markdown",
      "source": [
        "# Intermediate Level"
      ],
      "metadata": {
        "id": "19EHH1gKZHD1"
      }
    },
    {
      "cell_type": "markdown",
      "source": [
        "11. Write a program to check if a given list contains any duplicates using a `for` loop."
      ],
      "metadata": {
        "id": "77ypyqMMZRo9"
      }
    },
    {
      "cell_type": "code",
      "source": [
        "list_value = [1,2,3,4,5,6,7,7,8,9,10,1]\n",
        "print(\"my list :\", list_value)\n",
        "dup_val = []\n",
        "count = 0\n",
        "for indx, val in enumerate(list_value):\n",
        "  if val in list_value[indx+1:]:\n",
        "    dup_val.append(val)\n",
        "    count += 1\n",
        "print(\"these are the duplicate values in my list: \", dup_val)"
      ],
      "metadata": {
        "colab": {
          "base_uri": "https://localhost:8080/"
        },
        "id": "R3x7s_yvYq5k",
        "outputId": "eb4ece5f-d0a9-4c98-c1c6-345ec1842ba8"
      },
      "execution_count": null,
      "outputs": [
        {
          "output_type": "stream",
          "name": "stdout",
          "text": [
            "my list : [1, 2, 3, 4, 5, 6, 7, 7, 8, 9, 10, 1]\n",
            "these are the duplicate values in my list:  [1, 7]\n"
          ]
        }
      ]
    },
    {
      "cell_type": "markdown",
      "source": [
        "12. Create a program that prints the prime numbers in a given range using a `for` loop."
      ],
      "metadata": {
        "id": "NdbH4J06Bai5"
      }
    },
    {
      "cell_type": "code",
      "source": [
        "prime_check = int(input(\"Enter the number to check the primes in the given range: \"))\n",
        "for i in range(2, prime_check+1):\n",
        "  for j in range(2, i):\n",
        "    if i%j == 0:\n",
        "      break\n",
        "  else :\n",
        "    print(i, end = \", \")"
      ],
      "metadata": {
        "id": "AANkpD-MYtS8",
        "colab": {
          "base_uri": "https://localhost:8080/"
        },
        "outputId": "ec98779e-b94b-4496-c3a9-a05895145ed7"
      },
      "execution_count": null,
      "outputs": [
        {
          "output_type": "stream",
          "name": "stdout",
          "text": [
            "Enter the number to check the primes in the given range: 10\n",
            "2, 3, 5, 7, "
          ]
        }
      ]
    },
    {
      "cell_type": "markdown",
      "source": [
        "13. Develop a program that counts the number of vowels in a string using a `for` loop."
      ],
      "metadata": {
        "id": "qQ5nCOupF1hD"
      }
    },
    {
      "cell_type": "code",
      "source": [
        "str = \"krishna\"\n",
        "count_vow = 0\n",
        "for i in str:\n",
        "  if i in \"aeiouAEIOU\":\n",
        "    count_vow += 1\n",
        "print(\"The count of vowels in a string: \", count_vow)"
      ],
      "metadata": {
        "colab": {
          "base_uri": "https://localhost:8080/"
        },
        "id": "AoMVs3SqFjI5",
        "outputId": "1747569d-9775-426c-f0e2-fc4e520999a1"
      },
      "execution_count": null,
      "outputs": [
        {
          "output_type": "stream",
          "name": "stdout",
          "text": [
            "The count of vowels in a string:  2\n"
          ]
        }
      ]
    },
    {
      "cell_type": "markdown",
      "source": [
        "14. Write a program to find the maximum element in a 2D list using a nested `for` loop."
      ],
      "metadata": {
        "id": "lKMuK_0OI79H"
      }
    },
    {
      "cell_type": "code",
      "source": [
        "two_d_list = [\n",
        "    [1, 2, 3],\n",
        "    [4, 5, 6],\n",
        "    [7, 8, 9]\n",
        "]\n",
        "print(\"2D List:\", two_d_list)\n",
        "\n",
        "max_ele = []\n",
        "for indx, row in enumerate(two_d_list):\n",
        "  print(f\"Index {indx} : {row}\")\n",
        "  for ele in row:\n",
        "    max_ele.append(ele)\n",
        "max_ele = max(max_ele)\n",
        "\n",
        "print(f\"the maximum element in 2D list is '{max_ele}'\")\n"
      ],
      "metadata": {
        "colab": {
          "base_uri": "https://localhost:8080/"
        },
        "id": "Yqn5ZWuyHlsz",
        "outputId": "67889bb0-7d2a-4b21-a23d-f1ed274060a2"
      },
      "execution_count": null,
      "outputs": [
        {
          "output_type": "stream",
          "name": "stdout",
          "text": [
            "2D List: [[1, 2, 3], [4, 5, 6], [7, 8, 9]]\n",
            "Index 0 : [1, 2, 3]\n",
            "Index 1 : [4, 5, 6]\n",
            "Index 2 : [7, 8, 9]\n",
            "the maximum element in 2D list is '9'\n"
          ]
        }
      ]
    },
    {
      "cell_type": "markdown",
      "source": [
        "15. Create a program that removes all occurrences of a specific element from a list using a `for` loop."
      ],
      "metadata": {
        "id": "H0K9s9F-ePiz"
      }
    },
    {
      "cell_type": "code",
      "source": [
        "list_val = [1, 2, 3, 4, 5, 6, 7, 8, 9, 10, 2, 3, 5, 6, 4, 2, 9, 2]\n",
        "element_to_remove = int(input(\"Enter an element from 1 to 10 to remove from the list: \"))\n",
        "\n",
        "updated_list = []\n",
        "found = False\n",
        "\n",
        "for ele in list_val:\n",
        "    if ele != element_to_remove:\n",
        "        updated_list.append(ele)\n",
        "    else:\n",
        "        found = True\n",
        "\n",
        "if not found:\n",
        "    print(\"The entered value is not in the list.\")\n",
        "else:\n",
        "    print(\"Updated list:\", updated_list)\n"
      ],
      "metadata": {
        "colab": {
          "base_uri": "https://localhost:8080/"
        },
        "id": "RqFjL47xeOol",
        "outputId": "aca40f09-b9c8-47bb-f002-42624ccf25d3"
      },
      "execution_count": null,
      "outputs": [
        {
          "output_type": "stream",
          "name": "stdout",
          "text": [
            "Enter an element from 1 to 10 to remove from the list: 3\n",
            "Updated list: [1, 2, 4, 5, 6, 7, 8, 9, 10, 2, 5, 6, 4, 2, 9, 2]\n"
          ]
        }
      ]
    },
    {
      "cell_type": "markdown",
      "source": [
        "16. Develop a program that generates a multiplication table for numbers from 1 to 5 using a nested `for` loop."
      ],
      "metadata": {
        "id": "4-vafGaxnUUi"
      }
    },
    {
      "cell_type": "code",
      "source": [
        "start = 1\n",
        "end = 5\n",
        "for number in range(start, end+1):\n",
        "  print(\"Now printing table : \", number)\n",
        "  for ele in range(start, end+1):\n",
        "    print(f\"{number} * {ele} = {number*ele}\")\n",
        "  print()"
      ],
      "metadata": {
        "id": "vrqW3b98bL8F",
        "colab": {
          "base_uri": "https://localhost:8080/"
        },
        "outputId": "05e9b66a-73a5-441e-cf80-866aed2cbc96"
      },
      "execution_count": null,
      "outputs": [
        {
          "output_type": "stream",
          "name": "stdout",
          "text": [
            "Now printing table :  1\n",
            "1 * 1 = 1\n",
            "1 * 2 = 2\n",
            "1 * 3 = 3\n",
            "1 * 4 = 4\n",
            "1 * 5 = 5\n",
            "\n",
            "Now printing table :  2\n",
            "2 * 1 = 2\n",
            "2 * 2 = 4\n",
            "2 * 3 = 6\n",
            "2 * 4 = 8\n",
            "2 * 5 = 10\n",
            "\n",
            "Now printing table :  3\n",
            "3 * 1 = 3\n",
            "3 * 2 = 6\n",
            "3 * 3 = 9\n",
            "3 * 4 = 12\n",
            "3 * 5 = 15\n",
            "\n",
            "Now printing table :  4\n",
            "4 * 1 = 4\n",
            "4 * 2 = 8\n",
            "4 * 3 = 12\n",
            "4 * 4 = 16\n",
            "4 * 5 = 20\n",
            "\n",
            "Now printing table :  5\n",
            "5 * 1 = 5\n",
            "5 * 2 = 10\n",
            "5 * 3 = 15\n",
            "5 * 4 = 20\n",
            "5 * 5 = 25\n",
            "\n"
          ]
        }
      ]
    },
    {
      "cell_type": "markdown",
      "source": [
        "17. Write a program that converts a list of Fahrenheit temperatures to Celsius using a `for` loop."
      ],
      "metadata": {
        "id": "0JMZIhNNom_J"
      }
    },
    {
      "cell_type": "code",
      "source": [
        "fahrenheit_list = [12, 75, 23, 55, 26]\n",
        "for f in fahrenheit_list:\n",
        "  print(f\"{f} degrees Fahrenheit is equal to {(f - 32) / 1.8:.2f} degrees Celsius.\")"
      ],
      "metadata": {
        "id": "qU9IFq2FbL4q",
        "colab": {
          "base_uri": "https://localhost:8080/"
        },
        "outputId": "1f45110c-1827-4e0b-df6b-c4f171f08476"
      },
      "execution_count": null,
      "outputs": [
        {
          "output_type": "stream",
          "name": "stdout",
          "text": [
            "12 degrees Fahrenheit is equal to -11.11 degrees Celsius.\n",
            "75 degrees Fahrenheit is equal to 23.89 degrees Celsius.\n",
            "23 degrees Fahrenheit is equal to -5.00 degrees Celsius.\n",
            "55 degrees Fahrenheit is equal to 12.78 degrees Celsius.\n",
            "26 degrees Fahrenheit is equal to -3.33 degrees Celsius.\n"
          ]
        }
      ]
    },
    {
      "cell_type": "markdown",
      "source": [
        "18. Create a program to print the common elements from two lists using a `for` loop."
      ],
      "metadata": {
        "id": "6JGFWf99q2UN"
      }
    },
    {
      "cell_type": "code",
      "source": [
        "list1 = [1, 2, 3, 4, 5, 6, 7]\n",
        "list2 = [1, 2, 3, 4, 5, 1,]\n",
        "\n",
        "common_list = []\n",
        "if len(list1) > len(list2):\n",
        "  big_list = list1\n",
        "  small_list = list2\n",
        "else:\n",
        "  big_list, small_list = list2, list1\n",
        "\n",
        "for ele in small_list:\n",
        "  if ele in big_list:\n",
        "    common_list.append(ele)\n",
        "\n",
        "print(f\"The common elements from both list : {list(set((common_list)))}\")\n"
      ],
      "metadata": {
        "id": "b97azqWzbL0G",
        "colab": {
          "base_uri": "https://localhost:8080/"
        },
        "outputId": "bad9ac26-73e7-4d90-9fde-f9cc39317686"
      },
      "execution_count": null,
      "outputs": [
        {
          "output_type": "stream",
          "name": "stdout",
          "text": [
            "The common elements from both list : [1, 2, 3, 4, 5]\n"
          ]
        }
      ]
    },
    {
      "cell_type": "markdown",
      "source": [
        "19. Develop a program that prints the pattern of right-angled triangles using a `for` loop. Use ‘*’ to draw the\n",
        "pattern"
      ],
      "metadata": {
        "id": "cyjXYSI2zGJa"
      }
    },
    {
      "cell_type": "code",
      "source": [
        "# Take the number of rows as input from the user\n",
        "num_rows = int(input(\"Enter the number of rows for the right-angled triangle: \"))\n",
        "\n",
        "# Use a for loop to print each row of the triangle\n",
        "for i in range(1, num_rows + 1):\n",
        "    print('*' * i)\n"
      ],
      "metadata": {
        "id": "3U4kBvuybLrM",
        "colab": {
          "base_uri": "https://localhost:8080/"
        },
        "outputId": "f2700226-d329-4202-9e99-4861a55d96e9"
      },
      "execution_count": null,
      "outputs": [
        {
          "output_type": "stream",
          "name": "stdout",
          "text": [
            "Enter the number of rows for the right-angled triangle: 10\n",
            "*\n",
            "**\n",
            "***\n",
            "****\n",
            "*****\n",
            "******\n",
            "*******\n",
            "********\n",
            "*********\n",
            "**********\n"
          ]
        }
      ]
    },
    {
      "cell_type": "markdown",
      "source": [
        "20. Write a program to find the greatest common divisor (GCD) of two numbers using a `for` loop."
      ],
      "metadata": {
        "id": "ECXxG57C1Jzt"
      }
    },
    {
      "cell_type": "code",
      "source": [
        "# Take two numbers as input from the user\n",
        "num1 = int(input(\"Enter the first number: \"))\n",
        "num2 = int(input(\"Enter the second number: \"))\n",
        "\n",
        "smaller = min(num1, num2)\n",
        "gcd = 1\n",
        "\n",
        "# Iterate from 1 to the smaller number\n",
        "for i in range(1, smaller + 1):\n",
        "    if num1 % i == 0 and num2 % i == 0:\n",
        "        gcd = i\n",
        "# Print the GCD\n",
        "print(f\"The GCD of {num1} and {num2} is: {gcd}\")\n"
      ],
      "metadata": {
        "id": "DP7RCWg9bLeg",
        "colab": {
          "base_uri": "https://localhost:8080/"
        },
        "outputId": "5472cfc5-8417-44cc-db2f-05cb705a1baf"
      },
      "execution_count": null,
      "outputs": [
        {
          "output_type": "stream",
          "name": "stdout",
          "text": [
            "Enter the first number: 24\n",
            "Enter the second number: 30\n",
            "The GCD of 24 and 30 is: 6\n"
          ]
        }
      ]
    },
    {
      "cell_type": "markdown",
      "source": [
        "# Advanced Level"
      ],
      "metadata": {
        "id": "sxhmgWfD4ygR"
      }
    },
    {
      "cell_type": "markdown",
      "source": [
        "21. Create a program that calculates the sum of the digits of numbers in a list using a list comprehension."
      ],
      "metadata": {
        "id": "fufHfoc25DFA"
      }
    },
    {
      "cell_type": "code",
      "source": [
        "number_list = [123, 456, 789, 101]\n",
        "print(\"Before summing :\", number_list)\n",
        "sum_of_digits_list = [sum(int(digit) for digit in str(number)) for number in number_list]\n",
        "print(\"After Summation: \",sum_of_digits_list)"
      ],
      "metadata": {
        "colab": {
          "base_uri": "https://localhost:8080/"
        },
        "id": "M-8oP8hvDwRt",
        "outputId": "8c246a4a-d32d-41d4-982a-6dba824b43b2"
      },
      "execution_count": null,
      "outputs": [
        {
          "output_type": "stream",
          "name": "stdout",
          "text": [
            "Before summing : [123, 456, 789, 101]\n",
            "After Summation:  [6, 15, 24, 2]\n"
          ]
        }
      ]
    },
    {
      "cell_type": "markdown",
      "source": [
        "22. Write a program to find the prime factors of a given number using a `for` loop and list comprehension."
      ],
      "metadata": {
        "id": "2FLmBeR35gj6"
      }
    },
    {
      "cell_type": "code",
      "source": [
        "def prime_factors(n):\n",
        "    factors = []\n",
        "    while n % 2 == 0:\n",
        "        factors.append(2)\n",
        "        n //= 2\n",
        "    for i in range(3, int(n**0.5) + 1, 2):\n",
        "        while n % i == 0:\n",
        "            factors.append(i)\n",
        "            n //= i\n",
        "    return factors\n",
        "\n",
        "num = int(input(\"Enter a number to find its prime factors: \"))\n",
        "\n",
        "# Use list comprehension to get prime factors\n",
        "prime_factors = [factor for factor in prime_factors(num)]\n",
        "\n",
        "# Print prime factors\n",
        "print(f\"The prime factors of {num} are: {prime_factors}\")"
      ],
      "metadata": {
        "colab": {
          "base_uri": "https://localhost:8080/"
        },
        "id": "gk3PoN_M5hkX",
        "outputId": "d7d215fe-554a-4a9a-cd8d-76981789d8be"
      },
      "execution_count": null,
      "outputs": [
        {
          "output_type": "stream",
          "name": "stdout",
          "text": [
            "Enter a number to find its prime factors: 36\n",
            "The prime factors of 36 are: [[2, 2, 3, 3]]\n"
          ]
        }
      ]
    },
    {
      "cell_type": "markdown",
      "source": [
        "23. Develop a program that extracts unique elements from a list and stores them in a new list using a list\n",
        "comprehension."
      ],
      "metadata": {
        "id": "JNZeINEzSZ4k"
      }
    },
    {
      "cell_type": "code",
      "source": [
        "list = [1,2,3,4,2,3]\n",
        "print(\"The list : \",list)\n",
        "unique_list = [i for i in list if list.count(i) == 1]\n",
        "print(\"Unique elements from the list :\",unique_list)"
      ],
      "metadata": {
        "colab": {
          "base_uri": "https://localhost:8080/"
        },
        "id": "fNlsTUMdSVZ7",
        "outputId": "4b90b0ca-1327-40dc-91f5-b6c9208904c0"
      },
      "execution_count": null,
      "outputs": [
        {
          "output_type": "stream",
          "name": "stdout",
          "text": [
            "The list :  [1, 2, 3, 4, 2, 3]\n",
            "Unique elements from the list : [1, 4]\n"
          ]
        }
      ]
    },
    {
      "cell_type": "markdown",
      "source": [
        "24. Create a program that generates a list of all palindromic numbers up to a specified limit using a list\n",
        "comprehension."
      ],
      "metadata": {
        "id": "9x1T-6SiSVJ1"
      }
    },
    {
      "cell_type": "code",
      "source": [
        "list_container = list(range(11, 100))\n",
        "print(\"These are the palindrom number within given range: \", [i for i in list_container if str(i) == str(i)[::-1]])"
      ],
      "metadata": {
        "colab": {
          "base_uri": "https://localhost:8080/"
        },
        "id": "rlv4qWc8Ti-T",
        "outputId": "b80ab6f8-3289-4e47-a289-2f1440cfa030"
      },
      "execution_count": null,
      "outputs": [
        {
          "output_type": "stream",
          "name": "stdout",
          "text": [
            "these are the palindrom number within given range:  [11, 22, 33, 44, 55, 66, 77, 88, 99]\n"
          ]
        }
      ]
    },
    {
      "cell_type": "markdown",
      "source": [
        "25. Write a program to flatten a nested list using list comprehension."
      ],
      "metadata": {
        "id": "wDAIwtuvssjC"
      }
    },
    {
      "cell_type": "code",
      "source": [
        "def flat(l):\n",
        "  flat_list = []\n",
        "  for i in l:\n",
        "    if isinstance(i, list):\n",
        "      flat_list.extend(flat(i))\n",
        "    else :\n",
        "      flat_list.append(i)\n",
        "  return flat_list\n",
        "\n",
        "n = [1, 2, [3, 4], [5,[6, 7]]]\n",
        "print(flat(n))"
      ],
      "metadata": {
        "colab": {
          "base_uri": "https://localhost:8080/"
        },
        "id": "9qRRJF_qr3Fo",
        "outputId": "e3d1dfaf-9149-4e19-e1c3-9d692e48c1d1"
      },
      "execution_count": null,
      "outputs": [
        {
          "output_type": "stream",
          "name": "stdout",
          "text": [
            "[1, 2, 3, 4, 5, 6, 7]\n"
          ]
        }
      ]
    },
    {
      "cell_type": "code",
      "source": [
        "def flatten(nested):\n",
        "    return [item for sublist in nested for item in (flatten(sublist) if isinstance(sublist, list) else [sublist])]\n",
        "\n",
        "flattened_list = flatten(nested_list)\n",
        "\n",
        "print(flattened_list)\n"
      ],
      "metadata": {
        "colab": {
          "base_uri": "https://localhost:8080/"
        },
        "id": "PBx1Mcfkr-ZR",
        "outputId": "d35326fb-115c-4b81-9e29-0079631ce553"
      },
      "execution_count": null,
      "outputs": [
        {
          "output_type": "stream",
          "name": "stdout",
          "text": [
            "[1, 2, 3, 4, 5, 6, 7]\n"
          ]
        }
      ]
    },
    {
      "cell_type": "markdown",
      "source": [
        "26. Develop a program that computes the sum of even and odd numbers in a list separately using list\n",
        "comprehension."
      ],
      "metadata": {
        "id": "9WaGuhXc3Tdo"
      }
    },
    {
      "cell_type": "code",
      "source": [
        "numbers = [1, 2, 3, 4, 5, 6, 7, 8, 9, 10]\n",
        "\n",
        "sum_even = sum([num for num in numbers if num % 2 == 0])\n",
        "sum_odd = sum(num for num in numbers if num % 2 != 0)\n",
        "\n",
        "# Print the results\n",
        "print(\"Sum of even numbers:\", sum_even)\n",
        "print(\"Sum of odd numbers:\", sum_odd)\n"
      ],
      "metadata": {
        "colab": {
          "base_uri": "https://localhost:8080/"
        },
        "id": "8H5CgibksLlf",
        "outputId": "1fbcf842-4b05-46fd-8f94-21c1fb9f7c41"
      },
      "execution_count": null,
      "outputs": [
        {
          "output_type": "stream",
          "name": "stdout",
          "text": [
            "Sum of even numbers: 30\n",
            "Sum of odd numbers: 25\n"
          ]
        }
      ]
    },
    {
      "cell_type": "markdown",
      "source": [
        "27. Create a program that generates a list of squares of odd numbers between 1 and 10 using list\n",
        "comprehension."
      ],
      "metadata": {
        "id": "9uWFsQct3t-3"
      }
    },
    {
      "cell_type": "code",
      "source": [
        "squares_of_odds = [num**2 for num in range(1, 11) if num % 2 != 0]\n",
        "print(\"Squares of odd numbers between 1 and 10:\", squares_of_odds)\n"
      ],
      "metadata": {
        "colab": {
          "base_uri": "https://localhost:8080/"
        },
        "id": "U2JxzZnpsLiF",
        "outputId": "90069e1c-7a64-47aa-a85c-4b15a64bc0f6"
      },
      "execution_count": null,
      "outputs": [
        {
          "output_type": "stream",
          "name": "stdout",
          "text": [
            "Squares of odd numbers between 1 and 10: [1, 9, 25, 49, 81]\n"
          ]
        }
      ]
    },
    {
      "cell_type": "markdown",
      "source": [
        "28. Write a program that combines two lists into a dictionary using list comprehension."
      ],
      "metadata": {
        "id": "km2-0T7u38rM"
      }
    },
    {
      "cell_type": "code",
      "source": [
        "keys = ['a', 'b', 'c']\n",
        "values = [1, 2, 3]\n",
        "\n",
        "print(\"After combining both lists\", {i:j for i,j in zip(keys, values)})\n"
      ],
      "metadata": {
        "colab": {
          "base_uri": "https://localhost:8080/"
        },
        "id": "iXrc3s4SsLfd",
        "outputId": "158ce51b-bfe1-42cf-a31c-aafe50a99d64"
      },
      "execution_count": null,
      "outputs": [
        {
          "output_type": "stream",
          "name": "stdout",
          "text": [
            "After combining both lists {'a': 1, 'b': 2, 'c': 3}\n"
          ]
        }
      ]
    },
    {
      "cell_type": "markdown",
      "source": [
        "29. Develop a program that extracts the vowels from a string and stores them in a list using list comprehension."
      ],
      "metadata": {
        "id": "STzgmLxqCMSt"
      }
    },
    {
      "cell_type": "code",
      "source": [
        "sample_string = \"Krishsna is good boy\"\n",
        "print(\"this is sample string: \", sample_string)\n",
        "vowel_list = [char for char in sample_string if char in \"AEIOUaeiou\"]\n",
        "print(\"these are the vowels present in the strig: \", vowel_list)"
      ],
      "metadata": {
        "colab": {
          "base_uri": "https://localhost:8080/"
        },
        "id": "Bw0jTNUnsLXS",
        "outputId": "cf930dab-60b1-4597-feaf-40fac8a64838"
      },
      "execution_count": null,
      "outputs": [
        {
          "output_type": "stream",
          "name": "stdout",
          "text": [
            "this is sample string:  Krishsna is good boy\n",
            "these are the vowels present in the strig:  ['i', 'a', 'i', 'o', 'o', 'o']\n"
          ]
        }
      ]
    },
    {
      "cell_type": "markdown",
      "source": [
        "30. Create a program that removes all non-numeric characters from a list of strings using list comprehension."
      ],
      "metadata": {
        "id": "n4Nxe998C3gr"
      }
    },
    {
      "cell_type": "code",
      "source": [
        "string_list = [\"abc123\", \"def456\", \"789ghi\", \"jkl012\"]\n",
        "result = [''.join(char for char in word if char.isdigit()) for word in string_list]\n",
        "print(result)"
      ],
      "metadata": {
        "colab": {
          "base_uri": "https://localhost:8080/"
        },
        "id": "ygJxsehNSEPL",
        "outputId": "9fc296b9-aba0-4b8b-d580-5de35e90fb2e"
      },
      "execution_count": null,
      "outputs": [
        {
          "output_type": "stream",
          "name": "stdout",
          "text": [
            "['123', '456', '789', '012']\n"
          ]
        }
      ]
    },
    {
      "cell_type": "markdown",
      "source": [
        "# Challenge Level"
      ],
      "metadata": {
        "id": "RdDWSOqVk4_X"
      }
    },
    {
      "cell_type": "markdown",
      "source": [
        "31. Write a program to generate a list of prime numbers using the Sieve of Eratosthenes algorithm and list\n",
        "comprehension."
      ],
      "metadata": {
        "id": "72lhzJsklBky"
      }
    },
    {
      "cell_type": "code",
      "source": [
        "def sieve_of_eratosthenes_prime_alg(n):\n",
        "    prime = [True] * (n + 1)\n",
        "    p = 2\n",
        "\n",
        "    while p * p <= n:\n",
        "        if prime[p]:\n",
        "            for i in range(p * p, n + 1, p):\n",
        "                prime[i] = False\n",
        "        p += 1\n",
        "\n",
        "    # Use list comprehension to extract prime numbers\n",
        "    prime_numbers = [p for p in range(2, n + 1) if prime[p]]\n",
        "    return prime_numbers\n",
        "\n",
        "n = 30\n",
        "print(f\"Prime numbers up to {n}: {sieve_of_eratosthenes_prime_alg(n)}\")\n"
      ],
      "metadata": {
        "colab": {
          "base_uri": "https://localhost:8080/"
        },
        "id": "dlmGbdW4j7jB",
        "outputId": "1098533c-de8d-4271-de64-f346aa7e6bcf"
      },
      "execution_count": 1,
      "outputs": [
        {
          "output_type": "stream",
          "name": "stdout",
          "text": [
            "Prime numbers up to 30: [2, 3, 5, 7, 11, 13, 17, 19, 23, 29]\n"
          ]
        }
      ]
    },
    {
      "cell_type": "markdown",
      "source": [
        "32. Create a program that generates a list of all Pythagorean triplets up to a specified limit using list\n",
        "comprehension."
      ],
      "metadata": {
        "id": "opbxtjDJRjsX"
      }
    },
    {
      "cell_type": "code",
      "source": [
        "def pythagorean_triplets(limit):\n",
        "    triplets = [(a, b, c) for a in range(1, limit + 1)\n",
        "                for b in range(a, limit + 1)\n",
        "                for c in range(b, limit + 1)\n",
        "                if a**2 + b**2 == c**2]\n",
        "    return triplets\n",
        "\n",
        "limit = 30\n",
        "print(f\"Pythagorean triplets up to {limit}: {pythagorean_triplets(limit)}\")\n"
      ],
      "metadata": {
        "colab": {
          "base_uri": "https://localhost:8080/"
        },
        "id": "1BchhR1wRkFi",
        "outputId": "6283e626-cc0d-487e-f109-81cb4c899c60"
      },
      "execution_count": 2,
      "outputs": [
        {
          "output_type": "stream",
          "name": "stdout",
          "text": [
            "Pythagorean triplets up to 30: [(3, 4, 5), (5, 12, 13), (6, 8, 10), (7, 24, 25), (8, 15, 17), (9, 12, 15), (10, 24, 26), (12, 16, 20), (15, 20, 25), (18, 24, 30), (20, 21, 29)]\n"
          ]
        }
      ]
    },
    {
      "cell_type": "markdown",
      "source": [
        "33. Develop a program that generates a list of all possible combinations of two lists using list comprehension."
      ],
      "metadata": {
        "id": "bUCu0ArSWPVR"
      }
    },
    {
      "cell_type": "code",
      "source": [
        "list1 = [1, 2, 3]\n",
        "list2 = ['a', 'b', 'c']\n",
        "\n",
        "combinations = [(x, y) for x in list1 for y in list2]\n",
        "\n",
        "print(\"All possible combinations of two lists:\")\n",
        "print(combinations)\n"
      ],
      "metadata": {
        "colab": {
          "base_uri": "https://localhost:8080/"
        },
        "id": "-O9zCFAXSUXi",
        "outputId": "60216b97-2eab-49bf-d7ef-b54e7cbb5d28"
      },
      "execution_count": 3,
      "outputs": [
        {
          "output_type": "stream",
          "name": "stdout",
          "text": [
            "All possible combinations of two lists:\n",
            "[(1, 'a'), (1, 'b'), (1, 'c'), (2, 'a'), (2, 'b'), (2, 'c'), (3, 'a'), (3, 'b'), (3, 'c')]\n"
          ]
        }
      ]
    },
    {
      "cell_type": "markdown",
      "source": [
        "34. Write a program that calculates the mean, median, and mode of a list of numbers using list\n",
        "comprehension."
      ],
      "metadata": {
        "id": "USBtn3cSXdiI"
      }
    },
    {
      "cell_type": "code",
      "source": [
        "from collections import Counter\n",
        "\n",
        "# Function to calculate the mean\n",
        "def calculate_mean(numbers):\n",
        "    return sum(numbers) / len(numbers) if numbers else 0\n",
        "\n",
        "# Function to calculate the median\n",
        "def calculate_median(numbers):\n",
        "    sorted_numbers = sorted(numbers)\n",
        "    n = len(sorted_numbers)\n",
        "    mid = n // 2\n",
        "    return (sorted_numbers[mid - 1] + sorted_numbers[mid]) / 2 if n % 2 == 0 else sorted_numbers[mid]\n",
        "\n",
        "# Function to calculate the mode\n",
        "def calculate_mode(numbers):\n",
        "    if not numbers:\n",
        "        return None\n",
        "    count = Counter(numbers)\n",
        "    max_count = max(count.values())\n",
        "    modes = [num for num, freq in count.items() if freq == max_count]\n",
        "    return modes[0] if len(modes) == 1 else modes  # If multiple modes, return the first one\n",
        "\n",
        "# Example list of numbers\n",
        "numbers = [1, 2, 3, 4, 4, 5, 5, 5, 6]\n",
        "\n",
        "# Calculating mean, median, and mode\n",
        "mean = calculate_mean(numbers)\n",
        "median = calculate_median(numbers)\n",
        "mode = calculate_mode(numbers)\n",
        "\n",
        "# Printing the results\n",
        "print(f\"Mean: {mean}\")\n",
        "print(f\"Median: {median}\")\n",
        "print(f\"Mode: {mode}\")\n"
      ],
      "metadata": {
        "colab": {
          "base_uri": "https://localhost:8080/"
        },
        "id": "yIKqPPAlWbUD",
        "outputId": "9af616dc-ec1e-48c9-b695-7aca158c2cc4"
      },
      "execution_count": 4,
      "outputs": [
        {
          "output_type": "stream",
          "name": "stdout",
          "text": [
            "Mean: 3.888888888888889\n",
            "Median: 4\n",
            "Mode: 5\n"
          ]
        }
      ]
    },
    {
      "cell_type": "markdown",
      "source": [
        "35. Create a program that generates Pascal's triangle up to a specified number of rows using list\n",
        "comprehension."
      ],
      "metadata": {
        "id": "pPL3kCcygzZM"
      }
    },
    {
      "cell_type": "code",
      "source": [
        "def generate_pascals_triangle(rows):\n",
        "    # Initialize the triangle with the first row\n",
        "    triangle = [[1]]\n",
        "\n",
        "    for i in range(1, rows):\n",
        "        # Create the next row using list comprehension\n",
        "        row = [1 if j == 0 or j == i else triangle[i-1][j-1] + triangle[i-1][j] for j in range(i + 1)]\n",
        "        # Append the row to the triangle\n",
        "        triangle.append(row)\n",
        "\n",
        "    return triangle\n",
        "\n",
        "# Specify the number of rows\n",
        "num_rows = 5\n",
        "\n",
        "# Generate Pascal's triangle\n",
        "pascals_triangle = generate_pascals_triangle(num_rows)\n",
        "\n",
        "# Print Pascal's triangle\n",
        "for row in pascals_triangle:\n",
        "    print(row)\n"
      ],
      "metadata": {
        "colab": {
          "base_uri": "https://localhost:8080/"
        },
        "id": "m7t24c5yYYl8",
        "outputId": "f72ecb78-2d55-4632-f90d-23f5f78f07b3"
      },
      "execution_count": 5,
      "outputs": [
        {
          "output_type": "stream",
          "name": "stdout",
          "text": [
            "[1]\n",
            "[1, 1]\n",
            "[1, 2, 1]\n",
            "[1, 3, 3, 1]\n",
            "[1, 4, 6, 4, 1]\n"
          ]
        }
      ]
    },
    {
      "cell_type": "markdown",
      "source": [
        "36. Develop a program that calculates the sum of the digits of a factorial of numbers from 1 to 5 using list\n",
        "comprehension."
      ],
      "metadata": {
        "id": "uU3crodQhBJt"
      }
    },
    {
      "cell_type": "code",
      "source": [
        "def factorial_digit_sum(n):\n",
        "  \"\"\"Calculates the sum of digits in the factorial of a number n.\"\"\"\n",
        "  factorial = 1\n",
        "  for i in range(2, n + 1):\n",
        "    factorial *= i\n",
        "  # Convert factorial to string and iterate over digits, summing them\n",
        "  return sum(int(digit) for digit in str(factorial))\n",
        "\n",
        "# Calculate and print sum of digits for factorials of 1 to 5\n",
        "for i in range(1, 6):\n",
        "  result = factorial_digit_sum(i)\n",
        "  print(f\"Sum of digits in factorial of {i}: {result}\")\n"
      ],
      "metadata": {
        "colab": {
          "base_uri": "https://localhost:8080/"
        },
        "id": "KQPgA0tog3eu",
        "outputId": "30446430-fdf5-45fb-a49c-5c638f9e5f62"
      },
      "execution_count": 8,
      "outputs": [
        {
          "output_type": "stream",
          "name": "stdout",
          "text": [
            "Sum of digits in factorial of 1: 1\n",
            "Sum of digits in factorial of 2: 2\n",
            "Sum of digits in factorial of 3: 6\n",
            "Sum of digits in factorial of 4: 6\n",
            "Sum of digits in factorial of 5: 3\n"
          ]
        }
      ]
    },
    {
      "cell_type": "markdown",
      "source": [
        "37. Write a program that finds the longest word in a sentence using list comprehension."
      ],
      "metadata": {
        "id": "SAb3plgxh5jJ"
      }
    },
    {
      "cell_type": "code",
      "source": [
        "sentence = \"This is a sample sentence to find the longest word\"\n",
        "words = sentence.split()\n",
        "\n",
        "# Using list comprehension to find the longest word\n",
        "longest_word = max(words, key=lambda word: len(word))\n",
        "\n",
        "print(f\"The longest word in the sentence is: {longest_word}\")\n"
      ],
      "metadata": {
        "colab": {
          "base_uri": "https://localhost:8080/"
        },
        "id": "OdajrRsChZoV",
        "outputId": "2c246203-68ce-4474-f09e-c1903381f59a"
      },
      "execution_count": 9,
      "outputs": [
        {
          "output_type": "stream",
          "name": "stdout",
          "text": [
            "The longest word in the sentence is: sentence\n"
          ]
        }
      ]
    },
    {
      "cell_type": "markdown",
      "source": [
        "38. Create a program that filters a list of strings to include only those with more than three vowels using list\n",
        "comprehension."
      ],
      "metadata": {
        "id": "jq-mXKQth8yh"
      }
    },
    {
      "cell_type": "code",
      "source": [
        "sentence = \"This is a sample sentence to find the longest word\"\n",
        "words = sentence.split()\n",
        "\n",
        "# Using list comprehension to find the longest word\n",
        "longest_word = max(words, key=lambda word: len(word))\n",
        "\n",
        "print(f\"The longest word in the sentence is: {longest_word}\")\n"
      ],
      "metadata": {
        "colab": {
          "base_uri": "https://localhost:8080/"
        },
        "id": "BjkupTH7hxpc",
        "outputId": "9a85627c-a7fb-4871-899a-d64540a3e2c5"
      },
      "execution_count": 10,
      "outputs": [
        {
          "output_type": "stream",
          "name": "stdout",
          "text": [
            "The longest word in the sentence is: sentence\n"
          ]
        }
      ]
    },
    {
      "cell_type": "markdown",
      "source": [
        "39. Develop a program that calculates the sum of the digits of numbers from 1 to 1000 using list\n",
        "comprehension."
      ],
      "metadata": {
        "id": "uyINTtH3iJTk"
      }
    },
    {
      "cell_type": "code",
      "source": [
        "# Function to calculate the sum of digits of a number\n",
        "def sum_of_digits(num):\n",
        "    return sum(int(digit) for digit in str(num))\n",
        "\n",
        "# List comprehension to calculate sum of digits for numbers from 1 to 1000\n",
        "sum_of_digits_list = [sum_of_digits(num) for num in range(1, 1001)]\n",
        "\n",
        "# Summing up all the calculated sums\n",
        "total_sum = sum(sum_of_digits_list)\n",
        "\n",
        "# Print the total sum\n",
        "print(\"Total sum of digits from numbers 1 to 1000:\", total_sum)\n"
      ],
      "metadata": {
        "colab": {
          "base_uri": "https://localhost:8080/"
        },
        "id": "WSk3-LnOiI-k",
        "outputId": "a6291de3-defe-41e4-b240-cfb04da6ec0f"
      },
      "execution_count": 12,
      "outputs": [
        {
          "output_type": "stream",
          "name": "stdout",
          "text": [
            "Total sum of digits from numbers 1 to 1000: 13501\n"
          ]
        }
      ]
    },
    {
      "cell_type": "markdown",
      "source": [
        "40. Write a program that generates a list of prime palindromic numbers using list comprehension."
      ],
      "metadata": {
        "id": "LQqf5K5-iLqH"
      }
    },
    {
      "cell_type": "code",
      "source": [
        "# Function to check if a number is prime\n",
        "def is_prime(num):\n",
        "    if num <= 1:\n",
        "        return False\n",
        "    if num == 2:\n",
        "        return True\n",
        "    if num % 2 == 0:\n",
        "        return False\n",
        "    for i in range(3, int(num**0.5) + 1, 2):\n",
        "        if num % i == 0:\n",
        "            return False\n",
        "    return True\n",
        "\n",
        "# Function to check if a number is palindromic\n",
        "def is_palindromic(num):\n",
        "    return str(num) == str(num)[::-1]\n",
        "\n",
        "# Generate prime palindromic numbers using list comprehension\n",
        "prime_palindromes = [num for num in range(2, 1000) if is_prime(num) and is_palindromic(num)]\n",
        "\n",
        "# Print the list of prime palindromic numbers\n",
        "print(\"Prime palindromic numbers up to 1000:\", prime_palindromes)\n"
      ],
      "metadata": {
        "colab": {
          "base_uri": "https://localhost:8080/"
        },
        "id": "NgUb4YqCha_r",
        "outputId": "83f1d1be-9c8f-4173-84f0-4b61ad104ff0"
      },
      "execution_count": 11,
      "outputs": [
        {
          "output_type": "stream",
          "name": "stdout",
          "text": [
            "Prime palindromic numbers up to 1000: [2, 3, 5, 7, 11, 101, 131, 151, 181, 191, 313, 353, 373, 383, 727, 757, 787, 797, 919, 929]\n"
          ]
        }
      ]
    },
    {
      "cell_type": "code",
      "source": [],
      "metadata": {
        "id": "nx0SxAP6iTaQ"
      },
      "execution_count": null,
      "outputs": []
    }
  ]
}
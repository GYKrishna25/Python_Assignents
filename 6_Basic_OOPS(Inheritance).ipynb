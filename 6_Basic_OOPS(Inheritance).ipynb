{
  "nbformat": 4,
  "nbformat_minor": 0,
  "metadata": {
    "colab": {
      "provenance": []
    },
    "kernelspec": {
      "name": "python3",
      "display_name": "Python 3"
    },
    "language_info": {
      "name": "python"
    }
  },
  "cells": [
    {
      "cell_type": "markdown",
      "source": [
        "# OOPS with Basic Attributes & Procedures along with Inheritance"
      ],
      "metadata": {
        "id": "jIgZ8CdOh0zU"
      }
    },
    {
      "cell_type": "markdown",
      "source": [
        "### Problem 1: Bank Account Create a class representing a bank account with attributes like account number, account holder name, and balance. Implement methods to deposit and withdraw money from the account."
      ],
      "metadata": {
        "id": "874WXZZ2aaBA"
      }
    },
    {
      "cell_type": "code",
      "source": [
        "class Bank:\n",
        "  def __init__(self, account_number, account_holder_name, balance = 0):\n",
        "    self.account_number = account_number\n",
        "    self.account_holder_name = account_holder_name\n",
        "    self.balance = balance\n",
        "\n",
        "  def deposit(self, add_money):\n",
        "    \"\"\"\n",
        "        Deposit money into the bank account.\n",
        "\n",
        "        This method increases the account balance by the amount specified.\n",
        "\n",
        "        Parameters:\n",
        "        add_money (float): The amount of money to deposit.\n",
        "\n",
        "        Returns:\n",
        "        None\n",
        "      \"\"\"\n",
        "    current_amount = self.balance\n",
        "    self.balance += add_money\n",
        "    print(f'The existing balanace is {current_amount}')\n",
        "    print(f'After depositing {add_money}, the current balance is {self.balance}')\n",
        "\n",
        "  def withdraw(self, remove_money):\n",
        "    if remove_money > self.balance:\n",
        "      print(\"You don't have sufficient balance for withdrawal\")\n",
        "    else :\n",
        "      current_amount = self.balance\n",
        "      self.balance -= remove_money\n",
        "      print(f'The existing balanace is {current_amount}')\n",
        "      print(f'After depositing {remove_money}, the current balance is {self.balance}')\n",
        "\n",
        "# creating an instance of a bank Class\n",
        "sbi = Bank(12,\"krishna\", 10000)\n",
        "print(\"Current balance: \",sbi.balance)\n",
        "\n",
        "sbi.deposit(20000)\n",
        "print(\"Current balance: \",sbi.balance)\n",
        "\n",
        "sbi.withdraw(10000)\n",
        "print(\"Current balance: \",sbi.balance)"
      ],
      "metadata": {
        "colab": {
          "base_uri": "https://localhost:8080/"
        },
        "id": "hHuwVl1tZE4t",
        "outputId": "e7eb6c0e-d4e7-40ab-d139-e2ec605c0721"
      },
      "execution_count": null,
      "outputs": [
        {
          "output_type": "stream",
          "name": "stdout",
          "text": [
            "Current balance:  10000\n",
            "The existing balanace is 10000\n",
            "After depositing 20000, the current balance is 30000\n",
            "Current balance:  30000\n",
            "The existing balanace is 30000\n",
            "After depositing 10000, the current balance is 20000\n",
            "Current balance:  20000\n"
          ]
        }
      ]
    },
    {
      "cell_type": "markdown",
      "source": [
        "### Problem 2: Employee Management Create a class representing an employee with attributes like employee ID, name, and salary. Implement methods to calculate the yearly bonus and display employee details."
      ],
      "metadata": {
        "id": "fv0GO7Rre0Gb"
      }
    },
    {
      "cell_type": "code",
      "source": [
        "class Employee:\n",
        "    def __init__(self, employee_id, name, salary):\n",
        "        self.employee_id = employee_id\n",
        "        self.name = name\n",
        "        self.salary = salary\n",
        "\n",
        "    def calculate_yearly_bonus(self, bonus_percentage):\n",
        "        \"\"\"Calculate the yearly bonus based on a percentage of the salary.\"\"\"\n",
        "        bonus = self.salary * (bonus_percentage / 100)\n",
        "        return bonus\n",
        "\n",
        "    def display_employee_details(self):\n",
        "        \"\"\"Display the employee's details.\"\"\"\n",
        "        print(f\"Employee ID: {self.employee_id}\")\n",
        "        print(f\"Name: {self.name}\")\n",
        "        print(f\"Salary: ${self.salary:,.2f}\")\n",
        "\n",
        "# Example usage:\n",
        "# Creating an instance of the Employee class\n",
        "employee1 = Employee(employee_id=\"0055\", name=\"Krishna V\", salary=60000)\n",
        "\n",
        "# Displaying employee details\n",
        "employee1.display_employee_details()\n",
        "\n",
        "# Calculating and displaying the yearly bonus\n",
        "employee1.calculate_yearly_bonus(bonus_percentage=10)\n",
        "\n",
        "bonus = employee1.calculate_yearly_bonus(bonus_percentage=10)\n",
        "print(f\"Yearly Bonus: ${bonus:,.2f}\")"
      ],
      "metadata": {
        "colab": {
          "base_uri": "https://localhost:8080/"
        },
        "id": "pjhHMgPRewYs",
        "outputId": "b8038b01-3832-4fb7-a4fa-03fba6d7b91c"
      },
      "execution_count": null,
      "outputs": [
        {
          "output_type": "stream",
          "name": "stdout",
          "text": [
            "Employee ID: 0055\n",
            "Name: Krishna V\n",
            "Salary: $60,000.00\n",
            "Yearly Bonus: $6,000.00\n"
          ]
        }
      ]
    },
    {
      "cell_type": "markdown",
      "source": [
        "### Problem 3: Vehicle Rental Create a class representing a vehicle rental system. Implement methods to rent a vehicle, return a vehicle, and display available vehicles."
      ],
      "metadata": {
        "id": "gnwxSpd_jBVA"
      }
    },
    {
      "cell_type": "code",
      "source": [
        "class Vehicle_Rental:\n",
        "  available_vehicles = {\n",
        "      'bike' : 5,\n",
        "      'car' : 10\n",
        "  }\n",
        "\n",
        "  def display_available_vehicles(self):\n",
        "    print(\"Available Vehicles\")\n",
        "    for vehicle, quantity in self.available_vehicles.items():\n",
        "      print(vehicle.capitalize(), \":\", quantity)\n",
        "    print()\n",
        "\n",
        "  def rent_vehicle(self, vehicle_type, quantity):\n",
        "    if vehicle_type.lower() in self.available_vehicles:\n",
        "      if quantity <= self.available_vehicles[vehicle_type.lower()]:\n",
        "        self.available_vehicles[vehicle_type.lower()] -= quantity\n",
        "        print(f\"{quantity} {vehicle_type.capitalize()}(s) rented successfully!\")\n",
        "      else :\n",
        "        print(f\"Sorry, only {self.available_vehicles[vehicle_type.lower()]} {vehicle_type.capitalize()}(s) available.\")\n",
        "    else:\n",
        "        print(\"Sorry, we don't have that type of vehicle.\")\n",
        "    print()\n",
        "\n",
        "  def return_vehicle(self, vehicle_type, quantity):\n",
        "    if vehicle_type.lower() in self.available_vehicles:\n",
        "      self.available_vehicles[vehicle_type.lower()] += quantity\n",
        "      print(f\"{quantity} {vehicle_type.capitalize()}(s) returned successfully!\")\n",
        "    print()\n",
        "\n",
        "\n",
        "rental_system = Vehicle_Rental()\n",
        "rental_system.display_available_vehicles()\n",
        "rental_system.rent_vehicle('Car',10)\n",
        "rental_system.display_available_vehicles()\n",
        "rental_system.return_vehicle('car', 2)\n",
        "rental_system.display_available_vehicles()"
      ],
      "metadata": {
        "id": "CQWn67dNhYp4",
        "colab": {
          "base_uri": "https://localhost:8080/"
        },
        "outputId": "d9b533a3-a7a9-4bf2-c12c-7abaee565d1b"
      },
      "execution_count": null,
      "outputs": [
        {
          "output_type": "stream",
          "name": "stdout",
          "text": [
            "Available Vehicles\n",
            "Bike : 5\n",
            "Car : 10\n",
            "\n",
            "10 Car(s) rented successfully!\n",
            "\n",
            "Available Vehicles\n",
            "Bike : 5\n",
            "Car : 0\n",
            "\n",
            "2 Car(s) returned successfully!\n",
            "\n",
            "Available Vehicles\n",
            "Bike : 5\n",
            "Car : 2\n",
            "\n"
          ]
        }
      ]
    },
    {
      "cell_type": "code",
      "source": [
        "rental_system1 = Vehicle_Rental()\n",
        "rental_system1.display_available_vehicles()"
      ],
      "metadata": {
        "colab": {
          "base_uri": "https://localhost:8080/"
        },
        "id": "kWSOWftWBM0h",
        "outputId": "b48b30ad-06b8-429d-b1e4-6c25db3ae71d"
      },
      "execution_count": null,
      "outputs": [
        {
          "output_type": "stream",
          "name": "stdout",
          "text": [
            "Available Vehicles\n",
            "Bike : 5\n",
            "Car : 2\n",
            "\n"
          ]
        }
      ]
    },
    {
      "cell_type": "markdown",
      "source": [
        "### Problem 4: Library Catalog Create classes representing a library and a book. Implement methods to add books to the library, borrow books, and display available books."
      ],
      "metadata": {
        "id": "7UuxtMDEMRV4"
      }
    },
    {
      "cell_type": "code",
      "source": [
        "class Book:\n",
        "    def __init__(self, title, author):\n",
        "        self.title = title\n",
        "        self.author = author\n",
        "        self.is_borrowed = False\n",
        "\n",
        "    def __str__(self):\n",
        "        return f'{self.title} by {self.author}'\n",
        "\n",
        "\n",
        "class Library:\n",
        "    def __init__(self):\n",
        "        self.books = []\n",
        "\n",
        "    def add_books(self, book):\n",
        "        self.books.append(book)\n",
        "        print(f'Added: {book}')\n",
        "\n",
        "    def display_available_books(self):\n",
        "        available_books = [book for book in self.books if not book.is_borrowed]\n",
        "        if available_books:\n",
        "            print(\"Available books: \")\n",
        "            for book in available_books:\n",
        "                print(book)\n",
        "        else:\n",
        "            print(\"No books available\")\n",
        "\n",
        "    def borrow_books(self, title):\n",
        "        for book in self.books:\n",
        "            if book.title == title and not book.is_borrowed:\n",
        "                book.is_borrowed = True\n",
        "                print(f'You have borrowed: {book}')\n",
        "                break\n",
        "        else:\n",
        "            print(f\"Sorry, '{title}' is not available.\")\n",
        "\n",
        "    def return_book(self, title):\n",
        "        for book in self.books:\n",
        "            if book.title == title and book.is_borrowed:\n",
        "                book.is_borrowed = False\n",
        "                print((f\"You have returned: {book}\"))\n",
        "                break\n",
        "        else:\n",
        "            print(f\"Error: '{title}' was not borrowed or doesn't exist in the library.\")\n",
        "\n",
        "\n",
        "# Example usage\n",
        "library = Library()\n",
        "\n",
        "# Adding books to the library\n",
        "library.add_books(Book(\"The Great Gatsby\", \"F. Scott Fitzgerald\"))\n",
        "library.add_books(Book(\"To Kill a Mockingbird\", \"Harper Lee\"))\n",
        "library.add_books(Book(\"1984\", \"George Orwell\"))\n",
        "\n",
        "library.display_available_books()\n",
        "\n",
        "# Borrowing a book\n",
        "library.borrow_books(\"1984\")\n",
        "\n",
        "# Displaying available books after borrowing\n",
        "library.display_available_books()\n",
        "\n",
        "# Returning a book\n",
        "library.return_book(\"1984\")\n",
        "\n",
        "# # Displaying available books after returning\n",
        "library.display_available_books()"
      ],
      "metadata": {
        "id": "wM_lmS2nAmOp",
        "colab": {
          "base_uri": "https://localhost:8080/"
        },
        "outputId": "55c2ff3d-1d3a-4587-ca74-8decd5281b5a"
      },
      "execution_count": null,
      "outputs": [
        {
          "output_type": "stream",
          "name": "stdout",
          "text": [
            "Added: The Great Gatsby by F. Scott Fitzgerald\n",
            "Added: To Kill a Mockingbird by Harper Lee\n",
            "Added: 1984 by George Orwell\n",
            "Available books: \n",
            "The Great Gatsby by F. Scott Fitzgerald\n",
            "To Kill a Mockingbird by Harper Lee\n",
            "1984 by George Orwell\n",
            "You have borrowed: 1984 by George Orwell\n",
            "Available books: \n",
            "The Great Gatsby by F. Scott Fitzgerald\n",
            "To Kill a Mockingbird by Harper Lee\n",
            "You have returned: 1984 by George Orwell\n",
            "Available books: \n",
            "The Great Gatsby by F. Scott Fitzgerald\n",
            "To Kill a Mockingbird by Harper Lee\n",
            "1984 by George Orwell\n"
          ]
        }
      ]
    },
    {
      "cell_type": "markdown",
      "source": [
        "### Problem 5: Product Inventory Create classes representing a product and an inventory system. Implement methods to add products to the inventory, update product quantity, and display available products."
      ],
      "metadata": {
        "id": "2E50pDWnbjgp"
      }
    },
    {
      "cell_type": "code",
      "source": [
        "class Product:\n",
        "  def __init__(self, name, price, quantity):\n",
        "    self.name = name\n",
        "    self.price = price\n",
        "    self.quantity = quantity\n",
        "\n",
        "  def __str__(self):\n",
        "    return f\"{self.name} - Price: ${self.price:.2f}, Quantity: {self.quantity}\"\n",
        "\n",
        "class Inventory:\n",
        "  def __init__(self):\n",
        "    self.products = []\n",
        "\n",
        "  def add_products(self, product):\n",
        "    self.products.append(product)\n",
        "    print(f\"Added: {product}\")\n",
        "\n",
        "  def update_product_quantity(self, product_name, new_quantity):\n",
        "    for product in self.products:\n",
        "      if product_name == product.name:\n",
        "        product.quantity = new_quantity\n",
        "        print(f\"Updated quantity for {product_name}: {new_quantity}\")\n",
        "        break\n",
        "    else :\n",
        "      print(f\"Product '{product_name}' not found in inventory.\")\n",
        "\n",
        "  def available_products(self):\n",
        "    if self.products:\n",
        "      print(\"Available Products: \")\n",
        "      for product in self.products:\n",
        "        print(product)\n",
        "    else:\n",
        "      print(\"No products in inventory.\")\n",
        "\n",
        "\n",
        "# Example usage\n",
        "inventory = Inventory()\n",
        "\n",
        "# Adding products to the inventory\n",
        "inventory.add_products(Product(\"Laptop\", 999.991, 10))\n",
        "inventory.add_products(Product(\"Smartphone\", 499.99, 20))\n",
        "inventory.add_products(Product(\"Headphones\", 79.99, 50))"
      ],
      "metadata": {
        "colab": {
          "base_uri": "https://localhost:8080/"
        },
        "id": "WXnKEqcPYBk4",
        "outputId": "f7ef1529-5f57-4d4e-a367-2beffb033558"
      },
      "execution_count": null,
      "outputs": [
        {
          "output_type": "stream",
          "name": "stdout",
          "text": [
            "Added: Laptop - Price: $999.99, Quantity: 10\n",
            "Added: Smartphone - Price: $499.99, Quantity: 20\n",
            "Added: Headphones - Price: $79.99, Quantity: 50\n"
          ]
        }
      ]
    },
    {
      "cell_type": "code",
      "source": [
        "# Displaying all products\n",
        "print(\"\\nInitial Inventory:\")\n",
        "inventory.available_products()"
      ],
      "metadata": {
        "colab": {
          "base_uri": "https://localhost:8080/"
        },
        "id": "eL36oJfOev1F",
        "outputId": "6512bbf2-919e-473d-d35c-9f7badd3bf6e"
      },
      "execution_count": null,
      "outputs": [
        {
          "output_type": "stream",
          "name": "stdout",
          "text": [
            "\n",
            "Initial Inventory:\n",
            "Available Products: \n",
            "Laptop - Price: $999.99, Quantity: 10\n",
            "Smartphone - Price: $499.99, Quantity: 20\n",
            "Headphones - Price: $79.99, Quantity: 50\n"
          ]
        }
      ]
    },
    {
      "cell_type": "code",
      "source": [
        "# Updating product quantity\n",
        "inventory.update_product_quantity(\"Smartphone\", 15)\n",
        "\n",
        "# Displaying updated inventory\n",
        "print(\"\\nUpdated Inventory:\")\n",
        "inventory.available_products()"
      ],
      "metadata": {
        "colab": {
          "base_uri": "https://localhost:8080/"
        },
        "id": "fxIvjiKEgnxz",
        "outputId": "39aca736-6125-4341-9911-37eb8e18065c"
      },
      "execution_count": null,
      "outputs": [
        {
          "output_type": "stream",
          "name": "stdout",
          "text": [
            "Updated quantity for Smartphone: 15\n",
            "\n",
            "Updated Inventory:\n",
            "Available Products: \n",
            "Laptop - Price: $999.99, Quantity: 10\n",
            "Smartphone - Price: $499.99, Quantity: 15\n",
            "Headphones - Price: $79.99, Quantity: 50\n"
          ]
        }
      ]
    },
    {
      "cell_type": "code",
      "source": [
        "# Trying to update a non-existent product\n",
        "inventory.update_product_quantity(\"Tablet\", 5)"
      ],
      "metadata": {
        "colab": {
          "base_uri": "https://localhost:8080/"
        },
        "id": "0wLbFPTEg7D5",
        "outputId": "42a40835-d6ec-4ae4-a4dc-5be2833290ac"
      },
      "execution_count": null,
      "outputs": [
        {
          "output_type": "stream",
          "name": "stdout",
          "text": [
            "Product 'Tablet' not found in inventory.\n"
          ]
        }
      ]
    },
    {
      "cell_type": "markdown",
      "source": [
        "### Problem 6: Shape Calculation Create a class representing a shape with attributes like length, width, and height. Implement methods to calculate the area and perimeter of the shape.\n"
      ],
      "metadata": {
        "id": "n2lQ9RoihWrg"
      }
    },
    {
      "cell_type": "code",
      "source": [
        "class Shape:\n",
        "  counter = 0\n",
        "  def __init__(self, length=None, width=None, height=None):\n",
        "    self.length = length\n",
        "    self.width = width\n",
        "    self.height = height\n",
        "\n",
        "    if any([self.length, self.width, self.height]):\n",
        "      for value in [self.length, self.width, self.height]:\n",
        "        if value:\n",
        "          self.counter += 1\n",
        "      if self.counter < 2:\n",
        "        print(f\"You provided only {self.counter} value\\nPlease provide atleat 2 values to calculate area or perimeter\")\n",
        "    else:\n",
        "      print(\"Please provide at least length and width to calculate area or perimeter\")\n",
        "\n",
        "  def calculate_area(self):\n",
        "    if all([self.length, self.width]) and self.height is None:\n",
        "      return f\"The Area of 2D Shape: {self.length*self.width}\"\n",
        "\n",
        "    if all([self.length, self.width, self.height]):\n",
        "      surface_area =2*((self.length*self.width) + (self.length*self.height) + (self.width*self.height))\n",
        "      return f\"Surface Area of a Cuboid: {surface_area}\"\n",
        "\n",
        "\n",
        "  def calculate_perimeter(self):\n",
        "    if all([self.length, self.width]) and self.height is None:\n",
        "      return f\"The perimter of 2D Shape: {2*(self.length+self.width)}\"\n",
        "\n",
        "    if all([self.length, self.width, self.height]):\n",
        "      surface_area =4*(self.length + self.width + self.height)\n",
        "      return f\"Perimter of a Cuboid: {surface_area}\""
      ],
      "metadata": {
        "id": "9DP5_QJSFc5w"
      },
      "execution_count": 53,
      "outputs": []
    },
    {
      "cell_type": "code",
      "source": [
        "two_d_obj = Shape(2,3)\n",
        "print(two_d_obj.calculate_area())\n",
        "print(two_d_obj.calculate_perimeter())"
      ],
      "metadata": {
        "id": "QireNiQZKrat",
        "colab": {
          "base_uri": "https://localhost:8080/"
        },
        "outputId": "bce28c46-675f-4995-e613-d8c9b65febf4"
      },
      "execution_count": 54,
      "outputs": [
        {
          "output_type": "stream",
          "name": "stdout",
          "text": [
            "The Area of 2D Shape: 6\n",
            "The perimter of 2D Shape: 10\n"
          ]
        }
      ]
    },
    {
      "cell_type": "code",
      "source": [
        "three_d_obj = Shape(1,2,3)\n",
        "print(three_d_obj.calculate_area())\n",
        "print(three_d_obj.calculate_perimeter())"
      ],
      "metadata": {
        "id": "M33oXyjbbvxc",
        "colab": {
          "base_uri": "https://localhost:8080/"
        },
        "outputId": "a16116a2-4625-4b18-ddde-05d3247fb39d"
      },
      "execution_count": 55,
      "outputs": [
        {
          "output_type": "stream",
          "name": "stdout",
          "text": [
            "Surface Area of a Cuboid: 22\n",
            "Perimter of a Cuboid: 24\n"
          ]
        }
      ]
    },
    {
      "cell_type": "markdown",
      "source": [
        "### Problem 7: Student Management Create a class representing a student with attributes like student ID, name, and grades. Implement methods to calculate the average grade and display student details."
      ],
      "metadata": {
        "id": "HYbD9cmaC-oJ"
      }
    },
    {
      "cell_type": "code",
      "source": [
        "class Student:\n",
        "  def __init__(self, student_id, name, grades):\n",
        "    self.student_id = student_id\n",
        "    self.name = name\n",
        "    self.grades = grades\n",
        "\n",
        "  def calculate_average(self):\n",
        "    if len(self.grades) == 0:\n",
        "        return 0  # Return 0 if there are no grades\n",
        "    return sum(self.grades) / len(self.grades)\n",
        "\n",
        "  def display_details(self):\n",
        "    avg_grade = self.calculate_average()\n",
        "    print(f\"Student ID: {self.student_id}\")\n",
        "    print(f\"Name: {self.name}\")\n",
        "    print(f\"Grades: {self.grades}\")\n",
        "    print(f\"Average Grade: {avg_grade:.2f}\")\n"
      ],
      "metadata": {
        "id": "f524Vix7XYcV"
      },
      "execution_count": 57,
      "outputs": []
    },
    {
      "cell_type": "code",
      "source": [
        "# Example usage:\n",
        "student1 = Student(1, \"John Doe\", [85, 92, 78, 90])\n",
        "student2 = Student(2, \"Jane Smith\", [88, 79, 91, 85])\n",
        "\n",
        "student1.display_details()\n",
        "print()\n",
        "student2.display_details()"
      ],
      "metadata": {
        "colab": {
          "base_uri": "https://localhost:8080/"
        },
        "id": "Vcw9Jkjt4CDh",
        "outputId": "2f015990-9576-4fbe-90fb-4886692b89cb"
      },
      "execution_count": 58,
      "outputs": [
        {
          "output_type": "stream",
          "name": "stdout",
          "text": [
            "Student ID: 1\n",
            "Name: John Doe\n",
            "Grades: [85, 92, 78, 90]\n",
            "Average Grade: 86.25\n",
            "\n",
            "Student ID: 2\n",
            "Name: Jane Smith\n",
            "Grades: [88, 79, 91, 85]\n",
            "Average Grade: 85.75\n"
          ]
        }
      ]
    },
    {
      "cell_type": "markdown",
      "source": [
        "## Problem 8: Email Management Create a class representing an email with attributes like sender, recipient, and subject. Implement methods to send an email and display email details.\n",
        "\n"
      ],
      "metadata": {
        "id": "ncnQU42shaL2"
      }
    },
    {
      "cell_type": "code",
      "source": [
        "class Email:\n",
        "  def __init__(self, sender, recipient, subject, body):\n",
        "    self.sender = sender\n",
        "    self.recipient = recipient\n",
        "    self.subject = subject\n",
        "    self.body = body\n",
        "\n",
        "  def send_email(self):\n",
        "    # Simulate email sending logic\n",
        "    print(f\"Email sent from {self.sender} to {self.recipient} with subject: '{self.subject}'\")\n",
        "\n",
        "  def display_email_details(self):\n",
        "    print(f\"Sender: {self.sender}\")\n",
        "    print(f\"Recipient: {self.recipient}\")\n",
        "    print(f\"Subject: {self.subject}\")\n",
        "    print(f\"Body: {self.body}\")"
      ],
      "metadata": {
        "id": "esa54WDV4WgI"
      },
      "execution_count": 60,
      "outputs": []
    },
    {
      "cell_type": "code",
      "source": [
        "# Test Case 1: Basic Email Creation and Display\n",
        "email1 = Email(\"alice@example.com\", \"bob@example.com\", \"Meeting Reminder\", \"Don't forget about the meeting at 10 AM.\")\n",
        "email1.display_email_details()\n",
        "print()\n",
        "\n",
        "# Test Case 2: Sending an Email\n",
        "email2 = Email(\"charlie@example.com\", \"david@example.com\", \"Project Status\", \"Can you send me an update on the project?\")\n",
        "email2.send_email()\n",
        "print()\n",
        "\n",
        "# Test Case 3: Empty Subject and Body\n",
        "email3 = Email(\"eve@example.com\", \"frank@example.com\", \"\", \"\")\n",
        "email3.display_email_details()\n",
        "print()\n",
        "\n",
        "# Test Case 4: Long Email Body\n",
        "email4 = Email(\"alice@example.com\", \"bob@example.com\", \"Long Email Test\", \"Lorem ipsum\" * 50)\n",
        "email4.display_email_details()\n",
        "print()\n",
        "# Test Case 5: Invalid Email Address Format\n",
        "email5 = Email(\"not_an_email\", \"also_invalid\", \"Test\", \"Checking invalid emails\")\n",
        "email5.display_email_details()"
      ],
      "metadata": {
        "colab": {
          "base_uri": "https://localhost:8080/"
        },
        "id": "WBt-u_XH55Zl",
        "outputId": "4010eacb-d74b-4331-dc75-e895c107107a"
      },
      "execution_count": 62,
      "outputs": [
        {
          "output_type": "stream",
          "name": "stdout",
          "text": [
            "Sender: alice@example.com\n",
            "Recipient: bob@example.com\n",
            "Subject: Meeting Reminder\n",
            "Body: Don't forget about the meeting at 10 AM.\n",
            "\n",
            "Email sent from charlie@example.com to david@example.com with subject: 'Project Status'\n",
            "\n",
            "Sender: eve@example.com\n",
            "Recipient: frank@example.com\n",
            "Subject: \n",
            "Body: \n",
            "\n",
            "Sender: alice@example.com\n",
            "Recipient: bob@example.com\n",
            "Subject: Long Email Test\n",
            "Body: Lorem ipsumLorem ipsumLorem ipsumLorem ipsumLorem ipsumLorem ipsumLorem ipsumLorem ipsumLorem ipsumLorem ipsumLorem ipsumLorem ipsumLorem ipsumLorem ipsumLorem ipsumLorem ipsumLorem ipsumLorem ipsumLorem ipsumLorem ipsumLorem ipsumLorem ipsumLorem ipsumLorem ipsumLorem ipsumLorem ipsumLorem ipsumLorem ipsumLorem ipsumLorem ipsumLorem ipsumLorem ipsumLorem ipsumLorem ipsumLorem ipsumLorem ipsumLorem ipsumLorem ipsumLorem ipsumLorem ipsumLorem ipsumLorem ipsumLorem ipsumLorem ipsumLorem ipsumLorem ipsumLorem ipsumLorem ipsumLorem ipsumLorem ipsum\n",
            "\n",
            "Sender: not_an_email\n",
            "Recipient: also_invalid\n",
            "Subject: Test\n",
            "Body: Checking invalid emails\n"
          ]
        }
      ]
    },
    {
      "cell_type": "markdown",
      "source": [
        "## Problem 9: Social Media Profile Create a class representing a social media profile with attributes like username and posts. Implement methods to add posts, display posts, and search for posts by keyword.\n",
        "\n"
      ],
      "metadata": {
        "id": "Rpb04f7khaBl"
      }
    },
    {
      "cell_type": "code",
      "source": [
        "class SocialMedia:\n",
        "  def __init__(self, username):\n",
        "      self.username = username\n",
        "      self.posts = []  # Initialize with an empty list of posts\n",
        "\n",
        "  def add_post(self, new_post):\n",
        "      self.posts.append(new_post)\n",
        "      print(f\"Post added: {new_post}\")\n",
        "\n",
        "  def display_posts(self):\n",
        "      if self.posts:\n",
        "          print(f\"Posts by {self.username}:\")\n",
        "          for i, post in enumerate(self.posts, 1):\n",
        "              print(f\"{i}. {post}\")\n",
        "      else:\n",
        "          print(f\"{self.username} has no posts.\")\n",
        "\n",
        "  def search_post(self, keyword):\n",
        "      found_posts = [post for post in self.posts if keyword in post]\n",
        "      if found_posts:\n",
        "          print(f\"Posts containing '{keyword}':\")\n",
        "          for post in found_posts:\n",
        "              print(post)\n",
        "      else:\n",
        "          print(f\"No posts found containing '{keyword}'.\")"
      ],
      "metadata": {
        "id": "cDrk8Bi66LLx"
      },
      "execution_count": 23,
      "outputs": []
    },
    {
      "cell_type": "code",
      "source": [
        "# Test Case 1: Create Profile and Add Posts\n",
        "profile = SocialMedia(\"john_doe\")\n",
        "profile.add_post(\"First post!\")\n",
        "profile.add_post(\"Loving the weather today\")\n",
        "profile.add_post(\"Python is awesome\")"
      ],
      "metadata": {
        "colab": {
          "base_uri": "https://localhost:8080/"
        },
        "id": "KZ8V2QR28AMA",
        "outputId": "240a2d5d-d826-491e-ac5f-cafbdca949ad"
      },
      "execution_count": 24,
      "outputs": [
        {
          "output_type": "stream",
          "name": "stdout",
          "text": [
            "Post added: First post!\n",
            "Post added: Loving the weather today\n",
            "Post added: Python is awesome\n"
          ]
        }
      ]
    },
    {
      "cell_type": "code",
      "source": [
        "# Test Case 2: Display All Posts\n",
        "profile.display_posts()"
      ],
      "metadata": {
        "colab": {
          "base_uri": "https://localhost:8080/"
        },
        "id": "Z_ouH8YN5yrO",
        "outputId": "fa87af78-1751-44f1-f1d5-f310b68c9047"
      },
      "execution_count": 25,
      "outputs": [
        {
          "output_type": "stream",
          "name": "stdout",
          "text": [
            "Posts by john_doe:\n",
            "1. First post!\n",
            "2. Loving the weather today\n",
            "3. Python is awesome\n"
          ]
        }
      ]
    },
    {
      "cell_type": "code",
      "source": [
        "# Test Case 3: Search for a Post by Keyword (Keyword Found)\n",
        "profile.search_post(\"weather\")\n",
        "\n",
        "# Test Case 4: Search for a Post by Keyword (Keyword Not Found)\n",
        "profile.search_post(\"Java\")"
      ],
      "metadata": {
        "colab": {
          "base_uri": "https://localhost:8080/"
        },
        "id": "VRChIWeT6Zeu",
        "outputId": "002aa6ce-3dbe-4448-846e-38f624e66d7a"
      },
      "execution_count": 26,
      "outputs": [
        {
          "output_type": "stream",
          "name": "stdout",
          "text": [
            "Posts containing 'weather':\n",
            "Loving the weather today\n",
            "No posts found containing 'Java'.\n"
          ]
        }
      ]
    },
    {
      "cell_type": "code",
      "source": [
        "# Test Case 5: Display Posts for a User with No Posts\n",
        "new_profile = SocialMedia(\"jane_doe\")\n",
        "new_profile.display_posts()"
      ],
      "metadata": {
        "colab": {
          "base_uri": "https://localhost:8080/"
        },
        "id": "ZX3Gym4s9gBf",
        "outputId": "5c0d5bf3-32f8-4187-9aeb-d0095c000bc6"
      },
      "execution_count": 27,
      "outputs": [
        {
          "output_type": "stream",
          "name": "stdout",
          "text": [
            "jane_doe has no posts.\n"
          ]
        }
      ]
    },
    {
      "cell_type": "markdown",
      "source": [
        "### Problem 10: ToDo List Create a class representing a ToDo list with attributes like tasks and due dates. Implement methods to add tasks, mark tasks as completed, and display pending tasks."
      ],
      "metadata": {
        "id": "puarBkx4hh-K"
      }
    },
    {
      "cell_type": "code",
      "source": [
        "from datetime import datetime\n",
        "\n",
        "class ToDoList:\n",
        "  def __init__(self):\n",
        "      self.tasks = []  # Initialize an empty list to hold tasks\n",
        "\n",
        "  def add_task(self, description, due_date):\n",
        "      # Add task as a dictionary with description, due date, and completed status\n",
        "      task = {\n",
        "          'description': description,\n",
        "          'due_date': due_date,\n",
        "          'completed': False\n",
        "      }\n",
        "      self.tasks.append(task)\n",
        "      print(f\"Task added: {description}, due by {due_date}\")\n",
        "\n",
        "  def mark_completed(self, task_index):\n",
        "      if 0 <= task_index < len(self.tasks):\n",
        "          self.tasks[task_index]['completed'] = True\n",
        "          print(f\"Task '{self.tasks[task_index]['description']}' marked as completed.\")\n",
        "      else:\n",
        "          print(\"Invalid task index.\")\n",
        "\n",
        "  def display_pending_tasks(self):\n",
        "      print(\"Pending tasks:\")\n",
        "      pending = False\n",
        "      for i, task in enumerate(self.tasks):\n",
        "          if not task['completed']:\n",
        "              print(f\"{i + 1}. {task['description']} (Due: {task['due_date']})\")\n",
        "              pending = True\n",
        "      if not pending:\n",
        "          print(\"No pending tasks.\")\n"
      ],
      "metadata": {
        "id": "CqhZ9gI8A-06"
      },
      "execution_count": 60,
      "outputs": []
    },
    {
      "cell_type": "code",
      "source": [
        "# Test Case 1: Add Tasks\n",
        "todo_list = ToDoList()\n",
        "todo_list.add_task(\"Buy groceries\", \"2024-09-15\")\n",
        "todo_list.add_task(\"Finish Python project\", \"2024-09-20\")\n",
        "\n",
        "# Test Case 2: Display Pending Tasks (No Tasks Completed)\n",
        "todo_list.display_pending_tasks()\n",
        "\n",
        "# Test Case 3: Mark a Task as Completed\n",
        "todo_list.mark_completed(0)\n",
        "\n",
        "# Test Case 4: Display Pending Tasks (After Marking One Task as Completed)\n",
        "todo_list.display_pending_tasks()\n",
        "\n",
        "# Test Case 5: Mark Invalid Task Index as Completed\n",
        "todo_list.mark_completed(3)\n",
        "\n",
        "# Test Case 6: Display Pending Tasks When All Tasks Are Completed\n",
        "todo_list.mark_completed(1)\n",
        "todo_list.display_pending_tasks()\n"
      ],
      "metadata": {
        "colab": {
          "base_uri": "https://localhost:8080/"
        },
        "id": "_Gt4Q6Wd_vk5",
        "outputId": "76ef7083-2d86-4017-a82d-0aad47efb2e7"
      },
      "execution_count": 61,
      "outputs": [
        {
          "output_type": "stream",
          "name": "stdout",
          "text": [
            "Task added: Buy groceries, due by 2024-09-15\n",
            "Task added: Finish Python project, due by 2024-09-20\n",
            "Pending tasks:\n",
            "1. Buy groceries (Due: 2024-09-15)\n",
            "2. Finish Python project (Due: 2024-09-20)\n",
            "Task 'Buy groceries' marked as completed.\n",
            "Pending tasks:\n",
            "2. Finish Python project (Due: 2024-09-20)\n",
            "Invalid task index.\n",
            "Task 'Finish Python project' marked as completed.\n",
            "Pending tasks:\n",
            "No pending tasks.\n"
          ]
        }
      ]
    }
  ]
}
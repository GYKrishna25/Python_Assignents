{
  "nbformat": 4,
  "nbformat_minor": 0,
  "metadata": {
    "colab": {
      "provenance": [],
      "collapsed_sections": [
        "aJGtlwoZJ9cO"
      ]
    },
    "kernelspec": {
      "name": "python3",
      "display_name": "Python 3"
    },
    "language_info": {
      "name": "python"
    }
  },
  "cells": [
    {
      "cell_type": "markdown",
      "source": [
        "# For Loop"
      ],
      "metadata": {
        "id": "_CXFzmadTG9b"
      }
    },
    {
      "cell_type": "markdown",
      "source": [
        "1. Write a Python program to print numbers from 1 to 10 using a for loop."
      ],
      "metadata": {
        "id": "TSjdahd2d3vD"
      }
    },
    {
      "cell_type": "code",
      "execution_count": null,
      "metadata": {
        "colab": {
          "base_uri": "https://localhost:8080/"
        },
        "id": "noP-4v-UCti1",
        "outputId": "c8e1ca23-c923-469d-e8e4-657c92822532"
      },
      "outputs": [
        {
          "output_type": "stream",
          "name": "stdout",
          "text": [
            "1\n",
            "2\n",
            "3\n",
            "4\n",
            "5\n",
            "6\n",
            "7\n",
            "8\n",
            "9\n",
            "10\n"
          ]
        }
      ],
      "source": [
        "for i in range(1, 11):\n",
        "  print(i)"
      ]
    },
    {
      "cell_type": "markdown",
      "source": [
        "2. Explain the difference between a for loop and a while loop in Python."
      ],
      "metadata": {
        "id": "1W3SxU4nexU3"
      }
    },
    {
      "cell_type": "markdown",
      "source": [
        "For Loop\n",
        "1. Write a Python program to print numbers from 1 to 10 using a for loop.\n",
        "for i in range(1, 11):\n",
        "  print(i)\n",
        "2. Explain the difference between a for loop and a while loop in Python.\n",
        "\n",
        "\"\"\"\n",
        "**For Loop:**\n",
        "\n",
        "* Used when you know the number of iterations in advance.\n",
        "* Iterates over a sequence (like a list, tuple, string, or range).\n",
        "* Automatically handles the iteration process.\n",
        "\n",
        "**While Loop:**\n",
        "\n",
        "* Used when the number of iterations is unknown beforehand.\n",
        "* Continues to execute as long as a certain condition is True.\n",
        "* Requires you to manage the loop counter and termination condition manually.\n",
        "\n",
        "**Key Differences:**\n",
        "\n",
        "* **Definite vs. Indefinite Iteration:** For loops are for definite iteration (known number of times), while while loops are for indefinite iteration (unknown number of times).\n",
        "* **Sequence vs. Condition:** For loops iterate over a sequence, while while loops execute based on a condition.\n",
        "* **Automatic vs. Manual Iteration:** For loops handle iteration automatically, while while loops require manual management of the loop counter and termination condition.\n",
        "\n"
      ],
      "metadata": {
        "id": "1W-wptx4e-IF"
      }
    },
    {
      "cell_type": "markdown",
      "source": [
        "3. Write a Python program to calculate the sum of all numbers from 1 to 100 using a for loop."
      ],
      "metadata": {
        "id": "PT_j8oGLfOLr"
      }
    },
    {
      "cell_type": "code",
      "source": [
        "sum([i for i in range(1, 101)])"
      ],
      "metadata": {
        "colab": {
          "base_uri": "https://localhost:8080/"
        },
        "id": "mTWAo_TRe-in",
        "outputId": "4af007c7-a43e-4b07-af73-7d76bc908960"
      },
      "execution_count": null,
      "outputs": [
        {
          "output_type": "execute_result",
          "data": {
            "text/plain": [
              "5050"
            ]
          },
          "metadata": {},
          "execution_count": 4
        }
      ]
    },
    {
      "cell_type": "markdown",
      "source": [
        "4. How do you iterate through a list using a for loop in Python?"
      ],
      "metadata": {
        "id": "UCc6Z5aYfefa"
      }
    },
    {
      "cell_type": "code",
      "source": [
        "my_list = [1, 2, 3, 4, 5]\n",
        "for item in my_list:\n",
        "  print(item)\n"
      ],
      "metadata": {
        "colab": {
          "base_uri": "https://localhost:8080/"
        },
        "id": "RMxknmLpfYIX",
        "outputId": "42049ef2-7c41-4239-dabe-da1d9d00e8fe"
      },
      "execution_count": null,
      "outputs": [
        {
          "output_type": "stream",
          "name": "stdout",
          "text": [
            "1\n",
            "2\n",
            "3\n",
            "4\n",
            "5\n"
          ]
        }
      ]
    },
    {
      "cell_type": "markdown",
      "source": [
        "5. Write a Python program to find the product of all elements in a list using a for loop."
      ],
      "metadata": {
        "id": "Dp6GD8r_kMpB"
      }
    },
    {
      "cell_type": "code",
      "source": [
        "my_list = [1, 2, 3, 4, 5]\n",
        "product = 1\n",
        "for item in my_list:\n",
        "  product *= item\n",
        "print(product)"
      ],
      "metadata": {
        "colab": {
          "base_uri": "https://localhost:8080/"
        },
        "id": "PEucoWBCmiuG",
        "outputId": "edeb2a5c-1267-4ed9-c548-c909568feb82"
      },
      "execution_count": null,
      "outputs": [
        {
          "output_type": "stream",
          "name": "stdout",
          "text": [
            "120\n"
          ]
        }
      ]
    },
    {
      "cell_type": "markdown",
      "source": [
        "6. Create a Python program that prints all even numbers from 1 to 20 using a for loop."
      ],
      "metadata": {
        "id": "Utf5Ythnk-YN"
      }
    },
    {
      "cell_type": "code",
      "source": [
        "for i in range(1, 21):\n",
        "  if i % 2 == 0:\n",
        "    print(i)"
      ],
      "metadata": {
        "colab": {
          "base_uri": "https://localhost:8080/"
        },
        "id": "KDgCr_CIk6UK",
        "outputId": "5d5ce46f-dee6-4dfa-822d-ce3b4439c6c5"
      },
      "execution_count": null,
      "outputs": [
        {
          "output_type": "stream",
          "name": "stdout",
          "text": [
            "2\n",
            "4\n",
            "6\n",
            "8\n",
            "10\n",
            "12\n",
            "14\n",
            "16\n",
            "18\n",
            "20\n"
          ]
        }
      ]
    },
    {
      "cell_type": "markdown",
      "source": [
        "7. Write a Python program that calculates the factorial of a number using a for loop."
      ],
      "metadata": {
        "id": "1mckeOANloY3"
      }
    },
    {
      "cell_type": "code",
      "source": [
        "def fact(number):\n",
        "    counter = 1\n",
        "    if number == 0:\n",
        "        return 1\n",
        "    else:\n",
        "        for i in range(1, number + 1):\n",
        "            counter *= i\n",
        "    return counter\n",
        "\n",
        "try:\n",
        "    number_input = int(input(\"Enter the number: \"))\n",
        "    factorial = fact(number_input)\n",
        "    print(f\"The factorial of {number_input} is {factorial}\")\n",
        "except ValueError as v:\n",
        "    print(v, \"Invalid input. Please enter a number.\", sep=\"\\n\")"
      ],
      "metadata": {
        "colab": {
          "base_uri": "https://localhost:8080/"
        },
        "id": "2qqm9ZaKnJYe",
        "outputId": "51058017-24f9-434c-d9d9-541abaa63670"
      },
      "execution_count": null,
      "outputs": [
        {
          "output_type": "stream",
          "name": "stdout",
          "text": [
            "Enter the number: 5\n",
            "The factorial of 5 is 120\n"
          ]
        }
      ]
    },
    {
      "cell_type": "markdown",
      "source": [
        "8. How can you iterate through the characters of a string using a for loop in Python?"
      ],
      "metadata": {
        "id": "G_Ow-rhisj6Q"
      }
    },
    {
      "cell_type": "code",
      "source": [
        "my_string = \"Hello, World!\"\n",
        "\n",
        "for char in my_string:\n",
        "    print(char)"
      ],
      "metadata": {
        "colab": {
          "base_uri": "https://localhost:8080/"
        },
        "id": "vzxitUOSsekZ",
        "outputId": "7e3eb39f-8f1c-4af3-fc46-3fc94c162bfd"
      },
      "execution_count": null,
      "outputs": [
        {
          "output_type": "stream",
          "name": "stdout",
          "text": [
            "H\n",
            "e\n",
            "l\n",
            "l\n",
            "o\n",
            ",\n",
            " \n",
            "W\n",
            "o\n",
            "r\n",
            "l\n",
            "d\n",
            "!\n"
          ]
        }
      ]
    },
    {
      "cell_type": "markdown",
      "source": [
        "9. Write a Python program to find the largest number in a list using a for loop."
      ],
      "metadata": {
        "id": "6SGig1UNs8xu"
      }
    },
    {
      "cell_type": "code",
      "source": [
        "def largest_number(number_list):\n",
        "  largest_value = number_list[0]\n",
        "  for number in number_list:\n",
        "    if number > largest_value:\n",
        "      largest_value = number\n",
        "  return largest_value\n",
        "\n",
        "try:\n",
        "    number_list = list(map(int, input(\"Enter the numbers with space: \").split()))\n",
        "    larger = largest_number(number_list)\n",
        "    print(f\"The factorial of {number_list} is {larger}\")\n",
        "except ValueError as v:\n",
        "    print(v, \"Invalid input. Please enter a number.\", sep=\"\\n\")"
      ],
      "metadata": {
        "colab": {
          "base_uri": "https://localhost:8080/"
        },
        "id": "mvLAHcSXs6j1",
        "outputId": "b43b5291-c90a-44c0-91d9-b2aca4a3a7bd"
      },
      "execution_count": null,
      "outputs": [
        {
          "output_type": "stream",
          "name": "stdout",
          "text": [
            "Enter the numbers with space: 1 2 5 9 8\n",
            "The factorial of [1, 2, 5, 9, 8] is 9\n"
          ]
        }
      ]
    },
    {
      "cell_type": "markdown",
      "source": [
        "10. Create a Python program that prints the Fibonacci sequence up to a specified limit using a for\n",
        "loop."
      ],
      "metadata": {
        "id": "tCgCjwdBw0i1"
      }
    },
    {
      "cell_type": "code",
      "source": [
        "def fibonacci(num):\n",
        "  a, b = 0, 1\n",
        "  for i in range(num+1):\n",
        "    yield a\n",
        "    a, b = b, a+b\n",
        "try:\n",
        "    number = int(input(\"Enter the number: \"))\n",
        "    fib_list = fibonacci(number)\n",
        "    print(\"The first 5 fibonacci numbers: \", tuple(fib_list))\n",
        "\n",
        "except ValueError as v:\n",
        "    print(v, \"Invalid input. Please enter a number.\", sep=\"\\n\")\n"
      ],
      "metadata": {
        "colab": {
          "base_uri": "https://localhost:8080/"
        },
        "id": "NeuEnkPQtadc",
        "outputId": "3acb5cf0-3d13-4650-bfba-3f601d34fa7b"
      },
      "execution_count": null,
      "outputs": [
        {
          "output_type": "stream",
          "name": "stdout",
          "text": [
            "Enter the number: 5\n",
            "The first 5 fibonacci numbers:  (0, 1, 1, 2, 3, 5)\n"
          ]
        }
      ]
    },
    {
      "cell_type": "markdown",
      "source": [
        "11. Write a Python program to count the number of vowels in a given string using a for loop."
      ],
      "metadata": {
        "id": "J4aNh_xgBcDP"
      }
    },
    {
      "cell_type": "code",
      "source": [
        "def count_vowels(input_string):\n",
        "    # Define a set of vowels\n",
        "    vowels = \"aeiouAEIOU\"\n",
        "    # Initialize a counter to 0\n",
        "    count = 0\n",
        "\n",
        "    # Iterate through each character in the string\n",
        "    for char in input_string:\n",
        "        # Check if the character is a vowel\n",
        "        if char in vowels:\n",
        "            count += 1\n",
        "\n",
        "    return count\n",
        "\n",
        "# Test the function\n",
        "input_string = input(\"Enter a string: \")\n",
        "vowel_count = count_vowels(input_string)\n",
        "print(f\"The number of vowels in the string is: {vowel_count}\")"
      ],
      "metadata": {
        "colab": {
          "base_uri": "https://localhost:8080/"
        },
        "id": "157QDraA25SO",
        "outputId": "6af87398-78cc-410d-e797-5d4335729bb7"
      },
      "execution_count": null,
      "outputs": [
        {
          "output_type": "stream",
          "name": "stdout",
          "text": [
            "Enter a string: krishna\n",
            "The number of vowels in the string is: 2\n"
          ]
        }
      ]
    },
    {
      "cell_type": "markdown",
      "source": [
        "12. Create a Python program that generates a multiplication table for a given number using a for\n",
        "loop."
      ],
      "metadata": {
        "id": "dKx4aDd5BpqQ"
      }
    },
    {
      "cell_type": "code",
      "source": [
        "def multiplication_table(number):\n",
        "    # Iterate through numbers 1 to 10\n",
        "    for i in range(1, 11):\n",
        "        # Print the multiplication result\n",
        "        print(f\"{number} x {i} = {number * i}\")\n",
        "\n",
        "# Test the function\n",
        "try:\n",
        "    number = int(input(\"Enter a number to generate its multiplication table: \"))\n",
        "    multiplication_table(number)\n",
        "except ValueError:\n",
        "    print(\"Invalid input. Please enter a valid number.\")\n"
      ],
      "metadata": {
        "colab": {
          "base_uri": "https://localhost:8080/"
        },
        "id": "W8X98RZlBp8D",
        "outputId": "af5c990f-251a-4eb7-ca91-7dfe4e6ec891"
      },
      "execution_count": null,
      "outputs": [
        {
          "output_type": "stream",
          "name": "stdout",
          "text": [
            "Enter a number to generate its multiplication table: 9\n",
            "9 x 1 = 9\n",
            "9 x 2 = 18\n",
            "9 x 3 = 27\n",
            "9 x 4 = 36\n",
            "9 x 5 = 45\n",
            "9 x 6 = 54\n",
            "9 x 7 = 63\n",
            "9 x 8 = 72\n",
            "9 x 9 = 81\n",
            "9 x 10 = 90\n"
          ]
        }
      ]
    },
    {
      "cell_type": "markdown",
      "source": [
        "13. Write a Python program to reverse a list using a for loop."
      ],
      "metadata": {
        "id": "6fmlYNSEBwxF"
      }
    },
    {
      "cell_type": "code",
      "source": [
        "def reverse_list(input_list):\n",
        "  # Initialize an empty list to store reversed elements\n",
        "  reversed_list = []\n",
        "\n",
        "  # Iterate through the input list in reverse order\n",
        "  for i in range(len(input_list) - 1, -1, -1):\n",
        "      reversed_list.append(input_list[i])\n",
        "  return reversed_list\n",
        "\n",
        "try:\n",
        "    # Input a list of numbers from the user\n",
        "    user_input = input(\"Enter the list elements separated by spaces: \")\n",
        "    input_list = list(map(int, user_input.split()))\n",
        "\n",
        "    reversed_list = reverse_list(input_list)\n",
        "    print(f\"The reversed list is: {reversed_list}\")\n",
        "except ValueError:\n",
        "    print(\"Invalid input. Please enter a list of integers separated by spaces.\")\n"
      ],
      "metadata": {
        "colab": {
          "base_uri": "https://localhost:8080/"
        },
        "id": "-NRcb8PmB0k2",
        "outputId": "d579b90c-950b-4421-ead6-beba6b099b1d"
      },
      "execution_count": null,
      "outputs": [
        {
          "output_type": "stream",
          "name": "stdout",
          "text": [
            "Enter the list elements separated by spaces: 1 2 3 4 5 6 \n",
            "The reversed list is: [6, 5, 4, 3, 2, 1]\n"
          ]
        }
      ]
    },
    {
      "cell_type": "markdown",
      "source": [
        "14. Write a Python program to find the common elements between two lists using a for loop."
      ],
      "metadata": {
        "id": "pxapxmFYMTmy"
      }
    },
    {
      "cell_type": "code",
      "source": [
        "def common_elements(list1, list2):\n",
        "  if len(list1) > len(list2):\n",
        "    large = list1\n",
        "    small = list2\n",
        "  else :\n",
        "    large = list2\n",
        "    small = list1\n",
        "\n",
        "  for ele in small:\n",
        "    if ele in large:\n",
        "      yield ele\n",
        "\n",
        "\n",
        "try:\n",
        "    # Input a list of numbers from the user\n",
        "    user_input1 = input(\"Enter the list1 elements separated by spaces: \")\n",
        "    user_input2 = input(\"Enter the list2 elements separated by spaces: \")\n",
        "    input_list1 = list(map(int, user_input1.split()))\n",
        "    input_list2 = list(map(int, user_input2.split()))\n",
        "\n",
        "    common_list = common_elements(input_list1, input_list2)\n",
        "    print(f\"The common elements are : {tuple(common_list)}\")\n",
        "except ValueError:\n",
        "    print(\"Invalid input. Please enter a list of integers separated by spaces.\")\n"
      ],
      "metadata": {
        "colab": {
          "base_uri": "https://localhost:8080/"
        },
        "id": "Nc65lgYtKC7H",
        "outputId": "0fa43f31-5e14-4091-bb44-1100b6b2ca5b"
      },
      "execution_count": null,
      "outputs": [
        {
          "output_type": "stream",
          "name": "stdout",
          "text": [
            "Enter the list1 elements separated by spaces: 1 2 3\n",
            "Enter the list2 elements separated by spaces: list\n",
            "Invalid input. Please enter a list of integers separated by spaces.\n"
          ]
        }
      ]
    },
    {
      "cell_type": "markdown",
      "source": [
        "15. Explain how to use a for loop to iterate through the keys and values of a dictionary in Python."
      ],
      "metadata": {
        "id": "3AoCziAIAwu5"
      }
    },
    {
      "cell_type": "code",
      "source": [
        "def print_dict_items(d):\n",
        "    if not isinstance(d, dict):\n",
        "        raise TypeError(\"Provided argument is not a dictionary.\")\n",
        "\n",
        "    # Iterate through the dictionary's items\n",
        "    for key, value in d.items():\n",
        "        print(f\"Key: {key}, Value: {value}\")\n",
        "\n",
        "try:\n",
        "    sample_dict = [1, 2, 3, 4]\n",
        "    # sample_dict = {'name': 'Alice', 'age': 30, 'city': 'New York'}\n",
        "    print_dict_items(sample_dict)\n",
        "except TypeError as e:\n",
        "    print(f\"Error: {e}\")"
      ],
      "metadata": {
        "id": "SVMhZIXMAxAK",
        "colab": {
          "base_uri": "https://localhost:8080/"
        },
        "outputId": "6395f34a-bc33-427f-e481-1ad24e094804"
      },
      "execution_count": null,
      "outputs": [
        {
          "output_type": "stream",
          "name": "stdout",
          "text": [
            "Error: Provided argument is not a dictionary.\n"
          ]
        }
      ]
    },
    {
      "cell_type": "markdown",
      "source": [
        "16. Write a Python program to find the GCD (Greatest Common Divisor) of two numbers using a for\n",
        "loop."
      ],
      "metadata": {
        "id": "CGXx6IAnP3x7"
      }
    },
    {
      "cell_type": "code",
      "source": [
        "def find_gcd(a, b):\n",
        "    \"\"\"\n",
        "    Find the Greatest Common Divisor (GCD) of two numbers using a for loop.\n",
        "\n",
        "    Args:\n",
        "        a (int): First number.\n",
        "        b (int): Second number.\n",
        "\n",
        "    Returns:\n",
        "        int: The GCD of the two numbers.\n",
        "    \"\"\"\n",
        "    # Find the smaller of the two numbers\n",
        "    smaller = min(a, b)\n",
        "\n",
        "    # Initialize the GCD\n",
        "    gcd = 1\n",
        "\n",
        "    # Iterate from 1 to the smaller number\n",
        "    for i in range(1, smaller + 1):\n",
        "        if a % i == 0 and b % i == 0:\n",
        "            gcd = i\n",
        "\n",
        "    return gcd\n",
        "\n",
        "try:\n",
        "    # Input two numbers from the user\n",
        "    num1 = int(input(\"Enter the first number: \"))\n",
        "    num2 = int(input(\"Enter the second number: \"))\n",
        "\n",
        "    # Find and print the GCD\n",
        "    result = find_gcd(num1, num2)\n",
        "    print(f\"The GCD of {num1} and {num2} is {result}\")\n",
        "\n",
        "except ValueError:\n",
        "    print(\"Invalid input. Please enter integers only.\")"
      ],
      "metadata": {
        "colab": {
          "base_uri": "https://localhost:8080/"
        },
        "id": "MjB5wEL4MiTM",
        "outputId": "d7719d3a-b006-44b4-cb58-109a83c7a070"
      },
      "execution_count": null,
      "outputs": [
        {
          "output_type": "stream",
          "name": "stdout",
          "text": [
            "Enter the first number: 4\n",
            "Enter the second number: 12\n",
            "The GCD of 4 and 12 is 4\n"
          ]
        }
      ]
    },
    {
      "cell_type": "markdown",
      "source": [
        "17. Create a Python program that checks if a string is a palindrome using a for loop."
      ],
      "metadata": {
        "id": "-Kj9LCXVQaR8"
      }
    },
    {
      "cell_type": "code",
      "source": [
        "def is_palindrome(s):\n",
        "    \"\"\"\n",
        "    Checks if a string is a palindrome using a for loop.\n",
        "\n",
        "    Args:\n",
        "        s (str): The string to check.\n",
        "\n",
        "    Returns:\n",
        "        bool: True if the string is a palindrome, False otherwise.\n",
        "    \"\"\"\n",
        "    # Normalize the string (convert to lowercase)\n",
        "    s = s.lower()\n",
        "\n",
        "    # Remove spaces and non-alphanumeric characters if desired\n",
        "    s = ''.join(char for char in s if char.isalnum())\n",
        "\n",
        "    # Check if the string is a palindrome\n",
        "    length = len(s)\n",
        "    for i in range(length // 2):\n",
        "        if s[i] != s[length - 1 - i]:\n",
        "            return False\n",
        "    return True\n",
        "\n",
        "try:\n",
        "    # Input a string from the user\n",
        "    user_input = input(\"Enter a string to check if it's a palindrome: \")\n",
        "\n",
        "    # Check if the string is a palindrome and print the result\n",
        "    if is_palindrome(user_input):\n",
        "        print(f\"The string '{user_input}' is a palindrome.\")\n",
        "    else:\n",
        "        print(f\"The string '{user_input}' is not a palindrome.\")\n",
        "\n",
        "except Exception as e:\n",
        "    print(f\"An error occurred: {e}\")\n"
      ],
      "metadata": {
        "id": "_Na1SzpwQac3"
      },
      "execution_count": null,
      "outputs": []
    },
    {
      "cell_type": "markdown",
      "source": [
        "18. Write a Python program to remove duplicates from a list using a for loop."
      ],
      "metadata": {
        "id": "tOsD-sJRRE8K"
      }
    },
    {
      "cell_type": "code",
      "source": [
        "def remove_duplicates(original_list):\n",
        "    \"\"\"\n",
        "\n",
        "    \"\"\"\n",
        "    unique_list = []  # Initialize an empty list to store unique elements\n",
        "\n",
        "    for item in original_list:\n",
        "        if item not in unique_list:\n",
        "            unique_list.append(item)  # Add the item to unique_list if it's not already there\n",
        "\n",
        "    return unique_list\n",
        "\n",
        "try:\n",
        "    # Input a list of numbers from the user\n",
        "    user_input = input(\"Enter numbers separated by spaces: \")\n",
        "    number_list = list(map(int, user_input.split()))  # Convert input string to a list of integers\n",
        "\n",
        "    # Remove duplicates and print the result\n",
        "    result_list = remove_duplicates(number_list)\n",
        "    print(f\"The list with duplicates removed: {result_list}\")\n",
        "\n",
        "except ValueError:\n",
        "    print(\"Invalid input. Please enter a list of numbers separated by spaces.\")\n"
      ],
      "metadata": {
        "id": "O4VrOLZ9RHfg"
      },
      "execution_count": null,
      "outputs": []
    },
    {
      "cell_type": "markdown",
      "source": [
        "19. Create a Python program that counts the number of words in a sentence using a for loop."
      ],
      "metadata": {
        "id": "wniazxmZcIJX"
      }
    },
    {
      "cell_type": "code",
      "source": [
        "def count_words(sentence):\n",
        "    words = sentence.split()\n",
        "    word_count = 0\n",
        "\n",
        "    for word in words:\n",
        "        word_count += 1\n",
        "\n",
        "    return word_count\n",
        "\n",
        "try:\n",
        "    user_input = input(\"Enter a sentence: \")\n",
        "\n",
        "    # Count the words and print the result\n",
        "    number_of_words = count_words(user_input)\n",
        "    print(f\"The number of words in the sentence is: {number_of_words}\")\n",
        "\n",
        "except Exception as e:\n",
        "    print(f\"An error occurred: {e}\")\n"
      ],
      "metadata": {
        "colab": {
          "base_uri": "https://localhost:8080/"
        },
        "id": "YlhZqakEcIar",
        "outputId": "da254cc4-5256-4ad3-b170-3bb86ed16416"
      },
      "execution_count": null,
      "outputs": [
        {
          "output_type": "stream",
          "name": "stdout",
          "text": [
            "Enter a sentence: agriculture is backbone of india\n",
            "The number of words in the sentence is: 5\n"
          ]
        }
      ]
    },
    {
      "cell_type": "markdown",
      "source": [
        "20. Write a Python program to find the sum of all odd numbers from 1 to 50 using a for loop."
      ],
      "metadata": {
        "id": "O-M6w0pVFcNx"
      }
    },
    {
      "cell_type": "code",
      "source": [
        "def sum_of_odds():\n",
        "    total_sum = 0\n",
        "\n",
        "    for number in range(1, 51):\n",
        "        if number % 2 != 0:\n",
        "            total_sum += number\n",
        "\n",
        "    return total_sum\n",
        "\n",
        "try:\n",
        "    # Call the function and print the result\n",
        "    result = sum_of_odds()\n",
        "    print(f\"The sum of all odd numbers from 1 to 50 is: {result}\")\n",
        "\n",
        "except Exception as e:\n",
        "    print(f\"An error occurred: {e}\")\n"
      ],
      "metadata": {
        "colab": {
          "base_uri": "https://localhost:8080/"
        },
        "id": "VjFr635_FcX_",
        "outputId": "9c034669-adfe-49cc-9b49-a38677a1e7b5"
      },
      "execution_count": null,
      "outputs": [
        {
          "output_type": "stream",
          "name": "stdout",
          "text": [
            "The sum of all odd numbers from 1 to 50 is: 625\n"
          ]
        }
      ]
    },
    {
      "cell_type": "markdown",
      "source": [
        "21. Write a Python program that checks if a given year is a leap year using a for loop."
      ],
      "metadata": {
        "id": "dY1HOHQ7HvCI"
      }
    },
    {
      "cell_type": "code",
      "source": [
        "def is_leap_year(year):\n",
        "    # A year is a leap year if it's divisible by 4\n",
        "    # but not divisible by 100, unless it's also divisible by 400\n",
        "    if (year % 4 == 0) and (year % 100 != 0 or year % 400 == 0):\n",
        "        return True\n",
        "    else:\n",
        "        return False\n",
        "\n",
        "try:\n",
        "    # Input a year from the user\n",
        "    year_input = int(input(\"Enter a year to check if it's a leap year: \"))\n",
        "\n",
        "    if is_leap_year(year_input):\n",
        "        print(f\"The year {year_input} is a leap year.\")\n",
        "    else:\n",
        "        print(f\"The year {year_input} is not a leap year.\")\n",
        "\n",
        "except ValueError:\n",
        "    print(\"Invalid input. Please enter a valid year.\")\n"
      ],
      "metadata": {
        "colab": {
          "base_uri": "https://localhost:8080/"
        },
        "id": "xddieXhdHvgO",
        "outputId": "ed310fdf-2bf7-421e-9d78-d489b8cc3e1b"
      },
      "execution_count": null,
      "outputs": [
        {
          "output_type": "stream",
          "name": "stdout",
          "text": [
            "Enter a year to check if it's a leap year: 2021\n",
            "The year 2021 is not a leap year.\n"
          ]
        }
      ]
    },
    {
      "cell_type": "markdown",
      "source": [
        "22. Create a Python program that calculates the square root of a number using a for loop."
      ],
      "metadata": {
        "id": "NSCoVusEH-hH"
      }
    },
    {
      "cell_type": "code",
      "source": [
        "def square_root(number, iterations=10):\n",
        "    if number < 0:\n",
        "        raise ValueError(\"Cannot calculate the square root of a negative number.\")\n",
        "\n",
        "    guess = number / 2.0\n",
        "\n",
        "    for _ in range(iterations):\n",
        "        guess = (guess + number / guess) / 2.0\n",
        "\n",
        "    return guess\n",
        "\n",
        "try:\n",
        "    number_input = float(input(\"Enter a number to calculate its square root: \"))\n",
        "\n",
        "    result = square_root(number_input)\n",
        "    print(f\"The square root of {number_input}  is approximately {result:.2f}\")\n",
        "\n",
        "except ValueError as v:\n",
        "    print(v, \"Invalid input. Please enter valid numbers.\", sep=\"\\n\")\n"
      ],
      "metadata": {
        "colab": {
          "base_uri": "https://localhost:8080/"
        },
        "id": "3x579wGDIJZ5",
        "outputId": "4ce945f9-a123-4cd4-a924-63bda7338ef4"
      },
      "execution_count": null,
      "outputs": [
        {
          "output_type": "stream",
          "name": "stdout",
          "text": [
            "Enter a number to calculate its square root: 25\n",
            "The square root of 25.0  is approximately 5.00\n"
          ]
        }
      ]
    },
    {
      "cell_type": "markdown",
      "source": [
        "23. Write a Python program to find the LCM (Least Common Multiple) of two numbers using a for\n",
        "loop."
      ],
      "metadata": {
        "id": "uWEmcLg3Jm2P"
      }
    },
    {
      "cell_type": "code",
      "source": [
        "def find_lcm(num1, num2):\n",
        "    maximum = max(num1, num2)\n",
        "    while True:\n",
        "        if maximum % num1 == 0 and maximum % num2 == 0:\n",
        "            return maximum\n",
        "        maximum += 1\n",
        "\n",
        "try:\n",
        "    # Input two numbers from the user\n",
        "    num1 = int(input(\"Enter the first number: \"))\n",
        "    num2 = int(input(\"Enter the second number: \"))\n",
        "\n",
        "    # Call the function to find the LCM\n",
        "    lcm = find_lcm(num1, num2)\n",
        "    print(f\"The Least Common Multiple (LCM) of {num1} and {num2} is {lcm}\")\n",
        "\n",
        "except ValueError as v:\n",
        "    print(v, \"Invalid input. Please enter valid numbers.\", sep=\"\\n\")\n"
      ],
      "metadata": {
        "colab": {
          "base_uri": "https://localhost:8080/"
        },
        "id": "SBrNPUTiJnEB",
        "outputId": "0b5e263a-a508-474a-fce4-c2f19d7c9495"
      },
      "execution_count": null,
      "outputs": [
        {
          "output_type": "stream",
          "name": "stdout",
          "text": [
            "Enter the first number: 4\n",
            "Enter the second number: 6\n",
            "The Least Common Multiple (LCM) of 4 and 6 is 12\n"
          ]
        }
      ]
    },
    {
      "cell_type": "markdown",
      "source": [
        "# If else"
      ],
      "metadata": {
        "id": "aJGtlwoZJ9cO"
      }
    },
    {
      "cell_type": "markdown",
      "source": [
        "1. Write a Python program to check if a number is positive, negative, or zero using an if-else\n",
        "statement."
      ],
      "metadata": {
        "id": "I0vp2PQqKDuJ"
      }
    },
    {
      "cell_type": "code",
      "source": [
        "def check_number(number):\n",
        "    if number > 0:\n",
        "        return \"The number is positive.\"\n",
        "    elif number < 0:\n",
        "        return \"The number is negative.\"\n",
        "    else:\n",
        "        return \"The number is zero.\"\n",
        "\n",
        "try:\n",
        "    number_input = float(input(\"Enter a number: \"))\n",
        "    result = check_number(number_input)\n",
        "    print(result)\n",
        "except ValueError:\n",
        "    print(\"Invalid input. Please enter a valid number.\")\n"
      ],
      "metadata": {
        "colab": {
          "base_uri": "https://localhost:8080/"
        },
        "id": "2zAMXzwrKD6r",
        "outputId": "3d6a7ef4-1ef9-421f-90ca-783752abf5b9"
      },
      "execution_count": null,
      "outputs": [
        {
          "output_type": "stream",
          "name": "stdout",
          "text": [
            "Enter a number: 24\n",
            "The number is positive.\n"
          ]
        }
      ]
    },
    {
      "cell_type": "markdown",
      "source": [
        "2. Create a Python program that checks if a given number is even or odd using an if-else statement."
      ],
      "metadata": {
        "id": "9cd6KDhpKir2"
      }
    },
    {
      "cell_type": "code",
      "source": [
        "def check_even_odd(number):\n",
        "    if number % 2 == 0:\n",
        "        return \"The number is even.\"\n",
        "    else:\n",
        "        return \"The number is odd.\"\n",
        "\n",
        "try:\n",
        "    number_input = int(input(\"Enter a number: \"))\n",
        "    result = check_even_odd(number_input)\n",
        "    print(result)\n",
        "except ValueError:\n",
        "    print(\"Invalid input. Please enter a valid integer.\")\n"
      ],
      "metadata": {
        "colab": {
          "base_uri": "https://localhost:8080/"
        },
        "id": "ZwU3oy6iKQCg",
        "outputId": "564bddd1-a9fb-4a78-b655-b3930173b9ff"
      },
      "execution_count": null,
      "outputs": [
        {
          "output_type": "stream",
          "name": "stdout",
          "text": [
            "Enter a number: 22\n",
            "The number is even.\n"
          ]
        }
      ]
    },
    {
      "cell_type": "markdown",
      "source": [
        "3. How can you use nested if-else statements in Python, and provide an example?"
      ],
      "metadata": {
        "id": "hcxWpkKAKqUH"
      }
    },
    {
      "cell_type": "markdown",
      "source": [
        "if condition1:\n",
        "    if condition2:\n",
        "        # Code block for condition1 and condition2 being True\n",
        "    else:\n",
        "        # Code block for condition1 being True and condition2 being False\n",
        "else:\n",
        "    # Code block for condition1 being False\n"
      ],
      "metadata": {
        "id": "SBlGFzRmKwDS"
      }
    },
    {
      "cell_type": "code",
      "source": [
        "# example if else\n",
        "\n",
        "def determine_grade(score):\n",
        "    if score >= 0 and score <= 100:\n",
        "        if score >= 90:\n",
        "            return \"Grade: A\"\n",
        "        elif score >= 80:\n",
        "            return \"Grade: B\"\n",
        "        elif score >= 70:\n",
        "            return \"Grade: C\"\n",
        "        elif score >= 60:\n",
        "            return \"Grade: D\"\n",
        "        else:\n",
        "            return \"Grade: F\"\n",
        "    else:\n",
        "        return \"Invalid score. Please enter a score between 0 and 100.\"\n",
        "\n",
        "try:\n",
        "    score_input = float(input(\"Enter the score (0-100): \"))\n",
        "    result = determine_grade(score_input)\n",
        "    print(result)\n",
        "except ValueError:\n",
        "    print(\"Invalid input. Please enter a numeric value.\")\n"
      ],
      "metadata": {
        "colab": {
          "base_uri": "https://localhost:8080/"
        },
        "id": "8JPOszEsKk7S",
        "outputId": "5b9b68e0-ea9e-4f08-d181-14e0e7c2c6bc"
      },
      "execution_count": null,
      "outputs": [
        {
          "output_type": "stream",
          "name": "stdout",
          "text": [
            "Enter the score (0-100): 55\n",
            "Grade: F\n"
          ]
        }
      ]
    },
    {
      "cell_type": "markdown",
      "source": [
        "4. Write a Python program to determine the largest of three numbers using if-else."
      ],
      "metadata": {
        "id": "Mfzuko3JLBQ7"
      }
    },
    {
      "cell_type": "code",
      "source": [
        "def find_largest(num1, num2, num3):\n",
        "    if num1 >= num2 and num1 >= num3:\n",
        "        return num1\n",
        "    elif num2 >= num1 and num2 >= num3:\n",
        "        return num2\n",
        "    else:\n",
        "        return num3\n",
        "\n",
        "try:\n",
        "    # Input three numbers from the user\n",
        "    num1 = float(input(\"Enter the first number: \"))\n",
        "    num2 = float(input(\"Enter the second number: \"))\n",
        "    num3 = float(input(\"Enter the third number: \"))\n",
        "\n",
        "    # Find the largest number\n",
        "    largest = find_largest(num1, num2, num3)\n",
        "    print(f\"The largest number is {largest}\")\n",
        "\n",
        "except ValueError:\n",
        "    print(\"Invalid input. Please enter valid numbers.\")"
      ],
      "metadata": {
        "colab": {
          "base_uri": "https://localhost:8080/"
        },
        "id": "Uk7336gAK40Z",
        "outputId": "58bee586-76e1-4798-e274-99e28d089c20"
      },
      "execution_count": null,
      "outputs": [
        {
          "output_type": "stream",
          "name": "stdout",
          "text": [
            "Enter the first number: 100\n",
            "Enter the second number: 101\n",
            "Enter the third number: 100\n",
            "The largest number is 101.0\n"
          ]
        }
      ]
    },
    {
      "cell_type": "markdown",
      "source": [
        "5. Write a Python program that calculates the absolute value of a number using if-else."
      ],
      "metadata": {
        "id": "8rEdah7RLOsA"
      }
    },
    {
      "cell_type": "code",
      "source": [
        "def calculate_absolute_value(number):\n",
        "    if number < 0:\n",
        "        return -number\n",
        "    else:\n",
        "        return number\n",
        "\n",
        "try:\n",
        "    # Input a number from the user\n",
        "    number_input = float(input(\"Enter a number: \"))\n",
        "\n",
        "    # Calculate the absolute value\n",
        "    absolute_value = calculate_absolute_value(number_input)\n",
        "    print(f\"The absolute value of {number_input} is {absolute_value}\")\n",
        "\n",
        "except ValueError:\n",
        "    print(\"Invalid input. Please enter a valid number.\")\n"
      ],
      "metadata": {
        "colab": {
          "base_uri": "https://localhost:8080/"
        },
        "id": "3l7NHSjjLHy3",
        "outputId": "854f0efd-859a-4724-a161-12046db03d00"
      },
      "execution_count": null,
      "outputs": [
        {
          "output_type": "stream",
          "name": "stdout",
          "text": [
            "Enter a number: -5\n",
            "The absolute value of -5.0 is 5.0\n"
          ]
        }
      ]
    },
    {
      "cell_type": "markdown",
      "source": [
        "6. Create a Python program that checks if a given character is a vowel or consonant using if-else."
      ],
      "metadata": {
        "id": "E2zWcT-QLWLR"
      }
    },
    {
      "cell_type": "code",
      "source": [
        "def calculate_absolute_value(number):\n",
        "    if number < 0:\n",
        "        return -number\n",
        "    else:\n",
        "        return number\n",
        "\n",
        "try:\n",
        "    # Input a number from the user\n",
        "    number_input = float(input(\"Enter a number: \"))\n",
        "\n",
        "    # Calculate the absolute value\n",
        "    absolute_value = calculate_absolute_value(number_input)\n",
        "    print(f\"The absolute value of {number_input} is {absolute_value}\")\n",
        "\n",
        "except ValueError:\n",
        "    print(\"Invalid input. Please enter a valid number.\")\n"
      ],
      "metadata": {
        "colab": {
          "base_uri": "https://localhost:8080/"
        },
        "id": "a1gl49BZLQ7h",
        "outputId": "9495afda-e005-4386-e481-2f69cbbf5fe0"
      },
      "execution_count": null,
      "outputs": [
        {
          "output_type": "stream",
          "name": "stdout",
          "text": [
            "Enter a number: asdfgh\n",
            "Invalid input. Please enter a valid number.\n"
          ]
        }
      ]
    },
    {
      "cell_type": "markdown",
      "source": [
        "7. Determine Voting Eligibility Based on Age"
      ],
      "metadata": {
        "id": "hLUMJRNxLsak"
      }
    },
    {
      "cell_type": "code",
      "source": [
        "def check_voting_eligibility(age):\n",
        "    if age >= 18:\n",
        "        return \"You are eligible to vote.\"\n",
        "    else:\n",
        "        return \"You are not eligible to vote.\"\n",
        "\n",
        "try:\n",
        "    age_input = int(input(\"Enter your age: \"))\n",
        "    result = check_voting_eligibility(age_input)\n",
        "    print(result)\n",
        "except ValueError:\n",
        "    print(\"Invalid input. Please enter a valid integer.\")"
      ],
      "metadata": {
        "colab": {
          "base_uri": "https://localhost:8080/"
        },
        "id": "BwEwYo-8LZE1",
        "outputId": "6c7d3f51-7102-418e-dfd6-faca6e997685"
      },
      "execution_count": null,
      "outputs": [
        {
          "output_type": "stream",
          "name": "stdout",
          "text": [
            "Enter your age: 16\n",
            "You are not eligible to vote.\n"
          ]
        }
      ]
    },
    {
      "cell_type": "markdown",
      "source": [
        "8. Calculate Discount Amount Based on Purchase Amount"
      ],
      "metadata": {
        "id": "1FFC-drdL1uk"
      }
    },
    {
      "cell_type": "code",
      "source": [
        "def calculate_discount(purchase_amount):\n",
        "    if purchase_amount >= 100:\n",
        "        discount = 0.10 * purchase_amount\n",
        "    elif purchase_amount >= 50:\n",
        "        discount = 0.05 * purchase_amount\n",
        "    else:\n",
        "        discount = 0\n",
        "    return discount\n",
        "\n",
        "try:\n",
        "    amount_input = float(input(\"Enter the purchase amount: \"))\n",
        "    discount = calculate_discount(amount_input)\n",
        "    print(f\"Discount amount: ${discount:.2f}\")\n",
        "except ValueError:\n",
        "    print(\"Invalid input. Please enter a valid number.\")"
      ],
      "metadata": {
        "colab": {
          "base_uri": "https://localhost:8080/"
        },
        "id": "nHMdnRtlLxNB",
        "outputId": "d10aae02-7225-4bdb-84f1-0ab103ceee3f"
      },
      "execution_count": null,
      "outputs": [
        {
          "output_type": "stream",
          "name": "stdout",
          "text": [
            "Enter the purchase amount: 1500\n",
            "Discount amount: $150.00\n"
          ]
        }
      ]
    },
    {
      "cell_type": "markdown",
      "source": [
        "9. Check If a Number Is Within a Specified Range"
      ],
      "metadata": {
        "id": "j1R0tgU2L78f"
      }
    },
    {
      "cell_type": "code",
      "source": [
        "def check_range(number, lower_bound, upper_bound):\n",
        "    if lower_bound <= number <= upper_bound:\n",
        "        return \"The number is within the specified range.\"\n",
        "    else:\n",
        "        return \"The number is outside the specified range.\"\n",
        "\n",
        "try:\n",
        "    number_input = float(input(\"Enter a number: \"))\n",
        "    lower_bound = float(input(\"Enter the lower bound: \"))\n",
        "    upper_bound = float(input(\"Enter the upper bound: \"))\n",
        "    result = check_range(number_input, lower_bound, upper_bound)\n",
        "    print(result)\n",
        "except ValueError:\n",
        "    print(\"Invalid input. Please enter valid numbers.\")\n"
      ],
      "metadata": {
        "colab": {
          "base_uri": "https://localhost:8080/"
        },
        "id": "uHm4sEY8L1CM",
        "outputId": "45c213e1-39d5-49ce-db16-ab7127b002ad"
      },
      "execution_count": null,
      "outputs": [
        {
          "output_type": "stream",
          "name": "stdout",
          "text": [
            "Enter a number: 55\n",
            "Enter the lower bound: 61\n",
            "Enter the upper bound: 78\n",
            "The number is outside the specified range.\n"
          ]
        }
      ]
    },
    {
      "cell_type": "markdown",
      "source": [
        "10. Determine Grade Based on Score"
      ],
      "metadata": {
        "id": "5961ptW8MB2C"
      }
    },
    {
      "cell_type": "code",
      "source": [
        "def determine_grade(score):\n",
        "    if score >= 90:\n",
        "        return \"Grade: A\"\n",
        "    elif score >= 80:\n",
        "        return \"Grade: B\"\n",
        "    elif score >= 70:\n",
        "        return \"Grade: C\"\n",
        "    elif score >= 60:\n",
        "        return \"Grade: D\"\n",
        "    else:\n",
        "        return \"Grade: F\"\n",
        "\n",
        "try:\n",
        "    score_input = float(input(\"Enter the score: \"))\n",
        "    grade = determine_grade(score_input)\n",
        "    print(grade)\n",
        "except ValueError:\n",
        "    print(\"Invalid input. Please enter a valid number.\")\n"
      ],
      "metadata": {
        "colab": {
          "base_uri": "https://localhost:8080/"
        },
        "id": "hSVja76tL9oM",
        "outputId": "c4d74870-dd21-4b09-a757-697ad021196e"
      },
      "execution_count": null,
      "outputs": [
        {
          "output_type": "stream",
          "name": "stdout",
          "text": [
            "Enter the score: 55\n",
            "Grade: F\n"
          ]
        }
      ]
    },
    {
      "cell_type": "markdown",
      "source": [
        "11. Check If a String Is Empty"
      ],
      "metadata": {
        "id": "z9IjHbKTMFzN"
      }
    },
    {
      "cell_type": "code",
      "source": [
        "def check_empty_string(s):\n",
        "    if not s:\n",
        "        return \"The string is empty.\"\n",
        "    else:\n",
        "        return \"The string is not empty.\"\n",
        "\n",
        "user_input = input(\"Enter a string: \")\n",
        "result = check_empty_string(user_input)\n",
        "print(result)"
      ],
      "metadata": {
        "colab": {
          "base_uri": "https://localhost:8080/"
        },
        "id": "kt4iiiiRMDVB",
        "outputId": "632d7601-9aa9-4f0c-cd28-e9cffc086a76"
      },
      "execution_count": null,
      "outputs": [
        {
          "output_type": "stream",
          "name": "stdout",
          "text": [
            "Enter a string: krishna\n",
            "The string is not empty.\n"
          ]
        }
      ]
    },
    {
      "cell_type": "markdown",
      "source": [
        "12. Identify Triangle Type Based on Sides"
      ],
      "metadata": {
        "id": "BZ88qJH0MKNL"
      }
    },
    {
      "cell_type": "code",
      "source": [
        "def identify_triangle(a, b, c):\n",
        "    if a == b == c:\n",
        "        return \"Equilateral triangle\"\n",
        "    elif a == b or b == c or a == c:\n",
        "        return \"Isosceles triangle\"\n",
        "    else:\n",
        "        return \"Scalene triangle\"\n",
        "\n",
        "try:\n",
        "    side1 = float(input(\"Enter the length of side 1: \"))\n",
        "    side2 = float(input(\"Enter the length of side 2: \"))\n",
        "    side3 = float(input(\"Enter the length of side 3: \"))\n",
        "    triangle_type = identify_triangle(side1, side2, side3)\n",
        "    print(triangle_type)\n",
        "except ValueError:\n",
        "    print(\"Invalid input. Please enter valid numbers.\")\n"
      ],
      "metadata": {
        "colab": {
          "base_uri": "https://localhost:8080/"
        },
        "id": "wYhvLW5DMHeg",
        "outputId": "da518424-34c3-40d3-9a68-b8cda10cd42e"
      },
      "execution_count": null,
      "outputs": [
        {
          "output_type": "stream",
          "name": "stdout",
          "text": [
            "Enter the length of side 1: 25\n",
            "Enter the length of side 2: 45\n",
            "Enter the length of side 3: 92\n",
            "Scalene triangle\n"
          ]
        }
      ]
    },
    {
      "cell_type": "markdown",
      "source": [
        "13. Determine Day of the Week Based on Number"
      ],
      "metadata": {
        "id": "34CZOGh1MPKd"
      }
    },
    {
      "cell_type": "code",
      "source": [
        "def day_of_week(day_number):\n",
        "    if day_number == 1:\n",
        "        return \"Monday\"\n",
        "    elif day_number == 2:\n",
        "        return \"Tuesday\"\n",
        "    elif day_number == 3:\n",
        "        return \"Wednesday\"\n",
        "    elif day_number == 4:\n",
        "        return \"Thursday\"\n",
        "    elif day_number == 5:\n",
        "        return \"Friday\"\n",
        "    elif day_number == 6:\n",
        "        return \"Saturday\"\n",
        "    elif day_number == 7:\n",
        "        return \"Sunday\"\n",
        "    else:\n",
        "        return \"Invalid day number. Please enter a number between 1 and 7.\"\n",
        "\n",
        "try:\n",
        "    day_number = int(input(\"Enter a day number (1-7): \"))\n",
        "    day = day_of_week(day_number)\n",
        "    print(day)\n",
        "except ValueError:\n",
        "    print(\"Invalid input. Please enter a valid integer.\")"
      ],
      "metadata": {
        "colab": {
          "base_uri": "https://localhost:8080/"
        },
        "id": "k9rwb89ZMLlB",
        "outputId": "d0fb55fb-628b-4c17-bf7b-52a86c7a219c"
      },
      "execution_count": null,
      "outputs": [
        {
          "output_type": "stream",
          "name": "stdout",
          "text": [
            "Enter a day number (1-7): 5\n",
            "Friday\n"
          ]
        }
      ]
    },
    {
      "cell_type": "markdown",
      "source": [],
      "metadata": {
        "id": "3DpkXyy1MVWn"
      }
    },
    {
      "cell_type": "markdown",
      "source": [
        "14. Check If a Year Is a Leap Year"
      ],
      "metadata": {
        "id": "z69e8awOMVOm"
      }
    },
    {
      "cell_type": "code",
      "source": [
        "def is_leap_year(year):\n",
        "    if (year % 4 == 0 and year % 100 != 0) or (year % 400 == 0):\n",
        "        return True\n",
        "    else:\n",
        "        return False\n",
        "\n",
        "try:\n",
        "    year_input = int(input(\"Enter a year: \"))\n",
        "    if is_leap_year(year_input):\n",
        "        print(f\"{year_input} is a leap year.\")\n",
        "    else:\n",
        "        print(f\"{year_input} is not a leap year.\")\n",
        "except ValueError:\n",
        "    print(\"Invalid input. Please enter a valid year.\")\n"
      ],
      "metadata": {
        "colab": {
          "base_uri": "https://localhost:8080/"
        },
        "id": "c2gEkl5HMQ21",
        "outputId": "1137d3da-87b9-477d-9325-acba208dbca0"
      },
      "execution_count": null,
      "outputs": [
        {
          "output_type": "stream",
          "name": "stdout",
          "text": [
            "Enter a year: 1900\n",
            "1900 is not a leap year.\n"
          ]
        }
      ]
    },
    {
      "cell_type": "markdown",
      "source": [
        "15. Using the \"assert\" Statement"
      ],
      "metadata": {
        "id": "gMBPfpTNMnWu"
      }
    },
    {
      "cell_type": "code",
      "source": [
        "def check_value(value):\n",
        "    assert value > 0, \"Value must be positive\"\n",
        "    return \"Value is valid\"\n",
        "\n",
        "try:\n",
        "    user_input = float(input(\"Enter a positive number: \"))\n",
        "    result = check_value(user_input)\n",
        "    print(result)\n",
        "except AssertionError as e:\n",
        "    print(e)\n",
        "except ValueError:\n",
        "    print(\"Invalid input. Please enter a valid number.\")\n"
      ],
      "metadata": {
        "colab": {
          "base_uri": "https://localhost:8080/"
        },
        "id": "5Slyscz1Mnlt",
        "outputId": "ff7d011b-33b6-4efa-f3c0-5a231bf71ff6"
      },
      "execution_count": null,
      "outputs": [
        {
          "output_type": "stream",
          "name": "stdout",
          "text": [
            "Enter a positive number: -5\n",
            "Value must be positive\n"
          ]
        }
      ]
    },
    {
      "cell_type": "markdown",
      "source": [
        "16. Eligibility for Senior Citizen Discount"
      ],
      "metadata": {
        "id": "awqNgbKoMtnR"
      }
    },
    {
      "cell_type": "code",
      "source": [
        "def check_senior_citizen(age):\n",
        "    if age >= 65:\n",
        "        return \"You are eligible for a senior citizen discount.\"\n",
        "    else:\n",
        "        return \"You are not eligible for a senior citizen discount.\"\n",
        "\n",
        "try:\n",
        "    age_input = int(input(\"Enter your age: \"))\n",
        "    result = check_senior_citizen(age_input)\n",
        "    print(result)\n",
        "except ValueError:\n",
        "    print(\"Invalid input. Please enter a valid integer.\")"
      ],
      "metadata": {
        "colab": {
          "base_uri": "https://localhost:8080/"
        },
        "id": "UApgwQUrMo9s",
        "outputId": "7800540d-fa49-459c-fbf4-b13358413fc0"
      },
      "execution_count": null,
      "outputs": [
        {
          "output_type": "stream",
          "name": "stdout",
          "text": [
            "Enter your age: 80\n",
            "You are eligible for a senior citizen discount.\n"
          ]
        }
      ]
    },
    {
      "cell_type": "markdown",
      "source": [
        "17. Categorize Character as Uppercase, Lowercase, or Neither"
      ],
      "metadata": {
        "id": "UtVf7HXjMxQh"
      }
    },
    {
      "cell_type": "code",
      "source": [
        "def categorize_character(char):\n",
        "    if char.isupper():\n",
        "        return \"The character is uppercase.\"\n",
        "    elif char.islower():\n",
        "        return \"The character is lowercase.\"\n",
        "    else:\n",
        "        return \"The character is neither uppercase nor lowercase.\"\n",
        "\n",
        "user_input = input(\"Enter a single character: \")\n",
        "if len(user_input) == 1:\n",
        "    result = categorize_character(user_input)\n",
        "    print(result)\n",
        "else:\n",
        "    print(\"Please enter exactly one character.\")\n"
      ],
      "metadata": {
        "colab": {
          "base_uri": "https://localhost:8080/"
        },
        "id": "UhDMwFoNMuNT",
        "outputId": "a0e179a2-6230-42d6-9cd4-730292a2482c"
      },
      "execution_count": null,
      "outputs": [
        {
          "output_type": "stream",
          "name": "stdout",
          "text": [
            "Enter a single character: s\n",
            "The character is lowercase.\n"
          ]
        }
      ]
    },
    {
      "cell_type": "markdown",
      "source": [
        "18. Determine Roots of a Quadratic Equation"
      ],
      "metadata": {
        "id": "UXD438a0M18t"
      }
    },
    {
      "cell_type": "code",
      "source": [
        "import math\n",
        "\n",
        "def find_roots(a, b, c):\n",
        "    discriminant = b**2 - 4*a*c\n",
        "    if discriminant > 0:\n",
        "        root1 = (-b + math.sqrt(discriminant)) / (2 * a)\n",
        "        root2 = (-b - math.sqrt(discriminant)) / (2 * a)\n",
        "        return f\"Two real roots: {root1} and {root2}\"\n",
        "    elif discriminant == 0:\n",
        "        root = -b / (2 * a)\n",
        "        return f\"One real root: {root}\"\n",
        "    else:\n",
        "        return \"No real roots\"\n",
        "\n",
        "try:\n",
        "    a = float(input(\"Enter coefficient a: \"))\n",
        "    b = float(input(\"Enter coefficient b: \"))\n",
        "    c = float(input(\"Enter coefficient c: \"))\n",
        "    result = find_roots(a, b, c)\n",
        "    print(result)\n",
        "except ValueError:\n",
        "    print(\"Invalid input. Please enter valid numbers.\")\n"
      ],
      "metadata": {
        "colab": {
          "base_uri": "https://localhost:8080/"
        },
        "id": "n5-BEdD_MzY2",
        "outputId": "4f2a9d72-3251-47f7-9582-e330cf4569c0"
      },
      "execution_count": null,
      "outputs": [
        {
          "output_type": "stream",
          "name": "stdout",
          "text": [
            "Enter coefficient a: 52\n",
            "Enter coefficient b: 25\n",
            "Enter coefficient c: 55\n",
            "No real roots\n"
          ]
        }
      ]
    },
    {
      "cell_type": "markdown",
      "source": [
        "19. Check If a Year Is a Century Year"
      ],
      "metadata": {
        "id": "eQS2J4vsM7cB"
      }
    },
    {
      "cell_type": "code",
      "source": [
        "def is_century_year(year):\n",
        "    if year % 100 == 0:\n",
        "        return \"The year is a century year.\"\n",
        "    else:\n",
        "        return \"The year is not a century year.\"\n",
        "\n",
        "try:\n",
        "    year_input = int(input(\"Enter a year: \"))\n",
        "    result = is_century_year(year_input)\n",
        "    print(result)\n",
        "except ValueError:\n",
        "    print(\"Invalid input. Please enter a valid year.\")\n"
      ],
      "metadata": {
        "colab": {
          "base_uri": "https://localhost:8080/"
        },
        "id": "86JjtdbPM3aN",
        "outputId": "4ed16dab-7bfd-475c-f706-0e05ddad39fe"
      },
      "execution_count": null,
      "outputs": [
        {
          "output_type": "stream",
          "name": "stdout",
          "text": [
            "Enter a year: 1900\n",
            "The year is a century year.\n"
          ]
        }
      ]
    },
    {
      "cell_type": "markdown",
      "source": [
        "20. Check If a Number Is a Perfect Square"
      ],
      "metadata": {
        "id": "y8OsI_Z3NB-5"
      }
    },
    {
      "cell_type": "code",
      "source": [
        "import math\n",
        "\n",
        "def is_perfect_square(number):\n",
        "    if number < 0:\n",
        "        return \"Negative numbers cannot be perfect squares.\"\n",
        "    root = int(math.sqrt(number))\n",
        "    if root * root == number:\n",
        "        return \"The number is a perfect square.\"\n",
        "    else:\n",
        "        return \"The number is not a perfect square.\"\n",
        "\n",
        "try:\n",
        "    number_input = int(input(\"Enter a number: \"))\n",
        "    result = is_perfect_square(number_input)\n",
        "    print(result)\n",
        "except ValueError:\n",
        "    print(\"Invalid input. Please enter a valid integer.\")\n"
      ],
      "metadata": {
        "colab": {
          "base_uri": "https://localhost:8080/"
        },
        "id": "2-4Ii921M-HN",
        "outputId": "6e6a27e5-1e77-4e41-9f6a-054b25187b7c"
      },
      "execution_count": null,
      "outputs": [
        {
          "output_type": "stream",
          "name": "stdout",
          "text": [
            "Enter a number: 21\n",
            "The number is not a perfect square.\n"
          ]
        }
      ]
    },
    {
      "cell_type": "markdown",
      "source": [
        "21. Purpose of continue and break Statements\n",
        "\n",
        "continue: Skips the remaining code in the current loop iteration and proceeds to the next iteration.\n",
        "\n",
        "break: Exits the loop entirely, regardless of the iteration state."
      ],
      "metadata": {
        "id": "YxWDZ1XcNI2j"
      }
    },
    {
      "cell_type": "markdown",
      "source": [
        "22. Calculate BMI Using If-Else"
      ],
      "metadata": {
        "id": "et09ye00NIl7"
      }
    },
    {
      "cell_type": "code",
      "source": [
        "def calculate_bmi(weight, height):\n",
        "    bmi = weight / (height ** 2)\n",
        "    if bmi < 18.5:\n",
        "        return f\"BMI: {bmi:.2f}. You are underweight.\"\n",
        "    elif bmi < 24.9:\n",
        "        return f\"BMI: {bmi:.2f}. You are normal weight.\"\n",
        "    elif bmi < 29.9:\n",
        "        return f\"BMI: {bmi:.2f}. You are overweight.\"\n",
        "    else:\n",
        "        return f\"BMI: {bmi:.2f}. You are obese.\"\n",
        "\n",
        "try:\n",
        "    weight = float(input(\"Enter your weight in kg: \"))\n",
        "    height = float(input(\"Enter your height in meters: \"))\n",
        "    result = calculate_bmi(weight, height)\n",
        "    print(result)\n",
        "except ValueError:\n",
        "    print(\"Invalid input. Please enter valid numbers.\")"
      ],
      "metadata": {
        "colab": {
          "base_uri": "https://localhost:8080/"
        },
        "id": "qH5XkHt3NDQf",
        "outputId": "cfdce6bc-4bec-41fa-e8a2-175b74b8566f"
      },
      "execution_count": null,
      "outputs": [
        {
          "output_type": "stream",
          "name": "stdout",
          "text": [
            "Enter your weight in kg: 62\n",
            "Enter your height in meters: 1.66\n",
            "BMI: 22.50. You are normal weight.\n"
          ]
        }
      ]
    },
    {
      "cell_type": "markdown",
      "source": [
        "23. Using filter() with If-Else"
      ],
      "metadata": {
        "id": "JDylTAL2NydC"
      }
    },
    {
      "cell_type": "code",
      "source": [
        "def is_even(number):\n",
        "    return number % 2 == 0\n",
        "\n",
        "numbers = list(map(int, input(\"Enter numbers separated by spaces: \").split()))\n",
        "even_numbers = list(filter(is_even, numbers))\n",
        "print(f\"Even numbers: {even_numbers}\")\n"
      ],
      "metadata": {
        "colab": {
          "base_uri": "https://localhost:8080/"
        },
        "id": "0wLyMIsyNfuk",
        "outputId": "6c0d3dd1-95de-4ee8-8541-e344b56ed4dd"
      },
      "execution_count": null,
      "outputs": [
        {
          "output_type": "stream",
          "name": "stdout",
          "text": [
            "Enter numbers separated by spaces: 1 2 3 4 5\n",
            "Even numbers: [2, 4]\n"
          ]
        }
      ]
    },
    {
      "cell_type": "code",
      "source": [
        "def is_prime(number):\n",
        "    if number <= 1:\n",
        "        return \"The number is not prime.\"\n",
        "    for i in range(2, int(math.sqrt(number)) + 1):\n",
        "        if number % i == 0:\n",
        "            return \"The number is not prime.\"\n",
        "    return \"The number is prime.\"\n",
        "\n",
        "try:\n",
        "    number_input = int(input(\"Enter a number: \"))\n",
        "    result = is_prime(number_input)\n",
        "    print(result)\n",
        "except ValueError:\n",
        "    print(\"Invalid input. Please enter a valid integer.\")"
      ],
      "metadata": {
        "id": "aW4CZBRDN0Fo",
        "outputId": "3cb5d2db-d976-45af-c5fd-5cfbc7fbc63a",
        "colab": {
          "base_uri": "https://localhost:8080/"
        }
      },
      "execution_count": null,
      "outputs": [
        {
          "name": "stdout",
          "output_type": "stream",
          "text": [
            "Enter a number: 9\n"
          ]
        }
      ]
    },
    {
      "cell_type": "markdown",
      "source": [
        "# MAP Function"
      ],
      "metadata": {
        "id": "x0b-HSJaMDjf"
      }
    },
    {
      "cell_type": "markdown",
      "source": [
        "1. Explain the purpose of the `map()` function in Python and provide an example of how it can be\n",
        "used to apply a function to each element of an iterable."
      ],
      "metadata": {
        "id": "F4tybCQKMRIU"
      }
    },
    {
      "cell_type": "markdown",
      "source": [
        "The map() function in Python is used to apply a specified function to each item in an iterable (such as a list, tuple, or string) and return a map object (which is an iterator) containing the results. The purpose of map() is to simplify the process of applying a function to every element of an iterable without needing to write an explicit loop.\n",
        "\n",
        "*map(function, iterable, ...)*\n"
      ],
      "metadata": {
        "id": "HkGCA1CoMjDl"
      }
    },
    {
      "cell_type": "code",
      "source": [
        "def double(x):\n",
        "    return x * 2\n",
        "\n",
        "numbers = [1, 2, 3, 4, 5]\n",
        "doubled_numbers = map(double, numbers)\n",
        "\n",
        "# Convert the map object to a list to see the results\n",
        "print(list(doubled_numbers))"
      ],
      "metadata": {
        "colab": {
          "base_uri": "https://localhost:8080/"
        },
        "id": "PM65HRWeMCp8",
        "outputId": "f67650b7-1972-4aa5-d686-4a55dccb5481"
      },
      "execution_count": null,
      "outputs": [
        {
          "output_type": "stream",
          "name": "stdout",
          "text": [
            "[2, 4, 6, 8, 10]\n"
          ]
        }
      ]
    },
    {
      "cell_type": "markdown",
      "source": [
        "2. Write a Python program that uses the `map()` function to square each element of a list of\n",
        "numbers."
      ],
      "metadata": {
        "id": "KPU9RzplNIz2"
      }
    },
    {
      "cell_type": "code",
      "source": [
        "list_num = [1,2,3,4,5]\n",
        "print(list(map(lambda i : i**2, list_num)))"
      ],
      "metadata": {
        "colab": {
          "base_uri": "https://localhost:8080/"
        },
        "id": "f3mfCMbTMys5",
        "outputId": "fbfa0092-f4c0-45ff-bb84-a95021f0cfd7"
      },
      "execution_count": null,
      "outputs": [
        {
          "output_type": "stream",
          "name": "stdout",
          "text": [
            "[1, 4, 9, 16, 25]\n"
          ]
        }
      ]
    },
    {
      "cell_type": "markdown",
      "source": [
        "3. How does the `map()` function differ from a list comprehension in Python, and when would you\n",
        "choose one over the other?"
      ],
      "metadata": {
        "id": "-pNX00AMbyS4"
      }
    },
    {
      "cell_type": "code",
      "source": [
        "from prettytable import PrettyTable\n",
        "\n",
        "table = PrettyTable()\n",
        "table.field_names = [\"Feature\", \"map()\", \"List Comprehensions\"]\n",
        "table.add_row([\"Purpose\", \"Applies a function to each element of an iterable.\", \"Creates a new list by applying an expression to each element of an iterable.\"])\n",
        "table.add_row([\"Syntax\", \"`map(function, iterable)`\", \"`[expression for item in iterable if condition]`\"])\n",
        "table.add_row([\"Readability\", \"Generally less readable\", \"Often more readable\"])\n",
        "table.add_row([\"Performance\", \"Can be slightly slower\", \"Can be slightly faster\"])\n",
        "table.add_row([\"Flexibility\", \"Less flexible\", \"More flexible\"])\n",
        "table.add_row([\"Reusability\", \"Convenient\", \"Less convenient\"])\n",
        "table.add_row([\"Example\", \"`squared_numbers = map(lambda x: x**2, numbers)`\", \"`squared_numbers = [x**2 for x in numbers]`\"])\n",
        "\n",
        "print(table)"
      ],
      "metadata": {
        "colab": {
          "base_uri": "https://localhost:8080/"
        },
        "id": "tNN2as1kWCn1",
        "outputId": "9fcaf9a2-a459-4686-d2a6-8dd62b0b0266"
      },
      "execution_count": null,
      "outputs": [
        {
          "output_type": "stream",
          "name": "stdout",
          "text": [
            "+-------------+----------------------------------------------------+------------------------------------------------------------------------------+\n",
            "|   Feature   |                       map()                        |                             List Comprehensions                              |\n",
            "+-------------+----------------------------------------------------+------------------------------------------------------------------------------+\n",
            "|   Purpose   | Applies a function to each element of an iterable. | Creates a new list by applying an expression to each element of an iterable. |\n",
            "|    Syntax   |             `map(function, iterable)`              |               `[expression for item in iterable if condition]`               |\n",
            "| Readability |              Generally less readable               |                             Often more readable                              |\n",
            "| Performance |               Can be slightly slower               |                            Can be slightly faster                            |\n",
            "| Flexibility |                   Less flexible                    |                                More flexible                                 |\n",
            "| Reusability |                     Convenient                     |                               Less convenient                                |\n",
            "|   Example   |  `squared_numbers = map(lambda x: x**2, numbers)`  |                 `squared_numbers = [x**2 for x in numbers]`                  |\n",
            "+-------------+----------------------------------------------------+------------------------------------------------------------------------------+\n"
          ]
        }
      ]
    },
    {
      "cell_type": "markdown",
      "source": [
        "4. Create a Python program that uses the `map()` function to convert a list of names to uppercase."
      ],
      "metadata": {
        "id": "vg-oWnneeNil"
      }
    },
    {
      "cell_type": "code",
      "source": [
        "names_list = [\"Krishna\", \"Karthik\"]\n",
        "print(\"Before converting into Uppercase: \", names_list)\n",
        "print(\"After converting: \",list(map(lambda name : name.upper(), names_list)))"
      ],
      "metadata": {
        "colab": {
          "base_uri": "https://localhost:8080/"
        },
        "id": "iZ8GppuxdiQt",
        "outputId": "c0c6733c-6474-4627-b436-37d2b8772270"
      },
      "execution_count": null,
      "outputs": [
        {
          "output_type": "stream",
          "name": "stdout",
          "text": [
            "Before converting into Uppercase:  ['Krishna', 'Karthik']\n",
            "After converting:  ['KRISHNA', 'KARTHIK']\n"
          ]
        }
      ]
    },
    {
      "cell_type": "markdown",
      "source": [
        "5. Write a Python program that uses the `map()` function to calculate the length of each word in a\n",
        "list of strings."
      ],
      "metadata": {
        "id": "BXZXW6hufWJo"
      }
    },
    {
      "cell_type": "code",
      "source": [
        "words = [\"apple\", \"banana\", \"cherry\", \"date\"]\n",
        "lengths = map(lambda word : len(word), words)\n",
        "for i, j in zip(words, lengths):\n",
        "  print(f'Length of {i} is {j}')"
      ],
      "metadata": {
        "colab": {
          "base_uri": "https://localhost:8080/"
        },
        "id": "B2ejsyO1ehFe",
        "outputId": "5b1fa447-2771-4146-8f71-71a7823743fe"
      },
      "execution_count": null,
      "outputs": [
        {
          "output_type": "stream",
          "name": "stdout",
          "text": [
            "Length of apple is 5\n",
            "Length of banana is 6\n",
            "Length of cherry is 6\n",
            "Length of date is 4\n"
          ]
        }
      ]
    },
    {
      "cell_type": "markdown",
      "source": [
        "6. How can you use the `map()` function to apply a custom function to elements of multiple lists\n",
        "simultaneously in Python?"
      ],
      "metadata": {
        "id": "v9crBorigSpl"
      }
    },
    {
      "cell_type": "code",
      "source": [
        "def add_numbers(x, y):\n",
        "  \"\"\"Adds two numbers.\"\"\"\n",
        "  return x + y\n",
        "\n",
        "numbers1 = [1, 2, 3]\n",
        "numbers2 = [4, 5, 6]\n",
        "sums = map(add_numbers, numbers1, numbers2)\n",
        "print(list(sums))"
      ],
      "metadata": {
        "colab": {
          "base_uri": "https://localhost:8080/"
        },
        "id": "uIaxBjf2fpfx",
        "outputId": "227bac62-9a80-401b-d03d-2bd0b2fb94e5"
      },
      "execution_count": null,
      "outputs": [
        {
          "output_type": "stream",
          "name": "stdout",
          "text": [
            "[5, 7, 9]\n"
          ]
        }
      ]
    },
    {
      "cell_type": "markdown",
      "source": [
        "7. Create a Python program that uses `map()` to convert a list of temperatures from Celsius to\n",
        "Fahrenheit."
      ],
      "metadata": {
        "id": "IBfV-JmTVjNf"
      }
    },
    {
      "cell_type": "code",
      "source": [
        "temp_ip = [32.5, 12, 41, 12.66]\n",
        "fah = list(map(lambda t: (t * 9/5) + 32, temp_ip))\n",
        "for i,j in zip(temp_ip, fah):\n",
        "  print(f\"Celsius: {i}°C to Fahremheit: {j}°F\")\n"
      ],
      "metadata": {
        "colab": {
          "base_uri": "https://localhost:8080/"
        },
        "id": "dgDnUmHlVi0s",
        "outputId": "57e51987-9334-442f-d2ca-7c08cf185eaf"
      },
      "execution_count": null,
      "outputs": [
        {
          "output_type": "stream",
          "name": "stdout",
          "text": [
            "Celsius: 32.5°C to Fahremheit: 90.5°F\n",
            "Celsius: 12°C to Fahremheit: 53.6°F\n",
            "Celsius: 41°C to Fahremheit: 105.8°F\n",
            "Celsius: 12.66°C to Fahremheit: 54.788°F\n"
          ]
        }
      ]
    },
    {
      "cell_type": "markdown",
      "source": [
        "8. Write a Python program that uses the `map()` function to round each element of a list of\n",
        "floating-point numbers to the nearest integer."
      ],
      "metadata": {
        "id": "Ifw7-7sdXSC_"
      }
    },
    {
      "cell_type": "code",
      "source": [
        "float_ip = [32.5, 12.6, 41.56, 12.5]\n",
        "near_int = list(map(lambda r: round(r), float_ip))\n",
        "for i,j in zip(float_ip, near_int):\n",
        "  print(f\"Float value: {i} to Nearest integer: {j}\")"
      ],
      "metadata": {
        "colab": {
          "base_uri": "https://localhost:8080/"
        },
        "id": "tFtAnfsVXRNw",
        "outputId": "c9717be0-7dd6-4d9a-c6ba-50614cbdac2b"
      },
      "execution_count": null,
      "outputs": [
        {
          "output_type": "stream",
          "name": "stdout",
          "text": [
            "Float value: 32.5 to Nearest integer: 32\n",
            "Float value: 12.6 to Nearest integer: 13\n",
            "Float value: 41.56 to Nearest integer: 42\n",
            "Float value: 12.5 to Nearest integer: 12\n"
          ]
        }
      ]
    },
    {
      "cell_type": "markdown",
      "source": [
        "# Reduce"
      ],
      "metadata": {
        "id": "MnW-mWLxYRUb"
      }
    },
    {
      "cell_type": "markdown",
      "source": [
        "1. What is the `reduce()` function in Python, and what module should you import to use it? Provide\n",
        "an example of its basic usage."
      ],
      "metadata": {
        "id": "X3DihOGgY2aN"
      }
    },
    {
      "cell_type": "markdown",
      "source": [
        "This function is used to compact the iterable. It means it collapse all the element into single value to use this we need import from `functools`\n",
        "```\n",
        "from functools import reduce\n",
        "reduce(function, iterable)\n",
        "```"
      ],
      "metadata": {
        "id": "kxJNZmiubPfu"
      }
    },
    {
      "cell_type": "code",
      "source": [
        "from functools import reduce"
      ],
      "metadata": {
        "id": "GbBt-UCCcB48"
      },
      "execution_count": null,
      "outputs": []
    },
    {
      "cell_type": "markdown",
      "source": [
        "2. Write a Python program that uses the `reduce()` function to find the product of all elements in a\n",
        "list."
      ],
      "metadata": {
        "id": "CDnJJCk8b13R"
      }
    },
    {
      "cell_type": "code",
      "source": [
        "container_list = list(range(1, 6))\n",
        "print(\"Before: \", container_list)\n",
        "\n",
        "product = (reduce(lambda a,b : a*b, container_list))\n",
        "print(\"After doing product: \", product)"
      ],
      "metadata": {
        "id": "rBQ_EHxagsuC",
        "colab": {
          "base_uri": "https://localhost:8080/"
        },
        "outputId": "7b1d8fb3-1440-4c80-e0f3-a676361358cb"
      },
      "execution_count": null,
      "outputs": [
        {
          "output_type": "stream",
          "name": "stdout",
          "text": [
            "Before:  [1, 2, 3, 4, 5]\n",
            "After doing product:  120\n"
          ]
        }
      ]
    },
    {
      "cell_type": "markdown",
      "source": [
        "3. Create a Python program that uses `reduce()` to find the maximum element in a list of numbers."
      ],
      "metadata": {
        "id": "NWL7SEqUc5La"
      }
    },
    {
      "cell_type": "code",
      "source": [
        "max_list = [ 100, 2, 30, 200, 30]\n",
        "print(\"List of values: \", max_list)\n",
        "\n",
        "max_ele = reduce(lambda a, b : a if a > b else b, max_list)\n",
        "print(\"The maximum element: \", max_ele)"
      ],
      "metadata": {
        "colab": {
          "base_uri": "https://localhost:8080/"
        },
        "id": "TAbi-Z5xcn4K",
        "outputId": "fc71144e-ca04-4e87-a1a4-0d4b9a2924eb"
      },
      "execution_count": null,
      "outputs": [
        {
          "output_type": "stream",
          "name": "stdout",
          "text": [
            "List of values:  [100, 2, 30, 200, 30]\n",
            "The maximum element:  200\n"
          ]
        }
      ]
    },
    {
      "cell_type": "markdown",
      "source": [
        "4. How can you use the `reduce()` function to concatenate a list of strings into a single string?"
      ],
      "metadata": {
        "id": "AJspYfv5hjkD"
      }
    },
    {
      "cell_type": "code",
      "source": [
        "str_list = [\"Krishna\", \"is\", \"good\", \"smart\", \"boy\"]\n",
        "concat_str = reduce(lambda i, j: i + \" \" + j, str_list)\n",
        "print(f\"`{concat_str}`\")"
      ],
      "metadata": {
        "colab": {
          "base_uri": "https://localhost:8080/"
        },
        "id": "mX647hrhdZGs",
        "outputId": "32436e18-c750-4dbe-b449-922b00f00adf"
      },
      "execution_count": null,
      "outputs": [
        {
          "output_type": "stream",
          "name": "stdout",
          "text": [
            "`Krishna is good smart boy`\n"
          ]
        }
      ]
    },
    {
      "cell_type": "markdown",
      "source": [
        "5. Write a Python program that calculates the factorial of a number using the `reduce()` function."
      ],
      "metadata": {
        "id": "QzySfWj4jSS8"
      }
    },
    {
      "cell_type": "code",
      "source": [
        "from functools import reduce\n",
        "\n",
        "def factorial(n):\n",
        "    if n == 0:\n",
        "        return 1\n",
        "    return reduce(lambda x, y: x * y, range(1, n + 1))\n",
        "\n",
        "try:\n",
        "    number = int(input(\"Enter a number to calculate its factorial: \"))\n",
        "    if number < 0:\n",
        "        raise ValueError(\"Factorial is not defined for negative numbers.\")\n",
        "    result = factorial(number)\n",
        "    print(f\"The factorial of {number} is {result}\")\n",
        "except ValueError as e:\n",
        "    print(e)\n"
      ],
      "metadata": {
        "colab": {
          "base_uri": "https://localhost:8080/"
        },
        "id": "eGpw8LaOlE8Z",
        "outputId": "b56b4402-bace-4b04-f6ec-3bc4997a3ef0"
      },
      "execution_count": null,
      "outputs": [
        {
          "output_type": "stream",
          "name": "stdout",
          "text": [
            "Enter a number to calculate its factorial: 5\n",
            "The factorial of 5 is 120\n"
          ]
        }
      ]
    },
    {
      "cell_type": "markdown",
      "source": [
        "6. Create a Python program that uses `reduce()` to find the GCD (Greatest Common Divisor) of a list\n",
        "of numbers."
      ],
      "metadata": {
        "id": "-S1sYguI_kPb"
      }
    },
    {
      "cell_type": "code",
      "source": [
        "def GCD(numbers):\n",
        "  all_divisors = []\n",
        "  for i in numbers:\n",
        "    for j in range(1, i+1):\n",
        "      if i%j == 0:\n",
        "        all_divisors.append(j)\n",
        "  return all_divisors\n",
        "\n",
        "def add_if_repeated(acc, num):\n",
        "    if gcd.count(num) > 1:\n",
        "        acc.add(num)\n",
        "    return acc\n",
        "\n",
        "try :\n",
        "  gcd_list = list(map(int, input(\"enter with spaces: \").split()))\n",
        "  if not gcd_list:\n",
        "    raise ValueError(\"it is empty list\")\n",
        "  gcd = GCD(gcd_list)\n",
        "  repeated_numbers = list(reduce(add_if_repeated, gcd, set()))\n",
        "  print(\"The GCD is : \", max(repeated_numbers))\n",
        "except ValueError as e:\n",
        "  print(e)"
      ],
      "metadata": {
        "id": "-xdMiWNPlG9e",
        "colab": {
          "base_uri": "https://localhost:8080/"
        },
        "outputId": "7e5cd771-40b5-4299-f9a8-8d8f8b47019a"
      },
      "execution_count": null,
      "outputs": [
        {
          "output_type": "stream",
          "name": "stdout",
          "text": [
            "enter with spaces: 10 20 30\n",
            "The GCD is :  10\n"
          ]
        }
      ]
    },
    {
      "cell_type": "code",
      "source": [
        "from functools import reduce\n",
        "import math\n",
        "\n",
        "def find_gcd(numbers):\n",
        "    return reduce(math.gcd, numbers)\n",
        "\n",
        "try:\n",
        "    numbers = list(map(int, input(\"Enter the list of numbers separated by spaces: \").split()))\n",
        "    if not numbers:\n",
        "        raise ValueError(\"The list of numbers cannot be empty.\")\n",
        "    gcd_result = find_gcd(numbers)\n",
        "    print(f\"The GCD of {numbers} is {gcd_result}\")\n",
        "except ValueError as e:\n",
        "    print(e)\n"
      ],
      "metadata": {
        "colab": {
          "base_uri": "https://localhost:8080/"
        },
        "id": "coaSCKsUApUN",
        "outputId": "26f9a342-9c26-4bfa-e9c6-40ecec648e57"
      },
      "execution_count": null,
      "outputs": [
        {
          "output_type": "stream",
          "name": "stdout",
          "text": [
            "Enter the list of numbers separated by spaces: 10 12\n",
            "The GCD of [10, 12] is 2\n"
          ]
        }
      ]
    },
    {
      "cell_type": "markdown",
      "source": [
        "7. Write a Python program that uses the `reduce()` function to find the sum of the digits of a given\n",
        "number."
      ],
      "metadata": {
        "id": "nwrnb6oRzRqb"
      }
    },
    {
      "cell_type": "code",
      "source": [
        "def main():\n",
        "  try:\n",
        "    number = int(input(\"Enter a number: \"))\n",
        "    total_sum = reduce(lambda a,b : a+b,  [int(i) for i in str(number)])\n",
        "    print(f\"The sum of the digits is: {total_sum}\")\n",
        "\n",
        "  except ValueError:\n",
        "    print(\"Invalid input. Please enter a valid number.\")\n",
        "\n",
        "if __name__ == \"__main__\":\n",
        "  main()"
      ],
      "metadata": {
        "colab": {
          "base_uri": "https://localhost:8080/"
        },
        "id": "CUk_WEwjxpJi",
        "outputId": "14ea06e2-d4a5-4353-d940-17b3ba4336c4"
      },
      "execution_count": null,
      "outputs": [
        {
          "output_type": "stream",
          "name": "stdout",
          "text": [
            "Enter a number: 123\n",
            "The sum of the digits is: 6\n"
          ]
        }
      ]
    },
    {
      "cell_type": "markdown",
      "source": [
        "# Filter"
      ],
      "metadata": {
        "id": "vpDT0gb8_uCV"
      }
    },
    {
      "cell_type": "markdown",
      "source": [
        "1. Explain the purpose of the `filter()` function in Python and provide an example of how it can be\n",
        "used to filter elements from an iterable."
      ],
      "metadata": {
        "id": "SaaZJgOj_vpr"
      }
    },
    {
      "cell_type": "markdown",
      "source": [
        "The filter() function in Python is used to filter elements from an iterable (like a list, tuple, or string) based on a condition provided by a function. This function returns a new iterable (of the same type as the original) containing only the elements that satisfy the condition.\n",
        "\n",
        "```\n",
        "filter(function, iterable)\n",
        "```"
      ],
      "metadata": {
        "id": "mmnGWIYP_7aa"
      }
    },
    {
      "cell_type": "markdown",
      "source": [
        "2. Write a Python program that uses the `filter()` function to select even numbers from a list of\n",
        "integers."
      ],
      "metadata": {
        "id": "aLC8nHWfADuf"
      }
    },
    {
      "cell_type": "code",
      "source": [
        "def even_filter(container):\n",
        "    if container % 2 == 0:\n",
        "        return True\n",
        "\n",
        "try:\n",
        "    input_list = list(map(int, input(\"Enter number separated by spaces: \").split()))\n",
        "    if not input_list:\n",
        "        raise ValueError(\"Input shouldn't be empty\")\n",
        "    even_list = list(filter(even_filter, input_list))\n",
        "    print(\"The even numbers are: \", even_list)\n",
        "\n",
        "except ValueError as v:\n",
        "    print(v)"
      ],
      "metadata": {
        "colab": {
          "base_uri": "https://localhost:8080/"
        },
        "id": "vmHSJ2gx_u1s",
        "outputId": "73221344-e100-4c8a-bb0a-a39d9149ee88"
      },
      "execution_count": null,
      "outputs": [
        {
          "output_type": "stream",
          "name": "stdout",
          "text": [
            "Enter number with spaces: \n",
            "Input shouldn't be empty\n"
          ]
        }
      ]
    },
    {
      "cell_type": "markdown",
      "source": [
        "3. Create a Python program that uses the `filter()` function to select names that start with a specific\n",
        "letter from a list of strings."
      ],
      "metadata": {
        "id": "EAhViK5JCDQL"
      }
    },
    {
      "cell_type": "code",
      "source": [
        "def starts_with(letter):\n",
        "    \"\"\"Return a function that checks if a name starts with the given letter.\"\"\"\n",
        "    def check_name(name):\n",
        "        return name.startswith(letter)\n",
        "    return check_name\n",
        "\n",
        "try:\n",
        "    names = input(\"Enter names separated by commas: \").split(',')\n",
        "    names = [name.strip().lower() for name in names]\n",
        "    letter = input(\"Enter the letter to filter names by: \").strip().lower()\n",
        "\n",
        "    if len(letter) != 1 or not letter.isalpha():\n",
        "        raise ValueError(\"Please enter a single alphabetic character.\")\n",
        "\n",
        "    # Use filter to select names that start with the specific letter\n",
        "    filtered_names = list(filter(starts_with(letter), names))\n",
        "    print(f\"Names that start with '{letter}': {filtered_names}\")\n",
        "except ValueError as e:\n",
        "    print(e)\n"
      ],
      "metadata": {
        "colab": {
          "base_uri": "https://localhost:8080/"
        },
        "id": "-ql1hf4cAacl",
        "outputId": "5e9f956d-6a5b-4170-f1f5-a8eb743d9a89"
      },
      "execution_count": null,
      "outputs": [
        {
          "output_type": "stream",
          "name": "stdout",
          "text": [
            "Enter names separated by commas: Kri,ka\n",
            "Enter the letter to filter names by: K\n",
            "Names that start with 'k': ['kri', 'ka']\n"
          ]
        }
      ]
    },
    {
      "cell_type": "markdown",
      "source": [
        "4. Write a Python program that uses the `filter()` function to select prime numbers from a list of\n",
        "integers."
      ],
      "metadata": {
        "id": "t2KlKjrGGLgw"
      }
    },
    {
      "cell_type": "code",
      "source": [
        "def check_prime(number):\n",
        "  if number > 1:\n",
        "    for i in range(2, number):\n",
        "      if number%i == 0:\n",
        "        break\n",
        "    else:\n",
        "      return number\n",
        "try:\n",
        "  input_list = list(map(int, input(\"Enter number separated by spaces: \").split()))\n",
        "  if not input_list:\n",
        "      raise ValueError(\"Input shouldn't be empty\")\n",
        "  prime_list = list(filter(check_prime, [1,2,3,4,5,6,7,8,9,10,11]))\n",
        "  print(\"Prime Number from given integer list: \", prime_list)\n",
        "except ValueError as v:\n",
        "  print(v)"
      ],
      "metadata": {
        "colab": {
          "base_uri": "https://localhost:8080/"
        },
        "id": "tCY02jNvDekx",
        "outputId": "0d11377c-f32a-4848-d0a4-19566abcd0de"
      },
      "execution_count": null,
      "outputs": [
        {
          "output_type": "stream",
          "name": "stdout",
          "text": [
            "Enter number separated by spaces: 1 2 3 4 5 67 8 9\n",
            "Prime Number from given integer list:  [2, 3, 5, 7, 11]\n"
          ]
        }
      ]
    },
    {
      "cell_type": "markdown",
      "source": [
        "5. How can you use the `filter()` function to remove None values from a list in Python?"
      ],
      "metadata": {
        "id": "6Zd22xFcTCzb"
      }
    },
    {
      "cell_type": "code",
      "source": [
        "data = [1, None, 2, None, 3, None, 4, 5]\n",
        "filtered_data = list(filter(lambda x: x is not None, data))\n",
        "\n",
        "print(\"List after removing None values:\", filtered_data)\n"
      ],
      "metadata": {
        "id": "IRv6CUQoKq5H"
      },
      "execution_count": null,
      "outputs": []
    },
    {
      "cell_type": "markdown",
      "source": [
        "6. Create a Python program that uses `filter()` to select words longer than a certain length from a\n",
        "list of strings."
      ],
      "metadata": {
        "id": "Iu6hS5wLTWaA"
      }
    },
    {
      "cell_type": "code",
      "source": [
        "def longer_than(length):\n",
        "    def check_word(word):\n",
        "        return len(word) > length\n",
        "    return check_word\n",
        "\n",
        "try:\n",
        "    words = input(\"Enter words separated by commas: \").split(',')\n",
        "    if not any(words):\n",
        "      raise ValueError(\"List shouldn't be empty\")\n",
        "    words = [word.strip() for word in words]\n",
        "\n",
        "    try:\n",
        "      min_length = int(input(\"Enter the minimum length of words to filter: \"))\n",
        "    except ValueError:\n",
        "        print(\"Invalid input. Please enter a valid integer for length.\")\n",
        "        min_length = 0\n",
        "    filtered_words = list(filter(longer_than(min_length), words))\n",
        "    print(f\"Words longer than {min_length} characters: {filtered_words}\")\n",
        "\n",
        "except ValueError as e:\n",
        "    print(e)"
      ],
      "metadata": {
        "colab": {
          "base_uri": "https://localhost:8080/"
        },
        "id": "h8o9E8wyTWx7",
        "outputId": "847bf078-6eba-4698-8f9d-ab032535dfd5"
      },
      "execution_count": null,
      "outputs": [
        {
          "output_type": "stream",
          "name": "stdout",
          "text": [
            "Enter words separated by commas: krishna,karthik\n",
            "Enter the minimum length of words to filter: 3\n",
            "Words longer than 3 characters: ['krishna', 'karthik']\n"
          ]
        }
      ]
    },
    {
      "cell_type": "markdown",
      "source": [
        "7. Write a Python program that uses the `filter()` function to select elements greater than a\n",
        "specified threshold from a list of values."
      ],
      "metadata": {
        "id": "6AA-M8nbZ-FD"
      }
    },
    {
      "cell_type": "code",
      "source": [
        "def greater_than(threshold):\n",
        "    def check_value(value):\n",
        "        return value > threshold\n",
        "    return check_value\n",
        "\n",
        "try:\n",
        "    values = list(map(int, input(\"Enter values separated by spaces: \").split()))\n",
        "    threshold = int(input(\"Enter the threshold value: \"))\n",
        "    filtered_values = list(filter(greater_than(threshold), values))\n",
        "    print(f\"Values greater than {threshold}: {filtered_values}\")\n",
        "except ValueError as e:\n",
        "    print(\"Invalid input. Please enter valid numbers.\")"
      ],
      "metadata": {
        "id": "aD6WUgmkZ-Nj"
      },
      "execution_count": null,
      "outputs": []
    },
    {
      "cell_type": "markdown",
      "source": [
        "# Recursion"
      ],
      "metadata": {
        "id": "vh7SCm6eadrJ"
      }
    },
    {
      "cell_type": "markdown",
      "source": [
        "1. Explain the concept of recursion in Python. How does it differ from iteration?"
      ],
      "metadata": {
        "id": "VxIW0biXahra"
      }
    },
    {
      "cell_type": "markdown",
      "source": [
        "Recursion occurs when a function calls itself in order to solve smaller instances of the same problem. A recursive function typically includes a base case that stops the recursion and one or more recursive cases that break down the problem.\n",
        "\n",
        "and\n",
        "\n",
        "Iteration involves using loops (like for or while) to repeatedly execute a block of code until a certain condition is met. It uses variables to keep track of the state and progress through each iteration."
      ],
      "metadata": {
        "id": "I_mRX_RpnDYy"
      }
    },
    {
      "cell_type": "markdown",
      "source": [
        "2. Write a Python program to calculate the factorial of a number using recursion."
      ],
      "metadata": {
        "id": "G2-0d4mGnWkN"
      }
    },
    {
      "cell_type": "code",
      "source": [
        "def factorial(n):\n",
        "    if n == 0:\n",
        "        return 1\n",
        "    else:\n",
        "        return n * factorial(n - 1)\n",
        "\n",
        "print(factorial(5))"
      ],
      "metadata": {
        "colab": {
          "base_uri": "https://localhost:8080/"
        },
        "id": "ry13i0djagah",
        "outputId": "35290aba-d65c-4451-82d6-fc44592f4fdb"
      },
      "execution_count": null,
      "outputs": [
        {
          "output_type": "stream",
          "name": "stdout",
          "text": [
            "120\n"
          ]
        }
      ]
    },
    {
      "cell_type": "markdown",
      "source": [
        "3. Create a recursive Python function to find the nth Fibonacci number."
      ],
      "metadata": {
        "id": "O-KGaIS4nigB"
      }
    },
    {
      "cell_type": "code",
      "source": [
        "def fibonacci(n):\n",
        "    if n == 0:\n",
        "       return 0\n",
        "    elif n == 1:\n",
        "        return 1\n",
        "    else:\n",
        "        return fibonacci(n - 1) + fibonacci(n - 2)\n",
        "\n",
        "try:\n",
        "    n = int(input(\"Enter the position (n) to find the nth Fibonacci number: \"))\n",
        "    if n < 0:\n",
        "        raise ValueError(\"The position must be a positive integer.\")\n",
        "    print(f\"The {n}th Fibonacci number is: {fibonacci(n)}\")\n",
        "except ValueError as e:\n",
        "    print(e)\n"
      ],
      "metadata": {
        "colab": {
          "base_uri": "https://localhost:8080/"
        },
        "id": "e0Y9QKtHna94",
        "outputId": "aeb03a6d-692e-43c5-ac11-c9e64a2b69a1"
      },
      "execution_count": null,
      "outputs": [
        {
          "output_type": "stream",
          "name": "stdout",
          "text": [
            "Enter the position (n) to find the nth Fibonacci number: 3\n",
            "The 3th Fibonacci number is: 2\n"
          ]
        }
      ]
    },
    {
      "cell_type": "markdown",
      "source": [
        "4. Write a recursive Python function to calculate the sum of all elements in a list."
      ],
      "metadata": {
        "id": "RcDwdGYwpj_I"
      }
    },
    {
      "cell_type": "code",
      "source": [
        "def sum_recursive(n):\n",
        "  if len(n) == 1:\n",
        "    return n[0]\n",
        "  else :\n",
        "    return n[0] + sum_recursive(n[1::])\n",
        "\n",
        "try:\n",
        "  input_list = list(map(int, input(\"Enter numbers separated by spaces: \").split()))\n",
        "  if not input_list:\n",
        "    raise ValueError(\"The input list should not be empty, atleat provide one value\")\n",
        "  summation = sum_recursive(input_list)\n",
        "  print(\"The total sum of all the elements in the list\",input_list,\":\", summation)\n",
        "except ValueError as v:\n",
        "  print(v)"
      ],
      "metadata": {
        "colab": {
          "base_uri": "https://localhost:8080/"
        },
        "id": "D16rLmmspkPn",
        "outputId": "47113f1d-dd6f-43e2-8696-37d91c763557"
      },
      "execution_count": null,
      "outputs": [
        {
          "output_type": "stream",
          "name": "stdout",
          "text": [
            "Enter numbers separated by spaces: 1 2\n",
            "The total sum of all the elements in the list [1, 2] : 3\n"
          ]
        }
      ]
    },
    {
      "cell_type": "markdown",
      "source": [
        "5. How can you prevent a recursive function from running indefinitely, causing a stack overflow\n",
        "error?"
      ],
      "metadata": {
        "id": "6zUS-UThroJh"
      }
    },
    {
      "cell_type": "markdown",
      "source": [
        "```Using Exception Handling we can prevent stack overflow error```"
      ],
      "metadata": {
        "id": "qACiVvfSr07L"
      }
    },
    {
      "cell_type": "code",
      "source": [
        "def factorial(n):\n",
        "    # Base case: factorial of 0 or 1 is 1\n",
        "    if n == 0 or n == 1:\n",
        "        return 1\n",
        "    # Recursive case: n * factorial of (n-1)\n",
        "    else:\n",
        "        return n * factorial(n - 1)\n",
        "\n",
        "# Example usage\n",
        "try:\n",
        "    num = int(input(\"Enter a positive integer to compute its factorial: \"))\n",
        "    if num < 0:\n",
        "        raise ValueError(\"The number must be a non-negative integer.\")\n",
        "    print(f\"The factorial of {num} is {factorial(num)}\")\n",
        "except ValueError as e:\n",
        "    print(e)\n"
      ],
      "metadata": {
        "id": "5TgsdL5Uqdu2"
      },
      "execution_count": null,
      "outputs": []
    },
    {
      "cell_type": "markdown",
      "source": [
        "6. Create a recursive Python function to find the greatest common divisor (GCD) of two numbers\n",
        "using the Euclidean algorithm."
      ],
      "metadata": {
        "id": "sQRuepajtcAp"
      }
    },
    {
      "cell_type": "code",
      "source": [
        "def gcd(a, b):\n",
        "    # Base case: if the second number is 0, the GCD is the first number\n",
        "    if b == 0:\n",
        "        return a\n",
        "    # Recursive case: call gcd with b and the remainder of a divided by b\n",
        "    else:\n",
        "        return gcd(b, a % b)\n",
        "\n",
        "# Example usage\n",
        "try:\n",
        "    num1 = int(input(\"Enter the first number: \"))\n",
        "    num2 = int(input(\"Enter the second number: \"))\n",
        "    if num1 < 0 or num2 < 0:\n",
        "        raise ValueError(\"Both numbers must be non-negative integers.\")\n",
        "    result = gcd(num1, num2)\n",
        "    print(f\"The GCD of {num1} and {num2} is {result}\")\n",
        "except ValueError as e:\n",
        "    print(e)\n"
      ],
      "metadata": {
        "colab": {
          "base_uri": "https://localhost:8080/"
        },
        "id": "20rRbYDwqySr",
        "outputId": "9e154b25-39b4-48d0-e989-1badfb7d5b19"
      },
      "execution_count": null,
      "outputs": [
        {
          "output_type": "stream",
          "name": "stdout",
          "text": [
            "Enter the first number: 0\n",
            "Enter the second number: 2\n",
            "The GCD of 0 and 2 is 2\n"
          ]
        }
      ]
    },
    {
      "cell_type": "markdown",
      "source": [
        "7. Write a recursive Python function to reverse a string."
      ],
      "metadata": {
        "id": "_WmHvoy-BgRw"
      }
    },
    {
      "cell_type": "code",
      "source": [
        "def reverse_string(s):\n",
        "    # Base case: if the string is empty or has only one character\n",
        "    if len(s) <= 1:\n",
        "        return s\n",
        "    # Recursive case: reverse the substring and add the first character to the end\n",
        "    return reverse_string(s[1:]) + s[0]\n",
        "\n",
        "# Example usage\n",
        "input_string = \"hello\"\n",
        "reversed_string = reverse_string(input_string)\n",
        "print(f\"The reversed string is: {reversed_string}\")\n"
      ],
      "metadata": {
        "colab": {
          "base_uri": "https://localhost:8080/"
        },
        "id": "gv_jPn6yqzK7",
        "outputId": "f27b5f23-5eb9-4477-970d-2f307785c8cb"
      },
      "execution_count": 1,
      "outputs": [
        {
          "output_type": "stream",
          "name": "stdout",
          "text": [
            "The reversed string is: olleh\n"
          ]
        }
      ]
    },
    {
      "cell_type": "markdown",
      "source": [
        "8. Create a recursive Python function to calculate the power of a number (x^n)."
      ],
      "metadata": {
        "id": "vW50kkEHBp0Q"
      }
    },
    {
      "cell_type": "code",
      "source": [
        "def power(x, n):\n",
        "    # Base case: any number raised to the power of 0 is 1\n",
        "    if n == 0:\n",
        "        return 1\n",
        "    # Base case: any number raised to the power of 1 is the number itself\n",
        "    elif n == 1:\n",
        "        return x\n",
        "    # Recursive case: x^n = x * x^(n-1)\n",
        "    else:\n",
        "        return x * power(x, n - 1)\n",
        "\n",
        "# Example usage\n",
        "base = 2\n",
        "exponent = 3\n",
        "result = power(base, exponent)\n",
        "print(f\"{base} raised to the power of {exponent} is {result}\")"
      ],
      "metadata": {
        "colab": {
          "base_uri": "https://localhost:8080/"
        },
        "id": "s6jTncEXq1UA",
        "outputId": "1532792f-bc71-4393-9e7f-2cee03f93408"
      },
      "execution_count": 2,
      "outputs": [
        {
          "output_type": "stream",
          "name": "stdout",
          "text": [
            "2 raised to the power of 3 is 8\n"
          ]
        }
      ]
    },
    {
      "cell_type": "markdown",
      "source": [
        "9. Write a recursive Python function to find all permutations of a given string."
      ],
      "metadata": {
        "id": "PwqQWbo_BvEj"
      }
    },
    {
      "cell_type": "code",
      "source": [
        "def permutations(s):\n",
        "    # Base case: if the string is empty or has one character, return it as the only permutation\n",
        "    if len(s) <= 1:\n",
        "        return [s]\n",
        "\n",
        "    # Recursive case: generate permutations for the substring and combine with the first character\n",
        "    perm_list = []\n",
        "    for i, char in enumerate(s):\n",
        "        # Generate permutations of the substring without the current character\n",
        "        remaining_chars = s[:i] + s[i+1:]\n",
        "        for perm in permutations(remaining_chars):\n",
        "            perm_list.append(char + perm)\n",
        "\n",
        "    return perm_list\n",
        "\n",
        "# Example usage\n",
        "input_string = \"abc\"\n",
        "result = permutations(input_string)\n",
        "print(f\"Permutations of '{input_string}': {result}\")"
      ],
      "metadata": {
        "id": "ki1RRibArA6-",
        "colab": {
          "base_uri": "https://localhost:8080/"
        },
        "outputId": "f3760e34-ee5a-470f-8e01-db8d465b02cf"
      },
      "execution_count": 3,
      "outputs": [
        {
          "output_type": "stream",
          "name": "stdout",
          "text": [
            "Permutations of 'abc': ['abc', 'acb', 'bac', 'bca', 'cab', 'cba']\n"
          ]
        }
      ]
    },
    {
      "cell_type": "markdown",
      "source": [
        "10. Write a recursive Python function to check if a string is a palindrome."
      ],
      "metadata": {
        "id": "ThOurYMcB1H1"
      }
    },
    {
      "cell_type": "code",
      "source": [
        "def is_palindrome(s):\n",
        "    # Remove spaces and convert to lowercase for uniform comparison\n",
        "    s = s.replace(\" \", \"\").lower()\n",
        "\n",
        "    # Base case: A string of length 0 or 1 is a palindrome\n",
        "    if len(s) <= 1:\n",
        "        return True\n",
        "\n",
        "    # Recursive case: Check if the first and last characters are the same\n",
        "    if s[0] == s[-1]:\n",
        "        # Check the substring excluding the first and last characters\n",
        "        return is_palindrome(s[1:-1])\n",
        "    else:\n",
        "        return False\n",
        "\n",
        "# Example usage\n",
        "input_string = \"A man a plan a canal Panama\"\n",
        "result = is_palindrome(input_string)\n",
        "print(f\"Is the string '{input_string}' a palindrome? {result}\")\n"
      ],
      "metadata": {
        "colab": {
          "base_uri": "https://localhost:8080/"
        },
        "id": "plaZuNeYB1Up",
        "outputId": "402d3fc5-265a-4ed9-a349-e807f61eead9"
      },
      "execution_count": 4,
      "outputs": [
        {
          "output_type": "stream",
          "name": "stdout",
          "text": [
            "Is the string 'A man a plan a canal Panama' a palindrome? True\n"
          ]
        }
      ]
    },
    {
      "cell_type": "markdown",
      "source": [
        "11. Create a recursive Python function to generate all possible combinations of a list of elements."
      ],
      "metadata": {
        "id": "180X9CejB4HT"
      }
    },
    {
      "cell_type": "code",
      "source": [
        "def generate_combinations(elements):\n",
        "    # Base case: if the list is empty, return a list with an empty list\n",
        "    if not elements:\n",
        "        return [[]]\n",
        "\n",
        "    # Recursive case: get combinations of the rest of the list\n",
        "    first_element = elements[0]\n",
        "    rest_combinations = generate_combinations(elements[1:])\n",
        "\n",
        "    # Add the first element to each combination of the rest of the list\n",
        "    all_combinations = []\n",
        "    for combo in rest_combinations:\n",
        "        all_combinations.append(combo)  # Combinations without the first element\n",
        "        all_combinations.append([first_element] + combo)  # Combinations with the first element\n",
        "\n",
        "    return all_combinations\n",
        "\n",
        "# Example usage\n",
        "input_list = [1, 2, 3]\n",
        "combinations = generate_combinations(input_list)\n",
        "print(\"All possible combinations:\")\n",
        "for combo in combinations:\n",
        "    print(combo)\n"
      ],
      "metadata": {
        "colab": {
          "base_uri": "https://localhost:8080/"
        },
        "id": "PV298cxhB4PC",
        "outputId": "2c950d89-dc5e-46a9-91f4-c7470a3ccc17"
      },
      "execution_count": 5,
      "outputs": [
        {
          "output_type": "stream",
          "name": "stdout",
          "text": [
            "All possible combinations:\n",
            "[]\n",
            "[1]\n",
            "[2]\n",
            "[1, 2]\n",
            "[3]\n",
            "[1, 3]\n",
            "[2, 3]\n",
            "[1, 2, 3]\n"
          ]
        }
      ]
    },
    {
      "cell_type": "markdown",
      "source": [
        "# Basic Functions"
      ],
      "metadata": {
        "id": "V3JrFuyECc70"
      }
    },
    {
      "cell_type": "markdown",
      "source": [
        "1. What is a function in Python, and why is it used?"
      ],
      "metadata": {
        "id": "y9OmfELnChXo"
      }
    },
    {
      "cell_type": "markdown",
      "source": [
        "A function in Python is a block of reusable code that performs a specific task. Functions help in organizing code into manageable chunks, improve readability, and allow you to reuse code without duplication. Functions can take inputs, process them, and return outputs. They help in breaking down complex problems into simpler, more manageable parts."
      ],
      "metadata": {
        "id": "B96ULNnzChUP"
      }
    },
    {
      "cell_type": "markdown",
      "source": [
        "2. How do you define a function in Python? Provide an example."
      ],
      "metadata": {
        "id": "XJ8_CMnMChRv"
      }
    },
    {
      "cell_type": "markdown",
      "source": [
        "To define a function in Python, you use the def keyword followed by the function name, parentheses, and a colon. The function body is indented below the definition.\n",
        "\n",
        "```\n",
        "def greet(name):\n",
        "    print(f\"Hello, {name}!\")\n",
        "\n",
        "# Calling the function\n",
        "greet(\"Alice\")\n",
        "\n",
        "```"
      ],
      "metadata": {
        "id": "FuA0VcjGChPP"
      }
    },
    {
      "cell_type": "markdown",
      "source": [
        "3. Explain the difference between a function definition and a function call."
      ],
      "metadata": {
        "id": "rQoBNiowChMp"
      }
    },
    {
      "cell_type": "markdown",
      "source": [
        "Function Definition: This is where you create the function and specify what it does. It defines the function’s name, parameters, and the block of code that executes when the function is called.\n",
        "\n",
        "```\n",
        "def add(a, b):\n",
        "    return a + b\n",
        "```\n",
        "\n",
        "Function Call: This is where you execute the function by using its name and passing the required arguments. It triggers the code inside the function to run.\n",
        "```\n",
        "result = add(5, 3)  # Function call\n",
        "print(result)       # Output: 8\n",
        "\n",
        "```"
      ],
      "metadata": {
        "id": "Ynt7HlHEChJ7"
      }
    },
    {
      "cell_type": "markdown",
      "source": [
        "4. Write a Python program that defines a function to calculate the sum of two numbers and then\n",
        "calls the function."
      ],
      "metadata": {
        "id": "4o_OK8j7CgBW"
      }
    },
    {
      "cell_type": "code",
      "source": [
        "def sum_of_two_numbers(a, b):\n",
        "    return a + b\n",
        "\n",
        "# Function call\n",
        "result = sum_of_two_numbers(10, 5)\n",
        "print(f\"The sum is: {result}\")\n"
      ],
      "metadata": {
        "colab": {
          "base_uri": "https://localhost:8080/"
        },
        "id": "ZUZCtbOgDLjO",
        "outputId": "0b35e915-1d34-4f8d-ce21-5e96f5a29ec1"
      },
      "execution_count": 6,
      "outputs": [
        {
          "output_type": "stream",
          "name": "stdout",
          "text": [
            "The sum is: 15\n"
          ]
        }
      ]
    },
    {
      "cell_type": "markdown",
      "source": [
        "5. What is a function signature, and what information does it typically include?\n"
      ],
      "metadata": {
        "id": "6sOCQaPFCq1B"
      }
    },
    {
      "cell_type": "markdown",
      "source": [
        "A function signature is the part of the function definition that includes the function's name, its parameters, and their types (if specified). It provides a clear interface for how the function should be called.\n",
        "\n",
        "Information typically included:\n",
        "1. Function Name\n",
        "2. Parameters (names and types)\n",
        "3. Return Type (if specified)\n",
        "```\n",
        "Example of a function signature:\n",
        "def multiply(x: int, y: int) -> int:\n",
        "    return x * y\n",
        "```"
      ],
      "metadata": {
        "id": "7JurgAP_Cu94"
      }
    },
    {
      "cell_type": "markdown",
      "source": [
        "6. Create a Python function that takes two arguments and returns their product."
      ],
      "metadata": {
        "id": "ZroaBuokCyR3"
      }
    },
    {
      "cell_type": "code",
      "source": [
        "def multiply(a, b):\n",
        "    return a * b\n",
        "\n",
        "# Example usage\n",
        "result = multiply(4, 5)\n",
        "print(f\"The product is: {result}\")\n"
      ],
      "metadata": {
        "colab": {
          "base_uri": "https://localhost:8080/"
        },
        "id": "_2qoyKLGCugL",
        "outputId": "eb2b153a-983f-467d-ca8a-6c63e4b99859"
      },
      "execution_count": 7,
      "outputs": [
        {
          "output_type": "stream",
          "name": "stdout",
          "text": [
            "The product is: 20\n"
          ]
        }
      ]
    },
    {
      "cell_type": "markdown",
      "source": [
        "# Return Values and Scoping"
      ],
      "metadata": {
        "id": "leBdTKTpDnn0"
      }
    },
    {
      "cell_type": "markdown",
      "source": [
        "1. Describe the role of the return statement in Python functions and provide examples."
      ],
      "metadata": {
        "id": "mDS8xG8HEDHE"
      }
    },
    {
      "cell_type": "markdown",
      "source": [
        "The return statement in Python functions is used to exit a function and send a value back to the caller. This value can be assigned to a variable or used directly in expressions. If no return statement is used, or if return is called without an expression, the function returns None by default.\n",
        "```\n",
        "def add(a, b):\n",
        "    return a + b\n",
        "\n",
        "result = add(3, 5)\n",
        "print(result)  # Output: 8\n",
        "```"
      ],
      "metadata": {
        "id": "IRyFD8j5EFJd"
      }
    },
    {
      "cell_type": "markdown",
      "source": [
        "2. Explain the concept of variable scope in Python, including local and global variables."
      ],
      "metadata": {
        "id": "koNvbQrLEJz2"
      }
    },
    {
      "cell_type": "markdown",
      "source": [
        "Variable scope determines the accessibility of variables within different parts of a program. In Python:\n",
        "\n",
        "Local Variables: Variables defined inside a function. They are only accessible within that function and are not available outside of it.\n",
        "Global Variables: Variables defined outside any function. They are accessible throughout the program, including inside functions (unless a local variable with the same name is defined).\n",
        "```\n",
        "x = 10  # Global variable\n",
        "\n",
        "def example_function():\n",
        "    y = 5  # Local variable\n",
        "    print(x)  # Accessing global variable\n",
        "\n",
        "example_function()\n",
        "print(y)  # This would cause an error since y is not defined outside the function\n",
        "```"
      ],
      "metadata": {
        "id": "DI8OLF5KELjg"
      }
    },
    {
      "cell_type": "markdown",
      "source": [
        "3. Write a Python program that demonstrates the use of global variables within functions."
      ],
      "metadata": {
        "id": "kStCi3EkERRm"
      }
    },
    {
      "cell_type": "code",
      "source": [
        "count = 0  # Global variable\n",
        "\n",
        "def increment():\n",
        "    global count  # Declare that we are using the global variable\n",
        "    count += 1\n",
        "\n",
        "increment()\n",
        "print(count)  # Output: 1"
      ],
      "metadata": {
        "colab": {
          "base_uri": "https://localhost:8080/"
        },
        "id": "W7G0kQ1xDg7o",
        "outputId": "e0482917-4e8c-4d6f-ac4a-5dec508fb4ad"
      },
      "execution_count": 8,
      "outputs": [
        {
          "output_type": "stream",
          "name": "stdout",
          "text": [
            "1\n"
          ]
        }
      ]
    },
    {
      "cell_type": "markdown",
      "source": [
        "4. Create a Python function that calculates the factorial of a number and returns it."
      ],
      "metadata": {
        "id": "5xno7OP2EVsd"
      }
    },
    {
      "cell_type": "code",
      "source": [
        "def factorial(n):\n",
        "    if n == 0 or n == 1:\n",
        "        return 1\n",
        "    else:\n",
        "        return n * factorial(n - 1)\n",
        "\n",
        "result = factorial(5)\n",
        "print(result)  # Output: 120"
      ],
      "metadata": {
        "colab": {
          "base_uri": "https://localhost:8080/"
        },
        "id": "PN8zKX4nESlj",
        "outputId": "53e2db84-38a4-44a6-c6fd-bcbfeabcc6a7"
      },
      "execution_count": 9,
      "outputs": [
        {
          "output_type": "stream",
          "name": "stdout",
          "text": [
            "120\n"
          ]
        }
      ]
    },
    {
      "cell_type": "markdown",
      "source": [
        "5. How can you access variables defined outside a function from within the function?"
      ],
      "metadata": {
        "id": "vvgSBctREZtL"
      }
    },
    {
      "cell_type": "markdown",
      "source": [
        "To access variables defined outside a function from within the function, you can directly reference the variable by its name if it's a global variable. If you need to modify the global variable within the function, you must declare it as global inside the function.\n",
        "```\n",
        "name = \"Alice\"  # Global variable\n",
        "\n",
        "def greet():\n",
        "    print(f\"Hello, {name}!\")  # Accessing the global variable\n",
        "\n",
        "greet()  # Output: Hello, Alice!\n",
        "```"
      ],
      "metadata": {
        "id": "hKpTsLOHEcj6"
      }
    },
    {
      "cell_type": "markdown",
      "source": [
        "# Lambda Functions and Higher-Order Functions\n"
      ],
      "metadata": {
        "id": "QS5d2F7yEoa5"
      }
    },
    {
      "cell_type": "markdown",
      "source": [
        "1. What are lambda functions in Python, and when are they typically used?"
      ],
      "metadata": {
        "id": "42ACzoWfEt8d"
      }
    },
    {
      "cell_type": "markdown",
      "source": [
        "Lambda functions in Python are anonymous functions defined using the lambda keyword. They can have any number of arguments but only one expression. Lambda functions are typically used for short, simple operations where defining a full function would be unnecessary. They are often used in conjunction with functions like map(), filter(), and sorted().\n",
        "```\n",
        "add = lambda x, y: x + y\n",
        "print(add(3, 5))  # Output: 8\n",
        "```"
      ],
      "metadata": {
        "id": "xrw9j6fnExPm"
      }
    },
    {
      "cell_type": "markdown",
      "source": [
        "2. Write a Python program that uses lambda functions to sort a list of tuples based on the second element."
      ],
      "metadata": {
        "id": "vLJ9rzIxE1pb"
      }
    },
    {
      "cell_type": "code",
      "source": [
        "# List of tuples\n",
        "tuples_list = [(1, 3), (4, 1), (5, 2), (2, 4)]\n",
        "\n",
        "# Sort using lambda function\n",
        "sorted_list = sorted(tuples_list, key=lambda x: x[1])\n",
        "\n",
        "print(sorted_list)  # Output: [(4, 1), (5, 2), (1, 3), (2, 4)]\n"
      ],
      "metadata": {
        "colab": {
          "base_uri": "https://localhost:8080/"
        },
        "id": "SO6bdhjOEb1u",
        "outputId": "a3bc74d1-63f7-4fc0-adf6-d65fcc20bcee"
      },
      "execution_count": 11,
      "outputs": [
        {
          "output_type": "stream",
          "name": "stdout",
          "text": [
            "[(4, 1), (5, 2), (1, 3), (2, 4)]\n"
          ]
        }
      ]
    },
    {
      "cell_type": "markdown",
      "source": [
        "3. Explain the concept of higher-order functions in Python, and provide an example."
      ],
      "metadata": {
        "id": "oEB9hgCaE5Sz"
      }
    },
    {
      "cell_type": "markdown",
      "source": [
        "Higher-order functions are functions that can take other functions as arguments or return them as results. They enable functional programming patterns, such as mapping, filtering, and reducing operations on data.\n",
        "\n",
        "```\n",
        "def apply_function(func, value):\n",
        "    return func(value)\n",
        "\n",
        "# Using a higher-order function with a lambda function\n",
        "result = apply_function(lambda x: x * x, 5)\n",
        "print(result)  # Output: 25\n",
        "```"
      ],
      "metadata": {
        "id": "VSlT5u3OE7Sk"
      }
    },
    {
      "cell_type": "markdown",
      "source": [
        "4. Create a Python function that takes a list of numbers and a function as arguments, applying the function to each element in the list."
      ],
      "metadata": {
        "id": "PCtx7jmQFAtV"
      }
    },
    {
      "cell_type": "code",
      "source": [
        "def apply_to_each(func, numbers):\n",
        "    return [func(x) for x in numbers]\n",
        "\n",
        "# Example usage\n",
        "numbers_list = [1, 2, 3, 4, 5]\n",
        "squared_numbers = apply_to_each(lambda x: x ** 2, numbers_list)\n",
        "print(squared_numbers)  # Output: [1, 4, 9, 16, 25]\n"
      ],
      "metadata": {
        "colab": {
          "base_uri": "https://localhost:8080/"
        },
        "id": "EVc-qiHlE24K",
        "outputId": "f6217f33-db4d-4d02-c2ac-1798a230675b"
      },
      "execution_count": 12,
      "outputs": [
        {
          "output_type": "stream",
          "name": "stdout",
          "text": [
            "[1, 4, 9, 16, 25]\n"
          ]
        }
      ]
    },
    {
      "cell_type": "markdown",
      "source": [
        "# Built-in Functions"
      ],
      "metadata": {
        "id": "vQxiLgdOFF08"
      }
    },
    {
      "cell_type": "markdown",
      "source": [
        "1. Describe the role of built-in functions like `len()`, `max()`, and `min()` in Python."
      ],
      "metadata": {
        "id": "girzF15GFIW-"
      }
    },
    {
      "cell_type": "markdown",
      "source": [
        "Built-in functions in Python, such as len(), max(), and min(), are pre-defined functions that perform common tasks:\n",
        "\n",
        "len(): Returns the number of items in an object (e.g., string, list, tuple, dictionary).\n",
        "\n",
        "max(): Returns the largest item in an iterable or the largest of two or more arguments.\n",
        "\n",
        "min(): Returns the smallest item in an iterable or the smallest of two or more arguments.\n",
        "\n",
        "```\n",
        "These functions are convenient and efficient for performing basic operations on data structures.\n",
        "numbers = [5, 10, 15, 20]\n",
        "\n",
        "print(len(numbers))  # Output: 4\n",
        "print(max(numbers))  # Output: 20\n",
        "print(min(numbers))  # Output: 5\n",
        "```"
      ],
      "metadata": {
        "id": "lbcUi8n6FOES"
      }
    },
    {
      "cell_type": "markdown",
      "source": [
        "2. Write a Python program that uses the map() function to apply a function to each element of a list."
      ],
      "metadata": {
        "id": "Y2D8P13GFdYH"
      }
    },
    {
      "cell_type": "code",
      "source": [
        "def square(x):\n",
        "    return x * x\n",
        "\n",
        "numbers = [1, 2, 3, 4, 5]\n",
        "squared_numbers = list(map(square, numbers))\n",
        "\n",
        "print(squared_numbers)  # Output: [1, 4, 9, 16, 25]\n"
      ],
      "metadata": {
        "colab": {
          "base_uri": "https://localhost:8080/"
        },
        "id": "nkVXj768FB-k",
        "outputId": "cfa19018-eddc-4a45-c15a-869154432054"
      },
      "execution_count": 13,
      "outputs": [
        {
          "output_type": "stream",
          "name": "stdout",
          "text": [
            "[1, 4, 9, 16, 25]\n"
          ]
        }
      ]
    },
    {
      "cell_type": "markdown",
      "source": [
        "3. How does the filter() function work in Python, and when would you use it?"
      ],
      "metadata": {
        "id": "96AFWiK1FNJ9"
      }
    },
    {
      "cell_type": "markdown",
      "source": [
        "The filter() function in Python takes two arguments: a function and an iterable. It applies the function to each element of the iterable and returns a new iterable containing only the elements for which the function returns True. filter() is useful when you need to extract elements from a collection based on a condition.\n",
        "\n",
        "```\n",
        "def is_even(x):\n",
        "    return x % 2 == 0\n",
        "\n",
        "numbers = [1, 2, 3, 4, 5, 6]\n",
        "even_numbers = list(filter(is_even, numbers))\n",
        "\n",
        "print(even_numbers)  # Output: [2, 4, 6]\n",
        "```"
      ],
      "metadata": {
        "id": "lZKYmfpuFj31"
      }
    },
    {
      "cell_type": "markdown",
      "source": [
        "4. Create a Python program that uses the reduce() function to find the product of all elements in a list."
      ],
      "metadata": {
        "id": "3ngf9egZFoHV"
      }
    },
    {
      "cell_type": "code",
      "source": [
        "from functools import reduce\n",
        "\n",
        "def multiply(x, y):\n",
        "    return x * y\n",
        "\n",
        "numbers = [1, 2, 3, 4, 5]\n",
        "product = reduce(multiply, numbers)\n",
        "\n",
        "print(product)  # Output: 120\n"
      ],
      "metadata": {
        "colab": {
          "base_uri": "https://localhost:8080/"
        },
        "id": "rIVZKYUrFe7o",
        "outputId": "dc4eccfb-e81a-40f7-9fac-901a42fbccb8"
      },
      "execution_count": 14,
      "outputs": [
        {
          "output_type": "stream",
          "name": "stdout",
          "text": [
            "120\n"
          ]
        }
      ]
    },
    {
      "cell_type": "markdown",
      "source": [
        "# Function Documentation and Best Practices"
      ],
      "metadata": {
        "id": "bzkuAR8sFwmA"
      }
    },
    {
      "cell_type": "markdown",
      "source": [
        "1. Explain the purpose of docstrings in Python functions and how to write them."
      ],
      "metadata": {
        "id": "U3YzvX5TF0KJ"
      }
    },
    {
      "cell_type": "markdown",
      "source": [
        "Docstrings in Python are used to document the purpose and usage of a function. They are written as the first statement within a function and are enclosed in triple quotes (\"\"\"). Docstrings are important because they provide a way to explain what the function does, its parameters, and the expected return value, which helps other developers (and your future self) understand the code better.\n",
        "\n",
        "```\n",
        "def add(a, b):\n",
        "    \"\"\"\n",
        "    Adds two numbers and returns the result.\n",
        "\n",
        "    Parameters:\n",
        "    a (int, float): The first number.\n",
        "    b (int, float): The second number.\n",
        "\n",
        "    Returns:\n",
        "    int, float: The sum of the two numbers.\n",
        "    \"\"\"\n",
        "    return a + b\n",
        "```"
      ],
      "metadata": {
        "id": "Uy3MejdPF1vS"
      }
    },
    {
      "cell_type": "markdown",
      "source": [
        "2. Describe some best practices for naming functions and variables in Python, including naming conventions and guidelines."
      ],
      "metadata": {
        "id": "2NZUTLMNF57Y"
      }
    },
    {
      "cell_type": "markdown",
      "source": [
        "Use Descriptive Names: Choose meaningful names that convey the purpose of the function or variable. For example, calculate_area is better than ca.\n",
        "\n",
        "Follow Naming Conventions:\n",
        "1. Functions and variables: Use snake_case, which means using lowercase letters with words separated by underscores (e.g., calculate_area, user_name).\n",
        "2. Constants: Use UPPER_CASE for constants (e.g., MAX_VALUE, PI).\n",
        "3. Classes: Use CamelCase for class names (e.g., MyClass, UserProfile).\n",
        "\n",
        "Avoid Single-Letter Names: Unless in very short loops or simple functions, avoid using single-letter variable names like x, y, a, etc. These names do not convey any meaning.\n",
        "\n",
        "Be Consistent: Stick to one naming style throughout your code. Consistency improves readability and maintainability.\n",
        "\n",
        "Use Verbs for Function Names: Since functions perform actions, it’s good practice to start their names with a verb (e.g., get_user_input, send_email).\n",
        "\n",
        "Avoid Reserved Words: Do not use Python reserved keywords like class, for, while, etc., as function or variable names."
      ],
      "metadata": {
        "id": "8qyWR4x_F8EN"
      }
    },
    {
      "cell_type": "code",
      "source": [],
      "metadata": {
        "id": "KXUYtj99Fpxb"
      },
      "execution_count": null,
      "outputs": []
    }
  ]
}